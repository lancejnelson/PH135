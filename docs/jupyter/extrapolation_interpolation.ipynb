{
  "cells": [
    {
      "cell_type": "raw",
      "metadata": {},
      "source": [
        "---\n",
        "reference-location: margin\n",
        "citation-location: margin\n",
        "execute:\n",
        "  freeze: auto\n",
        "---"
      ]
    },
    {
      "cell_type": "markdown",
      "metadata": {},
      "source": [
        "# Extrapolation and Interpolation\n",
        "\n",
        "[Jupyter Notebook](https://lancejnelson.github.io/PH135/jupyter/extrapolation_interpolation.ipynb)\n",
        "\n",
        "By now we should be comfortable with representing mathematical functions on discrete grids. For example, the plot below is the location of a projectile as it flies through the air at 11 discrete points in time (red dots).  There will be times when we want to find good values of a function _between_ grid points (blue dot) or _beyond_ the last grid point (green dot).  The former is called interpolation and the latter is called extrapolation. In this chapter we will learn how to do both."
      ]
    },
    {
      "cell_type": "code",
      "metadata": {},
      "source": [
        "#| echo: false\n",
        "#| fig-cap: The trajectory of a particle at a discrete set of times.\n",
        "\n",
        "from matplotlib import pyplot as plt\n",
        "from numpy import linspace,sin,cos,pi\n",
        "vi = 30\n",
        "θ = 40 * pi/180\n",
        "t,dt = linspace(0,3.5,11,retstep = True)\n",
        "x = vi * cos(θ) * t \n",
        "y = vi * sin(θ) * t - 4.9 * t**2\n",
        "xf = lambda t: vi * cos(θ) * t\n",
        "yf = lambda t: vi * sin(θ) * t - 4.9 * t**2\n",
        "\n",
        "plt.plot(x,y,'r.',ms = 15)\n",
        "plt.plot([xf(t[2] + dt/2)],[yf(t[2] + dt/2)],'b.',ms = 18)\n",
        "plt.plot([xf(t[-1] + dt)],[yf(t[-1] + dt)],'g.',ms = 18)\n"
      ],
      "execution_count": null,
      "outputs": []
    },
    {
      "cell_type": "markdown",
      "metadata": {},
      "source": [
        "## Linear Interpolation and Extrapolation\n",
        "The simplest way to estimate function values is to assume that the function is linear in the neighborhood of the data points.  Using the fact that two points define a straight line will allow us to write a linear approximation to the function. For example, suppose that we have function values $(x_1,y_1)$ and $(x_2,y_2)$, as shown in the figure below."
      ]
    },
    {
      "cell_type": "code",
      "metadata": {},
      "source": [
        "#| echo: false\n",
        "#| layout-ncol: 1\n",
        "#| fig-cap: Illustration of linear interpolation/extrapolation.  The red dots are the known function values.  The lack dot is an interpolation and the green dot is an extrapolation.\n",
        "from matplotlib import pyplot as plt\n",
        "from numpy import linspace,sin,cos,pi\n",
        "\n",
        "x = linspace(0,6,10)\n",
        "y = 5 * x\n",
        "\n",
        "plt.figure(figsize = (6,4.5))\n",
        "plt.plot(x,y,lw = 3)\n",
        "plt.plot([2,4],[10,20],'r.',ms = 18)\n",
        "plt.plot([3],[15],'k.',ms = 18)\n",
        "plt.plot([5],[25],'g.',ms = 18)\n",
        "plt.axis(\"off\")\n",
        "plt.text(2,6.5,r\"($x_1$,$y_1$)\",size = \"xx-large\")\n",
        "plt.text(4,16.5,r\"($x_2$,$y_2$)\",size = \"xx-large\")\n",
        "plt.text(0.8,16,\"Interpolation\",size = \"xx-large\")\n",
        "plt.text(2.5,25,\"Extrapolation\",size = \"xx-large\")\n",
        "plt.show()"
      ],
      "execution_count": null,
      "outputs": []
    },
    {
      "cell_type": "markdown",
      "metadata": {},
      "source": [
        " The formula for a straight line that passes through these two points is \n",
        "$$\n",
        "y-y_1 = { (y_2-y_1) \\over (x_2-x_1) } (x-x_1)\n",
        "$$\n",
        "Solving this for $y$ gives \n",
        "$$\n",
        "y(x) = y_1 + { (y_2-y_1) \\over (x_2-x_1) } (x-x_1)\n",
        "$$ {#eq-linear}\n",
        "\n",
        "This function provides a good approximation to the true function $y(x)$ in the neighborhood of the two data points.\n",
        "All we have to do is evaluate it for any $x$ we please.  If we evaluate it in between two data points we call it interpolation and if we evaluate it somewhere beyond the last data point we call it extrapolation.\n",
        "\n",
        "### Linear Interpolation\n",
        "To linearly interpolate or extrapolate we simply evaluate the equation above at $x$ values between or beyond $x_1$ and $x_2$.\n",
        "\n",
        "\n",
        "Let's evaluate the function above halfway in between two grid points: $x = x_1 + {1\\over 2} (x_2 - x_1)$ $$\\begin{align}\n",
        "y(x_1 + {1\\over 2} (x_2 - x_1)) &= y_1 + { (y_2-y_1) \\over (x_2-x_1) } (x_1 + {1\\over 2} (x_2 - x_1)-x_1) \\\\\n",
        "&= y_1 + { (y_2-y_1) (x_2 - x_1) \\over 2(x_2-x_1) } \\\\\n",
        "&= y_1 + {1\\over 2} (y_2-y_1) \\\\\n",
        "\\end{align}$$\n",
        "\n",
        "That's a pretty cool result that we can generalize to\n",
        "$$\n",
        "y(x_1 + ph) = y_1 + p (y_2-y_1)\n",
        "$$ {#eq-linear-interp}\n",
        "\n",
        "where p is a fraction of the grid spacing.\n",
        "\n",
        "### Linear Extrapolation\n",
        "\n",
        "Now let's evaluate the equation above beyond the last grid point at $x_2 + h$ where $h = (x_2 - x_1)$ is the grid spacing.    \n",
        "$$\n",
        "\\begin{align}\n",
        "y(x_2 + (x_2 - x_1)) &= y_1 + { (y_2-y_1) \\over (x_2-x_1) } (x_2 + (x_2 - x_1)-x_1) \\\\\n",
        "&= y_1 + { (y_2-y_1) (2x_2 - 2x_1) \\over (x_2-x_1) } \\\\\n",
        "&= y_1 + 2 (y_2-y_1) \\\\\n",
        "&= 2 y_2 - y_1\n",
        "\\end{align}\n",
        "$$ {#eq-linear-extrapOne}\n",
        "\n",
        "### Zero Finding\n",
        "\n",
        "Sometimes you will want to find the x value that produces $y(x) = 0$. We call that finding the zero of the function.  We can do this by setting $y =0$ in (@eq-linear) and solving for x:\n",
        "$$\n",
        "\\begin{align}\n",
        "0 &= y_1 + {y_2 - y_1 \\over x_2 - x_1} (x - x_1)\\\\\n",
        "-y_1 & = {y_2 - y_1 \\over x_2 - x_1} (x - x_1)\\\\\n",
        "-{y_1 (x_2 - x_1)\\over y_2 - y_1} &= x - x_1\\\\\n",
        "x_1 - {y_1 (x_2 - x_1)\\over y_2 - y_1} &= x \\\\ \n",
        "\\end{align} \n",
        "$$ {#eq-zero-linear}\n",
        "\n",
        "## Quadratic Interpolation and Extrapolation\n",
        "A fancier technique for finding values between and beyond grid points\n",
        "is to use a parabola instead of a line. It takes three data points to\n",
        "define a parabola, so we need to start with the function values\n",
        "$(x_1,y_1)$, $(x_2,y_2)$, and $(x_3,y_3)$, as shown in the figure below.\n"
      ]
    },
    {
      "cell_type": "code",
      "metadata": {},
      "source": [
        "#| echo: false\n",
        "#| layout-ncol: 1\n",
        "#| fig-cap: Illustration of quadratic interpolation/extrapolation.  The red dots are the known function values.  Black dots indicate interpolations and the green dot represents extrapolation.\n",
        "from matplotlib import pyplot as plt\n",
        "from numpy import linspace,sin,cos,pi\n",
        "\n",
        "x = linspace(0,6,25)\n",
        "y = -5 * (x-4)**2\n",
        "yx = lambda x: -5 * (x-4)**2\n",
        "\n",
        "plt.figure(figsize = (5,3))\n",
        "plt.plot(x,y,lw = 3)\n",
        "plt.plot([2,3.5,5],[yx(2),yx(3.5),yx(5)],'r.',ms = 18)\n",
        "plt.plot([2.75],[yx(2.75)],'k.',ms = 18)\n",
        "plt.plot([4.25],[yx(4.25)],'k.',ms = 18)\n",
        "plt.plot([5.5],[yx(5.5)],'g.',ms = 18)\n",
        "\n",
        "plt.axis(\"off\")\n",
        "plt.text(1.85,-30.5,r\"($x_1$,$y_1$)\",size = \"xx-large\")\n",
        "plt.text(3,-13.5,r\"($x_2$,$y_2$)\",size = \"xx-large\")\n",
        "plt.text(5,0,r\"($x_3$,$y_3$)\",size = \"xx-large\")\n",
        "plt.text(0,10,\"Interpolation\",size = \"xx-large\")\n",
        "plt.text(4,-35,\"Extrapolation\",size = \"xx-large\")\n",
        "plt.arrow(2,8,0.6,-11)\n",
        "plt.arrow(2.2,9,1.85,-6)\n",
        "plt.arrow(5,-25,0.35,9)\n",
        "\n",
        "plt.show()"
      ],
      "execution_count": null,
      "outputs": []
    },
    {
      "cell_type": "markdown",
      "metadata": {},
      "source": [
        " The general formula for a\n",
        "parabola is \n",
        "$$\n",
        "y=a + bx + cx^2\n",
        "$$ {#eq-quadratic} \n",
        "where the coefficients $a$, $b,$ and $c$ need to be chosen so that\n",
        "the parabola passes through our three data points. To determine these\n",
        "constants, you set up three equations that force the parabola to\n",
        "match the data points, like this: $$\\begin{align}\n",
        "    y_1 &= a + bx_1 + cx_1^2\\\\\n",
        "    y_2 &= a + bx_2 + cx_2^2\\\\\n",
        "    y_3 &= a + bx_3 + cx_3^2\\\\\n",
        "\\end{align}$$\n",
        "\n",
        "\n",
        "We can solve this system of equations for $a$, $b$, and $c$ and then plug these expressions back into (@eq-quadratic) to get an approximation to the function in the neighborhood of these points.  When we do this (it's long and not super pretty so I'll save you from the gory details) we find the following useful results for interpolating: \n",
        "$$\n",
        "y(x_1 + {1\\over 2} h) = {1\\over 8} (3 y_1 + 6 y_2 - y_3)\n",
        "$$ {#eq-quadratic-interpOne}\n",
        "$$\n",
        "y(x_2 + {1\\over 2} h) = {1\\over 8} (- y_1 + 6 y_2 + 3 y_3)\n",
        "$$  {#eq-quadratic-interpTwo}\n",
        "and the following useful results for extrapolating \n",
        "$$\n",
        "y(x_3 +  h) =  y_1 - 3 y_2 + 3y_3\n",
        "$$ {#eq-quadratic-extrapOne}\n",
        "$$\n",
        "y(x_3 +  {1\\over 2}h) =  {1\\over 8}(3 y_1 - 10 y_2 + 15y_3)\n",
        "$$ {#eq-quadratic-extrapTwo}\n",
        "\n",
        "## An Example\n",
        "\n",
        "Let's take the example of the projectile that was mentioned at the beginning of this chapter (shown below again).  The red dots are the known data points and let's try to estimate the height of the projectile between the 3rd and 4th data points in the set (the blue dot) using both linear and quadratic methods."
      ]
    },
    {
      "cell_type": "code",
      "metadata": {},
      "source": [
        "#| echo: false\n",
        "from matplotlib import pyplot as plt\n",
        "from numpy import linspace,sin,cos,pi\n",
        "\n",
        "vi = 30\n",
        "θ = 40 * pi/180\n",
        "t,dt = linspace(0,3.5,11,retstep = True)\n",
        "x = vi * cos(θ) * t \n",
        "y = vi * sin(θ) * t - 4.9 * t**2\n",
        "xf = lambda t: vi * cos(θ) * t\n",
        "yf = lambda t: vi * sin(θ) * t - 4.9 * t**2\n",
        "\n",
        "plt.plot(x,y,'r.',ms = 15)\n",
        "plt.plot([xf(t[2] + dt/2)],[yf(t[2] + dt/2)],'b.',ms = 18)\n",
        "plt.plot([xf(t[-1] + dt)],[yf(t[-1] + dt)],'g.',ms = 18)\n"
      ],
      "execution_count": null,
      "outputs": []
    },
    {
      "cell_type": "markdown",
      "metadata": {},
      "source": [
        "Let's evaluate (@eq-linear-interp) and (@eq-quadratic-interpOne) to perform this interpolation in the cell below."
      ]
    },
    {
      "cell_type": "code",
      "metadata": {},
      "source": [
        "from numpy import linspace,sin,cos,pi\n",
        "\n",
        "vi = 30\n",
        "θ = 40 * pi/180\n",
        "t = linspace(0,3.5,10)\n",
        "x = vi * cos(θ) * t \n",
        "y = vi * sin(θ) * t - 4.9 * t**2\n",
        "\n",
        "yInterpLinear = y[2] + 1/2 * (y[3]-y[2])\n",
        "yInterpQuadratic = 1/8 *(3*y[2] + 6 * y[3] - y[4])\n",
        "print(yInterpLinear)\n",
        "print(yInterpQuadratic)"
      ],
      "execution_count": null,
      "outputs": []
    },
    {
      "cell_type": "markdown",
      "metadata": {},
      "source": [
        "Notice that the linear and quadratic interpolations are close to the same number but they aren't equal; we wouldn't really expect them to be.  Deciding which interpolation method is the best choice is a case-by-case decision.  For this case, I would favor the quadratic interpolation since the trajectory is more parabolic than linear.  Now let's use the extrapolation formulas to estimate the projectile's height past the last data point.  For the linear case, the second-to-last data point is playing the role of $(x_1,y_1)$ and the last data point is playing the role of $(x_2,y_2)$. For the quadratic case, the third-to-last data point is playing the role of $(x_1,y_1)$, the second-to-last data point is playing the role of $(x_2,y_2)$, and the last data point is playing the role of $(x_3,y_3)$.  Best to use negative indices to index the data arrays for this case.\n"
      ]
    },
    {
      "cell_type": "code",
      "metadata": {},
      "source": [
        "from numpy import linspace,sin,cos,pi\n",
        "\n",
        "vi = 30\n",
        "θ = 40 * pi/180\n",
        "t = linspace(0,3.5,10)\n",
        "x = vi * cos(θ) * t \n",
        "y = vi * sin(θ) * t - 4.9 * t**2\n",
        "\n",
        "yExtrapLinear = 2* y[-1] - y[-2]\n",
        "yExtrapQuadratic = y[-3] - 3 * y[-2] + 3 * y[-1]\n",
        "print(yExtrapLinear)\n",
        "print(yExtrapQuadratic)"
      ],
      "execution_count": null,
      "outputs": []
    },
    {
      "cell_type": "markdown",
      "metadata": {},
      "source": [
        "Now the quadratic and the linear extrapolations differ pretty significantly.  The linear version is a better value in this case due to the very course grid being used here. Finally, let's use (@eq-zero-linear) to estimate the landing location for the projectile.\n"
      ]
    },
    {
      "cell_type": "code",
      "metadata": {},
      "source": [
        "from numpy import linspace,sin,cos,pi\n",
        "\n",
        "vi = 30\n",
        "θ = 40 * pi/180\n",
        "t = linspace(0,3.5,10)\n",
        "x = vi * cos(θ) * t \n",
        "y = vi * sin(θ) * t - 4.9 * t**2\n",
        "\n",
        "xRange = x[-2] - y[-2] * (x[-1] - x[-2])/(y[-1] - y[-2])\n",
        "print(xRange)"
      ],
      "execution_count": null,
      "outputs": []
    },
    {
      "cell_type": "markdown",
      "metadata": {},
      "source": [
        "## Flashcards\n",
        "1. What is the difference between interpolation and extrapolation?\n",
        "2. What is the equation for linear interpolation?\n",
        "3. What is the equation for linear extrapolation?\n",
        "4. What is the equation(s) for quadratic interpolation?\n",
        "5. What is the equation(s) for quadratic extrapolation?\n",
        "6. What is the equation for finding the zeros of a function?\n",
        "7. Recite Moses 1:39.\n",
        "\n",
        "\n",
        "## Exercises\n",
        "<!--1. This exercise is intended to give you practice interpolating, extrapolating, and finding zeros.  Follow the steps below:  \n",
        "        \n",
        "  1. Generate an array of $30$ equally-space x values from  $-12 < x < 12$.          \n",
        "  2. Evaluate the function $y(x) = {\\sin(x) \\over x}$ on the grid.          \n",
        "  3. Plot the data points (just the data points; don't connect them).        \n",
        "  4. Use linear interpolation to estimate the value of the function between the 15th and 16th data point. (the points on either side of the peak.) Then compare to the true function value ($y(0)$) to see how close you got.          \n",
        "  5. Use **quadratic** interpolation to estimate the value of the function between the 15th and 16th data point. Then compare to the true function value ($y(0)$) to see how close you got.          \n",
        "  6. Use linear **extrapolation** to estimate the value of the function one grid point beyond the very last data point. Then compare to the true function value to see how close you got.  Reminder/Tip: If you use `linspace` to generate your grid, add `retstep = True` to return the step size along with the array.\n",
        "  7. Use quadratic **extrapolation** to estimate the value of the function one grid point beyond the very last data point. Then compare to the true function value to see how close you got.          \n",
        "  8. The function passes through zero between the 11th and 12th data point.  Use the linear zero-finding formula to determine the location of this zero.  Verify that it is close to the right answer by comparing with your plot.  "
      ]
    },
    {
      "cell_type": "code",
      "metadata": {},
      "source": [
        "# Solution here"
      ],
      "execution_count": null,
      "outputs": []
    },
    {
      "cell_type": "markdown",
      "metadata": {},
      "source": [
        "-->\n",
        "1. In the cell below, you will find the coordinates for a batted baseball flying through the air while experiencing non-negligible air drag. \n",
        "    1. Plot the data.\n",
        "    2. Use the linear zero-finding formula (@eq-zero-linear) to estimate the landing location of the ball.\n",
        "    3. Use linear interpolation to calculate the height of the projectile between the 2nd and 3rd data point.  Make a visual inspection of the plot to ensure that your interpolation is reasonable.\n",
        "    4. Use **quadratic** interpolation to calculate the height of the projectile between the 2nd and 3rd data point.  Make a visual inspection of the plot to ensure that your interpolation is reasonable. "
      ]
    },
    {
      "cell_type": "code",
      "metadata": {},
      "source": [
        "x = [0, 15.805250773081712, 29.98211261814125, 42.526480802646844, 53.54837374010167, 63.375313562732956, 72.28376367575353, 80.43524080501983, 87.9042108343639, 94.71629032437068, 100.88093230888737, 106.41217684263896] \n",
        "y = [0, 15.80525077308171, 27.532112618141245, 35.45860314481743, 39.97307745470617, 41.548109055524456, 40.52592795902555, 37.14060411207481, 31.588726752728686, 24.07513301195207, 14.825650490213738, 4.076523019892836]"
      ],
      "execution_count": null,
      "outputs": []
    },
    {
      "cell_type": "markdown",
      "metadata": {},
      "source": [
        "2. [This file](https://lancejnelson.github.io/PH135/files/carbondata.txt) contains worldwide carbon emission data from 1958 to 2017. \n",
        "    1. Read the data file using any method of your choosing.\n",
        "    2. Plot the data so you can see what it looks like.\n",
        "    3. Use linear extrapolation to predict what carbon emissions will be in the year 2030.  \n",
        "    4. Use quadratic extrapolation to predict what carbon emissions will be in the year 2030.\n",
        "\n",
        "    Hints:\n",
        "    1. Remember that our extrapolation formulas assume that the spacing between grid points is equal.  Hence, to extrapolate to 2030, $x_1$ must correspond to 2004 $x_2$ should correspond to $2017$ for the linear extrapolation.\n",
        "    2. For the quadratic extrapolation, $x_1$ should correspond to 1991, $x_2$ to 2004 and $x_3$ to 2017.  You could pick other years if you like as long as they are spaced out evenly.\n"
      ]
    },
    {
      "cell_type": "code",
      "metadata": {},
      "source": [
        "# Solution here"
      ],
      "execution_count": null,
      "outputs": []
    },
    {
      "cell_type": "markdown",
      "metadata": {},
      "source": [
        "3. [This file](https://lancejnelson.github.io/PH135/files/temperatureData.txt) contains the change in average global temperature from 1958 to 2017. \n",
        "    1. Read the data file using any method of your choosing.\n",
        "    2. Plot the data so you can see what it looks like.\n",
        "    3. Use linear extrapolation to predict what average global temperature change will be in the year 2030 if this trend continues.  \n",
        "    4. Use quadratic extrapolation to predict what average global temperature change will be in the year 2030 if this trend continues."
      ]
    },
    {
      "cell_type": "code",
      "metadata": {},
      "source": [
        "# Solution here"
      ],
      "execution_count": null,
      "outputs": []
    }
  ],
  "metadata": {
    "kernelspec": {
      "name": "python3",
      "language": "python",
      "display_name": "Python 3"
    }
  },
  "nbformat": 4,
  "nbformat_minor": 4
}
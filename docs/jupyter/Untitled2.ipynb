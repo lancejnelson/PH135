{
 "cells": [
  {
   "cell_type": "code",
   "execution_count": 10,
   "id": "66558114-c573-47e7-a705-6fdfe338a5e4",
   "metadata": {},
   "outputs": [
    {
     "name": "stdout",
     "output_type": "stream",
     "text": [
      "/Volumes/GoogleDrive/My Drive/Lance/PH135/textbook\n"
     ]
    },
    {
     "data": {
      "text/plain": [
       "['.ipynb_checkpoints',\n",
       " '.quarto',\n",
       " 'cover.png',\n",
       " '.git',\n",
       " 'README.md~',\n",
       " '.gitignore~',\n",
       " '.gitignore',\n",
       " '_freeze',\n",
       " '_quarto.yml',\n",
       " 'index.qmd',\n",
       " 'references.bib',\n",
       " 'references.qmd',\n",
       " 'summary.qmd',\n",
       " 'chapters',\n",
       " 'Untitled.ipynb',\n",
       " 'protos.txt',\n",
       " '_book',\n",
       " '.nojekyll',\n",
       " 'Untitled1.ipynb',\n",
       " 'intro.ipynb',\n",
       " 'Untitled2.ipynb',\n",
       " 'Untitled3.ipynb',\n",
       " 'docs']"
      ]
     },
     "execution_count": 10,
     "metadata": {},
     "output_type": "execute_result"
    }
   ],
   "source": [
    "from os import getcwd,chdir,listdir\n",
    "\n",
    "currentdir = getcwd()\n",
    "print(currentdir)\n",
    "chdir(\"/Volumes/GoogleDrive/My Drive/Lance/PH135/textbook/ScientificComputing\")\n",
    "listdir()\n"
   ]
  },
  {
   "cell_type": "code",
   "execution_count": null,
   "id": "58efe962-6d49-433b-a7ba-016bebe0b846",
   "metadata": {},
   "outputs": [],
   "source": []
  }
 ],
 "metadata": {
  "kernelspec": {
   "display_name": "Python 3",
   "language": "python",
   "name": "python3"
  },
  "language_info": {
   "codemirror_mode": {
    "name": "ipython",
    "version": 3
   },
   "file_extension": ".py",
   "mimetype": "text/x-python",
   "name": "python",
   "nbconvert_exporter": "python",
   "pygments_lexer": "ipython3",
   "version": "3.9.2"
  }
 },
 "nbformat": 4,
 "nbformat_minor": 5
}

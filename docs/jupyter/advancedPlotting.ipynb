{
  "cells": [
    {
      "cell_type": "raw",
      "metadata": {},
      "source": [
        "---\n",
        "reference-location: margin\n",
        "citation-location: margin\n",
        "execute:\n",
        "  freeze: auto\n",
        "---"
      ]
    },
    {
      "cell_type": "markdown",
      "metadata": {},
      "source": [
        "# Advanced Plotting\n",
        "\n",
        "[Jupyter Notebook](https://lancejnelson.github.io/PH135/jupyter/advancedPlotting.ipynb)\n",
        "\n",
        "\n",
        "In this chapter you will learn how to plot functions of more than one variable $F(x,y)$. Functions like this can be visualized by making a contour plots (like a topographic map) or by displaying the function value as height above the $x-y$ plane like a perspective drawing. You can also display vector-valued function $\\mathbf{F}(x,y)$ using vector field plots.\n",
        "\n",
        "\n",
        "\n",
        "## Making 2-D Grids\n",
        "When plotting a function of one variable, recall that the first step was to use `linspace` or `arange` to construct a grid of points spanning the domain of the function.  For a function of two variables the domain is two-dimensional and hence the grid will also need to be two-dimensional.  In other words, we need to construct a set of x-y pairs that spans the two-dimensional domain. We can do this using  `numpy.meshgrid` and `numpy.mgrid`. Let's see an example and then explain the pieces.  Below you will find some code to plot the function: $$f(x,y) = \\cos({\\pi \\over 2} x) \\exp(-y^2)$$ (see the code comments)\n"
      ]
    },
    {
      "cell_type": "code",
      "metadata": {},
      "source": [
        "from numpy import arange,meshgrid,cos,exp,pi,mgrid\n",
        "from matplotlib import pyplot as plt\n",
        "#from mpl_toolkits.mplot3d import Axes3D  #<- You need this to make 3D plots\n",
        "# Define the arrays x and y\n",
        "# Don't make the step size too small or you will kill the\n",
        "# system (you have a large, but finite amount of memory)\n",
        "x=arange(-2,2,0.1)\n",
        "y=arange(-2,2,0.1)\n",
        "# Use meshgrid to convert these 1-d arrays into 2-d matrices\n",
        "# of x and y values over the plane\n",
        "X,Y=meshgrid(x,y)\n",
        "#X,Y=mgrid[-1:1:0.1,0:1.5:0.1]  # You could also do this in place of meshgrid\n",
        "# Get F(x,y) by using F(X,Y).\n",
        "# rather than with x and y\n",
        "F=cos(pi/2*X)*exp(-Y**2)\n",
        "# Plot the function\n",
        "fig = plt.figure()\n",
        "ax = plt.axes(projection = '3d')\n",
        "ax.plot_surface(X,Y,F)\n",
        "plt.xlabel('x')\n",
        "plt.ylabel('y')\n",
        "plt.show()"
      ],
      "execution_count": null,
      "outputs": []
    },
    {
      "cell_type": "markdown",
      "metadata": {},
      "source": [
        ">**_To Do:_**\n",
        ">\n",
        ">1. Print out `X` and `Y` and inspect the output until you understand what meshgrid does.\n",
        ">2. Replace the function in the cell above with one of your choosing.\n",
        "\n",
        "\n",
        "Let's break down this block of code one piece at a time.  First, notice that anytime you want a 3 dimensional plot, you have to create a three-dimensional set of axes with the following command\n"
      ]
    },
    {
      "cell_type": "code",
      "metadata": {},
      "source": [
        "#| eval: false\n",
        "ax=pyplot.axes(projection='3d')  # Set the axes to be 3 dimensional"
      ],
      "execution_count": null,
      "outputs": []
    },
    {
      "cell_type": "markdown",
      "metadata": {},
      "source": [
        "Next, `meshgrid` turns the one-dimensional arrays `x` and `y` into two-dimensional arrays `X` and `Y`. As an example, inspect the output from the cell below:"
      ]
    },
    {
      "cell_type": "code",
      "metadata": {},
      "source": [
        "from numpy import meshgrid\n",
        "x = [1,2,3]\n",
        "y = [4,5]\n",
        "\n",
        "X,Y = meshgrid(x,y)\n",
        "print(X)\n",
        "print(Y)"
      ],
      "execution_count": null,
      "outputs": []
    },
    {
      "cell_type": "markdown",
      "metadata": {},
      "source": [
        "These two arrays provide a set of x-y coordinate pair that span the domain, as illustrated in the figure.\n",
        "\n",
        "![meshgrid](https://lancejnelson.github.io/PH135/figures/figMeshGrid.pdf)\n",
        "\n",
        "Numpy also has a command called `mgrid` which is similar to `meshgrid` but does the conversion to two dimensions the other way around. As an example, inspect the output in the cell below.\n"
      ]
    },
    {
      "cell_type": "code",
      "metadata": {},
      "source": [
        "from numpy import mgrid\n",
        "\n",
        "X,Y = mgrid[1:4,4:6]\n",
        "print(X)\n",
        "print(Y)\n",
        "\n",
        "\n",
        "X,Y = mgrid[1:4:0.5,4:6:0.5]  \n",
        "print(X)\n",
        "print(Y)\n",
        "\n",
        "\n",
        "X,Y = mgrid[1:4:10j,4:6:10j] \n",
        "print(X)\n",
        "print(Y)"
      ],
      "execution_count": null,
      "outputs": []
    },
    {
      "cell_type": "markdown",
      "metadata": {},
      "source": [
        ">**_To Do:_**\n",
        ">\n",
        ">1. Examine all three sets of output from the cell above until you understand the differences.\n",
        ">2. What happens when you add a third index to `mgrid`?\n",
        ">3. What happens if the third index is imaginary (i.e. `10j`)?\n",
        "\n",
        "\n",
        "All three-dimensional plots will require that you first use `meshgrid` or `mgrid` to generate a grid over the two-dimensional domain.\n",
        "\n",
        "The default viewing angle can often be less than optimal for viewing the function well.  To modify the viewing angle, use the function `view_init`, which takes up to three arguments: the viewing altitude, the rotation angle about the z-axis, and the rotation angle above the x-y plane.\n",
        "\n",
        "\n",
        "\n",
        "## Surface Plots\n",
        "You've already seen an example of a surface plot above.  A similar plot can be generated by replacing `plot_surface` with `plot_wireframe`.  This plot looks similar to the surface plot shown above.  See the cell below for an example.\n"
      ]
    },
    {
      "cell_type": "code",
      "metadata": {},
      "source": [
        "from numpy import arange,meshgrid,cos,exp,pi,mgrid\n",
        "from matplotlib import pyplot as plt\n",
        "\n",
        "x=arange(-2,2,0.1)\n",
        "y=arange(-1.5,1.5,0.1)\n",
        "\n",
        "X,Y=meshgrid(x,y)\n",
        "\n",
        "F=cos(pi/2*X)*exp(-Y**2)\n",
        "\n",
        "ax=plt.axes(projection='3d')\n",
        "ax.plot_wireframe(X,Y,F)\n",
        "ax.set_xlabel('x')\n",
        "ax.set_ylabel('y')\n",
        "ax.set_zlabel('y')\n",
        "plt.show()"
      ],
      "execution_count": null,
      "outputs": []
    },
    {
      "cell_type": "markdown",
      "metadata": {},
      "source": [
        "## Contour Plots\n",
        "\n",
        "Python generates contour plots very similarly to surface plots. Instead of using `plot_surface` or `plot_wireframe`, the function `contour` is used. Look at the example below.\n"
      ]
    },
    {
      "cell_type": "code",
      "metadata": {},
      "source": [
        "from numpy import arange,meshgrid,cos,exp,pi,mgrid\n",
        "from matplotlib import pyplot as plt\n",
        "\n",
        "x=arange(-2,2,0.1)\n",
        "y=arange(-1.5,1.5,0.1)\n",
        "\n",
        "X,Y=meshgrid(x,y)\n",
        "\n",
        "F=cos(pi/2*X)*exp(-Y**2)\n",
        "\n",
        "ax=plt.axes()\n",
        "ax.contour(X,Y,F)\n",
        "ax.set_xlabel('x')\n",
        "ax.set_ylabel('y')\n",
        "plt.show()"
      ],
      "execution_count": null,
      "outputs": []
    },
    {
      "cell_type": "markdown",
      "metadata": {},
      "source": [
        "### The `levels` keyword argument\n",
        "The keyword argument `levels` can be added to the function call to specify which (or how many) contours are displayed.  If `levels = n` where `n` is an integer, the `contour` function will plot `n` contours.  If `levels = [a,b,c]` then the `contour` function will lines of constant value equal to the values specified. The code block below gives a few examples. \n"
      ]
    },
    {
      "cell_type": "code",
      "metadata": {},
      "source": [
        "from numpy import arange,meshgrid,cos,exp,pi,mgrid\n",
        "from matplotlib import pyplot as plt\n",
        "\n",
        "x=arange(-2,2,0.1)\n",
        "y=arange(-1.5,1.5,0.1)\n",
        "\n",
        "X,Y=meshgrid(x,y)\n",
        "\n",
        "F=cos(pi/2*X)*exp(-Y**2)\n",
        "\n",
        "ax=plt.axes()\n",
        "ax.contour(X,Y,F,levels = 5)\n",
        "ax.set_xlabel('x')\n",
        "ax.set_ylabel('y')\n",
        "plt.show()"
      ],
      "execution_count": null,
      "outputs": []
    },
    {
      "cell_type": "code",
      "metadata": {},
      "source": [
        "from numpy import arange,meshgrid,cos,exp,pi,mgrid\n",
        "from matplotlib import pyplot\n",
        "\n",
        "x=arange(-2,2,0.1)\n",
        "y=arange(-1.5,1.5,0.1)\n",
        "\n",
        "X,Y=meshgrid(x,y)\n",
        "\n",
        "F=cos(pi/2*X)*exp(-Y**2)\n",
        "\n",
        "ax=plt.axes(projection='3d')\n",
        "ax.contour(X,Y,F,levels = [-0.5,0.25,0.75])\n",
        "ax.set_xlabel('x')\n",
        "ax.set_ylabel('y')\n",
        "plt.show()"
      ],
      "execution_count": null,
      "outputs": []
    },
    {
      "cell_type": "markdown",
      "metadata": {},
      "source": [
        "## Vector-Field Plots\n",
        "In electricity and magnetism you'll encounter functions that produce a vector ($\\mathbf{F}(x,y)$) instead of a number($F(x,y)$) like you may be used to.  In other words, instead of associating a number with every (x,y) pair, a vector $(f_x,f_y)$ is associated with each pair.  You can plot a vector field using the `quiver` function, which takes four required arguments. The first two are the output from `meshgrid` just as with the other plots we have done.  The third and fourth arguments are the components of the vectors at each (x,y) pair. Below is an example of how to plot the following vector-valued function $$\\mathbf{B} = (-y/(x^2 + y^2),x/(x^2 + y^2))$$ \n"
      ]
    },
    {
      "cell_type": "code",
      "metadata": {},
      "source": [
        "from numpy import arange, meshgrid,sqrt,log\n",
        "from matplotlib import pyplot\n",
        "x = arange(-5.25,5.25,0.5) # define the x and y grids (avoid (0,0))\n",
        "y = arange(-5.25,5.25,0.5) # define the x and y grids (avoid (0,0))\n",
        "X,Y=meshgrid(x,y)\n",
        "\n",
        "# Magnetic field of a long current-carrying wire\n",
        "Bx=-Y/(X**2+Y**2)\n",
        "By=X/(X**2+Y**2)\n",
        "# make the field arrow plot\n",
        "pyplot.figure()\n",
        "pyplot.quiver(X,Y,Bx,By)\n",
        "pyplot.axis('equal')  # make the x and y axes be equally scaled\n",
        "pyplot.title('B of a long current-carrying wire')\n",
        "pyplot.show()\n"
      ],
      "execution_count": null,
      "outputs": []
    },
    {
      "cell_type": "markdown",
      "metadata": {},
      "source": [
        "Often, the lengths of these vectors will be large and that makes it hard to look at the graphic. One option for improving this is to force all of the vectors to have length $1$ and then color the vector according to the true length.  To set the color of the arrows, add a fifth argument to the function that contains the vector lengths. You can then add the keyword argument `cmap` to specify the color spectrum to use. My favorite is `gist_rainbow` but there are others [here](https://matplotlib.org/stable/tutorials/colors/colormaps.html). \n"
      ]
    },
    {
      "cell_type": "code",
      "metadata": {},
      "source": [
        "from numpy import arange, meshgrid,sqrt,log\n",
        "from matplotlib import pyplot\n",
        "x = arange(-5.25,5.25,0.5) # define the x and y grids (avoid (0,0))\n",
        "y = arange(-5.25,5.25,0.5) # define the x and y grids (avoid (0,0))\n",
        "X,Y=meshgrid(x,y)\n",
        "\n",
        "# Magnetic field of a long current-carrying wire\n",
        "Bx=-Y/(X**2+Y**2)\n",
        "By=X/(X**2+Y**2)\n",
        "B = sqrt(Bx**2 + By**2)  # Find the magnitude of the vectors.\n",
        "# make the field arrow plot\n",
        "pyplot.figure()\n",
        "pyplot.quiver(X,Y,Bx/B,By/B,B,cmap=\"gist_rainbow\")  # Divide by magnitude to make them equal to 1\n",
        "pyplot.axis('equal')  # make the x and y axes be equally scaled\n",
        "pyplot.title('B of a long current-carrying wire')\n",
        "pyplot.show()\n"
      ],
      "execution_count": null,
      "outputs": []
    },
    {
      "cell_type": "markdown",
      "metadata": {},
      "source": [
        "## Animations\n",
        "Often you will want to see how a plot evolves over time. Maybe you are plotting the waveform on a string and you want to see how it changes in time. Animations can be built by repeatedly constructing a new plot and then waiting before you clear the canvas and plot again. Look at the example below to see how to do this:"
      ]
    },
    {
      "cell_type": "code",
      "metadata": {},
      "source": [
        "#| eval: false\n",
        "#| \n",
        "from numpy import arange,sin,cos\n",
        "from matplotlib import pyplot as plt\n",
        "%matplotlib\n",
        "\n",
        "t=0\n",
        "x = arange(0,5,0.01) #Domain over which I want to plot the function.\n",
        "while t < 10:\n",
        "    y=sin(5*x-3*t)*cos(2*x) #Constructarrayoffunction\n",
        "                                         # values at current time.\n",
        "    pyplot.clf()  # Clear the canvas, otherwise all plots end up on\n",
        "                  # top of each other\n",
        "    pyplot.plot(x,y,'r-',linewidth=3)\n",
        "    pyplot.xlabel('x')\n",
        "    pyplot.ylabel('f(x)')\n",
        "    pyplot.title('t = {:.4f}'.format(t))\n",
        "    pyplot.draw()\n",
        "    pyplot.pause(0.01)\n",
        "    t += .1\n",
        "# draw the plot, but don't wait for\n",
        "# someone to close the window.\n",
        "# Wait before plotting the next one.\n",
        "# Advance time."
      ],
      "execution_count": null,
      "outputs": []
    },
    {
      "cell_type": "markdown",
      "metadata": {},
      "source": [
        "## Flashcards\n",
        "1. Describe the use and output of `meshgrid`.\n",
        "2. What is the difference between `meshgrid` and `mgrid`?\n",
        "3. What are the three lines of code that must be included if you are building a three-dimensional plot?\n",
        "4. What is the difference between `plot_surface` and `plot_wireframe`?\n",
        "5. What does the `levels` keyword argument do when making a contour plot? (What possible values can this argument take?)\n",
        "6. What is a vector-field plot and how do you generate one in python?\n",
        "7. What keyword argument controls the color of the vectors in a vector-field plot?\n",
        "8. Where can you find the parable of the laborers in the vineyard?\n",
        "\n",
        "## Exercises\n",
        "1. Plot the following function from $-5 < x,y < 5$ $$ f(x,y) = {\\sin (x y)\\over x^2 + y^2}$$"
      ]
    },
    {
      "cell_type": "code",
      "metadata": {},
      "source": [
        "# Python code here"
      ],
      "execution_count": null,
      "outputs": []
    },
    {
      "cell_type": "markdown",
      "metadata": {},
      "source": [
        "2. Make a contour plot of the function from problem 1. The contours you plot should be where $f(x,y) = -0.25, 0, 0.25$."
      ]
    },
    {
      "cell_type": "code",
      "metadata": {},
      "source": [
        "# Python code here"
      ],
      "execution_count": null,
      "outputs": []
    },
    {
      "cell_type": "markdown",
      "metadata": {},
      "source": [
        "3. The range of a projectile launched on level ground is given by: $$ R = {v_i^2 \\sin(2 \\theta)\\over g}$$ where $v_i$ is the launch speed, $\\theta$ is the launch angle, and $g = 9.8$ m/s$^2$ is the acceleration due to gravity.  Plot $R(v_i,\\theta)$ for $0 < v_i < 50$ m/s and $0 < \\theta < 90^\\circ$.  Now write a single sentence summarizing the results of the plot."
      ]
    },
    {
      "cell_type": "code",
      "metadata": {},
      "source": [
        "# Python code here"
      ],
      "execution_count": null,
      "outputs": []
    },
    {
      "cell_type": "markdown",
      "metadata": {},
      "source": [
        "4. (Extra Credit) The angle of impact for a projectile launched with initial speed $v$, launch angle $\\theta$, and initial height $y_0$ is given by: $$ \\phi = \\tan^{-1} \\left( {\\sqrt{v^2 \\sin^2\\theta + 2 g y_0} \\over v \\cos \\theta} \\right) $$  Plot the impact angle as a function of $v$ and $\\theta$ ($\\phi(v,\\theta)$) for $0 < v_i < 50$ m/s and $0 < \\theta < 90^\\circ$ and $y_i = 10$ m.   Then write a single sentence summarizing the results of the plot."
      ]
    },
    {
      "cell_type": "code",
      "metadata": {},
      "source": [
        "# Python code here"
      ],
      "execution_count": null,
      "outputs": []
    }
  ],
  "metadata": {
    "kernelspec": {
      "display_name": "Python 3",
      "language": "python",
      "name": "python3"
    }
  },
  "nbformat": 4,
  "nbformat_minor": 4
}
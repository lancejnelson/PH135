{
  "cells": [
    {
      "cell_type": "raw",
      "metadata": {},
      "source": [
        "---\n",
        "reference-location: margin\n",
        "citation-location: margin\n",
        "execute:\n",
        "  freeze: auto\n",
        "---"
      ]
    },
    {
      "cell_type": "markdown",
      "metadata": {},
      "source": [
        "# Curve Fitting\n",
        "\n",
        "[Jupyter Notebook](https://lancejnelson.github.io/PH135/jupyter/fitting.ipynb)\n",
        "Often in science you will gather data as a way to explore the relationship between two physical quantities and/or to validate your theories.  For example, perhaps you are interested how the amount of fertilizer applied to your tomato plants affect the final size of the fruit. Or maybe you want to know how a planet's distance from the sun affects it's orbital period. Investigating these kinds of questions are the very essence of science and great scientific discoveries begin with simple questions posed by curious minds.  As a brief reminder, the steps to the scientific process are:  \n",
        "   1. Formulate a question.  \n",
        "   2. Form a hypothesis.  \n",
        "   3. Use your hypothesis to make a prediction.  \n",
        "   4. Test your prediction.  \n",
        "   5. Analyze the results and fine tune your theory.  \n",
        "\n",
        "The process of gathering data and analyzing it, hoping to draw conclusions and establish physical laws are what steps 4 and 5 are all about. One computational tool that will help you establish firm relationships is called curve fitting.  Curve fitting is the process of finding a function that matches your data as closely as possible. Finding a best-fit function that agrees with your hypothesis can be a valuable step in verifying or proving a theory. Other useful mathematical conclusions can be drawn from it as well.  \n",
        "\n",
        "As a simple example consider the stopping time for a car with its brakes locked up (most modern cars are designed to prevent this).    The question is: How does the stopping time depend on the car's initial speed. If you are familiar with Newtonian mechanics at all, you might hypothesize that the acceleration of the car should not depend on the initial velocity and hence the stopping time will increase linearly with the initial speed.  Furthermore, the following kinematic equation  \n",
        "$$\n",
        "\\begin{align*}\n",
        "v_f &= v_i - a \\Delta t\\\\\n",
        "0 &= v_i - \\mu_k g \\Delta t\\\\ \n",
        "\\Delta t &= {v_i\\over \\mu_k g}\n",
        "\\end{align*}\n",
        "$$ \n",
        "would suggest that the slope of $\\Delta t$ vs. $v_i$ function is  ${1\\over a} = {1\\over \\mu g}$.  In other words, the theory of kinematics suggest that the acceleration should be independent of initial speed.  To prove your idea, you should first measure the stopping time for cars with a variety of initial speeds (shown below).\n",
        "\n",
        "|Initial Speed (m/s)|Skid time (s)|\n",
        "|-------------|---------|\n",
        "| 12 | 3.23|\n",
        "| 17 | 3.43|\n",
        "| 22 | 4.67|\n",
        "| 25 | 5.45|\n",
        "| 29 | 6.00|\n",
        "| 38 | 8.52|\n"
      ]
    },
    {
      "cell_type": "code",
      "metadata": {},
      "source": [
        "#| echo: false\n",
        "\n",
        "from matplotlib import pyplot as plt\n",
        "\n",
        "t = [3.23,3.43,4.67,5.45,6,8.52]\n",
        "vi = [12,17,22,25,29,38]\n",
        "plt.plot(vi,t,'r.',ms = 13)\n",
        "plt.xlabel(\"Initial Speed(m/s)\")\n",
        "plt.ylabel(\"elapsed time to stop (s)\")\n",
        "plt.title(\"Skid time vs initial speed\")"
      ],
      "execution_count": null,
      "outputs": []
    },
    {
      "cell_type": "markdown",
      "metadata": {},
      "source": [
        "We notice that the data **looks** linear which matches our hypothesis that the acceleration is constant.  \n",
        "\n",
        "## Fitting to a polynomial \n",
        "\n",
        "The next thing to do is to find the line that passes through the data points as close as possible.  When the fit function is a polynomial , we can use the `polyfit` function from numpy.  This function takes three argument: the independent data set, the dependent data set, and the order of the polynomial\n",
        "\n",
        "\n",
        "```\n",
        "polyfit(x,y,order)\n",
        "```\n",
        "\n",
        "The `polyfit` function returns a list of numbers containing the function parameters for the best fit function."
      ]
    },
    {
      "cell_type": "code",
      "metadata": {},
      "source": [
        "from matplotlib import pyplot as plt\n",
        "from numpy import polyfit\n",
        "\n",
        "t = [3.23,3.43,4.67,5.45,6,8.52]\n",
        "vi = [12,17,22,25,29,38]\n",
        "\n",
        "params = polyfit(vi,t,1)\n",
        "slope = params[0]\n",
        "yint = params[1]\n",
        "\n",
        "g=9.8 #Acceleration due to gravity\n",
        "mu = 1/(slope * g)\n",
        "print(params)\n",
        "print(mu)\n"
      ],
      "execution_count": null,
      "outputs": []
    },
    {
      "cell_type": "markdown",
      "metadata": {},
      "source": [
        "In this case, $0.2097$ is the slope of the best-fit function and $0.2184$ is the y-intercept of the best fit function.  Remembering our theory from above, we notice that the slope of this fit function can be used to calculate the coefficient of friction between the rubber tires and the roadway.\n",
        "$$\n",
        "\\begin{align*}\n",
        "m &= {1\\over \\mu g}\\\\\n",
        "\\mu &= {1\\over m g}\n",
        "\\end{align*}\n",
        "$$\n",
        "It is often useful to plot the fit function on top of the data to verify that it really matches the data.\n"
      ]
    },
    {
      "cell_type": "code",
      "metadata": {},
      "source": [
        "from matplotlib import pyplot as plt\n",
        "from numpy import polyfit,linspace\n",
        "\n",
        "t = [3.23,3.43,4.67,5.45,6,8.52]\n",
        "vi = [12,17,22,25,29,38]\n",
        "\n",
        "params = polyfit(vi,t,1)\n",
        "vDense = linspace(8,40,100)\n",
        "tDense = params[0] * vDense + params[1]\n",
        "\n",
        "plt.plot(vi,t,'r.',ms = 16)\n",
        "plt.plot(vDense,tDense,'k',lw = 3)\n"
      ],
      "execution_count": null,
      "outputs": []
    },
    {
      "cell_type": "markdown",
      "metadata": {},
      "source": [
        "### Assessing the quality of the fit\n",
        "Sometimes it might not be clear what type of function you should fit to.  A good way to measure the quality of a fit it so sum the square of the difference between the fit function and the data.\n",
        "$$\n",
        "\\sum_i (y_i - f(x_i))^2\n",
        "$$\n",
        "You can make `polyfit` do this for you using the  `full = True` keyword argument.  Now the function will return a list of 5 things: the first is the list of fitting parameters and the second thing is the sum of the square of the errors.  Fits with big values for this sum are not as good as those with lower values.   \n"
      ]
    },
    {
      "cell_type": "code",
      "metadata": {},
      "source": [
        "#| layout-ncol: 2\n",
        "\n",
        "from matplotlib import pyplot as plt\n",
        "from numpy import polyfit,linspace\n",
        "\n",
        "t = [3.23,3.43,4.67,5.45,6,8.52]\n",
        "vi = [12,17,22,25,29,38]\n",
        "\n",
        "paramsLinear = polyfit(vi,t,1,full=True)\n",
        "paramsQuadratic = polyfit(vi,t,2,full=True)\n",
        "vDense = linspace(8,40,100)\n",
        "tDenseLinear = paramsLinear[0][0] * vDense + paramsLinear[0][1]\n",
        "tDenseQuadratic = paramsQuadratic[0][0] * vDense**2 + paramsQuadratic[0][1] * vDense + paramsQuadratic[0][2]\n",
        "\n",
        "errorLinear = paramsLinear[1][0]\n",
        "errorQuadratic = paramsQuadratic[1][0]\n",
        "\n",
        "plt.plot(vi,t,'r.',ms = 16)\n",
        "plt.plot(vDense,tDenseLinear,'k',lw = 3)\n",
        "plt.title(f\"Error: {errorLinear:1.3f}\")\n",
        "plt.show()\n",
        "\n",
        "\n",
        "plt.plot(vi,t,'r.',ms = 16)\n",
        "plt.plot(vDense,tDenseQuadratic,'b',lw = 3)\n",
        "plt.title(f\"Error: {errorQuadratic:1.3f}\")\n",
        "plt.show()\n"
      ],
      "execution_count": null,
      "outputs": []
    },
    {
      "cell_type": "markdown",
      "metadata": {},
      "source": [
        "## Other functions for curve fitting.\n",
        "\n",
        "If the fit function is a polynomial, `polyfit` is a great choice but there are times when the hypothesized functions is not a polynomial. In cases like this, the function `scipy.optimize.curve_fit` should work.  As an example, let's say that you have the following intensity vs. wavelength data.\n"
      ]
    },
    {
      "cell_type": "code",
      "metadata": {},
      "source": [
        "#| echo: false\n",
        "\n",
        "from matplotlib import pyplot as plt\n",
        "\n",
        "wavelength = [0.1, 0.6, 1.1, 1.6, 2.1, 2.6, 3.1, 3.6, 4.1, 4.6, 5.1, 5.6, 6.1]\n",
        "intensity = [0, 7.43023e-7, 0.0000699768, 0.000184459,0.000211137, 0.000183716, 0.000144493, 0.000109646, 0.0000825034, 0.0000623056, 0.0000474756, 0.0000365799, 0.0000285178]\n",
        "plt.plot(wavelength,intensity,'r.',ms = 13)"
      ],
      "execution_count": null,
      "outputs": []
    },
    {
      "cell_type": "markdown",
      "metadata": {},
      "source": [
        "If you suspected that the fit function looked like this $$I(\\lambda) = a \\lambda^{-5} {1\\over \\exp{b\\over \\lambda} - 1}$$, you could find the values of a and b that made the function fit the data like this:\n"
      ]
    },
    {
      "cell_type": "code",
      "metadata": {},
      "source": [
        "#| echo: true\n",
        "from scipy.optimize import curve_fit\n",
        "from matplotlib import pyplot as plt\n",
        "from numpy import exp,log\n",
        "\n",
        "def fit_function(wvlength,a,b):\n",
        "  return a * wvlength**-5 * 1/(exp(b/wvlength) + 1)\n",
        "\n",
        "wavelength = [0.1, 0.6, 1.1, 1.6, 2.1, 2.6, 3.1, 3.6, 4.1, 4.6, 5.1, 5.6, 6.1]\n",
        "intensity = [0, 7.43023e-7, 0.0000699768, 0.000184459, \\\n",
        "0.000211137, 0.000183716, 0.000144493, 0.000109646, 0.0000825034, \\\n",
        "0.0000623056, 0.0000474756, 0.0000365799, 0.0000285178]\n",
        "\n",
        "params = curve_fit(fit_function,wavelength,intensity)\n",
        "print(params)\n",
        "wDense = linspace(0.1,7,100)\n",
        "iDense = params[0][0] * wDense**-5 * 1/(exp(params[0][1]/wDense) + 1)\n",
        "\n",
        "plt.plot(wavelength,intensity,'r.',ms = 13)\n",
        "plt.plot(wDense,iDense,'k',lw = 2)"
      ],
      "execution_count": null,
      "outputs": []
    },
    {
      "cell_type": "markdown",
      "metadata": {},
      "source": [
        "Notice that the `curve_fit` function returns more than just the fit paramters.  It also returns a $2$ x $2$ matrix containing the uncertainties on the fit parameters.  If you want to calculate the fit error, you'll have to do it manually, using the equation\n",
        "$$\n",
        "\\sum_i (y_i - f(x_i))^2\n",
        "$$\n"
      ]
    },
    {
      "cell_type": "code",
      "metadata": {},
      "source": [
        "#| layout-ncol: 2\n",
        "\n",
        "from scipy.optimize import curve_fit\n",
        "from matplotlib import pyplot as plt\n",
        "from numpy import exp,log,diagonal,sqrt,array\n",
        "\n",
        "def fit_function(wvlength,a,b):\n",
        "  return a * wvlength**-5 * 1/(exp(b/wvlength) + 1)\n",
        "\n",
        "def fit_function_two(wvlength,a,b):\n",
        "  return a * wvlength**-6 * 1/(exp(b/wvlength) + 1)\n",
        "\n",
        "wavelength = array([0.1, 0.6, 1.1, 1.6, 2.1, 2.6, 3.1, 3.6, 4.1, 4.6, 5.1, 5.6, 6.1])\n",
        "intensity = array([0, 7.43023e-7, 0.0000699768, 0.000184459, 0.000211137, 0.000183716, 0.000144493, 0.000109646, 0.0000825034, 0.0000623056, 0.0000474756, 0.0000365799, 0.0000285178])\n",
        "\n",
        "paramsOne = curve_fit(fit_function,wavelength,intensity)\n",
        "paramsTwo = curve_fit(fit_function_two,wavelength,intensity)\n",
        "wDense = linspace(0.1,7,100)\n",
        "iDenseOne = paramsOne[0][0] * wDense**-5 * 1/(exp(paramsOne[0][1]/wDense) + 1)\n",
        "iDenseTwo = paramsTwo[0][0] * wDense**-5 * 1/(exp(paramsTwo[0][1]/wDense) + 1)\n",
        "\n",
        "errorOne = sum(sqrt( (intensity - fit_function(wavelength,paramsOne[0][0],paramsOne[0][1]))**2 ))\n",
        "errorTwo = sum(sqrt( (intensity - fit_function(wavelength,paramsTwo[0][0],paramsTwo[0][1]))**2 ))\n",
        "\n",
        "plt.plot(wavelength,intensity,'r.',ms = 13)\n",
        "plt.plot(wDense,iDenseOne,'k',lw = 2)\n",
        "plt.title(f\"Error: {errorOne:1.3e}\")\n",
        "plt.show()\n",
        "\n",
        "\n",
        "plt.plot(wavelength,intensity,'r.',ms = 13)\n",
        "plt.plot(wDense,iDenseTwo,'k',lw = 2)\n",
        "plt.title(f\"Error: {errorTwo:1.3e}\")\n",
        "plt.show()"
      ],
      "execution_count": null,
      "outputs": []
    },
    {
      "cell_type": "markdown",
      "metadata": {},
      "source": [
        "## Flashcards\n",
        "1. What python function should you use to fit a polynomial to your data? Give an example of its usage.\n",
        "2. What python function should you use to fit a function that is not a polynomial to your data.  Give an example of how to use this function.\n",
        "3. What is the output from the `polyfit` function?\n",
        "4. What is the output from the `curve_fit` function?\n",
        "5. How can you assess the quality of a fit function?\n",
        "6. Why did the Savior teach in parables?\n",
        "\n",
        "\n",
        "\n",
        "\n",
        "## Exercises\n",
        "1. You push a box with five known forces while using a motion detector to measure the cart's acceleration. The data are shown below.   \n",
        "\n",
        "   1. Plot the data with force on the vertical axis and acceleration on the horizontal axis.  \n",
        "   2. Fit a polynomial function of order one (linear function) to this data. \n",
        "   3. Fit a polynomial function of order two (quadratic function) to this data.\n",
        "   4. Determine which is the better fit. \n",
        "   5. Plot the best-fit functions on top of the data.\n",
        "   6. Determine the mass of the box.  \n",
        "\n",
        "|Force (N)|acceleration (m/s)|\n",
        "|-------------|---------|\n",
        "| 0.25 | 0.5|\n",
        "| 0.50 | 0.8|\n",
        "| 0.75 | 1.3|\n",
        "| 1.0 | 1.8|\n",
        "| 1.25 | 2.1|  "
      ]
    },
    {
      "cell_type": "code",
      "metadata": {},
      "source": [
        "# Solution Here"
      ],
      "execution_count": null,
      "outputs": []
    },
    {
      "cell_type": "markdown",
      "metadata": {},
      "source": [
        "2. Your friend wants to know the acceleration of his car and asks you to help him.  You set up a motion detector that allows you to measure the position of the car at regular intervals.  Your data are as follows:  \n",
        "   1. Plot the data with time on the horizontal axis and position on the vertical.\n",
        "   2. Fit a polynomial function of order one (linear function) to this data.\n",
        "   3. Fit a polynomial function of order two (quadratic function) to this data.\n",
        "   4. Determine which is the better fit.\n",
        "   5. Plot the best-fit functions on top of the data.\n",
        "   6. Calculate the acceleration of the car using the best fit.\n",
        "\n",
        "|Time (s)|Position (m)|\n",
        "|-------------|---------|\n",
        "| 0.0 | 0.256|\n",
        "| 0.1 | 0.249|\n",
        "| 0.2 | 0.195|\n",
        "| 0.3 | 0.514|\n",
        "| 0.4 | 0.538|\n",
        "| 0.5 | 0.785|\n",
        "| 0.6 | 1.11|\n",
        "| 0.7 | 1.31|\n",
        "| 0.8 | 1.81|\n",
        "| 0.9 | 2.32|\n",
        "| 1.0 | 2.74|  \n"
      ]
    },
    {
      "cell_type": "code",
      "metadata": {},
      "source": [
        "# Solution Here"
      ],
      "execution_count": null,
      "outputs": []
    },
    {
      "cell_type": "markdown",
      "metadata": {},
      "source": [
        "3. The takeoff speed for a passenger airline jet is $80$ m/s. Velocity data measured during takeoff are given in the table below.  \n",
        "   1. Plot the data and fit a linear function to the data set.  Do you find good evidence that the acceleration of the airplane is constant.\n",
        "   2. Plot the best-fit function on top of the data.\n",
        "   3. At what time will the airplane achieve liftoff?    \n",
        "\n",
        "|Time (s)|Velocity (m/s)|\n",
        "|-------------|---------|\n",
        "| 0 | 0|\n",
        "| 10 | 23|\n",
        "| 20 | 46|\n",
        "| 30 | 69|  \n"
      ]
    },
    {
      "cell_type": "code",
      "metadata": {},
      "source": [
        "# Solution Here"
      ],
      "execution_count": null,
      "outputs": []
    },
    {
      "cell_type": "markdown",
      "metadata": {},
      "source": [
        "4. In PH123 you'll learn about ideal gases and the processes associated with them. One such process is called an adiabatic process.  The relationship between the temperature and the volume in an adiabatic process is \n",
        "$$\n",
        "T(V) = {C\\over V^{\\gamma -1}}\n",
        "$$\n",
        "\n",
        "For your experiment you compress a cylinder of gas four different times and measure the temperature of the gas.\n",
        "\n",
        "|Volume (m$^3$)| Temperature ($^\\circ$ C)|\n",
        "|---------------|-------------------------|\n",
        "0.481 |35|\n",
        "0.412|68|\n",
        "0.347|110|\n",
        "0.299|150|\n",
        "\n",
        " 1. Plot temperature vs. volume. Make sure the volumes are in cubic *meters* and the temperatures are in Kelvins: $$T_K = T_C + 273$$.\n",
        " 2. Fit the function mentioned above to this data.\n",
        " 3. Plot the best-fit function on top of the data.\n",
        " 4. Calculate gamma.  The value of gamma is an indication of what type of gas is present in the cylinder. $\\gamma = 1.4$ for a diatomic gas and $\\gamma = 1.67$ for a monatomic gas.\n"
      ]
    },
    {
      "cell_type": "code",
      "metadata": {},
      "source": [
        "# Solution Here"
      ],
      "execution_count": null,
      "outputs": []
    }
  ],
  "metadata": {
    "kernelspec": {
      "name": "python3",
      "language": "python",
      "display_name": "Python 3"
    }
  },
  "nbformat": 4,
  "nbformat_minor": 4
}
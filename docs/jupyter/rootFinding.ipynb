{
  "cells": [
    {
      "cell_type": "raw",
      "metadata": {},
      "source": [
        "---\n",
        "reference-location: margin\n",
        "citation-location: margin\n",
        "execute:\n",
        "  freeze: auto\n",
        "---"
      ]
    },
    {
      "cell_type": "markdown",
      "metadata": {},
      "source": [
        "# Root Finding and Optimization Algorithms\n",
        "\n",
        "[Jupyter Notebook](https://lancejnelson.github.io/PH135/jupyter/rootFinding.ipynb)\n",
        "\n",
        "Often in science, we find ourselves wanting to do one of the following: (See figure below) \n",
        "\n",
        "1. Solve an equation for a specified variable\n",
        "2. Find the zeros of a function (equivalent to solving an equation that is equal to zero)\n",
        "3. Find the extrema (maxima or minima) of a function.\n"
      ]
    },
    {
      "cell_type": "code",
      "metadata": {},
      "source": [
        "#| echo: false\n",
        "#| fig-cap: \"The zero(red dot), maximum (green dot), and minimum (blue dot) of a function are illustrated.\"\n",
        "import matplotlib.pyplot as plt\n",
        "import numpy as np\n",
        "\n",
        "x = np.linspace(-0.5,3.5,100)\n",
        "y = np.cos(x)\n",
        "plt.figure(figsize = (5,5))\n",
        "plt.plot(x,y,'b-')\n",
        "plt.plot([1.5707],[0],'r.',ms = 15)\n",
        "plt.plot([3.14],[-1.0],'b.',ms = 15)\n",
        "plt.plot([0],[1],'g.',ms = 15)\n",
        "plt.grid()\n",
        "plt.show()"
      ],
      "execution_count": null,
      "outputs": []
    },
    {
      "cell_type": "markdown",
      "metadata": {},
      "source": [
        "These skills are routinely covered in an algebra class but often the equation we encounter cannot be solved using these techniques. Instead we have to resort to a class of numerical algorithms generally referred to as root finding or optimization algorithms.  The algorithms described below can be applied to perform any of the tasks mentioned above.    In the remainder of this chapter we will discuss various numerical methods for finding the roots of an equation.\n",
        "\n",
        "<!--  Finding the zero of this function means finding the x-value where the function is equal to zero (red dot).  Finding the min or max of the function means finding the x value where the slope of the function is zero (blue and green dots). When algebra techniques fail to solve the equation, we can use one of several numerical algorithms to solve it instead. \n",
        "You probably remember being asked to find the roots of a function in your math class. Finding the roots means finding the x values that make $y(x) = 0$. For example, the following polynomial equation has two solutions that can be found using the quadratic formula.\n",
        "\n",
        "$$\n",
        "4 x^2 + 2x - 2 = 0\n",
        "$$\n",
        "\n",
        "The solutions to this equation are $-1$ and ${1\\over 2}$. Try plugging them into the equation above to verify this. -->\n",
        "   \n",
        "\n",
        "## Bisection  \n",
        "The bisection method finds the roots of a function by iteratively narrowing the interval where the zero is found until the interval becomes sufficiently small. If you want to find the location where the function equals something other than zero, you can simply rearrange the function until a zero appears on the right hand side of the equation and proceed with bisection on the new function.  To begin the bisection method, the user must choose an interval wherein the function zero is guaranteed to be found.  The midpoint of the interval is then found and a new, narrower interval is chosen.  By repeating this process until the interval becomes sufficiently small, the algorithm eventually finds the location where the function is equal to zero.  The steps to the algorithm are as follows:  \n",
        "\n",
        "1. Choose an interval wherein the function zero is certain to be located. Call the interval $(a,b)$\n",
        "2. Calculate the midpoint of the interval $c = {a+ b \\over 2}$\n",
        "3. Calculate the function value at the midpoint ($f(c)$).\n",
        "4. By examining the sign of $f(c)$ determine whether the interval $(a,c)$ or $(c,b)$ contains the zero of the function.\n",
        "5. Repeat steps 2-4 until $f(c)$ is sufficiently small.\n",
        "\n",
        "In the code cell below, try to use the bisection method to solve the following equation.\n",
        "$$\n",
        "y(x) = 5 x^2 - 3x - 2 = 0\n",
        "$$"
      ]
    },
    {
      "cell_type": "markdown",
      "metadata": {},
      "source": [
        "![Used with permission from: https://commons.wikimedia.org/wiki/File:Bisection_method.svg](https://lancejnelson.github.io/PH135/figures/Bisection_method.png){width=60%}\n",
        "\n",
        "## Secant Method\n",
        "\n",
        "\n",
        "## Newton's Method\n",
        "Newton's method uses the slope of the function to estimate a better approximation to the function's zero.  \n",
        "To understand how we can use the slope to approximate the zero, first let's write down an approximation to the slope. \n",
        "\n",
        "$$\n",
        "f'(x_0) \\approx {f(x_1) - f(x_0) \\over x_1 - x_0}\n",
        "$$\n",
        "\n",
        "If the slope of the function were a constant, we could simply set $f(x_1) = 0$ and solve for $x_1$ and we would be done.\n",
        "\n",
        "$$\n",
        "x_1 = x_0 - {f(x_0)\\over f'(x_0)}\n",
        "$$\n",
        "\n",
        "In reality, the function will not have a constant slope but this equation will still get us closer to the zero than we were originally. (see figure)  By repeatedly evaluating the equation above, always using the most recent estimate as $x_0$, until $f(x_0)$ becomes sufficiently small, the location where the function is zero can be found. \n",
        "$$\n",
        "x_{n+1} = x_n - {f(x_n)\\over f'(x_n)}\n",
        "$$\n",
        "\n",
        "To begin the algorithm, the user must choose an  initial guess for the zero that isn't very far away from the true value.  An improvement on this initial guess is calculated using the equation above  where $f'(x_n)$ is the derivative of the function evaluated at the current guess.  The algorithm continues with repeated evaluation of the equation above until $f(x_n)$ evaluates to a sufficiently small number.\n",
        "\n",
        "Below you will find a code example for solving the following equation:\n",
        "\n",
        "$$\n",
        "y(x) = \\cos(x) = 0\n",
        "$$"
      ]
    },
    {
      "cell_type": "code",
      "metadata": {},
      "source": [
        "import numpy as np\n",
        "\n",
        "x = 2.3\n",
        "\n",
        "while abs(np.cos(x)) > 1e-5:\n",
        "  x = x + np.cos(x)/np.sin(x) \n",
        "\n",
        "print(x,np.cos(x))"
      ],
      "execution_count": null,
      "outputs": []
    },
    {
      "cell_type": "markdown",
      "metadata": {},
      "source": [
        "If the function of interest has multiple zeros (like the cosine function we did above), one must give careful consideration to the initial guess.  Making a poor choice can lead to the algorithm finding a different zero than what was intended. \n",
        "\n",
        "![Used with permission from: https://commons.wikimedia.org/wiki/File:Newton_iteration.svg](https://lancejnelson.github.io/PH135/figures/Newtons_method.png){width=60%}\n",
        "\n",
        "## Fixed-Point Iteration\n",
        "Fixed-point iteration is another algorithm for finding function zeros. To begin, the function of interest must be rearrange to look similar to the function below.\n",
        "$$\n",
        "x = \\cos(x)\n",
        "$$\n",
        "As opposed to the alternate form:\n",
        "\n",
        "$$\n",
        "y(x) = x - \\cos(x) = 0\n",
        "$$\n",
        "\n",
        "\n",
        "Once the equation is in this form, the user must choose an initial guess for the zero just as with the other algorithms.  The algorithm then proceeds by using the initial guess to evaluate the right hand side of the equation.  This process repeats with the new guess always being used to evaluate the function until $|x - \\cos(x)| $ is sufficiently small.   The equation given above is an example of a transcendental equation, or an equation that cannot be solved using algebraic techniques. No matter how hard you try, you'll never come up with an expression that solves this equation.\n",
        "\n",
        "The code cell below shows the fixed-point iteration algorithm used to find the zeros of the function mentioned above: $x = \\cos(x)$"
      ]
    },
    {
      "cell_type": "code",
      "metadata": {},
      "source": [
        "import numpy as np\n",
        "x = 3\n",
        "count = 0\n",
        "while abs(x - np.cos(x)) > 1e-5:\n",
        "  x = np.cos(x)\n",
        "  count += 1"
      ],
      "execution_count": null,
      "outputs": []
    },
    {
      "cell_type": "markdown",
      "metadata": {},
      "source": [
        "![Used with permission from: https://commons.wikimedia.org/wiki/File:Cosine_fixed_point.svg](https://lancejnelson.github.io/PH135/figures/Fixed_Point.png){width=60%}\n",
        "\n",
        "To find the zeros of a function that is not in the form: $x = f(x)$, you must first algebraically manipulate the equation to take this form. For example, the following equation\n",
        "\n",
        "$$\n",
        "2x^3 - 2 x - 5 =0 \n",
        "$$\n",
        "\n",
        "Is equivalent to:\n",
        "$$\n",
        "x = (x+{5\\over 2})^{1\\over 3}\n",
        "$$\n",
        "\n",
        "And the fixed-point iteration algorithm can now be used to solve for $x$:"
      ]
    },
    {
      "cell_type": "code",
      "metadata": {},
      "source": [
        "import numpy as np\n",
        "x = 3\n",
        "count = 0\n",
        "while abs(x - (x+5/2)**(1/3)) > 1e-8:\n",
        "    x = (x+5/2)**(1/3)\n",
        "    count += 1\n",
        "    if count > 10000:\n",
        "        break"
      ],
      "execution_count": null,
      "outputs": []
    },
    {
      "cell_type": "markdown",
      "metadata": {},
      "source": [
        "## Finding Extrema\n",
        "\n",
        "Any of the methods discussed above can be used to find extrema by finding the zeros of the derivative.  For example, to find the minimum of this function:\n",
        "\n",
        "$$\n",
        "y(x) = 5 x^3 - 2x^2 - 8 x + 2 \n",
        "$$\n",
        "\n",
        "We can find the zeros of the derivative function:\n",
        "\n",
        "$$\n",
        "y'(x) = 15 x^2 - 4 x - 8\n",
        "$$\n",
        "\n",
        "Fixed-point iteration, or any of the other methods discussed, can then be used to solve this equation:\n"
      ]
    },
    {
      "cell_type": "code",
      "metadata": {},
      "source": [
        "import numpy as np\n",
        "x = 3\n",
        "count = 0\n",
        "while abs(x - np.sqrt(4/15 * x + 8/15)) > 1e-8:\n",
        "    x = np.sqrt(4/15 * x + 8/15)\n",
        "    count += 1\n",
        "    if count > 10000:\n",
        "      print(\"Too many iterations. Results may not be correct!\")\n",
        "      break\n",
        "print(x)"
      ],
      "execution_count": null,
      "outputs": []
    },
    {
      "cell_type": "markdown",
      "metadata": {},
      "source": [
        "## Exercises\n",
        "1. Use the bisection method to find the zeros of the function\n",
        "$$\n",
        "y(x) = 8x^3 - 15 x^2 - 4 x + 5\n",
        "$$\n",
        "\n",
        "Hint: This function has three zeros; one in the region [-1,0], one in the region [0,1] and another in the region [1.5,2.5]\n",
        "\n",
        "2. Use Newton's method to find the zero for the following function (slightly different from the one in problem 1):\n",
        "$$\n",
        "y(x) = 8x^3 - 15 x^2 - 4 x - 5\n",
        "$$\n",
        "Answer: You should find that the zero is located at $\\approx 2.2257$\n",
        "3. Use fixed-point iteration to solve the following equation\n",
        "$$\n",
        "{1\\over 2}^x = x^2\n",
        "$$\n",
        "4. Use Newton's method to solve the following equation\n",
        "$$\n",
        "e^x = \\cos(x)\n",
        "$$\n",
        "Note: This function has three solutions; one in the region [-5,-4], one in the region [-2,-1] and another in the region [-1,1]. See if you can find all of them by varying your initial guess."
      ]
    }
  ],
  "metadata": {
    "kernelspec": {
      "name": "python3",
      "language": "python",
      "display_name": "Python 3"
    }
  },
  "nbformat": 4,
  "nbformat_minor": 4
}
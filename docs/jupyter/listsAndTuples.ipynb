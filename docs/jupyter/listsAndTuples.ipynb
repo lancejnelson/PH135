{
  "cells": [
    {
      "cell_type": "raw",
      "metadata": {},
      "source": [
        "---\n",
        "reference-location: margin\n",
        "citation-location: margin\n",
        "execute:\n",
        "  freeze: auto\n",
        "  cache: true\n",
        "---"
      ]
    },
    {
      "cell_type": "markdown",
      "metadata": {},
      "source": [
        "# Lists and Tuples\n",
        "\n",
        "[Jupyter Notebook](https://lancejnelson.github.io/PH135/jupyter/listsAndTuples.ipynb)\n",
        "\n",
        "\n",
        "Up to this point, we have only worked with single numerical values or strings (multiple characters). Often we will want to work with collections of values (perhaps the orbital period of all of the planets in our solar system.) and it will be quite inconvenient to store each value into its own variable. Instead, the values can be stored in a list or tuple.  Lists and tuples are both collections of _elements_ , like numbers or strings.  The key difference between them is that tuples are _immutable_, which means they cannot be modified after their initial creation. On the other hand, lists are _mutable_, or able to be modified.\n",
        "\n",
        "\n",
        "## Creating Lists\n",
        "\n",
        "The easiest way to create a list is by putting the list elements inside of square\n",
        "brackets.  Below, we create a list containing the masses of all of the planets in our solar system."
      ]
    },
    {
      "cell_type": "code",
      "metadata": {},
      "source": [
        "mass = [1.8986e27,5.6846e26,10.243e25,8.6810e25,5.9736e24,4.8685e24,6.4185e23,3.3022e23]"
      ],
      "execution_count": null,
      "outputs": []
    },
    {
      "cell_type": "markdown",
      "metadata": {},
      "source": [
        "Note that square brackets (`[]`) must be used when creating the list. If you accidentally use parenthesis (`()`)[^list] or curly brackets (`{}`)[^dict] you’ll end up creating something other than a list.\n",
        "\n",
        "[^list]:Use parenthesis to create a tuple, which is just like a list but cannot be modified.\n",
        "\n",
        "[^dict]:Use curly brackets to create a dictionary, which is like a list but can be indexed on any data type, not just integers.\n",
        "\n",
        "\n",
        "Lists can contain any type of data and the type of data doesn't have to be the same for all of the elements.  Below, we create a list of the electron configurations for the first 10 elements on the periodic table.\n"
      ]
    },
    {
      "cell_type": "code",
      "metadata": {},
      "source": [
        "electrons = [\"1s1\",\"1s2\", \"1s2-2s1\",\"1s2-2s2\",\"1s2-2s2-2p1\",\"1s2-2s2-2p2\",\"1s2-2s2-2p3\",\"1s2-2s2-2p4\",\"1s2-2s2-2p5\",\"1s2-2s2-2p6\"]"
      ],
      "execution_count": null,
      "outputs": []
    },
    {
      "cell_type": "markdown",
      "metadata": {},
      "source": [
        "Lists can contain mixed data types. Below we construct a list of the electrical conductivities of three metals."
      ]
    },
    {
      "cell_type": "code",
      "metadata": {},
      "source": [
        "conductivity = [\"Gold\",4.10e7,\"Copper\",5.96e7,\"Aluminum\",3.5e7]"
      ],
      "execution_count": null,
      "outputs": []
    },
    {
      "cell_type": "markdown",
      "metadata": {},
      "source": [
        "If the elements of a list are also lists, we call it a *nested* list.\n"
      ]
    },
    {
      "cell_type": "code",
      "metadata": {},
      "source": [
        "conductivity = [[1,2,3],[4,5,6],[7,8,9]]"
      ],
      "execution_count": null,
      "outputs": []
    },
    {
      "cell_type": "markdown",
      "metadata": {},
      "source": [
        "### The `range` function\n",
        "\n",
        "Often it will be necessary to generate a (possibly very long) list of integers.  Instead of constructing the list by typing these numbers one by one, Python has a built-in function called `range()` that will do it for you. The `range()` function requires at least one argument to tell it how high the range should be."
      ]
    },
    {
      "cell_type": "code",
      "metadata": {},
      "source": [
        "a = range(10)  # Generate a list of integers up to 10\n",
        "a"
      ],
      "execution_count": null,
      "outputs": []
    },
    {
      "cell_type": "markdown",
      "metadata": {},
      "source": [
        "This output probably wasn't what you expected. Instead of generating the full list of numbers, Python generates a `range` object that stands in place of it because it requires less memory. (Consider what might happen to your computer's memory if you did `range(1000000000000)`.)  To force Python to generate the list, you can convert the `range` object into a list using the `list()` function.\n"
      ]
    },
    {
      "cell_type": "code",
      "metadata": {},
      "source": [
        "a = range(10)  # Generate a list of integers up to 10\n",
        "list(a)"
      ],
      "execution_count": null,
      "outputs": []
    },
    {
      "cell_type": "markdown",
      "metadata": {},
      "source": [
        "The `range` function can be called with up to three arguments: `range(start,end,stepsize)`. Consistent with indexing, the range includes the start value and excludes the end value. Below we generate a list of integers starting at 5, ending at 100 with a step size of 5."
      ]
    },
    {
      "cell_type": "code",
      "metadata": {},
      "source": [
        "myList = range(5,100,5)\n",
        "list(myList)"
      ],
      "execution_count": null,
      "outputs": []
    },
    {
      "cell_type": "markdown",
      "metadata": {},
      "source": [
        "> **_To Do:_**\n",
        ">\n",
        ">Use the range function to generate a list of **even** numbers from 8 to 88. (the list should include 88!)\n",
        "> "
      ]
    },
    {
      "cell_type": "code",
      "metadata": {},
      "source": [
        "# Python Code Here!"
      ],
      "execution_count": null,
      "outputs": []
    },
    {
      "cell_type": "markdown",
      "metadata": {},
      "source": [
        "## Indexing and Slicing Lists\n",
        "\n",
        "_Indexing_ is used to access individual elements of a list, and it is similar to indexing strings.  The index is the position of the desired element in the list and the _index numbering starts at zero_.  Accessing an element of a list is done by placing the numerical index of the element we want in square brackets behind the list name.  For example, if we want the electron configuration of the first element in our list from above, we use `electrons[0]` and the electron configuration for the second element would be `electrons[1]` and so on.  Just as with string, negative indices can be used to access list elements counting from the back of the list forward.\n"
      ]
    },
    {
      "cell_type": "code",
      "metadata": {},
      "source": [
        "#| eval: false\n",
        "electrons = [\"1s1\",\"1s2\", \"1s2-2s1\",\"1s2-2s2\",\"1s2-2s2-2p1\",\"1s2-2s2-2p2\",\"1s2-2s2-2p3\",\"1s2-2s2-2p4\",\"1s2-2s2-2p5\",\"1s2-2s2-2p6\"]\n",
        "\n",
        "electrons[1]\n",
        "electrons[-2]\n",
        "electrons[5]\n",
        "electrons[-1]"
      ],
      "execution_count": null,
      "outputs": []
    },
    {
      "cell_type": "markdown",
      "metadata": {},
      "source": [
        "> **_To Do:_**\n",
        ">\n",
        ">1. Predict the output for each of the indexes performed in the cell above.\n",
        ">2. Use print statements to check your answers.\n",
        ">3. Discuss any misunderstandings with a peer."
      ]
    },
    {
      "cell_type": "code",
      "metadata": {},
      "source": [
        "# Python Code Here!"
      ],
      "execution_count": null,
      "outputs": []
    },
    {
      "cell_type": "markdown",
      "metadata": {},
      "source": [
        "Accessing elements of nested lists requires multiple sets of parenthesis."
      ]
    },
    {
      "cell_type": "code",
      "metadata": {},
      "source": [
        "conductivity = [[1,2,3],[4,5,6],[7,8,9]]\n",
        "\n",
        "x = conductivity[1][0]\n",
        "y = conductivity[0][2]"
      ],
      "execution_count": null,
      "outputs": []
    },
    {
      "cell_type": "markdown",
      "metadata": {},
      "source": [
        "> **_To Do:_**\n",
        ">\n",
        ">1. Predict the output for each of the indexes performed in the cell above.\n",
        ">2. Use print statements to check your answers.\n",
        ">3. Discuss any misunderstandings with a peer."
      ]
    },
    {
      "cell_type": "code",
      "metadata": {},
      "source": [
        "# Python Code Here!"
      ],
      "execution_count": null,
      "outputs": []
    },
    {
      "cell_type": "markdown",
      "metadata": {},
      "source": [
        "Since lists are _mutable_, we can modify the value of an element in a list using the `=` operator."
      ]
    },
    {
      "cell_type": "code",
      "metadata": {},
      "source": [
        "conductivity = [\"Gold\",4.10e7,\"Copper\",5.96e7,\"Aluminum\",3.5e7]\n",
        "\n",
        "conductivity[1] = 4.15e7\n",
        "conductivity"
      ],
      "execution_count": null,
      "outputs": []
    },
    {
      "cell_type": "markdown",
      "metadata": {},
      "source": [
        ">**_To Do:_**\n",
        ">\n",
        ">1. Use a print statement to verify that the `conductivity` list was indeed modified as expected.\n",
        ">2. Modify the third element to be \"Platinum\" and the fourth to be the conductivity of Platinum (`9.43e6`)."
      ]
    },
    {
      "cell_type": "code",
      "metadata": {},
      "source": [
        "# Python Code Here!"
      ],
      "execution_count": null,
      "outputs": []
    },
    {
      "cell_type": "markdown",
      "metadata": {},
      "source": [
        "Multiple list elements can be retrieved at once (called _slicing_) by including the start and stop indices separated by a colon: `[start:stop:step]`.  A convention that occurs throughout python is that the first index is included in the slice but the second is _not_. (i.e. `[included: excluded: step]`)  Default values for the start location, stop location, and step sizes will be used if these values are omitted. Below we give some examples of slicing. \n"
      ]
    },
    {
      "cell_type": "code",
      "metadata": {},
      "source": [
        "#| eval: false\n",
        "electrons = [\"1s1\",\"1s2\", \"1s2-2s1\",\"1s2-2s2\",\"1s2-2s2-2p1\",\"1s2-2s2-2p2\",\"1s2-2s2-2p3\",\"1s2-2s2-2p4\",\"1s2-2s2-2p5\",\"1s2-2s2-2p6\"]\n",
        "\n",
        "electrons[1:]\n",
        "electrons[1:3]\n",
        "electrons[:3]\n",
        "electrons[1:8:2]\n",
        "electrons[5:2:-1]"
      ],
      "execution_count": null,
      "outputs": []
    },
    {
      "cell_type": "markdown",
      "metadata": {},
      "source": [
        "> **_To Do:_**\n",
        ">\n",
        ">1. Predict the output for the five slices in the cell above.\n",
        ">2. Use print statements to check your answers.\n",
        ">3. Discuss any misunderstandings with a peer.\n",
        ">4. Now use list slicing to extract every third element of the list in the cell above starting at the beginning."
      ]
    },
    {
      "cell_type": "code",
      "metadata": {},
      "source": [
        "# Python Code Here!"
      ],
      "execution_count": null,
      "outputs": []
    },
    {
      "cell_type": "markdown",
      "metadata": {},
      "source": [
        "## Tests for Inclusion  \n",
        " \n",
        " Just as with strings, the `in` operator can be used with lists to determine if a list element is present.  Suppose you have a list of all the known radioactive elements on the periodic table and you'd like to know if Iridium is in the list. The `in` statement let's us quickly test to see if it is in the list. (see example below)\n"
      ]
    },
    {
      "cell_type": "code",
      "metadata": {},
      "source": [
        "radioactiveElements = [\"Technetium\",\"Promethium\",\"Polonium\",\"Astatine\",\"Radon\",\"Francium\",\"Radium\", \"Actinium\", \"Thorium\", \"Protactinium\",\"Uranium\",\"Neptunium\",\"Plutonium\",\"Americium\",\"Curium\",\"Berkelium\",\"Californium\",\"Einsteinium\",\"Fermium\",\"Mendelevium\",\"Nobelium\",\"Lawrencium\",\"Rutherfordium\",\"Dubnium\",\"Seaborgium\",\"Bohrium\",\"Hassium\",\"Meitnerium\",\"Darmstadtium\",\"Roentenium\",\"Copernicium\",\"Nihonium\",\"Flerovium\",\"Moscovium\",\"Livermorium\",\"Tennessine\", \"Oganesson\"]\n",
        "\n",
        "\"Iridium\" in radioactiveElements"
      ],
      "execution_count": null,
      "outputs": []
    },
    {
      "cell_type": "markdown",
      "metadata": {},
      "source": [
        "The `in` operator will work with numerical data as well."
      ]
    },
    {
      "cell_type": "code",
      "metadata": {},
      "source": [
        "numbers = [5,6,3,1,2]\n",
        "\n",
        "4 in numbers"
      ],
      "execution_count": null,
      "outputs": []
    },
    {
      "cell_type": "markdown",
      "metadata": {},
      "source": [
        "## List Methods\n",
        "\n",
        "Lists have a collection of methods (or functions) for accomplishing routine tasks.  Some of the more common list methods are given below.  All of the methods given will modify the original list (except `copy()`).  As a reminder, methods only work on the object type that they were designed for (lists in this case) and they are called by appending the method name to the variable you want it to operate on. (e.g. `myList.clear()`) \n",
        "\n",
        "\n",
        "| Method | Description|\n",
        "|--------|------------|\n",
        "| `append(element)`| Adds a single element to the end of the list.|\n",
        "| `clear()`| Removes all elements from a list.|\n",
        "| `copy()`| Creates an independent copy of the list.|\n",
        "| `count(element)`| Counts the number of occurrences of `element` in the list.|\n",
        "| `extend([a,b,c,...])`| Adds multiple elements to the end of the list.|\n",
        "| `index(element)`| Returns the index of the _first occurrence_ of `element`.|\n",
        "| `insert(index,element)`| Inserts the given `element` at the specified `index`.|\n",
        "| `pop(index)`| Removes and returns the element given at `index`.  If no index is provided, it defaults to the last element.|\n",
        "| `remove(element)`| Removes the first occurrence of `element` in the list.|\n",
        "| `reverse()`| Reverses the order of the entire list.|\n",
        "| `sort()`| Sorts the list in place.[^sort]|\n",
        "\n",
        "[^sort]: It modifies the original list. In contrast, the function  `sorted()` will leave the original list unchanged.\n",
        "\n",
        "> **_To Do:_**\n",
        "> \n",
        ">In the cell below you will find a list containing the speed of sound for several materials and at different temperatures. (in meters/second) Use the list methods in the table above to perform the following:  \n",
        "> \n",
        ">1. The speed of sound in Aluminum is $6420$ m/s.  Add two elements to the end of this list: the string \"Aluminum\" and its speed of sound.  Do it two ways, first with `append` and then with `extend`.\n",
        ">2. Remove the first two elements from this list.\n",
        ">3. Insert the removed elements so they appear just after the entry for Helium.\n",
        ">4. Find the index location for \"Ethyl Alcohol\".\n",
        ">5. Use the `remove` method twice to remove the entry for \"Granite\" and its associated speed.\n",
        ">6. Use the `extend` method twice to append an entry for the speed of sound for \"Steel\", which is 5790 m/s.\n"
      ]
    },
    {
      "cell_type": "code",
      "metadata": {},
      "source": [
        "a = [\"Air 0C\",331,\"Air 30C\",343, \"Helium 0C\",970,\"Ethyl Alcohol\",1170,\"Water 20C\",1480, \"Granite\",6000]"
      ],
      "execution_count": null,
      "outputs": []
    },
    {
      "cell_type": "markdown",
      "metadata": {},
      "source": [
        "## Built-in functions for Lists\n",
        "Python has several built-in functions that will work with lists.  Functions are called by placing the arguments to the function in parenthesis and prepending the name of the function to the parenthesis.  Here are a few common functions that are used with lists: (the `zip` and `enumerate` functions will be explained in greater detail next chapter.)\n",
        "\n",
        "\n",
        "| Method | Description|\n",
        "|--------|------------|\n",
        "| `len(list)`| Returns the number of elements in the list.|\n",
        "| `max(list)`| Finds the largest element in the list.|\n",
        "| `min(list)`| Finds the smallest element in the list.|\n",
        "| `sum(list)`| Returns the sum of the elements in the list.[^sum]|\n",
        "| `listOne + listTwo`| Joins `listOne` with `listTwo` to form one list.|\n",
        "| `2 * list`| Repeat `list` and concatenate to itself, making the list twice as long.|\n",
        "| `del list[index]`| Deletes list elements located at index.  Can also specify a range of values.|\n",
        "| `zip(listOne,listTwo)`| Zips two lists together. (Creates `[(a1,b1),(a2,b2),...]` from `[a1,a2,a3...]` and `[b1,b2,b3...]`|\n",
        "| `enumerate(list)`| Zips a list to the index value for that list (Creates `[(0,a1),(1,a2),(2,a3)...]` from `[a1,a2,a3...]`|\n",
        "\n",
        "[^sum]: Only works if the list contains only ints and floats.\n",
        "\n",
        "> **_To Do:_**\n",
        ">\n",
        ">The cell below contains two lists with strings in them and a third list that contains numbers.  Use these lists to evaluate all of the functions from the table above, printing the result so that you can see what action was performed.  Specifically, seek to answer the following questions:  \n",
        "> \n",
        ">1. What happens when you find the `max` or `min` of a list of strings? (list of numbers?)\n",
        ">2. What happens when you add two lists together?  Does it matter if one list contains strings and the other numbers?\n",
        ">3. What happens when you multiply a list by an integer? Does it matter if the list contains numbers vs strings?\n",
        ">4. What happens when you `zip` two lists together? Does it matter if the list contains numbers or strings?\n",
        "> \n"
      ]
    },
    {
      "cell_type": "code",
      "metadata": {},
      "source": [
        "a = [\"l\",\"j\",\"n\"]\n",
        "b = [\"r\",\"s\",\"t\"]\n",
        "c = [4,7,8]"
      ],
      "execution_count": null,
      "outputs": []
    },
    {
      "cell_type": "markdown",
      "metadata": {},
      "source": [
        "## Tuples\n",
        "\n",
        "_Tuples_ are another object type similar to lists except that they are _immutable_... that is to say, they cannot be modified once created.  They look similar to lists except that they are created using parenthesis instead of brackets.  Because you can't change the elements of a tuple, they are often used so that you don't inadvertently modify (and lose) critical data.  You can think of it as locking a file on your computer to avoid inadvertently modifying it and losing the original content.  \n",
        "\n",
        "Below is a tuple containing the Balmer series, which are the wavelengths of visible light emitted by Hydrogen gas. These values are well known and you most likely wouldn't want to make any modifications to this list which makes them a prime candidate for a tuple. Storing them in a tuple will help prevent you from inadvertently modifying the list.  Indexing and slicing work exactly the same as with lists and strings, so we can still use the values inside of a tuple to perform simple calculations. There are only two methods associated with tuples: `count(element)` and `index(element)`. Their usage is identical to the list methods.\n"
      ]
    },
    {
      "cell_type": "code",
      "metadata": {},
      "source": [
        "balmer = (383.5384,388.9049,397.0072,410.174,434.047,486.133,656.272,656.2852)\n",
        "balmer.index(410.174)\n",
        "len(balmer)"
      ],
      "execution_count": null,
      "outputs": []
    },
    {
      "cell_type": "markdown",
      "metadata": {},
      "source": [
        "You can transform a list into a tuple using the `tuple` function."
      ]
    },
    {
      "cell_type": "code",
      "metadata": {},
      "source": [
        "balmer = [383.5384,388.9049,397.0072,410.174,434.047,486.133,656.272,656.2852]\n",
        "\n",
        "balmerTup = tuple(balmer)"
      ],
      "execution_count": null,
      "outputs": []
    },
    {
      "cell_type": "markdown",
      "metadata": {},
      "source": [
        "## Flash Cards\n",
        "\n",
        "1. What is the difference between a list and a tuple?\n",
        "2. What is it called when the elements of a list are also lists?\n",
        "3. What is the index value of the first element in a list?\n",
        "4. How do you access elements of a list counting from the back of the list forward? (Give an example.)\n",
        "5. What does it mean to \"slice\" a list?\n",
        "6. How do you extract every third element of a list, starting at the second element and stopping at (but including) the 11th element? \n",
        "7. How can you check to see if an element is present in a list? (Give an example)\n",
        "8. What does the `range` function do?  (Give an example of how to use it.)\n",
        "9. What happens when you multiply a list and an integer?\n",
        "10. What happens when you add two lists together?\n",
        "11. Explain the usage of the `extend` list method.\n",
        "12. Explain the usage of the `insert` list method.\n",
        "13. Explain the usage of the `remove` list method.\n",
        "14. Explain the usage of the `pop` list method. \n",
        "15. Where is the record of Jesus calming the storm?\n",
        "\n",
        "\n",
        "## Exercises\n",
        "\n",
        "1. Use the `range` function and list slicing techniques to generate a list of **every other** multiple of 3 starting at 3 and going up to and including 201."
      ]
    },
    {
      "cell_type": "code",
      "metadata": {},
      "source": [
        "# Python code here."
      ],
      "execution_count": null,
      "outputs": []
    },
    {
      "cell_type": "markdown",
      "metadata": {},
      "source": [
        "2. The code in the cell below will generate a list of 200 random integers in the range $0 \\rightarrow 15$.\n",
        "    1. Print the list and inspect it to verify that you understand what it contains.\n",
        "    2. Verify that there indeed are 200 numbers in the list (Use a function, don't count them one by one.)\n",
        "    3. How many 7's appear in the list? (Use a function, don't count them by hand)\n",
        "    4. What is the largest and smallest numbers that appear in the list?\n",
        "    5. Find the index of the first occurrence of the number 1.\n",
        "    6. Sort the list and use a print statement to verify that you were successful."
      ]
    },
    {
      "cell_type": "code",
      "metadata": {},
      "source": [
        "from random import randint\n",
        "\n",
        "data = [randint(0,15) for x in range(200)]"
      ],
      "execution_count": null,
      "outputs": []
    },
    {
      "cell_type": "markdown",
      "metadata": {},
      "source": [
        "3. The cell below contains a string containing some elementary particles in physics, with the names of the particles separated by commas.\n",
        "    1. Use the `split` method to generate a list of particles.\n",
        "    2. Use the `len` function to determine how many particles are in the list.\n",
        "    3. `sort` the list and use a print statement to verify that the sort worked.\n"
      ]
    },
    {
      "cell_type": "code",
      "metadata": {},
      "source": [
        "particles = \"up quark,down quark,charm quark,top quark,strange quark,bottom quark,electron,muon,tau,electron-neutrino,muon-neutrino,tau-neutrino,gluon,photon,z boson,w boson,higgs boson\""
      ],
      "execution_count": null,
      "outputs": []
    },
    {
      "cell_type": "markdown",
      "metadata": {},
      "source": [
        "4. (Fibonacci Series)  The Fibonacci series is a very famous sequence of numbers that appears repeatedly in nature. In the cell below you will find a list that contains the first seven Fibonacci numbers.\n",
        "\n",
        "\n",
        "    1. Study the sequence of numbers until you identify the pattern.\n",
        "    2. Once you know the pattern, use `extend` to add the next 10 Fibonacci numbers to the list.\n",
        "    3. The Fibonacci sequence has some very interesting properties (listed below).  Add some code in the cell below to verify each of them.\n",
        "        1. The ratio of the last two numbers in the sequence gets closer and closer to the 'Golden Ratio' (1.618...) as the sequence gets longer.  Calculate this ratio for short sequences and then increase the length of the sequence and watch the ratio approach 1.618...\n",
        "        2. The sum of any ten consecutive Fibonacci numbers is divisible by 11.  Check this for at least three different length-ten slices.\n",
        "        3. The sum of the first $n$ Fibonacci numbers is equal to the $(n + 2)$-th Fibonacci number minus 1.  Check this for at least three different values of $n$.\n",
        "    4. The following formula can be used to generate the Fibonacci numbers: $F(n) = {1\\over \\sqrt{5}}\\left({1 + \\sqrt{5}\\over 2} \\right)^n - {1\\over \\sqrt{5}}\\left({1 - \\sqrt{5}\\over 2} \\right)^n$. Use this formula together with the append function to generate a list containing the first 15 Fibonacci numbers."
      ]
    },
    {
      "cell_type": "code",
      "metadata": {},
      "source": [
        "fibonacci = [1,1,2,3,5,8,13]"
      ],
      "execution_count": null,
      "outputs": []
    },
    {
      "cell_type": "markdown",
      "metadata": {},
      "source": [
        "5. (Projectile Motion)  Below you will find a nested list containing the x-y coordinates for a home run baseball hit. Answer the following questions about the baseball's trajectory:\n",
        "\n",
        "    1. How many x-y pairs are in the list?\n",
        "    2. Find the horizontal distance between the launch and landing point for the projectile.\n",
        "    3. How far had the baseball traveled horizontally when it reached its max height?  To answer this question, follow the steps below:\n",
        "        1. Use list comprehension to extract the x and y coordinates of the baseball into separate lists.  Call these lists `x` and `y`.\n",
        "        2. Use the `index` and `max` functions to find the index corresponding to the maximum value in the list of y-coordinates.  This is the max height of the baseball.\n",
        "        3. Now use the index found in part 2 to find the x-coordinate of the baseball when it is at max height.\n"
      ]
    },
    {
      "cell_type": "code",
      "metadata": {},
      "source": [
        "coords = [(0.0, 0.0), (0.19505076661811682, 0.11248986724462198), (0.39010153323623364, 0.22473424375326276), (0.5851522998543505, 0.33673312952592227), (0.7802030664724673, 0.4484865245626006), (0.975253833090584, 0.5599944288632976), (1.170304599708701, 0.6712568424280134), (1.3653553663268179, 0.7822737652567482), (1.5604061329449346, 0.8930451973495016), (1.7554568995630513, 1.0035711387062738), (1.950507666181168, 1.1138515893270646), (2.145558432799285, 1.2238865492118742), (2.340609199417402, 1.3336760183607028), (2.535659966035519, 1.4432199967735502), (2.7307107326536357, 1.5525184844504163), (2.9257614992717524, 1.661571481391301), (3.120812265889869, 1.7703789875962046), (3.315863032507986, 1.8789410030651268), (3.5109137991261026, 1.987257527798068), (3.7059645657442193, 2.095328561795028), (3.901015332362336, 2.2031541050560066), (4.096066098980454, 2.310734157581004), (4.29111686559857, 2.4180687193700203), (4.486167632216687, 2.525157790423055), (4.681218398834804, 2.632001370740109), (4.87626916545292, 2.738599460321182), (5.071319932071038, 2.8449520591662734), (5.266370698689155, 2.951059167275383), (5.4614214653072715, 3.0569207846485122), (5.656472231925388, 3.1625369112856596), (5.851522998543505, 3.267907547186826), (6.046573765161622, 3.3730326923520115), (6.241624531779738, 3.477912346781215), (6.436675298397855, 3.5825465104744376), (6.631726065015972, 3.686935183431679), (6.826776831634088, 3.791078365652939), (7.021827598252205, 3.894976057138219), (7.216878364870322, 3.9986282578875167), (7.411929131488439, 4.102034967900833), (7.606979898106555, 4.205196187178169), (7.802030664724672, 4.308111915719523), (7.99708143134279, 4.410782153524895), (8.192132197960907, 4.513206900594287), (8.387182964579024, 4.6153861569276975), (8.58223373119714, 4.717319922525127), (8.777284497815257, 4.819008197386575), (8.972335264433374, 4.920450981512041), (9.16738603105149, 5.021648274901527), (9.362436797669607, 5.122600077555031), (9.557487564287724, 5.223306389472555), (9.75253833090584, 5.323767210654097), (9.94758909752396, 5.423982541099658), (10.142639864142076, 5.523952380809237), (10.337690630760193, 5.623676729782836), (10.53274139737831, 5.723155588020452), (10.727792163996426, 5.822388955522088), (10.922842930614543, 5.921376832287743), (11.11789369723266, 6.020119218317416), (11.312944463850776, 6.118616113611108), (11.507995230468893, 6.216867518168819), (11.70304599708701, 6.314873431990549), (11.898096763705126, 6.4126338550762965), (12.093147530323243, 6.510148787426064), (12.28819829694136, 6.60741822903985), (12.483249063559477, 6.704442179917654), (12.678299830177593, 6.801220640059478), (12.87335059679571, 6.89775360946532), (13.068401363413827, 6.99404108813518), (13.263452130031943, 7.09008307606906), (13.45850289665006, 7.185879573266959), (13.653553663268177, 7.281430579728876), (13.848604429886294, 7.376736095454812), (14.04365519650441, 7.471796120444768), (14.238705963122527, 7.56661065469874), (14.433756729740644, 7.661179698216734), (14.62880749635876, 7.7555032509987445), (14.823858262976877, 7.849581313044776), (15.018909029594994, 7.943413884354824), (15.21395979621311, 8.037000964928891), (15.409010562831227, 8.130342554766976), (15.604061329449344, 8.223438653869083), (15.799112096067462, 8.316289262235207), (15.99416286268558, 8.40889437986535), (16.189213629303698, 8.501254006759511), (16.384264395921814, 8.59336814291769), (16.57931516253993, 8.68523678833989), (16.774365929158048, 8.776859943026107), (16.969416695776165, 8.868237606976345), (17.16446746239428, 8.959369780190599), (17.359518229012398, 9.050256462668875), (17.554568995630515, 9.140897654411166), (17.74961976224863, 9.231293355417478), (17.944670528866748, 9.321443565687808), (18.139721295484865, 9.411348285222157), (18.33477206210298, 9.501007514020525), (18.529822828721098, 9.590421252082912), (18.724873595339215, 9.679589499409317), (18.91992436195733, 9.768512255999742), (19.11497512857545, 9.857189521854185), (19.310025895193565, 9.945621296972647), (19.50507666181168, 10.033807581355129), (19.7001274284298, 10.121748375001626), (19.89517819504792, 10.209443677912146), (20.090228961666035, 10.296893490086681), (20.285279728284152, 10.384097811525239), (20.48033049490227, 10.471056642227811), (20.675381261520386, 10.557769982194406), (20.870432028138502, 10.644237831425016), (21.06548279475662, 10.730460189919649), (21.260533561374736, 10.816437057678296), (21.455584327992852, 10.902168434700966), (21.65063509461097, 10.987654320987652), (21.845685861229086, 11.072894716538359), (22.040736627847203, 11.157889621353084), (22.23578739446532, 11.242639035431827), (22.430838161083436, 11.327142958774589), (22.625888927701553, 11.41140139138137), (22.82093969431967, 11.49541433325217), (23.015990460937786, 11.579181784386988), (23.211041227555903, 11.662703744785825), (23.40609199417402, 11.745980214448682), (23.601142760792136, 11.829011193375555), (23.796193527410253, 11.91179668156645), (23.99124429402837, 11.99433667902136), (24.186295060646486, 12.076631185740293), (24.381345827264603, 12.158680201723243), (24.57639659388272, 12.240483726970211), (24.771447360500837, 12.322041761481199), (24.966498127118953, 12.403354305256205), (25.16154889373707, 12.48442135829523), (25.356599660355187, 12.565242920598275), (25.551650426973303, 12.645818992165335), (25.74670119359142, 12.726149572996416), (25.941751960209537, 12.806234663091518), (26.136802726827653, 12.886074262450634), (26.33185349344577, 12.965668371073773), (26.526904260063887, 13.04501698896093), (26.721955026682004, 13.124120116112106), (26.91700579330012, 13.202977752527298), (27.112056559918237, 13.281589898206512), (27.307107326536354, 13.359956553149743), (27.50215809315447, 13.438077717356993), (27.697208859772587, 13.515953390828262), (27.892259626390704, 13.59358357356355), (28.08731039300882, 13.670968265562859), (28.282361159626937, 13.748107466826182), (28.477411926245054, 13.825001177353526), (28.67246269286317, 13.901649397144887), (28.867513459481287, 13.978052126200271), (29.062564226099404, 14.054209364519672), (29.25761499271752, 14.13012111210309), (29.452665759335638, 14.205787368950528), (29.647716525953754, 14.281208135061986), (29.84276729257187, 14.356383410437461), (30.037818059189988, 14.431313195076955), (30.232868825808104, 14.505997488980466), (30.42791959242622, 14.580436292148), (30.622970359044338, 14.65462960457955), (30.818021125662455, 14.72857742627512), (31.01307189228057, 14.802279757234707), (31.208122658898688, 14.875736597458317), (31.40317342551681, 14.948947946945944), (31.598224192134925, 15.021913805697588), (31.79327495875304, 15.09463417371325), (31.98832572537116, 15.16710905099293), (32.18337649198928, 15.239338437536635), (32.378427258607395, 15.311322333344354), (32.57347802522551, 15.383060738416091), (32.76852879184363, 15.454553652751848), (32.963579558461745, 15.525801076351627), (33.15863032507986, 15.596803009215419), (33.35368109169798, 15.667559451343232), (33.548731858316096, 15.738070402735064), (33.74378262493421, 15.808335863390914), (33.93883339155233, 15.878355833310787), (34.133884158170446, 15.948130312494673), (34.32893492478856, 16.01765930094258), (34.52398569140668, 16.086942798654505), (34.719036458024796, 16.155980805630453), (34.91408722464291, 16.224773321870416), (35.10913799126103, 16.293320347374397), (35.304188757879146, 16.361621882142398), (35.49923952449726, 16.42967792617442), (35.69429029111538, 16.49748847947046), (35.889341057733496, 16.565053542030515), (36.08439182435161, 16.63237311385459), (36.27944259096973, 16.69944719494269), (36.474493357587846, 16.766275785294802), (36.66954412420596, 16.832858884910934), (36.86459489082408, 16.899196493791084), (37.059645657442196, 16.965288611935257), (37.25469642406031, 17.031135239343445), (37.44974719067843, 17.09673637601565), (37.64479795729655, 17.162092021951878), (37.83984872391466, 17.227202177152122), (38.03489949053278, 17.29206684161639), (38.2299502571509, 17.35668601534467), (38.42500102376901, 17.42105969833697), (38.62005179038713, 17.485187890593295), (38.81510255700525, 17.54907059211363), (39.01015332362336, 17.61270780289799), (39.20520409024148, 17.676099522946366), (39.4002548568596, 17.73924575225876), (39.59530562347772, 17.802146490835177), (39.79035639009584, 17.86480173867561), (39.985407156713954, 17.92721149578006), (40.18045792333207, 17.98937576214853), (40.37550868995019, 18.051294537781022), (40.570559456568304, 18.11296782267753), (40.76561022318642, 18.174395616838055), (40.96066098980454, 18.2355779202626), (41.155711756422654, 18.296514732951167), (41.35076252304077, 18.35720605490375), (41.54581328965889, 18.417651886120353), (41.740864056277005, 18.477852226600973), (41.93591482289512, 18.537807076345608), (42.13096558951324, 18.597516435354272), (42.326016356131355, 18.656980303626945), (42.52106712274947, 18.71619868116364), (42.71611788936759, 18.775171567964357), (42.911168655985705, 18.833898964029093), (43.10621942260382, 18.892380869357844), (43.30127018922194, 18.950617283950614), (43.496320955840055, 19.008608207807402), (43.69137172245817, 19.066353640928213), (43.88642248907629, 19.12385358331304), (44.081473255694405, 19.181108034961884), (44.27652402231252, 19.238116995874748), (44.47157478893064, 19.294880466051634), (44.666625555548755, 19.351398445492535), (44.86167632216687, 19.407670934197455), (45.05672708878499, 19.463697932166397), (45.251777855403105, 19.519479439399355), (45.44682862202122, 19.575015455896335), (45.64187938863934, 19.63030598165733), (45.836930155257456, 19.685351016682343), (46.03198092187557, 19.74015056097138), (46.22703168849369, 19.79470461452443), (46.422082455111806, 19.8490131773415), (46.61713322172992, 19.90307624942259), (46.81218398834804, 19.9568938307677), (47.007234754966156, 20.010465921376827), (47.20228552158427, 20.063792521249972), (47.39733628820239, 20.11687363038714), (47.592387054820506, 20.169709248788322), (47.78743782143862, 20.222299376453527), (47.98248858805674, 20.274644013382748), (48.177539354674856, 20.326743159575987), (48.37259012129297, 20.378596815033248), (48.56764088791109, 20.430204979754524), (48.762691654529206, 20.481567653739823), (48.95774242114732, 20.532684836989134), (49.15279318776544, 20.583556529502474), (49.347843954383556, 20.634182731279825), (49.54289472100167, 20.684563442321195), (49.73794548761979, 20.734698662626585), (49.932996254237906, 20.784588392195996), (50.12804702085602, 20.834232631029423), (50.32309778747414, 20.883631379126868), (50.51814855409226, 20.932784636488336), (50.71319932071037, 20.98169240311382), (50.90825008732849, 21.030354679003324), (51.10330085394661, 21.078771464156844), (51.29835162056472, 21.126942758574383), (51.49340238718284, 21.174868562255945), (51.68845315380096, 21.222548875201525), (51.88350392041907, 21.26998369741112), (52.07855468703719, 21.317173028884735), (52.27360545365531, 21.364116869622368), (52.468656220273424, 21.410815219624023), (52.66370698689154, 21.457268078889697), (52.85875775350966, 21.503475447419383), (53.053808520127774, 21.54943732521309), (53.24885928674589, 21.595153712270825), (53.44391005336401, 21.64062460859257), (53.638960819982124, 21.685850014178335), (53.83401158660024, 21.73082992902812), (54.02906235321836, 21.775564353141924), (54.224113119836474, 21.820053286519745), (54.41916388645459, 21.864296729161588), (54.61421465307271, 21.908294681067446), (54.809265419690824, 21.952047142237326), (55.00431618630894, 21.995554112671222), (55.19936695292706, 22.03881559236914), (55.394417719545174, 22.081831581331073), (55.58946848616329, 22.12460207955703), (55.78451925278141, 22.167127087047), (55.979570019399524, 22.209406603800993), (56.17462078601764, 22.251440629819005), (56.36967155263576, 22.293229165101028), (56.564722319253875, 22.334772209647078), (56.75977308587199, 22.376069763457146), (56.95482385249011, 22.41712182653123), (57.149874619108225, 22.457928398869335), (57.34492538572634, 22.498489480471452), (57.53997615234446, 22.538805071337595), (57.735026918962575, 22.57887517146776), (57.93007768558069, 22.618699780861935), (58.12512845219881, 22.658278899520134), (58.320179218816925, 22.697612527442352), (58.51522998543504, 22.736700664628586), (58.71028075205316, 22.77554331107884), (58.905331518671275, 22.81414046679311), (59.10038228528939, 22.852492131771406), (59.29543305190751, 22.890598306013715), (59.490483818525625, 22.928458989520042), (59.68553458514374, 22.96607418229039), (59.88058535176186, 23.003443884324764), (60.075636118379975, 23.040568095623144), (60.27068688499809, 23.07744681618555), (60.46573765161621, 23.114080046011967), (60.660788418234326, 23.150467785102414), (60.85583918485244, 23.186610033456876), (61.05088995147056, 23.22250679107535), (61.245940718088676, 23.25815805795785), (61.44099148470679, 23.293563834104365), (61.63604225132491, 23.328724119514902), (61.831093017943026, 23.36363891418946), (62.02614378456114, 23.39830821812803), (62.22119455117926, 23.432732031330623), (62.416245317797376, 23.46691035379724), (62.6112960844155, 23.500843185527863), (62.80634685103362, 23.534530526522516), (63.00139761765173, 23.567972376781178), (63.19644838426985, 23.60116873630387), (63.39149915088797, 23.634119605090568), (63.58654991750608, 23.666824983141293), (63.7816006841242, 23.69928487045604), (63.97665145074232, 23.731499267034792), (64.17170221736043, 23.763468172877577), (64.36675298397856, 23.795191587984377), (64.56180375059667, 23.82666951235519), (64.75685451721479, 23.85790194599003), (64.9519052838329, 23.88888888888888), (65.14695605045102, 23.919630341051757), (65.34200681706913, 23.95012630247865), (65.53705758368726, 23.98037677316956), (65.73210835030537, 24.01038175312449), (65.92715911692349, 24.04014124234344), (66.1222098835416, 24.069655240826407), (66.31726065015972, 24.09892374857339), (66.51231141677783, 24.127946765584394), (66.70736218339596, 24.15672429185942), (66.90241295001407, 24.185256327398466), (67.09746371663219, 24.213542872201522), (67.2925144832503, 24.241583926268603), (67.48756524986842, 24.2693794895997), (67.68261601648653, 24.29692956219482), (67.87766678310466, 24.32423414405396), (68.07271754972277, 24.35129323517711), (68.26776831634089, 24.378106835564285), (68.462819082959, 24.404674945215483), (68.65786984957712, 24.43099756413069), (68.85292061619523, 24.457074692309924), (69.04797138281336, 24.482906329753163), (69.24302214943147, 24.508492476460436), (69.43807291604959, 24.533833132431724), (69.6331236826677, 24.558928297667027), (69.82817444928583, 24.583777972166352), (70.02322521590393, 24.6083821559297), (70.21827598252206, 24.632740848957056), (70.41332674914017, 24.656854051248438), (70.60837751575829, 24.680721762803834), (70.8034282823764, 24.704343983623254), (70.99847904899453, 24.727720713706695), (71.19352981561264, 24.750851953054145), (71.38858058223076, 24.77373770166562), (71.58363134884887, 24.79637795954112), (71.77868211546699, 24.818772726680624), (71.9737328820851, 24.84092200308416), (72.16878364870323, 24.862825788751703), (72.36383441532134, 24.884484083683272), (72.55888518193946, 24.905896887878864), (72.75393594855757, 24.927064201338467), (72.94898671517569, 24.947986024062093), (73.1440374817938, 24.96866235604974), (73.33908824841193, 24.989093197301397), (73.53413901503004, 25.00927854781708), (73.72918978164816, 25.029218407596776), (73.92424054826627, 25.048912776640496), (74.11929131488439, 25.068361654948237), (74.3143420815025, 25.087565042519987), (74.50939284812063, 25.106522939355767), (74.70444361473874, 25.12523534545556), (74.89949438135686, 25.143702260819367), (75.09454514797497, 25.161923685447203), (75.2895959145931, 25.179899619339047), (75.4846466812112, 25.19763006249492), (75.67969744782933, 25.215115014914808), (75.87474821444744, 25.23235447659871), (76.06979898106556, 25.249348447546637), (76.26484974768367, 25.266096927758586), (76.4599005143018, 25.282599917234542), (76.6549512809199, 25.298857415974524), (76.85000204753803, 25.31486942397852), (77.04505281415614, 25.330635941246545), (77.24010358077426, 25.346156967778583), (77.43515434739237, 25.361432503574637), (77.6302051140105, 25.376462548634713), (77.8252558806286, 25.3912471029588), (78.02030664724673, 25.40578616654692), (78.21535741386485, 25.42007973939905), (78.41040818048296, 25.434127821515197), (78.60545894710108, 25.44793041289537), (78.8005097137192, 25.461487513539556), (78.99556048033732, 25.474799123447763), (79.19061124695544, 25.487865242619993), (79.38566201357355, 25.50068587105623), (79.58071278019167, 25.513261008756498), (79.77576354680978, 25.525590655720777), (79.97081431342791, 25.537674811949078), (80.16586508004602, 25.5495134774414), (80.36091584666414, 25.561106652197733), (80.55596661328225, 25.572454336218094), (80.75101737990038, 25.58355652950247), (80.94606814651848, 25.59441323205086), (81.14111891313661, 25.605024443863275), (81.33616967975472, 25.615390164939704), (81.53122044637284, 25.625510395280156), (81.72627121299095, 25.63538513488463), (81.92132197960908, 25.645014383753114), (82.11637274622719, 25.654398141885622), (82.31142351284531, 25.66353640928215), (82.50647427946342, 25.67242918594269), (82.70152504608154, 25.681076471867254), (82.89657581269965, 25.689478267055833), (83.09162657931778, 25.697634571508438), (83.28667734593589, 25.705545385225058), (83.48172811255401, 25.713210708205693), (83.67677887917212, 25.72063054045035), (83.87182964579024, 25.727804881959024), (84.06688041240835, 25.73473373273172), (84.26193117902648, 25.741417092768437), (84.45698194564459, 25.747854962069166), (84.65203271226271, 25.754047340633917), (84.84708347888082, 25.75999422846269), (85.04213424549894, 25.765695625555473), (85.23718501211705, 25.77115153191228), (85.43223577873518, 25.776361947533108), (85.62728654535329, 25.781326872417953), (85.82233731197141, 25.78604630656682), (86.01738807858952, 25.790520249979696), (86.21243884520764, 25.794748702656598), (86.40748961182575, 25.798731664597522), (86.60254037844388, 25.802469135802458), (86.79759114506199, 25.80596111627142), (86.99264191168011, 25.809207606004392), (87.18769267829822, 25.812208605001388), (87.38274344491634, 25.814964113262405), (87.57779421153445, 25.81747413078743), (87.77284497815258, 25.819738657576487), (87.96789574477069, 25.821757693629557), (88.16294651138881, 25.823531238946646), (88.35799727800692, 25.825059293527755), (88.55304804462504, 25.826341857372874), (88.74809881124315, 25.827378930482023), (88.94314957786128, 25.82817051285519), (89.13820034447939, 25.828716604492367), (89.33325111109751, 25.829017205393573), (89.52830187771562, 25.829072315558797), (89.72335264433374, 25.82888193498803), (89.91840341095185, 25.82844606368129), (90.11345417756998, 25.827764701638564), (90.30850494418809, 25.82683784885986), (90.50355571080621, 25.825665505345178), (90.69860647742432, 25.824247671094508), (90.89365724404244, 25.82258434610786), (91.08870801066055, 25.820675530385234), (91.28375877727868, 25.818521223926616), (91.47880954389679, 25.81612142673203), (91.67386031051491, 25.81347613880145), (91.86891107713302, 25.8105853601349), (92.06396184375114, 25.807449090732366), (92.25901261036925, 25.804067330593845), (92.45406337698738, 25.800440079719348), (92.64911414360549, 25.79656733810887), (92.84416491022361, 25.792449105762408), (93.03921567684172, 25.78808538267997), (93.23426644345984, 25.783476168861544), (93.42931721007795, 25.77862146430714), (93.62436797669608, 25.773521269016758), (93.81941874331419, 25.768175582990388), (94.01446950993231, 25.76258440622804), (94.20952027655042, 25.756747738729707), (94.40457104316854, 25.750665580495397), (94.59962180978665, 25.74433793152511), (94.79467257640478, 25.737764791818833), (94.98972334302289, 25.730946161376583), (95.18477410964101, 25.723882040198347), (95.37982487625912, 25.716572428284127), (95.57487564287725, 25.709017325633933), (95.76992640949535, 25.701216732247747), (95.96497717611348, 25.69317064812559), (96.16002794273159, 25.684879073267453), (96.35507870934971, 25.676342007673327), (96.55012947596782, 25.667559451343223), (96.74518024258595, 25.65853140427714), (96.94023100920406, 25.64925786647507), (97.13528177582218, 25.639738837937024), (97.33033254244029, 25.629974318662995), (97.52538330905841, 25.61996430865299), (97.72043407567652, 25.609708807906994), (97.91548484229465, 25.59920781642502), (98.11053560891276, 25.588461334207068), (98.30558637553088, 25.577469361253137), (98.50063714214899, 25.566231897563217), (98.69568790876711, 25.554748943137323), (98.89073867538522, 25.543020497975437), (99.08578944200335, 25.53104656207758), (99.28084020862146, 25.518827135443743), (99.47589097523958, 25.506362218073917), (99.67094174185769, 25.493651809968114), (99.86599250847581, 25.480695911126332), (100.06104327509392, 25.467494521548566), (100.25609404171205, 25.454047641234816), (100.45114480833016, 25.440355270185087), (100.64619557494828, 25.42641740839938), (100.84124634156639, 25.41223405587769), (101.03629710818451, 25.397805212620014), (101.23134787480262, 25.383130878626368), (101.42639864142075, 25.36821105389673), (101.62144940803886, 25.353045738431113), (101.81650017465698, 25.33763493222952), (102.01155094127509, 25.321978635291934), (102.20660170789321, 25.306076847618378), (102.40165247451132, 25.289929569208837), (102.59670324112945, 25.27353680006331), (102.79175400774756, 25.256898540181815), (102.98680477436568, 25.240014789564327), (103.18185554098379, 25.22288554821086), (103.37690630760191, 25.205510816121418), (103.57195707422002, 25.187890593295982), (103.76700784083815, 25.170024879734576), (103.96205860745626, 25.151913675437193), (104.15710937407438, 25.133556980403817), (104.35216014069249, 25.114954794634464), (104.54721090731061, 25.096107118129126), (104.74226167392872, 25.077013950887817), (104.93731244054685, 25.057675292910517), (105.13236320716496, 25.03809114419723), (105.32741397378308, 25.018261504747983), (105.52246474040119, 24.998186374562742), (105.71751550701931, 24.977865753641517), (105.91256627363742, 24.95729964198432), (106.10761704025555, 24.936488039591126), (106.30266780687366, 24.915430946461967), (106.49771857349178, 24.894128362596824), (106.69276934010989, 24.87258028799569), (106.88782010672801, 24.850786722658583), (107.08287087334612, 24.828747666585492), (107.27792163996425, 24.806463119776417), (107.47297240658236, 24.78393308223137), (107.66802317320048, 24.761157553950333), (107.86307393981859, 24.738136534933318), (108.05812470643671, 24.714870025180325), (108.25317547305482, 24.69135802469134), (108.44822623967295, 24.667600533466384), (108.64327700629106, 24.64359755150545), (108.83832777290918, 24.619349078808526), (109.03337853952729, 24.59485511537563), (109.22842930614542, 24.570115661206735), (109.42348007276352, 24.545130716301877), (109.61853083938165, 24.519900280661027), (109.81358160599976, 24.4944243542842), (110.00863237261788, 24.468702937171393), (110.20368313923599, 24.44273602932261), (110.39873390585412, 24.416523630737828), (110.59378467247222, 24.390065741417082), (110.78883543909035, 24.363362361360345), (110.98388620570846, 24.336413490567637), (111.17893697232658, 24.309219129038937), (111.37398773894469, 24.28177927677425), (111.56903850556282, 24.254093933773596), (111.76408927218093, 24.22616310003697), (111.95914003879905, 24.19798677556434), (112.15419080541716, 24.169564960355736), (112.34924157203528, 24.140897654411162), (112.54429233865339, 24.11198485773059), (112.73934310527152, 24.08282657031404), (112.93439387188963, 24.053422792161527), (113.12944463850775, 24.023773523273007), (113.32449540512586, 23.993878763648517), (113.51954617174398, 23.963738513288057), (113.71459693836209, 23.933352772191604), (113.90964770498022, 23.902721540359167), (114.10469847159833, 23.871844817790745), (114.29974923821645, 23.84072260448636), (114.49480000483456, 23.809354900445975), (114.68985077145268, 23.777741705669612), (114.88490153807079, 23.745883020157287), (115.07995230468892, 23.713778843908955), (115.27500307130703, 23.68142917692466), (115.47005383792515, 23.648834019204386), (115.66510460454326, 23.615993370748114), (115.86015537116138, 23.582907231555865), (116.0552061377795, 23.54957560162765), (116.25025690439762, 23.515998480963432), (116.44530767101574, 23.482175869563243), (116.64035843763385, 23.448107767427082), (116.83540920425197, 23.413794174554923), (117.03045997087008, 23.379235090946786), (117.22551073748821, 23.344430516602664), (117.42056150410632, 23.309380451522586), (117.61561227072444, 23.27408489570651), (117.81066303734255, 23.23854384915444), (118.00571380396067, 23.202757311866414), (118.20076457057878, 23.16672528384239), (118.39581533719691, 23.13044776508238), (118.59086610381502, 23.093924755586407), (118.78591687043314, 23.057156255354442), (118.98096763705125, 23.020142264386493), (119.17601840366937, 22.98288278268258), (119.37106917028748, 22.945377810242668), (119.56611993690561, 22.90762734706678), (119.76117070352372, 22.86963139315492), (119.95622147014184, 22.83138994850706), (120.15127223675995, 22.792903013123222), (120.34632300337807, 22.7541705870034), (120.54137376999618, 22.715192670147616), (120.73642453661431, 22.67596926255584), (120.93147530323242, 22.63650036422807), (121.12652606985054, 22.596785975164345), (121.32157683646865, 22.55682609536462), (121.51662760308677, 22.51662072482892), (121.71167836970488, 22.476169863557246), (121.90672913632301, 22.435473511549574), (122.10177990294112, 22.394531668805925), (122.29683066955924, 22.353344335326312), (122.49188143617735, 22.3119115111107), (122.68693220279548, 22.27023319615911), (122.88198296941358, 22.228309390471537), (123.07703373603171, 22.186140094047992), (123.27208450264982, 22.14372530688845), (123.46713526926794, 22.101065028992934), (123.66218603588605, 22.058159260361457), (123.85723680250418, 22.01500800099398), (124.05228756912229, 21.97161125089052), (124.24733833574041, 21.927969010051086), (124.44238910235852, 21.884081278475662), (124.63743986897664, 21.839948056164253), (124.83249063559475, 21.795569343116888), (125.02754140221289, 21.750945139333517), (125.222592168831, 21.706075444814168), (125.41764293544912, 21.66096025955884), (125.61269370206723, 21.615599583567544), (125.80774446868536, 21.569993416840248), (126.00279523530347, 21.524141759376974), (126.19784600192159, 21.478044611177715), (126.3928967685397, 21.4317019722425), (126.58794753515782, 21.385113842571286), (126.78299830177593, 21.33828022216408), (126.97804906839406, 21.291201111020918), (127.17309983501217, 21.243876509141757), (127.36815060163029, 21.196306416526618), (127.5632013682484, 21.148490833175508), (127.75825213486652, 21.1004297590884), (127.95330290148463, 21.052123194265313), (128.14835366810274, 21.003571138706263), (128.34340443472087, 20.954773592411215), (128.538455201339, 20.905730555380188), (128.73350596795711, 20.85644202761319), (128.9285567345752, 20.806908009110195), (129.12360750119333, 20.75712849987122), (129.31865826781146, 20.70710349989627), (129.51370903442958, 20.65683300918535), (129.70875980104768, 20.606317027738427), (129.9038105676658, 20.55555555555553), (130.09886133428392, 20.504548592636667), (130.29391210090205, 20.453296138981813), (130.48896286752014, 20.401798194590967), (130.68401363413827, 20.35005475946415), (130.8790644007564, 20.29806583360135), (131.07411516737452, 20.24583141700257), (131.2691659339926, 20.19335150966782), (131.46421670061073, 20.140626111597072), (131.65926746722886, 20.08765522279034), (131.85431823384698, 20.034438843247642), (132.04936900046508, 19.980976972968946), (132.2444197670832, 19.92726961195428), (132.43947053370132, 19.87331676020363), (132.63452130031945, 19.819118417717), (132.82957206693754, 19.764674584494387), (133.02462283355567, 19.709985260535788), (133.2196736001738, 19.65505044584122), (133.41472436679192, 19.599870140410665), (133.60977513341, 19.54444434424412), (133.80482590002813, 19.488773057341618), (133.99987666664626, 19.432856279703103), (134.19492743326438, 19.37669401132863), (134.38997819988248, 19.320286252218168), (134.5850289665006, 19.26363300237172), (134.78007973311873, 19.2067342617893), (134.97513049973685, 19.149590030470883), (135.17018126635494, 19.09220030841651), (135.36523203297307, 19.034565095626135), (135.5602827995912, 18.976684392099784), (135.75533356620932, 18.918558197837463), (135.9503843328274, 18.86018651283915), (136.14543509944554, 18.801569337104844), (136.34048586606366, 18.74270667063459), (136.53553663268178, 18.683598513428322), (136.73058739929988, 18.624244865486084), (136.925638165918, 18.564645726807875), (137.12068893253613, 18.504801097393674), (137.31573969915425, 18.44471097724349), (137.51079046577237, 18.384375366357332), (137.70584123239047, 18.32379426473519), (137.9008919990086, 18.26296767237706), (138.09594276562672, 18.201895589282948), (138.29099353224484, 18.140578015452874), (138.48604429886294, 18.0790149508868), (138.68109506548106, 18.01720639558475), (138.87614583209918, 17.95515234954673), (139.0711965987173, 17.892852812772716), (139.2662473653354, 17.83030778526272), (139.46129813195353, 17.767517267016757), (139.65634889857165, 17.70448125803479), (139.85139966518977, 17.64119975831685), (140.04645043180787, 17.57767276786295), (140.241501198426, 17.513900286673042), (140.43655196504412, 17.449882314747157), (140.63160273166224, 17.385618852085308), (140.82665349828034, 17.321109898687453), (141.02170426489846, 17.256355454553642), (141.21675503151658, 17.191355519683825), (141.4118057981347, 17.126110094078044), (141.6068565647528, 17.06061917773627), (141.80190733137093, 16.99488277065852), (141.99695809798905, 16.928900872844807), (142.19200886460717, 16.862673484295087), (142.38705963122527, 16.79620060500939), (142.5821103978434, 16.729482234987728), (142.77716116446152, 16.66251837423006), (142.97221193107964, 16.59530902273643), (143.16726269769774, 16.52785418050682), (143.36231346431586, 16.46015384754122), (143.55736423093398, 16.39220802383963), (143.7524149975521, 16.324016709402073), (143.9474657641702, 16.25557990422854), (144.14251653078833, 16.186897608319015), (144.33756729740645, 16.117969821673498), (144.53261806402458, 16.048796544292017), (144.72766883064267, 15.979377776174545), (144.9227195972608, 15.909713517321109), (145.11777036387892, 15.83980376773168), (145.31282113049704, 15.769648527406261), (145.50787189711514, 15.699247796344878), (145.70292266373326, 15.628601574547517), (145.89797343035139, 15.55770986201415), (146.0930241969695, 15.486572658744805), (146.2880749635876, 15.415189964739511), (146.48312573020573, 15.343561779998197), (146.67817649682385, 15.27168810452092), (146.87322726344198, 15.19956893830765), (147.06827803006007, 15.127204281358416), (147.2633287966782, 15.054594133673191), (147.45837956329632, 14.981738495251989), (147.65343032991444, 14.908637366094808), (147.84848109653254, 14.835290746201636), (148.04353186315066, 14.761698635572486), (148.23858262976879, 14.687861034207373), (148.4336333963869, 14.613777942106253), (148.628684163005, 14.539449359269156), (148.82373492962313, 14.464875285696095), (149.01878569624125, 14.390055721387043), (149.21383646285938, 14.314990666341998), (149.40888722947747, 14.23968012056099), (149.6039379960956, 14.16412408404399), (149.79898876271372, 14.088322556790999), (149.99403952933184, 14.012275538802044), (150.18909029594994, 13.93598303007711), (150.38414106256806, 13.859445030616186), (150.5791918291862, 13.78266154041927), (150.7742425958043, 13.705632559486403), (150.9692933624224, 13.628358087817531), (151.16434412904053, 13.550838125412682), (151.35939489565865, 13.473072672271854), (151.55444566227678, 13.39506172839505), (151.74949642889487, 13.316805293782252), (151.944547195513, 13.238303368433492), (152.13959796213112, 13.159555952348725), (152.33464872874924, 13.080563045527981), (152.52969949536734, 13.001324647971288), (152.72475026198546, 12.921840759678574), (152.9198010286036, 12.842111380649897), (153.1148517952217, 12.762136510885227), (153.3099025618398, 12.681916150384595), (153.50495332845793, 12.60145029914797), (153.70000409507605, 12.520738957175368), (153.89505486169418, 12.439782124466802), (154.09010562831227, 12.35857980102223), (154.2851563949304, 12.277131986841681), (154.48020716154852, 12.195438681925154), (154.67525792816664, 12.113499886272635), (154.87030869478474, 12.031315599884152), (155.06535946140286, 11.948885822759678), (155.260410228021, 11.866210554899226), (155.4554609946391, 11.783289796302796), (155.6505117612572, 11.70012354697036), (155.84556252787533, 11.61671180690199), (156.04061329449345, 11.533054576097598), (156.23566406111158, 11.449151854557229), (156.4307148277297, 11.365003642280897), (156.62576559434783, 11.280609939268572), (156.82081636096592, 11.195970745520256), (157.01586712758404, 11.111086061035977), (157.21091789420217, 11.02595588581572), (157.4059686608203, 10.94058021985947), (157.6010194274384, 10.854959063167243), (157.7960701940565, 10.769092415739053), (157.99112096067464, 10.682980277574842), (158.18617172729276, 10.596622648674668), (158.38122249391088, 10.51001952903853), (158.57627326052898, 10.423170918666386), (158.7713240271471, 10.336076817558265), (158.96637479376523, 10.248737225714166), (159.16142556038335, 10.161152143134103), (159.35647632700145, 10.073321569818049), (159.55152709361957, 9.985245505766002), (159.7465778602377, 9.896923950977978), (159.94162862685582, 9.808356905453977), (160.1366793934739, 9.719544369193983), (160.33173016009204, 9.63048634219804), (160.52678092671016, 9.541182824466091), (160.72183169332828, 9.45163381599815), (160.91688245994638, 9.361839316794246), (161.1119332265645, 9.271799326854364), (161.30698399318263, 9.18151384617849), (161.50203475980075, 9.090982874766638), (161.69708552641885, 9.000206412618809), (161.89213629303697, 8.909184459734988), (162.0871870596551, 8.817917016115175), (162.28223782627322, 8.726404081759412), (162.4772885928913, 8.634645656667658), (162.67233935950944, 8.542641740839912), (162.86739012612756, 8.450392334276202), (163.06244089274568, 8.357897436976486), (163.25749165936378, 8.265157048940807), (163.4525424259819, 8.17217117016915), (163.64759319260003, 8.078939800661502), (163.84264395921815, 7.985462940417875), (164.03769472583625, 7.891740589438271), (164.23274549245437, 7.797772747722675), (164.4277962590725, 7.703559415271087), (164.62284702569062, 7.60910059208355), (164.8178977923087, 7.514396278160021), (165.01294855892684, 7.4194464735005), (165.20799932554496, 7.324251178105001), (165.40305009216308, 7.228810391973525), (165.59810085878118, 7.133124115106071), (165.7931516253993, 7.037192347502625), (165.98820239201743, 6.941015089163216), (166.18325315863555, 6.844592340087814), (166.37830392525365, 6.747924100276421), (166.57335469187177, 6.651010369729065), (166.7684054584899, 6.553851148445716), (166.96345622510802, 6.45644643642639), (167.1585069917261, 6.358796233671086), (167.35355775834424, 6.26090054017979), (167.54860852496236, 6.162759355952517), (167.74365929158049, 6.0643726809892655), (167.93871005819858, 5.965740515290037), (168.1337608248167, 5.866862858854816), (168.32881159143483, 5.7677397116836175), (168.52386235805295, 5.668371073776456), (168.71891312467105, 5.568756945133302), (168.91396389128917, 5.468897325754156), (169.1090146579073, 5.368792215639047), (169.30406542452542, 5.268441614787932), (169.49911619114351, 5.167845523200839), (169.69416695776164, 5.067003940877797), (169.88921772437976, 4.965916867818748), (170.08426849099789, 4.864584304023708), (170.27931925761598, 4.763006249492719), (170.4743700242341, 4.661182704225709), (170.66942079085223, 4.55911366822275), (170.86447155747035, 4.456799141483799), (171.05952232408845, 4.3542391240088705), (171.25457309070657, 4.25143361579795), (171.4496238573247, 4.148382616851052), (171.64467462394282, 4.04508612716819), (171.83972539056091, 3.9415441467493224), (172.03477615717904, 3.837756675594477), (172.22982692379716, 3.733723713703668), (172.4248776904153, 3.629445261076853), (172.61992845703338, 3.524921317714089), (172.8149792236515, 3.4201518836153184), (173.01002999026963, 3.3151369587805704), (173.20508075688775, 3.2098765432098446), (173.40013152350585, 3.104370636903141), (173.59518229012397, 2.99861923986046), (173.7902330567421, 2.892622352081773), (173.98528382336022, 2.7863799735671364), (174.18033458997832, 2.679892104316508), (174.37538535659644, 2.573158744329888), (174.57043612321456, 2.46617989360729), (174.7654868898327, 2.3589555521487284), (174.96053765645078, 2.251485719954161), (175.1555884230689, 2.1437703970236157), (175.35063918968703, 2.035809583357107), (175.54568995630515, 1.9276032789546065), (175.74074072292325, 1.819151483816114), (175.93579148954137, 1.710454197941658), (176.1308422561595, 1.6015114213312245), (176.32589302277762, 1.492323153984799), (176.52094378939572, 1.3828893959023816), (176.71599455601384, 1.2732101470840007), (176.91104532263196, 1.1632854075296137), (177.1060960892501, 1.0531151772392633), (177.30114685586818, 0.9426994562129494), (177.4961976224863, 0.8320382444506293), (177.69124838910443, 0.7211315419523316), (177.88629915572255, 0.6099793487180705), (178.08134992234065, 0.4985816647478032), (178.27640068895877, 0.3869384900415582), (178.4714514555769, 0.2750498245993498), (178.66650222219502, 0.16291566842114946), (178.86155298881312, 0.05053602150695724)]\n"
      ],
      "execution_count": null,
      "outputs": []
    },
    {
      "cell_type": "markdown",
      "metadata": {},
      "source": [
        "6. (Lucas Numbers) The Lucas numbers are another sequence of numbers closely related to the Fibonacci numbers.  The first two numbers of the sequence are $2$,$1$.  The rest of the numbers in the sequence can be generated in several ways.  Construct this sequence of numbers using the following methods:\n",
        "\n",
        "    1. Add the previous two numbers in the sequence to get the next number.  Use the `append` method and this formula to build a list containing the first 15 Lucas numbers.\n",
        "    2. The Lucas numbers can be generated by adding up alternating Fibonacci numbers: $L_n = F_{n-1} + F_{n + 1}$. Use the `append` method and this formula to build a list containing the first 15 Lucas numbers.\n",
        "    3. The following formula can be used to generate the lucas numbers: $L(n) = \\left({1 + \\sqrt{5}\\over 2} \\right)^n + \\left({1 - \\sqrt{5}\\over 2} \\right)^n$. Use this formula together with the append function to generate a list containing the first 15 Lucas numbers.\n",
        "\n",
        "```python\n",
        "lucas = [2,1]\n",
        "```"
      ]
    }
  ],
  "metadata": {
    "kernelspec": {
      "name": "python3",
      "language": "python",
      "display_name": "Python 3 (ipykernel)"
    }
  },
  "nbformat": 4,
  "nbformat_minor": 4
}
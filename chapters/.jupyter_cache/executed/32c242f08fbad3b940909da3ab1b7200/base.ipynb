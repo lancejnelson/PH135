{
 "cells": [
  {
   "cell_type": "code",
   "execution_count": 1,
   "id": "dac6ae9a",
   "metadata": {},
   "outputs": [
    {
     "name": "stdout",
     "output_type": "stream",
     "text": [
      "{\"/opt/homebrew/Cellar/python@3.11/3.11.6/Frameworks/Python.framework/Versions/3.11/lib/python3.11/importlib/_bootstrap.py\": 1696254354.0, \"/opt/homebrew/Cellar/python@3.11/3.11.6/Frameworks/Python.framework/Versions/3.11/lib/python3.11/importlib/_bootstrap_external.py\": 1696254354.0, \"/opt/homebrew/Cellar/python@3.11/3.11.6/Frameworks/Python.framework/Versions/3.11/lib/python3.11/zipimport.py\": 1696254354.0, \"/opt/homebrew/Cellar/python@3.11/3.11.6/Frameworks/Python.framework/Versions/3.11/lib/python3.11/codecs.py\": 1696254354.0, \"/opt/homebrew/Cellar/python@3.11/3.11.6/Frameworks/Python.framework/Versions/3.11/lib/python3.11/encodings/aliases.py\": 1696254354.0, \"/opt/homebrew/Cellar/python@3.11/3.11.6/Frameworks/Python.framework/Versions/3.11/lib/python3.11/encodings/__init__.py\": 1696254354.0, \"/opt/homebrew/Cellar/python@3.11/3.11.6/Frameworks/Python.framework/Versions/3.11/lib/python3.11/encodings/utf_8.py\": 1696254354.0, \"/opt/homebrew/Cellar/python@3.11/3.11.6/Frameworks/Python.framework/Versions/3.11/lib/python3.11/abc.py\": 1696254354.0, \"/opt/homebrew/Cellar/python@3.11/3.11.6/Frameworks/Python.framework/Versions/3.11/lib/python3.11/io.py\": 1696254354.0, \"/opt/homebrew/Cellar/python@3.11/3.11.6/Frameworks/Python.framework/Versions/3.11/lib/python3.11/stat.py\": 1696254354.0, \"/opt/homebrew/Cellar/python@3.11/3.11.6/Frameworks/Python.framework/Versions/3.11/lib/python3.11/_collections_abc.py\": 1696254354.0, \"/opt/homebrew/Cellar/python@3.11/3.11.6/Frameworks/Python.framework/Versions/3.11/lib/python3.11/genericpath.py\": 1696254354.0, \"/opt/homebrew/Cellar/python@3.11/3.11.6/Frameworks/Python.framework/Versions/3.11/lib/python3.11/posixpath.py\": 1696254354.0, \"/opt/homebrew/Cellar/python@3.11/3.11.6/Frameworks/Python.framework/Versions/3.11/lib/python3.11/os.py\": 1696254354.0, \"/opt/homebrew/Cellar/python@3.11/3.11.6/Frameworks/Python.framework/Versions/3.11/lib/python3.11/_sitebuiltins.py\": 1696254354.0, \"/opt/homebrew/Cellar/python@3.11/3.11.6/Frameworks/Python.framework/Versions/3.11/lib/python3.11/site-packages/_distutils_hack/__init__.py\": 1697564608.106356, \"/opt/homebrew/Cellar/python@3.11/3.11.6/Frameworks/Python.framework/Versions/3.11/lib/python3.11/types.py\": 1696254354.0, \"/opt/homebrew/Cellar/python@3.11/3.11.6/Frameworks/Python.framework/Versions/3.11/lib/python3.11/operator.py\": 1696254354.0, \"/opt/homebrew/Cellar/python@3.11/3.11.6/Frameworks/Python.framework/Versions/3.11/lib/python3.11/keyword.py\": 1696254354.0, \"/opt/homebrew/Cellar/python@3.11/3.11.6/Frameworks/Python.framework/Versions/3.11/lib/python3.11/reprlib.py\": 1696254354.0, \"/opt/homebrew/Cellar/python@3.11/3.11.6/Frameworks/Python.framework/Versions/3.11/lib/python3.11/collections/__init__.py\": 1696254354.0, \"/opt/homebrew/Cellar/python@3.11/3.11.6/Frameworks/Python.framework/Versions/3.11/lib/python3.11/functools.py\": 1696254354.0, \"/opt/homebrew/Cellar/python@3.11/3.11.6/Frameworks/Python.framework/Versions/3.11/lib/python3.11/enum.py\": 1696254354.0, \"/opt/homebrew/Cellar/python@3.11/3.11.6/Frameworks/Python.framework/Versions/3.11/lib/python3.11/re/_constants.py\": 1696254354.0, \"/opt/homebrew/Cellar/python@3.11/3.11.6/Frameworks/Python.framework/Versions/3.11/lib/python3.11/re/_parser.py\": 1696254354.0, \"/opt/homebrew/Cellar/python@3.11/3.11.6/Frameworks/Python.framework/Versions/3.11/lib/python3.11/re/_casefix.py\": 1696254354.0, \"/opt/homebrew/Cellar/python@3.11/3.11.6/Frameworks/Python.framework/Versions/3.11/lib/python3.11/re/_compiler.py\": 1696254354.0, \"/opt/homebrew/Cellar/python@3.11/3.11.6/Frameworks/Python.framework/Versions/3.11/lib/python3.11/copyreg.py\": 1696254354.0, \"/opt/homebrew/Cellar/python@3.11/3.11.6/Frameworks/Python.framework/Versions/3.11/lib/python3.11/re/__init__.py\": 1696254354.0, \"/opt/homebrew/Cellar/python@3.11/3.11.6/Frameworks/Python.framework/Versions/3.11/lib/python3.11/sitecustomize.py\": 1697564603.4717386, \"/opt/homebrew/Cellar/python@3.11/3.11.6/Frameworks/Python.framework/Versions/3.11/lib/python3.11/site.py\": 1696254354.0, \"/opt/homebrew/Cellar/python@3.11/3.11.6/Frameworks/Python.framework/Versions/3.11/lib/python3.11/warnings.py\": 1696254354.0, \"/opt/homebrew/Cellar/python@3.11/3.11.6/Frameworks/Python.framework/Versions/3.11/lib/python3.11/importlib/__init__.py\": 1696254354.0, \"/opt/homebrew/Cellar/python@3.11/3.11.6/Frameworks/Python.framework/Versions/3.11/lib/python3.11/importlib/machinery.py\": 1696254354.0, \"/opt/homebrew/Cellar/python@3.11/3.11.6/Frameworks/Python.framework/Versions/3.11/lib/python3.11/importlib/_abc.py\": 1696254354.0, \"/opt/homebrew/Cellar/python@3.11/3.11.6/Frameworks/Python.framework/Versions/3.11/lib/python3.11/contextlib.py\": 1696254354.0, \"/opt/homebrew/Cellar/python@3.11/3.11.6/Frameworks/Python.framework/Versions/3.11/lib/python3.11/importlib/util.py\": 1696254354.0, \"/opt/homebrew/Cellar/python@3.11/3.11.6/Frameworks/Python.framework/Versions/3.11/lib/python3.11/runpy.py\": 1696254354.0, \"/opt/homebrew/Cellar/python@3.11/3.11.6/Frameworks/Python.framework/Versions/3.11/lib/python3.11/collections/abc.py\": 1696254354.0, \"/opt/homebrew/Cellar/python@3.11/3.11.6/Frameworks/Python.framework/Versions/3.11/lib/python3.11/lib-dynload/_typing.cpython-311-darwin.so\": 1696254354.0, \"/opt/homebrew/Cellar/python@3.11/3.11.6/Frameworks/Python.framework/Versions/3.11/lib/python3.11/typing.py\": 1696254354.0, \"/opt/homebrew/lib/python3.11/site-packages/ipykernel/_version.py\": 1697565002.5862408, \"/opt/homebrew/Cellar/python@3.11/3.11.6/Frameworks/Python.framework/Versions/3.11/lib/python3.11/lib-dynload/_json.cpython-311-darwin.so\": 1696254354.0, \"/opt/homebrew/Cellar/python@3.11/3.11.6/Frameworks/Python.framework/Versions/3.11/lib/python3.11/json/scanner.py\": 1696254354.0, \"/opt/homebrew/Cellar/python@3.11/3.11.6/Frameworks/Python.framework/Versions/3.11/lib/python3.11/json/decoder.py\": 1696254354.0, \"/opt/homebrew/Cellar/python@3.11/3.11.6/Frameworks/Python.framework/Versions/3.11/lib/python3.11/json/encoder.py\": 1696254354.0, \"/opt/homebrew/Cellar/python@3.11/3.11.6/Frameworks/Python.framework/Versions/3.11/lib/python3.11/json/__init__.py\": 1696254354.0, \"/opt/homebrew/Cellar/python@3.11/3.11.6/Frameworks/Python.framework/Versions/3.11/lib/python3.11/locale.py\": 1696254354.0, \"/opt/homebrew/Cellar/python@3.11/3.11.6/Frameworks/Python.framework/Versions/3.11/lib/python3.11/signal.py\": 1696254354.0, \"/opt/homebrew/Cellar/python@3.11/3.11.6/Frameworks/Python.framework/Versions/3.11/lib/python3.11/_weakrefset.py\": 1696254354.0, \"/opt/homebrew/Cellar/python@3.11/3.11.6/Frameworks/Python.framework/Versions/3.11/lib/python3.11/threading.py\": 1696254354.0, \"/opt/homebrew/Cellar/python@3.11/3.11.6/Frameworks/Python.framework/Versions/3.11/lib/python3.11/lib-dynload/fcntl.cpython-311-darwin.so\": 1696254354.0, \"/opt/homebrew/Cellar/python@3.11/3.11.6/Frameworks/Python.framework/Versions/3.11/lib/python3.11/lib-dynload/_posixsubprocess.cpython-311-darwin.so\": 1696254354.0, \"/opt/homebrew/Cellar/python@3.11/3.11.6/Frameworks/Python.framework/Versions/3.11/lib/python3.11/lib-dynload/select.cpython-311-darwin.so\": 1696254354.0, \"/opt/homebrew/Cellar/python@3.11/3.11.6/Frameworks/Python.framework/Versions/3.11/lib/python3.11/lib-dynload/math.cpython-311-darwin.so\": 1696254354.0, \"/opt/homebrew/Cellar/python@3.11/3.11.6/Frameworks/Python.framework/Versions/3.11/lib/python3.11/selectors.py\": 1696254354.0, \"/opt/homebrew/Cellar/python@3.11/3.11.6/Frameworks/Python.framework/Versions/3.11/lib/python3.11/subprocess.py\": 1696254354.0, \"/opt/homebrew/lib/python3.11/site-packages/jupyter_client/_version.py\": 1697565002.1812081, \"/opt/homebrew/Cellar/python@3.11/3.11.6/Frameworks/Python.framework/Versions/3.11/lib/python3.11/platform.py\": 1696254354.0, \"/opt/homebrew/Cellar/python@3.11/3.11.6/Frameworks/Python.framework/Versions/3.11/lib/python3.11/lib-dynload/_ctypes.cpython-311-darwin.so\": 1696254354.0, \"/opt/homebrew/Cellar/python@3.11/3.11.6/Frameworks/Python.framework/Versions/3.11/lib/python3.11/lib-dynload/_struct.cpython-311-darwin.so\": 1696254354.0, \"/opt/homebrew/Cellar/python@3.11/3.11.6/Frameworks/Python.framework/Versions/3.11/lib/python3.11/struct.py\": 1696254354.0, \"/opt/homebrew/Cellar/python@3.11/3.11.6/Frameworks/Python.framework/Versions/3.11/lib/python3.11/ctypes/_endian.py\": 1696254354.0, \"/opt/homebrew/Cellar/python@3.11/3.11.6/Frameworks/Python.framework/Versions/3.11/lib/python3.11/ctypes/__init__.py\": 1696254354.0, \"/opt/homebrew/lib/python3.11/site-packages/zmq/backend/select.py\": 1697564999.8852205, \"/opt/homebrew/lib/python3.11/site-packages/zmq/error.py\": 1697564999.8759692, \"/opt/homebrew/lib/python3.11/site-packages/zmq/backend/cython/context.cpython-311-darwin.so\": 1697564999.890473, \"/opt/homebrew/Cellar/python@3.11/3.11.6/Frameworks/Python.framework/Versions/3.11/lib/python3.11/weakref.py\": 1696254354.0, \"/opt/homebrew/lib/python3.11/site-packages/zmq/backend/cython/message.cpython-311-darwin.so\": 1697564999.8872633, \"/opt/homebrew/Cellar/python@3.11/3.11.6/Frameworks/Python.framework/Versions/3.11/lib/python3.11/copy.py\": 1696254354.0, \"/opt/homebrew/Cellar/python@3.11/3.11.6/Frameworks/Python.framework/Versions/3.11/lib/python3.11/lib-dynload/_bisect.cpython-311-darwin.so\": 1696254354.0, \"/opt/homebrew/Cellar/python@3.11/3.11.6/Frameworks/Python.framework/Versions/3.11/lib/python3.11/bisect.py\": 1696254354.0, \"/opt/homebrew/Cellar/python@3.11/3.11.6/Frameworks/Python.framework/Versions/3.11/lib/python3.11/lib-dynload/_random.cpython-311-darwin.so\": 1696254354.0, \"/opt/homebrew/Cellar/python@3.11/3.11.6/Frameworks/Python.framework/Versions/3.11/lib/python3.11/lib-dynload/_sha512.cpython-311-darwin.so\": 1696254354.0, \"/opt/homebrew/Cellar/python@3.11/3.11.6/Frameworks/Python.framework/Versions/3.11/lib/python3.11/random.py\": 1696254354.0, \"/opt/homebrew/Cellar/python@3.11/3.11.6/Frameworks/Python.framework/Versions/3.11/lib/python3.11/_compat_pickle.py\": 1696254354.0, \"/opt/homebrew/Cellar/python@3.11/3.11.6/Frameworks/Python.framework/Versions/3.11/lib/python3.11/lib-dynload/_pickle.cpython-311-darwin.so\": 1696254354.0, \"/opt/homebrew/Cellar/python@3.11/3.11.6/Frameworks/Python.framework/Versions/3.11/lib/python3.11/pickle.py\": 1696254354.0, \"/opt/homebrew/lib/python3.11/site-packages/zmq/constants.py\": 1697564999.8764443, \"/opt/homebrew/lib/python3.11/site-packages/zmq/backend/cython/socket.cpython-311-darwin.so\": 1697564999.8896115, \"/opt/homebrew/lib/python3.11/site-packages/zmq/backend/cython/_device.cpython-311-darwin.so\": 1697564999.8884296, \"/opt/homebrew/lib/python3.11/site-packages/zmq/backend/cython/_poll.cpython-311-darwin.so\": 1697564999.8867188, \"/opt/homebrew/lib/python3.11/site-packages/zmq/backend/cython/_proxy_steerable.cpython-311-darwin.so\": 1697564999.8880646, \"/opt/homebrew/lib/python3.11/site-packages/zmq/backend/cython/_version.cpython-311-darwin.so\": 1697564999.8889012, \"/opt/homebrew/lib/python3.11/site-packages/zmq/backend/cython/error.cpython-311-darwin.so\": 1697564999.8907602, \"/opt/homebrew/lib/python3.11/site-packages/zmq/backend/cython/utils.cpython-311-darwin.so\": 1697564999.8900957, \"/opt/homebrew/lib/python3.11/site-packages/zmq/backend/cython/__init__.py\": 1697564999.8886437, \"/opt/homebrew/lib/python3.11/site-packages/zmq/backend/__init__.py\": 1697564999.885148, \"/opt/homebrew/lib/python3.11/site-packages/zmq/utils/__init__.py\": 1697564999.8837934, \"/opt/homebrew/lib/python3.11/site-packages/zmq/utils/interop.py\": 1697564999.8841085, \"/opt/homebrew/lib/python3.11/site-packages/zmq/sugar/attrsettr.py\": 1697564999.8776004, \"/opt/homebrew/lib/python3.11/site-packages/zmq/_typing.py\": 1697564999.8758278, \"/opt/homebrew/lib/python3.11/site-packages/zmq/utils/jsonapi.py\": 1697564999.8842382, \"/opt/homebrew/lib/python3.11/site-packages/zmq/sugar/poll.py\": 1697564999.878181, \"/opt/homebrew/lib/python3.11/site-packages/zmq/sugar/socket.py\": 1697564999.8783, \"/opt/homebrew/lib/python3.11/site-packages/zmq/sugar/context.py\": 1697564999.8778682, \"/opt/homebrew/lib/python3.11/site-packages/zmq/sugar/frame.py\": 1697564999.8779552, \"/opt/homebrew/lib/python3.11/site-packages/zmq/sugar/tracker.py\": 1697564999.8780413, \"/opt/homebrew/lib/python3.11/site-packages/zmq/sugar/version.py\": 1697564999.877451, \"/opt/homebrew/lib/python3.11/site-packages/zmq/sugar/stopwatch.py\": 1697564999.877747, \"/opt/homebrew/lib/python3.11/site-packages/zmq/sugar/__init__.py\": 1697564999.8776748, \"/opt/homebrew/lib/python3.11/site-packages/zmq/__init__.py\": 1697564999.8765283, \"/opt/homebrew/Cellar/python@3.11/3.11.6/Frameworks/Python.framework/Versions/3.11/lib/python3.11/concurrent/__init__.py\": 1696254354.0, \"/opt/homebrew/Cellar/python@3.11/3.11.6/Frameworks/Python.framework/Versions/3.11/lib/python3.11/token.py\": 1696254354.0, \"/opt/homebrew/Cellar/python@3.11/3.11.6/Frameworks/Python.framework/Versions/3.11/lib/python3.11/tokenize.py\": 1696254354.0, \"/opt/homebrew/Cellar/python@3.11/3.11.6/Frameworks/Python.framework/Versions/3.11/lib/python3.11/linecache.py\": 1696254354.0, \"/opt/homebrew/Cellar/python@3.11/3.11.6/Frameworks/Python.framework/Versions/3.11/lib/python3.11/textwrap.py\": 1696254354.0, \"/opt/homebrew/Cellar/python@3.11/3.11.6/Frameworks/Python.framework/Versions/3.11/lib/python3.11/traceback.py\": 1696254354.0, \"/opt/homebrew/Cellar/python@3.11/3.11.6/Frameworks/Python.framework/Versions/3.11/lib/python3.11/string.py\": 1696254354.0, \"/opt/homebrew/Cellar/python@3.11/3.11.6/Frameworks/Python.framework/Versions/3.11/lib/python3.11/logging/__init__.py\": 1696254354.0, \"/opt/homebrew/Cellar/python@3.11/3.11.6/Frameworks/Python.framework/Versions/3.11/lib/python3.11/concurrent/futures/_base.py\": 1696254354.0, \"/opt/homebrew/Cellar/python@3.11/3.11.6/Frameworks/Python.framework/Versions/3.11/lib/python3.11/concurrent/futures/__init__.py\": 1696254354.0, \"/opt/homebrew/Cellar/python@3.11/3.11.6/Frameworks/Python.framework/Versions/3.11/lib/python3.11/lib-dynload/_heapq.cpython-311-darwin.so\": 1696254354.0, \"/opt/homebrew/Cellar/python@3.11/3.11.6/Frameworks/Python.framework/Versions/3.11/lib/python3.11/heapq.py\": 1696254354.0, \"/opt/homebrew/Cellar/python@3.11/3.11.6/Frameworks/Python.framework/Versions/3.11/lib/python3.11/lib-dynload/_socket.cpython-311-darwin.so\": 1696254354.0, \"/opt/homebrew/Cellar/python@3.11/3.11.6/Frameworks/Python.framework/Versions/3.11/lib/python3.11/lib-dynload/array.cpython-311-darwin.so\": 1696254354.0, \"/opt/homebrew/Cellar/python@3.11/3.11.6/Frameworks/Python.framework/Versions/3.11/lib/python3.11/socket.py\": 1696254354.0, \"/opt/homebrew/Cellar/python@3.11/3.11.6/Frameworks/Python.framework/Versions/3.11/lib/python3.11/lib-dynload/_ssl.cpython-311-darwin.so\": 1697564603.4635458, \"/opt/homebrew/Cellar/python@3.11/3.11.6/Frameworks/Python.framework/Versions/3.11/lib/python3.11/lib-dynload/binascii.cpython-311-darwin.so\": 1696254354.0, \"/opt/homebrew/Cellar/python@3.11/3.11.6/Frameworks/Python.framework/Versions/3.11/lib/python3.11/base64.py\": 1696254354.0, \"/opt/homebrew/Cellar/python@3.11/3.11.6/Frameworks/Python.framework/Versions/3.11/lib/python3.11/ssl.py\": 1696254354.0, \"/opt/homebrew/Cellar/python@3.11/3.11.6/Frameworks/Python.framework/Versions/3.11/lib/python3.11/asyncio/constants.py\": 1696254354.0, \"/opt/homebrew/Cellar/python@3.11/3.11.6/Frameworks/Python.framework/Versions/3.11/lib/python3.11/ast.py\": 1696254354.0, \"/opt/homebrew/Cellar/python@3.11/3.11.6/Frameworks/Python.framework/Versions/3.11/lib/python3.11/lib-dynload/_opcode.cpython-311-darwin.so\": 1696254354.0, \"/opt/homebrew/Cellar/python@3.11/3.11.6/Frameworks/Python.framework/Versions/3.11/lib/python3.11/opcode.py\": 1696254354.0, \"/opt/homebrew/Cellar/python@3.11/3.11.6/Frameworks/Python.framework/Versions/3.11/lib/python3.11/dis.py\": 1696254354.0, \"/opt/homebrew/Cellar/python@3.11/3.11.6/Frameworks/Python.framework/Versions/3.11/lib/python3.11/inspect.py\": 1696254354.0, \"/opt/homebrew/Cellar/python@3.11/3.11.6/Frameworks/Python.framework/Versions/3.11/lib/python3.11/asyncio/coroutines.py\": 1696254354.0, \"/opt/homebrew/Cellar/python@3.11/3.11.6/Frameworks/Python.framework/Versions/3.11/lib/python3.11/lib-dynload/_contextvars.cpython-311-darwin.so\": 1696254354.0, \"/opt/homebrew/Cellar/python@3.11/3.11.6/Frameworks/Python.framework/Versions/3.11/lib/python3.11/contextvars.py\": 1696254354.0, \"/opt/homebrew/Cellar/python@3.11/3.11.6/Frameworks/Python.framework/Versions/3.11/lib/python3.11/asyncio/format_helpers.py\": 1696254354.0, \"/opt/homebrew/Cellar/python@3.11/3.11.6/Frameworks/Python.framework/Versions/3.11/lib/python3.11/asyncio/base_futures.py\": 1696254354.0, \"/opt/homebrew/Cellar/python@3.11/3.11.6/Frameworks/Python.framework/Versions/3.11/lib/python3.11/asyncio/exceptions.py\": 1696254354.0, \"/opt/homebrew/Cellar/python@3.11/3.11.6/Frameworks/Python.framework/Versions/3.11/lib/python3.11/asyncio/base_tasks.py\": 1696254354.0, \"/opt/homebrew/Cellar/python@3.11/3.11.6/Frameworks/Python.framework/Versions/3.11/lib/python3.11/lib-dynload/_asyncio.cpython-311-darwin.so\": 1696254354.0, \"/opt/homebrew/Cellar/python@3.11/3.11.6/Frameworks/Python.framework/Versions/3.11/lib/python3.11/asyncio/events.py\": 1696254354.0, \"/opt/homebrew/Cellar/python@3.11/3.11.6/Frameworks/Python.framework/Versions/3.11/lib/python3.11/asyncio/futures.py\": 1696254354.0, \"/opt/homebrew/Cellar/python@3.11/3.11.6/Frameworks/Python.framework/Versions/3.11/lib/python3.11/asyncio/protocols.py\": 1696254354.0, \"/opt/homebrew/Cellar/python@3.11/3.11.6/Frameworks/Python.framework/Versions/3.11/lib/python3.11/asyncio/transports.py\": 1696254354.0, \"/opt/homebrew/Cellar/python@3.11/3.11.6/Frameworks/Python.framework/Versions/3.11/lib/python3.11/asyncio/log.py\": 1696254354.0, \"/opt/homebrew/Cellar/python@3.11/3.11.6/Frameworks/Python.framework/Versions/3.11/lib/python3.11/asyncio/sslproto.py\": 1696254354.0, \"/opt/homebrew/Cellar/python@3.11/3.11.6/Frameworks/Python.framework/Versions/3.11/lib/python3.11/asyncio/mixins.py\": 1696254354.0, \"/opt/homebrew/Cellar/python@3.11/3.11.6/Frameworks/Python.framework/Versions/3.11/lib/python3.11/asyncio/tasks.py\": 1696254354.0, \"/opt/homebrew/Cellar/python@3.11/3.11.6/Frameworks/Python.framework/Versions/3.11/lib/python3.11/asyncio/locks.py\": 1696254354.0, \"/opt/homebrew/Cellar/python@3.11/3.11.6/Frameworks/Python.framework/Versions/3.11/lib/python3.11/asyncio/staggered.py\": 1696254354.0, \"/opt/homebrew/Cellar/python@3.11/3.11.6/Frameworks/Python.framework/Versions/3.11/lib/python3.11/asyncio/trsock.py\": 1696254354.0, \"/opt/homebrew/Cellar/python@3.11/3.11.6/Frameworks/Python.framework/Versions/3.11/lib/python3.11/asyncio/base_events.py\": 1696254354.0, \"/opt/homebrew/Cellar/python@3.11/3.11.6/Frameworks/Python.framework/Versions/3.11/lib/python3.11/asyncio/runners.py\": 1696254354.0, \"/opt/homebrew/Cellar/python@3.11/3.11.6/Frameworks/Python.framework/Versions/3.11/lib/python3.11/asyncio/queues.py\": 1696254354.0, \"/opt/homebrew/Cellar/python@3.11/3.11.6/Frameworks/Python.framework/Versions/3.11/lib/python3.11/asyncio/streams.py\": 1696254354.0, \"/opt/homebrew/Cellar/python@3.11/3.11.6/Frameworks/Python.framework/Versions/3.11/lib/python3.11/asyncio/subprocess.py\": 1696254354.0, \"/opt/homebrew/Cellar/python@3.11/3.11.6/Frameworks/Python.framework/Versions/3.11/lib/python3.11/asyncio/taskgroups.py\": 1696254354.0, \"/opt/homebrew/Cellar/python@3.11/3.11.6/Frameworks/Python.framework/Versions/3.11/lib/python3.11/asyncio/timeouts.py\": 1696254354.0, \"/opt/homebrew/Cellar/python@3.11/3.11.6/Frameworks/Python.framework/Versions/3.11/lib/python3.11/asyncio/threads.py\": 1696254354.0, \"/opt/homebrew/Cellar/python@3.11/3.11.6/Frameworks/Python.framework/Versions/3.11/lib/python3.11/asyncio/base_subprocess.py\": 1696254354.0, \"/opt/homebrew/Cellar/python@3.11/3.11.6/Frameworks/Python.framework/Versions/3.11/lib/python3.11/asyncio/selector_events.py\": 1696254354.0, \"/opt/homebrew/Cellar/python@3.11/3.11.6/Frameworks/Python.framework/Versions/3.11/lib/python3.11/asyncio/unix_events.py\": 1696254354.0, \"/opt/homebrew/Cellar/python@3.11/3.11.6/Frameworks/Python.framework/Versions/3.11/lib/python3.11/asyncio/__init__.py\": 1696254354.0, \"/opt/homebrew/lib/python3.11/site-packages/zmq/_future.py\": 1697564999.8761423, \"/opt/homebrew/lib/python3.11/site-packages/zmq/asyncio.py\": 1697564999.8763497, \"/opt/homebrew/Cellar/python@3.11/3.11.6/Frameworks/Python.framework/Versions/3.11/lib/python3.11/__future__.py\": 1696254354.0, \"/opt/homebrew/Cellar/python@3.11/3.11.6/Frameworks/Python.framework/Versions/3.11/lib/python3.11/fnmatch.py\": 1696254354.0, \"/opt/homebrew/Cellar/python@3.11/3.11.6/Frameworks/Python.framework/Versions/3.11/lib/python3.11/ntpath.py\": 1696254354.0, \"/opt/homebrew/Cellar/python@3.11/3.11.6/Frameworks/Python.framework/Versions/3.11/lib/python3.11/urllib/__init__.py\": 1696254354.0, \"/opt/homebrew/Cellar/python@3.11/3.11.6/Frameworks/Python.framework/Versions/3.11/lib/python3.11/ipaddress.py\": 1696254354.0, \"/opt/homebrew/Cellar/python@3.11/3.11.6/Frameworks/Python.framework/Versions/3.11/lib/python3.11/urllib/parse.py\": 1696254354.0, \"/opt/homebrew/Cellar/python@3.11/3.11.6/Frameworks/Python.framework/Versions/3.11/lib/python3.11/pathlib.py\": 1696254354.0, \"/opt/homebrew/lib/python3.11/site-packages/traitlets/utils/__init__.py\": 1697564999.6888416, \"/opt/homebrew/lib/python3.11/site-packages/traitlets/utils/bunch.py\": 1697564999.6889215, \"/opt/homebrew/lib/python3.11/site-packages/traitlets/utils/descriptions.py\": 1697564999.6891394, \"/opt/homebrew/lib/python3.11/site-packages/traitlets/utils/getargspec.py\": 1697564999.6892142, \"/opt/homebrew/lib/python3.11/site-packages/traitlets/utils/importstring.py\": 1697564999.689286, \"/opt/homebrew/lib/python3.11/site-packages/traitlets/utils/sentinel.py\": 1697564999.6894283, \"/opt/homebrew/lib/python3.11/site-packages/traitlets/utils/warnings.py\": 1697564999.689588, \"/opt/homebrew/lib/python3.11/site-packages/traitlets/traitlets.py\": 1697564999.6876607, \"/opt/homebrew/lib/python3.11/site-packages/traitlets/_version.py\": 1697564999.6873207, \"/opt/homebrew/lib/python3.11/site-packages/traitlets/utils/decorators.py\": 1697564999.689, \"/opt/homebrew/lib/python3.11/site-packages/traitlets/__init__.py\": 1697564999.6872337, \"/opt/homebrew/Cellar/python@3.11/3.11.6/Frameworks/Python.framework/Versions/3.11/lib/python3.11/lib-dynload/_queue.cpython-311-darwin.so\": 1696254354.0, \"/opt/homebrew/Cellar/python@3.11/3.11.6/Frameworks/Python.framework/Versions/3.11/lib/python3.11/queue.py\": 1696254354.0, \"/opt/homebrew/lib/python3.11/site-packages/jupyter_core/version.py\": 1697565001.6276464, \"/opt/homebrew/lib/python3.11/site-packages/jupyter_core/__init__.py\": 1697565001.6268332, \"/opt/homebrew/lib/python3.11/site-packages/jupyter_core/utils/__init__.py\": 1697565001.6278143, \"/opt/homebrew/lib/python3.11/site-packages/jupyter_client/channelsabc.py\": 1697565002.181544, \"/opt/homebrew/Cellar/python@3.11/3.11.6/Frameworks/Python.framework/Versions/3.11/lib/python3.11/lib-dynload/_hashlib.cpython-311-darwin.so\": 1697564603.4031107, \"/opt/homebrew/Cellar/python@3.11/3.11.6/Frameworks/Python.framework/Versions/3.11/lib/python3.11/lib-dynload/_blake2.cpython-311-darwin.so\": 1696254354.0, \"/opt/homebrew/Cellar/python@3.11/3.11.6/Frameworks/Python.framework/Versions/3.11/lib/python3.11/hashlib.py\": 1696254354.0, \"/opt/homebrew/Cellar/python@3.11/3.11.6/Frameworks/Python.framework/Versions/3.11/lib/python3.11/hmac.py\": 1696254354.0, \"/opt/homebrew/Cellar/python@3.11/3.11.6/Frameworks/Python.framework/Versions/3.11/lib/python3.11/dataclasses.py\": 1696254354.0, \"/opt/homebrew/Cellar/python@3.11/3.11.6/Frameworks/Python.framework/Versions/3.11/lib/python3.11/pprint.py\": 1696254354.0, \"/opt/homebrew/Cellar/python@3.11/3.11.6/Frameworks/Python.framework/Versions/3.11/lib/python3.11/lib-dynload/_datetime.cpython-311-darwin.so\": 1696254354.0, \"/opt/homebrew/Cellar/python@3.11/3.11.6/Frameworks/Python.framework/Versions/3.11/lib/python3.11/datetime.py\": 1696254354.0, \"/opt/homebrew/lib/python3.11/site-packages/tornado/__init__.py\": 1697564999.7166703, \"/opt/homebrew/Cellar/python@3.11/3.11.6/Frameworks/Python.framework/Versions/3.11/lib/python3.11/numbers.py\": 1696254354.0, \"/opt/homebrew/Cellar/python@3.11/3.11.6/Frameworks/Python.framework/Versions/3.11/lib/python3.11/logging/handlers.py\": 1696254354.0, \"/opt/homebrew/Cellar/python@3.11/3.11.6/Frameworks/Python.framework/Versions/3.11/lib/python3.11/html/entities.py\": 1696254354.0, \"/opt/homebrew/Cellar/python@3.11/3.11.6/Frameworks/Python.framework/Versions/3.11/lib/python3.11/html/__init__.py\": 1696254354.0, \"/opt/homebrew/Cellar/python@3.11/3.11.6/Frameworks/Python.framework/Versions/3.11/lib/python3.11/lib-dynload/zlib.cpython-311-darwin.so\": 1696254354.0, \"/opt/homebrew/lib/python3.11/site-packages/tornado/speedups.abi3.so\": 1697564999.718387, \"/opt/homebrew/lib/python3.11/site-packages/tornado/util.py\": 1697564999.7164004, \"/opt/homebrew/lib/python3.11/site-packages/tornado/escape.py\": 1697564999.7152803, \"/opt/homebrew/Cellar/python@3.11/3.11.6/Frameworks/Python.framework/Versions/3.11/lib/python3.11/lib-dynload/_curses.cpython-311-darwin.so\": 1696254354.0, \"/opt/homebrew/Cellar/python@3.11/3.11.6/Frameworks/Python.framework/Versions/3.11/lib/python3.11/curses/__init__.py\": 1696254354.0, \"/opt/homebrew/lib/python3.11/site-packages/tornado/log.py\": 1697564999.7162893, \"/opt/homebrew/lib/python3.11/site-packages/tornado/concurrent.py\": 1697564999.7151802, \"/opt/homebrew/lib/python3.11/site-packages/tornado/ioloop.py\": 1697564999.7170181, \"/opt/homebrew/Cellar/python@3.11/3.11.6/Frameworks/Python.framework/Versions/3.11/lib/python3.11/socketserver.py\": 1696254354.0, \"/opt/homebrew/Cellar/python@3.11/3.11.6/Frameworks/Python.framework/Versions/3.11/lib/python3.11/logging/config.py\": 1696254354.0, \"/opt/homebrew/lib/python3.11/site-packages/traitlets/utils/text.py\": 1697564999.6895094, \"/opt/homebrew/Cellar/python@3.11/3.11.6/Frameworks/Python.framework/Versions/3.11/lib/python3.11/gettext.py\": 1696254354.0, \"/opt/homebrew/Cellar/python@3.11/3.11.6/Frameworks/Python.framework/Versions/3.11/lib/python3.11/argparse.py\": 1696254354.0, \"/opt/homebrew/lib/python3.11/site-packages/traitlets/config/loader.py\": 1697564999.6882641, \"/opt/homebrew/lib/python3.11/site-packages/traitlets/config/configurable.py\": 1697564999.68815, \"/opt/homebrew/lib/python3.11/site-packages/traitlets/utils/nested_update.py\": 1697564999.6893568, \"/opt/homebrew/lib/python3.11/site-packages/traitlets/config/application.py\": 1697564999.6879063, \"/opt/homebrew/lib/python3.11/site-packages/traitlets/config/__init__.py\": 1697564999.6877844, \"/opt/homebrew/lib/python3.11/site-packages/traitlets/log.py\": 1697564999.687401, \"/opt/homebrew/lib/python3.11/site-packages/zmq/eventloop/__init__.py\": 1697564999.8971114, \"/opt/homebrew/lib/python3.11/site-packages/zmq/eventloop/zmqstream.py\": 1697564999.8973794, \"/opt/homebrew/lib/python3.11/site-packages/jupyter_client/adapter.py\": 1697565002.1813025, \"/opt/homebrew/lib/python3.11/site-packages/dateutil/_version.py\": 1697565001.5982924, \"/opt/homebrew/lib/python3.11/site-packages/dateutil/__init__.py\": 1697565001.5981169, \"/opt/homebrew/Cellar/python@3.11/3.11.6/Frameworks/Python.framework/Versions/3.11/lib/python3.11/calendar.py\": 1696254354.0, \"/opt/homebrew/lib/python3.11/site-packages/six.py\": 1697564999.8583636, \"/opt/homebrew/Cellar/python@3.11/3.11.6/Frameworks/Python.framework/Versions/3.11/lib/python3.11/lib-dynload/_decimal.cpython-311-darwin.so\": 1697564603.3834887, \"/opt/homebrew/Cellar/python@3.11/3.11.6/Frameworks/Python.framework/Versions/3.11/lib/python3.11/decimal.py\": 1696254354.0, \"/opt/homebrew/lib/python3.11/site-packages/dateutil/_common.py\": 1697565001.5982091, \"/opt/homebrew/lib/python3.11/site-packages/dateutil/relativedelta.py\": 1697565001.5984905, \"/opt/homebrew/lib/python3.11/site-packages/dateutil/tz/_common.py\": 1697565001.5997136, \"/opt/homebrew/lib/python3.11/site-packages/dateutil/tz/_factories.py\": 1697565001.5997975, \"/opt/homebrew/lib/python3.11/site-packages/dateutil/tz/tz.py\": 1697565001.59994, \"/opt/homebrew/lib/python3.11/site-packages/dateutil/tz/__init__.py\": 1697565001.5996246, \"/opt/homebrew/lib/python3.11/site-packages/dateutil/parser/_parser.py\": 1697565001.5993378, \"/opt/homebrew/lib/python3.11/site-packages/dateutil/parser/isoparser.py\": 1697565001.5994344, \"/opt/homebrew/lib/python3.11/site-packages/dateutil/parser/__init__.py\": 1697565001.5992036, \"/opt/homebrew/Cellar/python@3.11/3.11.6/Frameworks/Python.framework/Versions/3.11/lib/python3.11/_strptime.py\": 1696254354.0, \"/opt/homebrew/lib/python3.11/site-packages/jupyter_client/jsonutil.py\": 1697565002.1820846, \"/opt/homebrew/lib/python3.11/site-packages/jupyter_client/session.py\": 1697565002.1834257, \"/opt/homebrew/lib/python3.11/site-packages/jupyter_client/channels.py\": 1697565002.181456, \"/opt/homebrew/Cellar/python@3.11/3.11.6/Frameworks/Python.framework/Versions/3.11/lib/python3.11/lib-dynload/termios.cpython-311-darwin.so\": 1696254354.0, \"/opt/homebrew/Cellar/python@3.11/3.11.6/Frameworks/Python.framework/Versions/3.11/lib/python3.11/getpass.py\": 1696254354.0, \"/opt/homebrew/lib/python3.11/site-packages/jupyter_client/clientabc.py\": 1697565002.1817267, \"/opt/homebrew/Cellar/python@3.11/3.11.6/Frameworks/Python.framework/Versions/3.11/lib/python3.11/glob.py\": 1696254354.0, \"/opt/homebrew/Cellar/python@3.11/3.11.6/Frameworks/Python.framework/Versions/3.11/lib/python3.11/_compression.py\": 1696254354.0, \"/opt/homebrew/Cellar/python@3.11/3.11.6/Frameworks/Python.framework/Versions/3.11/lib/python3.11/lib-dynload/_bz2.cpython-311-darwin.so\": 1696254354.0, \"/opt/homebrew/Cellar/python@3.11/3.11.6/Frameworks/Python.framework/Versions/3.11/lib/python3.11/bz2.py\": 1696254354.0, \"/opt/homebrew/Cellar/python@3.11/3.11.6/Frameworks/Python.framework/Versions/3.11/lib/python3.11/lib-dynload/_lzma.cpython-311-darwin.so\": 1697564603.4226198, \"/opt/homebrew/Cellar/python@3.11/3.11.6/Frameworks/Python.framework/Versions/3.11/lib/python3.11/lzma.py\": 1696254354.0, \"/opt/homebrew/Cellar/python@3.11/3.11.6/Frameworks/Python.framework/Versions/3.11/lib/python3.11/shutil.py\": 1696254354.0, \"/opt/homebrew/Cellar/python@3.11/3.11.6/Frameworks/Python.framework/Versions/3.11/lib/python3.11/tempfile.py\": 1696254354.0, \"/opt/homebrew/lib/python3.11/site-packages/platformdirs/api.py\": 1697565000.6133528, \"/opt/homebrew/lib/python3.11/site-packages/platformdirs/version.py\": 1697565000.613777, \"/opt/homebrew/lib/python3.11/site-packages/platformdirs/macos.py\": 1697565000.6134934, \"/opt/homebrew/lib/python3.11/site-packages/platformdirs/__init__.py\": 1697565000.6129596, \"/opt/homebrew/lib/python3.11/site-packages/jupyter_core/paths.py\": 1697565001.6274228, \"/opt/homebrew/lib/python3.11/site-packages/jupyter_client/localinterfaces.py\": 1697565002.1826794, \"/opt/homebrew/lib/python3.11/site-packages/jupyter_client/utils.py\": 1697565002.183667, \"/opt/homebrew/lib/python3.11/site-packages/jupyter_client/connect.py\": 1697565002.181836, \"/opt/homebrew/lib/python3.11/site-packages/jupyter_client/client.py\": 1697565002.1816492, \"/opt/homebrew/lib/python3.11/site-packages/jupyter_client/asynchronous/client.py\": 1697565002.183909, \"/opt/homebrew/lib/python3.11/site-packages/jupyter_client/asynchronous/__init__.py\": 1697565002.1838343, \"/opt/homebrew/lib/python3.11/site-packages/jupyter_client/blocking/client.py\": 1697565002.1840887, \"/opt/homebrew/lib/python3.11/site-packages/jupyter_client/blocking/__init__.py\": 1697565002.1840062, \"/opt/homebrew/lib/python3.11/site-packages/jupyter_client/launcher.py\": 1697565002.1825383, \"/opt/homebrew/Cellar/python@3.11/3.11.6/Frameworks/Python.framework/Versions/3.11/lib/python3.11/lib-dynload/_uuid.cpython-311-darwin.so\": 1696254354.0, \"/opt/homebrew/Cellar/python@3.11/3.11.6/Frameworks/Python.framework/Versions/3.11/lib/python3.11/uuid.py\": 1696254354.0, \"/opt/homebrew/Cellar/python@3.11/3.11.6/Frameworks/Python.framework/Versions/3.11/lib/python3.11/lib-dynload/_csv.cpython-311-darwin.so\": 1696254354.0, \"/opt/homebrew/Cellar/python@3.11/3.11.6/Frameworks/Python.framework/Versions/3.11/lib/python3.11/csv.py\": 1696254354.0, \"/opt/homebrew/Cellar/python@3.11/3.11.6/Frameworks/Python.framework/Versions/3.11/lib/python3.11/email/__init__.py\": 1696254354.0, \"/opt/homebrew/Cellar/python@3.11/3.11.6/Frameworks/Python.framework/Versions/3.11/lib/python3.11/zipfile.py\": 1696254354.0, \"/opt/homebrew/Cellar/python@3.11/3.11.6/Frameworks/Python.framework/Versions/3.11/lib/python3.11/quopri.py\": 1696254354.0, \"/opt/homebrew/Cellar/python@3.11/3.11.6/Frameworks/Python.framework/Versions/3.11/lib/python3.11/email/_parseaddr.py\": 1696254354.0, \"/opt/homebrew/Cellar/python@3.11/3.11.6/Frameworks/Python.framework/Versions/3.11/lib/python3.11/email/base64mime.py\": 1696254354.0, \"/opt/homebrew/Cellar/python@3.11/3.11.6/Frameworks/Python.framework/Versions/3.11/lib/python3.11/email/quoprimime.py\": 1696254354.0, \"/opt/homebrew/Cellar/python@3.11/3.11.6/Frameworks/Python.framework/Versions/3.11/lib/python3.11/email/errors.py\": 1696254354.0, \"/opt/homebrew/Cellar/python@3.11/3.11.6/Frameworks/Python.framework/Versions/3.11/lib/python3.11/email/encoders.py\": 1696254354.0, \"/opt/homebrew/Cellar/python@3.11/3.11.6/Frameworks/Python.framework/Versions/3.11/lib/python3.11/email/charset.py\": 1696254354.0, \"/opt/homebrew/Cellar/python@3.11/3.11.6/Frameworks/Python.framework/Versions/3.11/lib/python3.11/email/utils.py\": 1696254354.0, \"/opt/homebrew/Cellar/python@3.11/3.11.6/Frameworks/Python.framework/Versions/3.11/lib/python3.11/email/header.py\": 1696254354.0, \"/opt/homebrew/Cellar/python@3.11/3.11.6/Frameworks/Python.framework/Versions/3.11/lib/python3.11/email/_policybase.py\": 1696254354.0, \"/opt/homebrew/Cellar/python@3.11/3.11.6/Frameworks/Python.framework/Versions/3.11/lib/python3.11/email/_encoded_words.py\": 1696254354.0, \"/opt/homebrew/Cellar/python@3.11/3.11.6/Frameworks/Python.framework/Versions/3.11/lib/python3.11/email/iterators.py\": 1696254354.0, \"/opt/homebrew/Cellar/python@3.11/3.11.6/Frameworks/Python.framework/Versions/3.11/lib/python3.11/email/message.py\": 1696254354.0, \"/opt/homebrew/Cellar/python@3.11/3.11.6/Frameworks/Python.framework/Versions/3.11/lib/python3.11/importlib/metadata/_functools.py\": 1696254354.0, \"/opt/homebrew/Cellar/python@3.11/3.11.6/Frameworks/Python.framework/Versions/3.11/lib/python3.11/importlib/metadata/_text.py\": 1696254354.0, \"/opt/homebrew/Cellar/python@3.11/3.11.6/Frameworks/Python.framework/Versions/3.11/lib/python3.11/importlib/metadata/_adapters.py\": 1696254354.0, \"/opt/homebrew/Cellar/python@3.11/3.11.6/Frameworks/Python.framework/Versions/3.11/lib/python3.11/importlib/metadata/_meta.py\": 1696254354.0, \"/opt/homebrew/Cellar/python@3.11/3.11.6/Frameworks/Python.framework/Versions/3.11/lib/python3.11/importlib/metadata/_collections.py\": 1696254354.0, \"/opt/homebrew/Cellar/python@3.11/3.11.6/Frameworks/Python.framework/Versions/3.11/lib/python3.11/importlib/metadata/_itertools.py\": 1696254354.0, \"/opt/homebrew/Cellar/python@3.11/3.11.6/Frameworks/Python.framework/Versions/3.11/lib/python3.11/importlib/resources/abc.py\": 1696254354.0, \"/opt/homebrew/Cellar/python@3.11/3.11.6/Frameworks/Python.framework/Versions/3.11/lib/python3.11/importlib/resources/_adapters.py\": 1696254354.0, \"/opt/homebrew/Cellar/python@3.11/3.11.6/Frameworks/Python.framework/Versions/3.11/lib/python3.11/importlib/resources/_common.py\": 1696254354.0, \"/opt/homebrew/Cellar/python@3.11/3.11.6/Frameworks/Python.framework/Versions/3.11/lib/python3.11/importlib/resources/_legacy.py\": 1696254354.0, \"/opt/homebrew/Cellar/python@3.11/3.11.6/Frameworks/Python.framework/Versions/3.11/lib/python3.11/importlib/resources/__init__.py\": 1696254354.0, \"/opt/homebrew/Cellar/python@3.11/3.11.6/Frameworks/Python.framework/Versions/3.11/lib/python3.11/importlib/abc.py\": 1696254354.0, \"/opt/homebrew/Cellar/python@3.11/3.11.6/Frameworks/Python.framework/Versions/3.11/lib/python3.11/importlib/metadata/__init__.py\": 1696254354.0, \"/opt/homebrew/lib/python3.11/site-packages/jupyter_client/provisioning/provisioner_base.py\": 1697565002.184883, \"/opt/homebrew/lib/python3.11/site-packages/jupyter_client/provisioning/factory.py\": 1697565002.1845891, \"/opt/homebrew/lib/python3.11/site-packages/jupyter_client/provisioning/local_provisioner.py\": 1697565002.1847394, \"/opt/homebrew/lib/python3.11/site-packages/jupyter_client/provisioning/__init__.py\": 1697565002.1844409, \"/opt/homebrew/lib/python3.11/site-packages/jupyter_client/kernelspec.py\": 1697565002.1822536, \"/opt/homebrew/lib/python3.11/site-packages/jupyter_client/managerabc.py\": 1697565002.1828632, \"/opt/homebrew/lib/python3.11/site-packages/jupyter_client/manager.py\": 1697565002.182782, \"/opt/homebrew/lib/python3.11/site-packages/jupyter_client/multikernelmanager.py\": 1697565002.182964, \"/opt/homebrew/lib/python3.11/site-packages/jupyter_client/__init__.py\": 1697565002.1811182, \"/opt/homebrew/lib/python3.11/site-packages/ipykernel/connect.py\": 1697565002.5864172, \"/opt/homebrew/lib/python3.11/site-packages/ipykernel/__init__.py\": 1697565002.585899, \"/opt/homebrew/lib/python3.11/site-packages/IPython/core/__init__.py\": 1697565002.2821112, \"/opt/homebrew/lib/python3.11/site-packages/IPython/core/getipython.py\": 1697565002.2847345, \"/opt/homebrew/lib/python3.11/site-packages/IPython/core/release.py\": 1697565002.2874925, \"/opt/homebrew/Cellar/python@3.11/3.11.6/Frameworks/Python.framework/Versions/3.11/lib/python3.11/pkgutil.py\": 1696254354.0, \"/opt/homebrew/Cellar/python@3.11/3.11.6/Frameworks/Python.framework/Versions/3.11/lib/python3.11/sysconfig.py\": 1697564603.4720855, \"/opt/homebrew/Cellar/python@3.11/3.11.6/Frameworks/Python.framework/Versions/3.11/lib/python3.11/_sysconfigdata__darwin_darwin.py\": 1697564603.4705417, \"/opt/homebrew/Cellar/python@3.11/3.11.6/Frameworks/Python.framework/Versions/3.11/lib/python3.11/_osx_support.py\": 1696254354.0, \"/opt/homebrew/Cellar/python@3.11/3.11.6/Frameworks/Python.framework/Versions/3.11/lib/python3.11/pydoc.py\": 1696254354.0, \"/opt/homebrew/lib/python3.11/site-packages/executing/_exceptions.py\": 1697564999.595855, \"/opt/homebrew/lib/python3.11/site-packages/executing/_position_node_finder.py\": 1697564999.5959694, \"/opt/homebrew/lib/python3.11/site-packages/executing/executing.py\": 1697564999.5961037, \"/opt/homebrew/lib/python3.11/site-packages/executing/version.py\": 1697564999.596244, \"/opt/homebrew/lib/python3.11/site-packages/executing/__init__.py\": 1697564999.5957577, \"/opt/homebrew/lib/python3.11/site-packages/asttokens/line_numbers.py\": 1697565002.1260476, \"/opt/homebrew/lib/python3.11/site-packages/asttokens/util.py\": 1697565002.12632, \"/opt/homebrew/lib/python3.11/site-packages/asttokens/asttokens.py\": 1697565002.125963, \"/opt/homebrew/lib/python3.11/site-packages/asttokens/__init__.py\": 1697565002.125762, \"/opt/homebrew/Cellar/python@3.11/3.11.6/Frameworks/Python.framework/Versions/3.11/lib/python3.11/fractions.py\": 1696254354.0, \"/opt/homebrew/lib/python3.11/site-packages/pure_eval/utils.py\": 1697564999.5560327, \"/opt/homebrew/lib/python3.11/site-packages/pure_eval/my_getattr_static.py\": 1697564999.555817, \"/opt/homebrew/lib/python3.11/site-packages/pure_eval/core.py\": 1697564999.5557268, \"/opt/homebrew/lib/python3.11/site-packages/pure_eval/version.py\": 1697564999.556105, \"/opt/homebrew/lib/python3.11/site-packages/pure_eval/__init__.py\": 1697564999.555623, \"/opt/homebrew/lib/python3.11/site-packages/stack_data/utils.py\": 1697565002.1693425, \"/opt/homebrew/lib/python3.11/site-packages/stack_data/core.py\": 1697565002.168824, \"/opt/homebrew/lib/python3.11/site-packages/stack_data/formatting.py\": 1697565002.1689708, \"/opt/homebrew/lib/python3.11/site-packages/stack_data/serializing.py\": 1697565002.1692004, \"/opt/homebrew/lib/python3.11/site-packages/stack_data/version.py\": 1697565002.1694114, \"/opt/homebrew/lib/python3.11/site-packages/stack_data/__init__.py\": 1697565002.168691, \"/opt/homebrew/lib/python3.11/site-packages/pygments/__init__.py\": 1697564999.9818902, \"/opt/homebrew/lib/python3.11/site-packages/pygments/formatters/_mapping.py\": 1697564999.98407, \"/opt/homebrew/lib/python3.11/site-packages/pygments/plugin.py\": 1697564999.9826815, \"/opt/homebrew/lib/python3.11/site-packages/pygments/util.py\": 1697564999.98357, \"/opt/homebrew/lib/python3.11/site-packages/pygments/formatters/__init__.py\": 1697564999.9839234, \"/opt/homebrew/lib/python3.11/site-packages/pygments/styles/__init__.py\": 1697565000.0159142, \"/opt/homebrew/lib/python3.11/site-packages/pygments/formatter.py\": 1697564999.9823992, \"/opt/homebrew/lib/python3.11/site-packages/pygments/console.py\": 1697564999.9821792, \"/opt/homebrew/lib/python3.11/site-packages/pygments/token.py\": 1697564999.9832597, \"/opt/homebrew/lib/python3.11/site-packages/pygments/style.py\": 1697564999.98311, \"/opt/homebrew/lib/python3.11/site-packages/pygments/formatters/terminal256.py\": 1697564999.9855442, \"/opt/homebrew/lib/python3.11/site-packages/IPython/utils/__init__.py\": 1697565002.3068066, \"/opt/homebrew/lib/python3.11/site-packages/IPython/utils/colorable.py\": 1697565002.3077078, \"/opt/homebrew/lib/python3.11/site-packages/IPython/utils/ipstruct.py\": 1697565002.3090377, \"/opt/homebrew/lib/python3.11/site-packages/IPython/utils/coloransi.py\": 1697565002.3078632, \"/opt/homebrew/lib/python3.11/site-packages/IPython/utils/PyColorize.py\": 1697565002.3067613, \"/opt/homebrew/lib/python3.11/site-packages/IPython/utils/encoding.py\": 1697565002.3084211, \"/opt/homebrew/lib/python3.11/site-packages/IPython/utils/py3compat.py\": 1697565002.309729, \"/opt/homebrew/lib/python3.11/site-packages/IPython/core/excolors.py\": 1697565002.2843966, \"/opt/homebrew/Cellar/python@3.11/3.11.6/Frameworks/Python.framework/Versions/3.11/lib/python3.11/cmd.py\": 1696254354.0, \"/opt/homebrew/Cellar/python@3.11/3.11.6/Frameworks/Python.framework/Versions/3.11/lib/python3.11/bdb.py\": 1696254354.0, \"/opt/homebrew/Cellar/python@3.11/3.11.6/Frameworks/Python.framework/Versions/3.11/lib/python3.11/codeop.py\": 1696254354.0, \"/opt/homebrew/Cellar/python@3.11/3.11.6/Frameworks/Python.framework/Versions/3.11/lib/python3.11/code.py\": 1696254354.0, \"/opt/homebrew/Cellar/python@3.11/3.11.6/Frameworks/Python.framework/Versions/3.11/lib/python3.11/pdb.py\": 1696254354.0, \"/opt/homebrew/lib/python3.11/site-packages/IPython/core/debugger.py\": 1697565002.2834888, \"/opt/homebrew/lib/python3.11/site-packages/IPython/core/display_trap.py\": 1697565002.2838159, \"/opt/homebrew/lib/python3.11/site-packages/pexpect/exceptions.py\": 1697565000.621312, \"/opt/homebrew/lib/python3.11/site-packages/pexpect/utils.py\": 1697565000.622879, \"/opt/homebrew/lib/python3.11/site-packages/pexpect/expect.py\": 1697565000.6214125, \"/opt/homebrew/Cellar/python@3.11/3.11.6/Frameworks/Python.framework/Versions/3.11/lib/python3.11/tty.py\": 1696254354.0, \"/opt/homebrew/Cellar/python@3.11/3.11.6/Frameworks/Python.framework/Versions/3.11/lib/python3.11/pty.py\": 1696254354.0, \"/opt/homebrew/Cellar/python@3.11/3.11.6/Frameworks/Python.framework/Versions/3.11/lib/python3.11/lib-dynload/resource.cpython-311-darwin.so\": 1696254354.0, \"/opt/homebrew/lib/python3.11/site-packages/ptyprocess/util.py\": 1697564999.5608811, \"/opt/homebrew/lib/python3.11/site-packages/ptyprocess/ptyprocess.py\": 1697564999.5607967, \"/opt/homebrew/lib/python3.11/site-packages/ptyprocess/__init__.py\": 1697564999.5605862, \"/opt/homebrew/lib/python3.11/site-packages/pexpect/spawnbase.py\": 1697565000.622579, \"/opt/homebrew/lib/python3.11/site-packages/pexpect/pty_spawn.py\": 1697565000.6218343, \"/opt/homebrew/lib/python3.11/site-packages/pexpect/run.py\": 1697565000.6222441, \"/opt/homebrew/lib/python3.11/site-packages/pexpect/__init__.py\": 1697565000.6209135, \"/opt/homebrew/Cellar/python@3.11/3.11.6/Frameworks/Python.framework/Versions/3.11/lib/python3.11/shlex.py\": 1696254354.0, \"/opt/homebrew/lib/python3.11/site-packages/IPython/utils/_process_common.py\": 1697565002.3070424, \"/opt/homebrew/lib/python3.11/site-packages/IPython/utils/_process_posix.py\": 1697565002.3071823, \"/opt/homebrew/lib/python3.11/site-packages/IPython/utils/process.py\": 1697565002.3096502, \"/opt/homebrew/lib/python3.11/site-packages/IPython/utils/path.py\": 1697565002.3095596, \"/opt/homebrew/lib/python3.11/site-packages/IPython/utils/terminal.py\": 1697565002.3104112, \"/opt/homebrew/lib/python3.11/site-packages/IPython/core/ultratb.py\": 1697565002.2878723, \"/opt/homebrew/lib/python3.11/site-packages/IPython/utils/_sysinfo.py\": 1697565002.3074875, \"/opt/homebrew/lib/python3.11/site-packages/IPython/utils/sysinfo.py\": 1697565002.3101807, \"/opt/homebrew/lib/python3.11/site-packages/IPython/core/crashhandler.py\": 1697565002.283368, \"/opt/homebrew/lib/python3.11/site-packages/IPython/utils/importstring.py\": 1697565002.3087382, \"/opt/homebrew/lib/python3.11/site-packages/IPython/paths.py\": 1697565002.2819912, \"/opt/homebrew/lib/python3.11/site-packages/IPython/core/profiledir.py\": 1697565002.2872498, \"/opt/homebrew/lib/python3.11/site-packages/IPython/core/application.py\": 1697565002.2823775, \"/opt/homebrew/lib/python3.11/site-packages/IPython/terminal/__init__.py\": 1697565002.3005085, \"/opt/homebrew/lib/python3.11/site-packages/IPython/core/compilerop.py\": 1697565002.2828484, \"/opt/homebrew/lib/python3.11/site-packages/IPython/core/error.py\": 1697565002.2841182, \"/opt/homebrew/lib/python3.11/site-packages/IPython/utils/docs.py\": 1697565002.3083422, \"/opt/homebrew/lib/python3.11/site-packages/IPython/utils/decorators.py\": 1697565002.3081906, \"/opt/homebrew/lib/python3.11/site-packages/IPython/utils/text.py\": 1697565002.3105245, \"/opt/homebrew/lib/python3.11/site-packages/IPython/core/magic_arguments.py\": 1697565002.2864342, \"/opt/homebrew/Cellar/python@3.11/3.11.6/Frameworks/Python.framework/Versions/3.11/lib/python3.11/getopt.py\": 1696254354.0, \"/opt/homebrew/lib/python3.11/site-packages/IPython/core/display_functions.py\": 1697565002.2837389, \"/opt/homebrew/Cellar/python@3.11/3.11.6/Frameworks/Python.framework/Versions/3.11/lib/python3.11/mimetypes.py\": 1696254354.0, \"/opt/homebrew/lib/python3.11/site-packages/IPython/testing/__init__.py\": 1697565002.304398, \"/opt/homebrew/lib/python3.11/site-packages/IPython/testing/skipdoctest.py\": 1697565002.3048513, \"/opt/homebrew/lib/python3.11/site-packages/IPython/core/display.py\": 1697565002.2836018, \"/opt/homebrew/lib/python3.11/site-packages/IPython/lib/__init__.py\": 1697565002.2971807, \"/opt/homebrew/lib/python3.11/site-packages/IPython/lib/display.py\": 1697565002.2977414, \"/opt/homebrew/lib/python3.11/site-packages/IPython/display.py\": 1697565002.2818475, \"/opt/homebrew/lib/python3.11/site-packages/IPython/utils/data.py\": 1697565002.3081102, \"/opt/homebrew/lib/python3.11/site-packages/IPython/core/page.py\": 1697565002.2867007, \"/opt/homebrew/lib/python3.11/site-packages/IPython/lib/pretty.py\": 1697565002.2983456, \"/opt/homebrew/lib/python3.11/site-packages/IPython/utils/openpy.py\": 1697565002.3094032, \"/opt/homebrew/lib/python3.11/site-packages/IPython/utils/dir2.py\": 1697565002.3082697, \"/opt/homebrew/lib/python3.11/site-packages/IPython/utils/wildcard.py\": 1697565002.311267, \"/opt/homebrew/lib/python3.11/site-packages/pygments/lexers/_mapping.py\": 1697564999.987309, \"/opt/homebrew/lib/python3.11/site-packages/pygments/modeline.py\": 1697564999.9826071, \"/opt/homebrew/lib/python3.11/site-packages/pygments/lexers/__init__.py\": 1697564999.985711, \"/opt/homebrew/lib/python3.11/site-packages/pygments/filter.py\": 1697564999.9822557, \"/opt/homebrew/lib/python3.11/site-packages/pygments/filters/__init__.py\": 1697564999.9837015, \"/opt/homebrew/lib/python3.11/site-packages/pygments/regexopt.py\": 1697564999.98276, \"/opt/homebrew/lib/python3.11/site-packages/pygments/lexer.py\": 1697564999.9825273, \"/opt/homebrew/lib/python3.11/site-packages/pygments/unistring.py\": 1697564999.9834354, \"/opt/homebrew/lib/python3.11/site-packages/pygments/lexers/python.py\": 1697565000.0073504, \"/opt/homebrew/lib/python3.11/site-packages/pygments/formatters/html.py\": 1697564999.9844134, \"/opt/homebrew/lib/python3.11/site-packages/IPython/core/oinspect.py\": 1697565002.2865522, \"/opt/homebrew/lib/python3.11/site-packages/IPython/utils/tokenutil.py\": 1697565002.3108237, \"/opt/homebrew/lib/python3.11/site-packages/IPython/core/inputtransformer2.py\": 1697565002.2855563, \"/opt/homebrew/lib/python3.11/site-packages/IPython/core/magic.py\": 1697565002.2862995, \"/opt/homebrew/lib/python3.11/site-packages/pickleshare.py\": 1697564999.5648823, \"/opt/homebrew/lib/python3.11/site-packages/IPython/core/hooks.py\": 1697565002.285234, \"/opt/homebrew/lib/python3.11/site-packages/IPython/core/autocall.py\": 1697565002.2826214, \"/opt/homebrew/lib/python3.11/site-packages/IPython/core/macro.py\": 1697565002.2861931, \"/opt/homebrew/lib/python3.11/site-packages/IPython/core/splitinput.py\": 1697565002.287732, \"/opt/homebrew/lib/python3.11/site-packages/IPython/core/prefilter.py\": 1697565002.2869625, \"/opt/homebrew/lib/python3.11/site-packages/IPython/core/alias.py\": 1697565002.282268, \"/opt/homebrew/lib/python3.11/site-packages/IPython/core/builtin_trap.py\": 1697565002.282701, \"/opt/homebrew/lib/python3.11/site-packages/IPython/core/displayhook.py\": 1697565002.2839036, \"/opt/homebrew/lib/python3.11/site-packages/IPython/core/displaypub.py\": 1697565002.2840424, \"/opt/homebrew/lib/python3.11/site-packages/backcall/backcall.py\": 1697564999.6033473, \"/opt/homebrew/lib/python3.11/site-packages/backcall/__init__.py\": 1697564999.6031334, \"/opt/homebrew/lib/python3.11/site-packages/IPython/core/events.py\": 1697565002.284257, \"/opt/homebrew/lib/python3.11/site-packages/IPython/core/extensions.py\": 1697565002.284538, \"/opt/homebrew/lib/python3.11/site-packages/decorator.py\": 1697565000.7758522, \"/opt/homebrew/lib/python3.11/site-packages/IPython/utils/sentinel.py\": 1697565002.3098047, \"/opt/homebrew/lib/python3.11/site-packages/IPython/core/formatters.py\": 1697565002.2846553, \"/opt/homebrew/Cellar/python@3.11/3.11.6/Frameworks/Python.framework/Versions/3.11/lib/python3.11/lib-dynload/_sqlite3.cpython-311-darwin.so\": 1697564603.442236, \"/opt/homebrew/Cellar/python@3.11/3.11.6/Frameworks/Python.framework/Versions/3.11/lib/python3.11/sqlite3/dbapi2.py\": 1696254354.0, \"/opt/homebrew/Cellar/python@3.11/3.11.6/Frameworks/Python.framework/Versions/3.11/lib/python3.11/sqlite3/__init__.py\": 1696254354.0, \"/opt/homebrew/lib/python3.11/site-packages/IPython/core/history.py\": 1697565002.2849448, \"/opt/homebrew/lib/python3.11/site-packages/IPython/core/logger.py\": 1697565002.286112, \"/opt/homebrew/lib/python3.11/site-packages/IPython/core/payload.py\": 1697565002.2867744, \"/opt/homebrew/lib/python3.11/site-packages/IPython/core/usage.py\": 1697565002.2879746, \"/opt/homebrew/lib/python3.11/site-packages/IPython/utils/capture.py\": 1697565002.3076262, \"/opt/homebrew/lib/python3.11/site-packages/IPython/utils/io.py\": 1697565002.3088899, \"/opt/homebrew/lib/python3.11/site-packages/IPython/utils/strdispatch.py\": 1697565002.310038, \"/opt/homebrew/lib/python3.11/site-packages/IPython/utils/syspathcontext.py\": 1697565002.310256, \"/opt/homebrew/lib/python3.11/site-packages/IPython/core/async_helpers.py\": 1697565002.2825336, \"/opt/homebrew/lib/python3.11/site-packages/IPython/core/interactiveshell.py\": 1697565002.2858052, \"/opt/homebrew/lib/python3.11/site-packages/prompt_toolkit/application/current.py\": 1697565000.4665604, \"/opt/homebrew/lib/python3.11/site-packages/prompt_toolkit/eventloop/utils.py\": 1697565000.4699254, \"/opt/homebrew/lib/python3.11/site-packages/prompt_toolkit/eventloop/async_generator.py\": 1697565000.46967, \"/opt/homebrew/lib/python3.11/site-packages/prompt_toolkit/eventloop/inputhook.py\": 1697565000.4698303, \"/opt/homebrew/lib/python3.11/site-packages/prompt_toolkit/eventloop/__init__.py\": 1697565000.469576, \"/opt/homebrew/lib/python3.11/site-packages/prompt_toolkit/application/run_in_terminal.py\": 1697565000.4667232, \"/opt/homebrew/lib/python3.11/site-packages/prompt_toolkit/selection.py\": 1697565000.4656928, \"/opt/homebrew/lib/python3.11/site-packages/prompt_toolkit/clipboard/base.py\": 1697565000.4669254, \"/opt/homebrew/lib/python3.11/site-packages/prompt_toolkit/clipboard/in_memory.py\": 1697565000.4670095, \"/opt/homebrew/lib/python3.11/site-packages/prompt_toolkit/clipboard/__init__.py\": 1697565000.4668353, \"/opt/homebrew/lib/python3.11/site-packages/prompt_toolkit/cache.py\": 1697565000.4643533, \"/opt/homebrew/lib/python3.11/site-packages/prompt_toolkit/enums.py\": 1697565000.4646943, \"/opt/homebrew/lib/python3.11/site-packages/prompt_toolkit/filters/base.py\": 1697565000.470442, \"/opt/homebrew/lib/python3.11/site-packages/prompt_toolkit/filters/app.py\": 1697565000.470282, \"/opt/homebrew/lib/python3.11/site-packages/prompt_toolkit/filters/cli.py\": 1697565000.4705374, \"/opt/homebrew/lib/python3.11/site-packages/prompt_toolkit/filters/utils.py\": 1697565000.4706216, \"/opt/homebrew/lib/python3.11/site-packages/prompt_toolkit/filters/__init__.py\": 1697565000.4701312, \"/opt/homebrew/lib/python3.11/site-packages/prompt_toolkit/document.py\": 1697565000.4646215, \"/opt/homebrew/lib/python3.11/site-packages/prompt_toolkit/auto_suggest.py\": 1697565000.4640858, \"/opt/homebrew/lib/python3.11/site-packages/prompt_toolkit/keys.py\": 1697565000.4649878, \"/opt/homebrew/lib/python3.11/site-packages/prompt_toolkit/key_binding/key_bindings.py\": 1697565000.4732835, \"/opt/homebrew/lib/python3.11/site-packages/wcwidth/table_wide.py\": 1697564999.5312102, \"/opt/homebrew/lib/python3.11/site-packages/wcwidth/table_zero.py\": 1697564999.5314605, \"/opt/homebrew/lib/python3.11/site-packages/wcwidth/unicode_versions.py\": 1697564999.531572, \"/opt/homebrew/lib/python3.11/site-packages/wcwidth/wcwidth.py\": 1697564999.5316937, \"/opt/homebrew/lib/python3.11/site-packages/wcwidth/__init__.py\": 1697564999.5310726, \"/opt/homebrew/lib/python3.11/site-packages/prompt_toolkit/utils.py\": 1697565000.4658933, \"/opt/homebrew/lib/python3.11/site-packages/prompt_toolkit/key_binding/key_processor.py\": 1697565000.473393, \"/opt/homebrew/lib/python3.11/site-packages/prompt_toolkit/key_binding/__init__.py\": 1697565000.4728444, \"/opt/homebrew/lib/python3.11/site-packages/prompt_toolkit/key_binding/vi_state.py\": 1697565000.4734871, \"/opt/homebrew/lib/python3.11/site-packages/prompt_toolkit/cursor_shapes.py\": 1697565000.4644365, \"/opt/homebrew/lib/python3.11/site-packages/prompt_toolkit/data_structures.py\": 1697565000.4645112, \"/opt/homebrew/lib/python3.11/site-packages/prompt_toolkit/styles/base.py\": 1697565000.4802215, \"/opt/homebrew/lib/python3.11/site-packages/prompt_toolkit/styles/named_colors.py\": 1697565000.4805229, \"/opt/homebrew/lib/python3.11/site-packages/prompt_toolkit/styles/style.py\": 1697565000.4807422, \"/opt/homebrew/lib/python3.11/site-packages/prompt_toolkit/styles/defaults.py\": 1697565000.4803734, \"/opt/homebrew/lib/python3.11/site-packages/prompt_toolkit/styles/pygments.py\": 1697565000.480641, \"/opt/homebrew/Cellar/python@3.11/3.11.6/Frameworks/Python.framework/Versions/3.11/lib/python3.11/colorsys.py\": 1696254354.0, \"/opt/homebrew/lib/python3.11/site-packages/prompt_toolkit/styles/style_transformation.py\": 1697565000.4808385, \"/opt/homebrew/lib/python3.11/site-packages/prompt_toolkit/styles/__init__.py\": 1697565000.480056, \"/opt/homebrew/lib/python3.11/site-packages/prompt_toolkit/output/color_depth.py\": 1697565000.4772215, \"/opt/homebrew/lib/python3.11/site-packages/prompt_toolkit/output/base.py\": 1697565000.4771416, \"/opt/homebrew/lib/python3.11/site-packages/prompt_toolkit/output/flush_stdout.py\": 1697565000.4774582, \"/opt/homebrew/lib/python3.11/site-packages/prompt_toolkit/output/plain_text.py\": 1697565000.4775853, \"/opt/homebrew/lib/python3.11/site-packages/prompt_toolkit/output/defaults.py\": 1697565000.4773767, \"/opt/homebrew/lib/python3.11/site-packages/prompt_toolkit/output/__init__.py\": 1697565000.4770136, \"/opt/homebrew/lib/python3.11/site-packages/prompt_toolkit/output/vt100.py\": 1697565000.4776962, \"/opt/homebrew/lib/python3.11/site-packages/prompt_toolkit/mouse_events.py\": 1697565000.4651399, \"/opt/homebrew/lib/python3.11/site-packages/prompt_toolkit/formatted_text/base.py\": 1697565000.471058, \"/opt/homebrew/lib/python3.11/site-packages/prompt_toolkit/formatted_text/ansi.py\": 1697565000.4709036, \"/opt/homebrew/Cellar/python@3.11/3.11.6/Frameworks/Python.framework/Versions/3.11/lib/python3.11/xml/__init__.py\": 1696254354.0, \"/opt/homebrew/Cellar/python@3.11/3.11.6/Frameworks/Python.framework/Versions/3.11/lib/python3.11/xml/dom/domreg.py\": 1696254354.0, \"/opt/homebrew/Cellar/python@3.11/3.11.6/Frameworks/Python.framework/Versions/3.11/lib/python3.11/xml/dom/__init__.py\": 1696254354.0, \"/opt/homebrew/Cellar/python@3.11/3.11.6/Frameworks/Python.framework/Versions/3.11/lib/python3.11/xml/dom/minicompat.py\": 1696254354.0, \"/opt/homebrew/Cellar/python@3.11/3.11.6/Frameworks/Python.framework/Versions/3.11/lib/python3.11/xml/dom/NodeFilter.py\": 1696254354.0, \"/opt/homebrew/Cellar/python@3.11/3.11.6/Frameworks/Python.framework/Versions/3.11/lib/python3.11/xml/dom/xmlbuilder.py\": 1696254354.0, \"/opt/homebrew/Cellar/python@3.11/3.11.6/Frameworks/Python.framework/Versions/3.11/lib/python3.11/xml/dom/minidom.py\": 1696254354.0, \"/opt/homebrew/lib/python3.11/site-packages/prompt_toolkit/formatted_text/html.py\": 1697565000.4712193, \"/opt/homebrew/lib/python3.11/site-packages/prompt_toolkit/formatted_text/pygments.py\": 1697565000.4713163, \"/opt/homebrew/lib/python3.11/site-packages/prompt_toolkit/formatted_text/utils.py\": 1697565000.4714243, \"/opt/homebrew/lib/python3.11/site-packages/prompt_toolkit/formatted_text/__init__.py\": 1697565000.4707475, \"/opt/homebrew/lib/python3.11/site-packages/prompt_toolkit/completion/base.py\": 1697565000.4673188, \"/opt/homebrew/lib/python3.11/site-packages/prompt_toolkit/completion/deduplicate.py\": 1697565000.4674008, \"/opt/homebrew/lib/python3.11/site-packages/prompt_toolkit/completion/filesystem.py\": 1697565000.4674847, \"/opt/homebrew/lib/python3.11/site-packages/prompt_toolkit/completion/word_completer.py\": 1697565000.4678, \"/opt/homebrew/lib/python3.11/site-packages/prompt_toolkit/completion/fuzzy_completer.py\": 1697565000.467632, \"/opt/homebrew/lib/python3.11/site-packages/prompt_toolkit/completion/nested.py\": 1697565000.4677157, \"/opt/homebrew/lib/python3.11/site-packages/prompt_toolkit/completion/__init__.py\": 1697565000.46722, \"/opt/homebrew/lib/python3.11/site-packages/prompt_toolkit/history.py\": 1697565000.4648483, \"/opt/homebrew/lib/python3.11/site-packages/prompt_toolkit/search.py\": 1697565000.4656165, \"/opt/homebrew/lib/python3.11/site-packages/prompt_toolkit/validation.py\": 1697565000.4660301, \"/opt/homebrew/lib/python3.11/site-packages/prompt_toolkit/buffer.py\": 1697565000.464243, \"/opt/homebrew/lib/python3.11/site-packages/prompt_toolkit/input/base.py\": 1697565000.4717276, \"/opt/homebrew/lib/python3.11/site-packages/prompt_toolkit/input/defaults.py\": 1697565000.4718237, \"/opt/homebrew/lib/python3.11/site-packages/prompt_toolkit/input/__init__.py\": 1697565000.4715326, \"/opt/homebrew/lib/python3.11/site-packages/prompt_toolkit/input/typeahead.py\": 1697565000.472105, \"/opt/homebrew/lib/python3.11/site-packages/prompt_toolkit/key_binding/bindings/__init__.py\": 1697565000.473565, \"/opt/homebrew/lib/python3.11/site-packages/prompt_toolkit/key_binding/bindings/scroll.py\": 1697565000.474802, \"/opt/homebrew/lib/python3.11/site-packages/prompt_toolkit/key_binding/bindings/page_navigation.py\": 1697565000.474636, \"/opt/homebrew/lib/python3.11/site-packages/prompt_toolkit/lexers/base.py\": 1697565000.4767761, \"/opt/homebrew/lib/python3.11/site-packages/prompt_toolkit/lexers/pygments.py\": 1697565000.4769144, \"/opt/homebrew/lib/python3.11/site-packages/prompt_toolkit/lexers/__init__.py\": 1697565000.4766896, \"/opt/homebrew/lib/python3.11/site-packages/prompt_toolkit/layout/utils.py\": 1697565000.4765935, \"/opt/homebrew/lib/python3.11/site-packages/prompt_toolkit/layout/processors.py\": 1697565000.4762692, \"/opt/homebrew/lib/python3.11/site-packages/prompt_toolkit/layout/controls.py\": 1697565000.4754868, \"/opt/homebrew/lib/python3.11/site-packages/prompt_toolkit/layout/dimension.py\": 1697565000.475642, \"/opt/homebrew/lib/python3.11/site-packages/prompt_toolkit/layout/margins.py\": 1697565000.4759688, \"/opt/homebrew/lib/python3.11/site-packages/prompt_toolkit/layout/mouse_handlers.py\": 1697565000.4761653, \"/opt/homebrew/lib/python3.11/site-packages/prompt_toolkit/layout/screen.py\": 1697565000.4764075, \"/opt/homebrew/lib/python3.11/site-packages/prompt_toolkit/layout/containers.py\": 1697565000.475347, \"/opt/homebrew/lib/python3.11/site-packages/prompt_toolkit/layout/layout.py\": 1697565000.4758263, \"/opt/homebrew/lib/python3.11/site-packages/prompt_toolkit/layout/menus.py\": 1697565000.4760811, \"/opt/homebrew/lib/python3.11/site-packages/prompt_toolkit/layout/scrollable_pane.py\": 1697565000.4765122, \"/opt/homebrew/lib/python3.11/site-packages/prompt_toolkit/layout/__init__.py\": 1697565000.4751875, \"/opt/homebrew/lib/python3.11/site-packages/prompt_toolkit/key_binding/bindings/completion.py\": 1697565000.473959, \"/opt/homebrew/lib/python3.11/site-packages/prompt_toolkit/key_binding/bindings/named_commands.py\": 1697565000.4744468, \"/opt/homebrew/lib/python3.11/site-packages/prompt_toolkit/key_binding/bindings/basic.py\": 1697565000.473812, \"/opt/homebrew/lib/python3.11/site-packages/prompt_toolkit/key_binding/bindings/cpr.py\": 1697565000.47404, \"/opt/homebrew/lib/python3.11/site-packages/prompt_toolkit/key_binding/bindings/emacs.py\": 1697565000.4741392, \"/opt/homebrew/lib/python3.11/site-packages/prompt_toolkit/key_binding/bindings/mouse.py\": 1697565000.4743261, \"/opt/homebrew/lib/python3.11/site-packages/prompt_toolkit/input/ansi_escape_sequences.py\": 1697565000.4716408, \"/opt/homebrew/lib/python3.11/site-packages/prompt_toolkit/input/vt100_parser.py\": 1697565000.4724295, \"/opt/homebrew/lib/python3.11/site-packages/prompt_toolkit/key_binding/digraphs.py\": 1697565000.473071, \"/opt/homebrew/lib/python3.11/site-packages/prompt_toolkit/key_binding/bindings/vi.py\": 1697565000.475045, \"/opt/homebrew/lib/python3.11/site-packages/prompt_toolkit/key_binding/defaults.py\": 1697565000.472939, \"/opt/homebrew/lib/python3.11/site-packages/prompt_toolkit/key_binding/emacs_state.py\": 1697565000.4731705, \"/opt/homebrew/lib/python3.11/site-packages/prompt_toolkit/layout/dummy.py\": 1697565000.475733, \"/opt/homebrew/lib/python3.11/site-packages/prompt_toolkit/renderer.py\": 1697565000.4654577, \"/opt/homebrew/lib/python3.11/site-packages/prompt_toolkit/application/application.py\": 1697565000.4664166, \"/opt/homebrew/lib/python3.11/site-packages/prompt_toolkit/application/dummy.py\": 1697565000.466638, \"/opt/homebrew/lib/python3.11/site-packages/prompt_toolkit/application/__init__.py\": 1697565000.4662738, \"/opt/homebrew/lib/python3.11/site-packages/prompt_toolkit/key_binding/bindings/focus.py\": 1697565000.4742217, \"/opt/homebrew/lib/python3.11/site-packages/prompt_toolkit/widgets/toolbars.py\": 1697565000.4813712, \"/opt/homebrew/lib/python3.11/site-packages/prompt_toolkit/widgets/base.py\": 1697565000.4810658, \"/opt/homebrew/lib/python3.11/site-packages/prompt_toolkit/widgets/dialogs.py\": 1697565000.4811475, \"/opt/homebrew/lib/python3.11/site-packages/prompt_toolkit/widgets/menus.py\": 1697565000.4812317, \"/opt/homebrew/lib/python3.11/site-packages/prompt_toolkit/widgets/__init__.py\": 1697565000.4809594, \"/opt/homebrew/lib/python3.11/site-packages/prompt_toolkit/shortcuts/dialogs.py\": 1697565000.4791508, \"/opt/homebrew/lib/python3.11/site-packages/prompt_toolkit/shortcuts/progress_bar/formatters.py\": 1697565000.4798877, \"/opt/homebrew/lib/python3.11/site-packages/prompt_toolkit/shortcuts/progress_bar/base.py\": 1697565000.4797108, \"/opt/homebrew/lib/python3.11/site-packages/prompt_toolkit/shortcuts/progress_bar/__init__.py\": 1697565000.4795656, \"/opt/homebrew/lib/python3.11/site-packages/prompt_toolkit/key_binding/bindings/auto_suggest.py\": 1697565000.4736683, \"/opt/homebrew/lib/python3.11/site-packages/prompt_toolkit/key_binding/bindings/open_in_editor.py\": 1697565000.4745357, \"/opt/homebrew/lib/python3.11/site-packages/prompt_toolkit/shortcuts/prompt.py\": 1697565000.4792888, \"/opt/homebrew/lib/python3.11/site-packages/prompt_toolkit/shortcuts/utils.py\": 1697565000.47944, \"/opt/homebrew/lib/python3.11/site-packages/prompt_toolkit/shortcuts/__init__.py\": 1697565000.478981, \"/opt/homebrew/lib/python3.11/site-packages/prompt_toolkit/__init__.py\": 1697565000.463918, \"/opt/homebrew/lib/python3.11/site-packages/prompt_toolkit/patch_stdout.py\": 1697565000.465285, \"/opt/homebrew/Cellar/python@3.11/3.11.6/Frameworks/Python.framework/Versions/3.11/lib/python3.11/lib-dynload/unicodedata.cpython-311-darwin.so\": 1696254354.0, \"/opt/homebrew/lib/python3.11/site-packages/IPython/core/guarded_eval.py\": 1697565002.2848344, \"/opt/homebrew/lib/python3.11/site-packages/IPython/core/latex_symbols.py\": 1697565002.285968, \"/opt/homebrew/lib/python3.11/site-packages/IPython/utils/generics.py\": 1697565002.3086567, \"/opt/homebrew/lib/python3.11/site-packages/parso/utils.py\": 1697565000.6374934, \"/opt/homebrew/lib/python3.11/site-packages/parso/tree.py\": 1697565000.6373432, \"/opt/homebrew/lib/python3.11/site-packages/parso/python/__init__.py\": 1697565000.6378937, \"/opt/homebrew/lib/python3.11/site-packages/parso/python/token.py\": 1697565000.639564, \"/opt/homebrew/lib/python3.11/site-packages/parso/python/tokenize.py\": 1697565000.639661, \"/opt/homebrew/lib/python3.11/site-packages/parso/pgen2/grammar_parser.py\": 1697565000.637826, \"/opt/homebrew/lib/python3.11/site-packages/parso/pgen2/generator.py\": 1697565000.6376827, \"/opt/homebrew/lib/python3.11/site-packages/parso/pgen2/__init__.py\": 1697565000.6375902, \"/opt/homebrew/lib/python3.11/site-packages/parso/parser.py\": 1697565000.6371927, \"/opt/homebrew/lib/python3.11/site-packages/parso/_compatibility.py\": 1697565000.6365383, \"/opt/homebrew/Cellar/python@3.11/3.11.6/Frameworks/Python.framework/Versions/3.11/lib/python3.11/difflib.py\": 1696254354.0, \"/opt/homebrew/lib/python3.11/site-packages/parso/python/prefix.py\": 1697565000.639489, \"/opt/homebrew/lib/python3.11/site-packages/parso/python/tree.py\": 1697565000.639769, \"/opt/homebrew/lib/python3.11/site-packages/parso/python/parser.py\": 1697565000.639311, \"/opt/homebrew/lib/python3.11/site-packages/parso/python/diff.py\": 1697565000.6380224, \"/opt/homebrew/lib/python3.11/site-packages/parso/cache.py\": 1697565000.6366858, \"/opt/homebrew/lib/python3.11/site-packages/parso/normalizer.py\": 1697565000.637048, \"/opt/homebrew/lib/python3.11/site-packages/parso/python/errors.py\": 1697565000.6381533, \"/opt/homebrew/lib/python3.11/site-packages/parso/python/pep8.py\": 1697565000.6394114, \"/opt/homebrew/lib/python3.11/site-packages/parso/file_io.py\": 1697565000.6367693, \"/opt/homebrew/lib/python3.11/site-packages/parso/grammar.py\": 1697565000.6369066, \"/opt/homebrew/lib/python3.11/site-packages/parso/__init__.py\": 1697565000.6364505, \"/opt/homebrew/lib/python3.11/site-packages/jedi/parser_utils.py\": 1697565001.6886654, \"/opt/homebrew/lib/python3.11/site-packages/jedi/debug.py\": 1697565001.6884434, \"/opt/homebrew/lib/python3.11/site-packages/jedi/settings.py\": 1697565001.688749, \"/opt/homebrew/lib/python3.11/site-packages/jedi/cache.py\": 1697565001.6881912, \"/opt/homebrew/lib/python3.11/site-packages/jedi/file_io.py\": 1697565001.688521, \"/opt/homebrew/lib/python3.11/site-packages/jedi/inference/cache.py\": 1697565001.6911435, \"/opt/homebrew/lib/python3.11/site-packages/jedi/inference/helpers.py\": 1697565001.6921701, \"/opt/homebrew/lib/python3.11/site-packages/jedi/inference/utils.py\": 1697565001.693604, \"/opt/homebrew/lib/python3.11/site-packages/jedi/inference/base_value.py\": 1697565001.6910055, \"/opt/homebrew/lib/python3.11/site-packages/jedi/inference/sys_path.py\": 1697565001.6935244, \"/opt/homebrew/lib/python3.11/site-packages/jedi/inference/recursion.py\": 1697565001.6928318, \"/opt/homebrew/lib/python3.11/site-packages/jedi/inference/flow_analysis.py\": 1697565001.6920185, \"/opt/homebrew/lib/python3.11/site-packages/jedi/common.py\": 1697565001.6882677, \"/opt/homebrew/lib/python3.11/site-packages/jedi/inference/lazy_value.py\": 1697565001.6923568, \"/opt/homebrew/lib/python3.11/site-packages/jedi/inference/docstrings.py\": 1697565001.6914694, \"/opt/homebrew/lib/python3.11/site-packages/jedi/plugins/__init__.py\": 1697565001.6979406, \"/opt/homebrew/lib/python3.11/site-packages/jedi/inference/names.py\": 1697565001.6924515, \"/opt/homebrew/lib/python3.11/site-packages/jedi/inference/filters.py\": 1697565001.6917167, \"/opt/homebrew/lib/python3.11/site-packages/jedi/inference/compiled/getattr_static.py\": 1697565001.6943667, \"/opt/homebrew/lib/python3.11/site-packages/jedi/inference/compiled/access.py\": 1697565001.6938055, \"/opt/homebrew/lib/python3.11/site-packages/jedi/inference/signature.py\": 1697565001.6931198, \"/opt/homebrew/lib/python3.11/site-packages/jedi/inference/context.py\": 1697565001.691246, \"/opt/homebrew/lib/python3.11/site-packages/jedi/inference/compiled/value.py\": 1697565001.694642, \"/opt/homebrew/lib/python3.11/site-packages/jedi/inference/compiled/__init__.py\": 1697565001.6937041, \"/opt/homebrew/lib/python3.11/site-packages/jedi/inference/analysis.py\": 1697565001.6907663, \"/opt/homebrew/lib/python3.11/site-packages/jedi/inference/gradual/__init__.py\": 1697565001.6951725, \"/opt/homebrew/lib/python3.11/site-packages/jedi/inference/value/module.py\": 1697565001.697758, \"/opt/homebrew/lib/python3.11/site-packages/jedi/inference/value/dynamic_arrays.py\": 1697565001.6971877, \"/opt/homebrew/lib/python3.11/site-packages/jedi/inference/value/iterable.py\": 1697565001.6975155, \"/opt/homebrew/lib/python3.11/site-packages/jedi/inference/arguments.py\": 1697565001.6909063, \"/opt/homebrew/lib/python3.11/site-packages/jedi/inference/parser_cache.py\": 1697565001.6926818, \"/opt/homebrew/lib/python3.11/site-packages/jedi/inference/gradual/generics.py\": 1697565001.695743, \"/opt/homebrew/lib/python3.11/site-packages/jedi/inference/value/function.py\": 1697565001.697308, \"/opt/homebrew/lib/python3.11/site-packages/jedi/inference/value/klass.py\": 1697565001.6976078, \"/opt/homebrew/lib/python3.11/site-packages/jedi/inference/value/instance.py\": 1697565001.6974156, \"/opt/homebrew/lib/python3.11/site-packages/jedi/inference/value/__init__.py\": 1697565001.6969097, \"/opt/homebrew/lib/python3.11/site-packages/jedi/inference/gradual/base.py\": 1697565001.695458, \"/opt/homebrew/lib/python3.11/site-packages/jedi/inference/gradual/type_var.py\": 1697565001.6962998, \"/opt/homebrew/lib/python3.11/site-packages/jedi/inference/gradual/typing.py\": 1697565001.696656, \"/opt/homebrew/lib/python3.11/site-packages/jedi/inference/gradual/stub_value.py\": 1697565001.6959956, \"/opt/homebrew/lib/python3.11/site-packages/jedi/inference/gradual/typeshed.py\": 1697565001.6964738, \"/opt/homebrew/lib/python3.11/site-packages/jedi/_compatibility.py\": 1697565001.6881073, \"/opt/homebrew/lib/python3.11/site-packages/jedi/inference/compiled/subprocess/functions.py\": 1697565001.6950555, \"/opt/homebrew/lib/python3.11/site-packages/jedi/api/exceptions.py\": 1697565001.6895564, \"/opt/homebrew/lib/python3.11/site-packages/jedi/inference/compiled/subprocess/__init__.py\": 1697565001.69477, \"/opt/homebrew/lib/python3.11/site-packages/jedi/inference/imports.py\": 1697565001.6922722, \"/opt/homebrew/lib/python3.11/site-packages/jedi/inference/param.py\": 1697565001.6926, \"/opt/homebrew/lib/python3.11/site-packages/jedi/inference/gradual/annotation.py\": 1697565001.6953325, \"/opt/homebrew/lib/python3.11/site-packages/jedi/inference/value/decorator.py\": 1697565001.6970081, \"/opt/homebrew/lib/python3.11/site-packages/jedi/inference/syntax_tree.py\": 1697565001.693378, \"/opt/homebrew/lib/python3.11/site-packages/jedi/inference/__init__.py\": 1697565001.6906264, \"/opt/homebrew/lib/python3.11/site-packages/jedi/inference/gradual/conversion.py\": 1697565001.6956472, \"/opt/homebrew/lib/python3.11/site-packages/jedi/inference/compiled/mixed.py\": 1697565001.6945393, \"/opt/homebrew/Cellar/python@3.11/3.11.6/Frameworks/Python.framework/Versions/3.11/lib/python3.11/pydoc_data/__init__.py\": 1696254354.0, \"/opt/homebrew/Cellar/python@3.11/3.11.6/Frameworks/Python.framework/Versions/3.11/lib/python3.11/pydoc_data/topics.py\": 1696254354.0, \"/opt/homebrew/lib/python3.11/site-packages/jedi/api/keywords.py\": 1697565001.6899633, \"/opt/homebrew/lib/python3.11/site-packages/jedi/api/completion_cache.py\": 1697565001.6893032, \"/opt/homebrew/lib/python3.11/site-packages/jedi/api/helpers.py\": 1697565001.6897974, \"/opt/homebrew/lib/python3.11/site-packages/jedi/api/classes.py\": 1697565001.689132, \"/opt/homebrew/lib/python3.11/site-packages/jedi/api/interpreter.py\": 1697565001.6898847, \"/opt/homebrew/lib/python3.11/site-packages/jedi/api/strings.py\": 1697565001.690214, \"/opt/homebrew/lib/python3.11/site-packages/jedi/api/file_name.py\": 1697565001.6896958, \"/opt/homebrew/lib/python3.11/site-packages/jedi/inference/docstring_utils.py\": 1697565001.6913254, \"/opt/homebrew/lib/python3.11/site-packages/jedi/api/completion.py\": 1697565001.68923, \"/opt/homebrew/Cellar/python@3.11/3.11.6/Frameworks/Python.framework/Versions/3.11/lib/python3.11/filecmp.py\": 1696254354.0, \"/opt/homebrew/lib/python3.11/site-packages/jedi/api/environment.py\": 1697565001.6893942, \"/opt/homebrew/lib/python3.11/site-packages/jedi/inference/references.py\": 1697565001.6929772, \"/opt/homebrew/lib/python3.11/site-packages/jedi/api/project.py\": 1697565001.6900651, \"/opt/homebrew/lib/python3.11/site-packages/jedi/api/errors.py\": 1697565001.6894772, \"/opt/homebrew/lib/python3.11/site-packages/jedi/inference/value/namespace.py\": 1697565001.697839, \"/opt/homebrew/lib/python3.11/site-packages/jedi/api/refactoring/__init__.py\": 1697565001.690382, \"/opt/homebrew/lib/python3.11/site-packages/jedi/api/refactoring/extract.py\": 1697565001.690466, \"/opt/homebrew/lib/python3.11/site-packages/jedi/inference/gradual/utils.py\": 1697565001.6967812, \"/opt/homebrew/lib/python3.11/site-packages/jedi/api/__init__.py\": 1697565001.689027, \"/opt/homebrew/lib/python3.11/site-packages/jedi/plugins/stdlib.py\": 1697565001.698491, \"/opt/homebrew/lib/python3.11/site-packages/jedi/plugins/flask.py\": 1697565001.698163, \"/opt/homebrew/lib/python3.11/site-packages/jedi/plugins/pytest.py\": 1697565001.6983078, \"/opt/homebrew/lib/python3.11/site-packages/jedi/plugins/django.py\": 1697565001.6980863, \"/opt/homebrew/lib/python3.11/site-packages/jedi/plugins/registry.py\": 1697565001.6983829, \"/opt/homebrew/lib/python3.11/site-packages/jedi/__init__.py\": 1697565001.6879401, \"/opt/homebrew/lib/python3.11/site-packages/IPython/core/completer.py\": 1697565002.2830567, \"/opt/homebrew/lib/python3.11/site-packages/IPython/terminal/ptutils.py\": 1697565002.3016324, \"/opt/homebrew/lib/python3.11/site-packages/IPython/terminal/shortcuts/auto_match.py\": 1697565002.3031816, \"/opt/homebrew/lib/python3.11/site-packages/IPython/terminal/shortcuts/filters.py\": 1697565002.3036232, \"/opt/homebrew/lib/python3.11/site-packages/IPython/terminal/shortcuts/auto_suggest.py\": 1697565002.303274, \"/opt/homebrew/lib/python3.11/site-packages/IPython/terminal/shortcuts/__init__.py\": 1697565002.303103, \"/opt/homebrew/Cellar/python@3.11/3.11.6/Frameworks/Python.framework/Versions/3.11/lib/python3.11/concurrent/futures/thread.py\": 1696254354.0, \"/opt/homebrew/lib/python3.11/site-packages/IPython/terminal/debugger.py\": 1697565002.3007615, \"/opt/homebrew/lib/python3.11/site-packages/IPython/lib/clipboard.py\": 1697565002.2973714, \"/opt/homebrew/lib/python3.11/site-packages/IPython/terminal/magics.py\": 1697565002.3013713, \"/opt/homebrew/lib/python3.11/site-packages/IPython/terminal/pt_inputhooks/__init__.py\": 1697565002.3017504, \"/opt/homebrew/lib/python3.11/site-packages/IPython/terminal/prompts.py\": 1697565002.3014734, \"/opt/homebrew/lib/python3.11/site-packages/IPython/terminal/interactiveshell.py\": 1697565002.3009784, \"/opt/homebrew/lib/python3.11/site-packages/IPython/core/magics/auto.py\": 1697565002.2883694, \"/opt/homebrew/lib/python3.11/site-packages/IPython/core/magics/basic.py\": 1697565002.2884727, \"/opt/homebrew/Cellar/python@3.11/3.11.6/Frameworks/Python.framework/Versions/3.11/lib/python3.11/http/__init__.py\": 1696254354.0, \"/opt/homebrew/Cellar/python@3.11/3.11.6/Frameworks/Python.framework/Versions/3.11/lib/python3.11/email/feedparser.py\": 1696254354.0, \"/opt/homebrew/Cellar/python@3.11/3.11.6/Frameworks/Python.framework/Versions/3.11/lib/python3.11/email/parser.py\": 1696254354.0, \"/opt/homebrew/Cellar/python@3.11/3.11.6/Frameworks/Python.framework/Versions/3.11/lib/python3.11/http/client.py\": 1696254354.0, \"/opt/homebrew/Cellar/python@3.11/3.11.6/Frameworks/Python.framework/Versions/3.11/lib/python3.11/urllib/response.py\": 1696254354.0, \"/opt/homebrew/Cellar/python@3.11/3.11.6/Frameworks/Python.framework/Versions/3.11/lib/python3.11/urllib/error.py\": 1696254354.0, \"/opt/homebrew/Cellar/python@3.11/3.11.6/Frameworks/Python.framework/Versions/3.11/lib/python3.11/lib-dynload/_scproxy.cpython-311-darwin.so\": 1696254354.0, \"/opt/homebrew/Cellar/python@3.11/3.11.6/Frameworks/Python.framework/Versions/3.11/lib/python3.11/urllib/request.py\": 1696254354.0, \"/opt/homebrew/lib/python3.11/site-packages/IPython/utils/contexts.py\": 1697565002.3079495, \"/opt/homebrew/lib/python3.11/site-packages/IPython/core/magics/code.py\": 1697565002.2885818, \"/opt/homebrew/lib/python3.11/site-packages/IPython/core/magics/config.py\": 1697565002.288722, \"/opt/homebrew/lib/python3.11/site-packages/IPython/core/magics/display.py\": 1697565002.288802, \"/opt/homebrew/Cellar/python@3.11/3.11.6/Frameworks/Python.framework/Versions/3.11/lib/python3.11/lib-dynload/_lsprof.cpython-311-darwin.so\": 1696254354.0, \"/opt/homebrew/Cellar/python@3.11/3.11.6/Frameworks/Python.framework/Versions/3.11/lib/python3.11/profile.py\": 1696254354.0, \"/opt/homebrew/Cellar/python@3.11/3.11.6/Frameworks/Python.framework/Versions/3.11/lib/python3.11/cProfile.py\": 1696254354.0, \"/opt/homebrew/Cellar/python@3.11/3.11.6/Frameworks/Python.framework/Versions/3.11/lib/python3.11/pstats.py\": 1696254354.0, \"/opt/homebrew/Cellar/python@3.11/3.11.6/Frameworks/Python.framework/Versions/3.11/lib/python3.11/timeit.py\": 1696254354.0, \"/opt/homebrew/lib/python3.11/site-packages/IPython/utils/module_paths.py\": 1697565002.3093252, \"/opt/homebrew/lib/python3.11/site-packages/IPython/utils/timing.py\": 1697565002.3106794, \"/opt/homebrew/lib/python3.11/site-packages/IPython/core/magics/ast_mod.py\": 1697565002.2882264, \"/opt/homebrew/lib/python3.11/site-packages/IPython/core/magics/execution.py\": 1697565002.2889478, \"/opt/homebrew/lib/python3.11/site-packages/IPython/core/magics/extension.py\": 1697565002.2890358, \"/opt/homebrew/lib/python3.11/site-packages/IPython/core/magics/history.py\": 1697565002.289128, \"/opt/homebrew/lib/python3.11/site-packages/IPython/core/magics/logging.py\": 1697565002.2892761, \"/opt/homebrew/lib/python3.11/site-packages/IPython/core/magics/namespace.py\": 1697565002.2893808, \"/opt/homebrew/lib/python3.11/site-packages/IPython/core/magics/osm.py\": 1697565002.2894936, \"/opt/homebrew/lib/python3.11/site-packages/IPython/core/magics/packaging.py\": 1697565002.2895715, \"/opt/homebrew/lib/python3.11/site-packages/IPython/core/pylabtools.py\": 1697565002.287408, \"/opt/homebrew/lib/python3.11/site-packages/IPython/core/magics/pylab.py\": 1697565002.2897158, \"/opt/homebrew/lib/python3.11/site-packages/IPython/core/magics/script.py\": 1697565002.2898092, \"/opt/homebrew/lib/python3.11/site-packages/IPython/core/magics/__init__.py\": 1697565002.2880836, \"/opt/homebrew/lib/python3.11/site-packages/IPython/core/shellapp.py\": 1697565002.2875843, \"/opt/homebrew/lib/python3.11/site-packages/IPython/extensions/__init__.py\": 1697565002.2959673, \"/opt/homebrew/lib/python3.11/site-packages/IPython/extensions/storemagic.py\": 1697565002.2962184, \"/opt/homebrew/lib/python3.11/site-packages/IPython/terminal/ipapp.py\": 1697565002.3010714, \"/opt/homebrew/lib/python3.11/site-packages/IPython/terminal/embed.py\": 1697565002.3008583, \"/opt/homebrew/lib/python3.11/site-packages/IPython/utils/frame.py\": 1697565002.3085654, \"/opt/homebrew/lib/python3.11/site-packages/IPython/__init__.py\": 1697565002.281522, \"/opt/homebrew/lib/python3.11/site-packages/ipykernel/control.py\": 1697565002.5864995, \"/opt/homebrew/lib/python3.11/site-packages/ipykernel/heartbeat.py\": 1697565002.5871122, \"/opt/homebrew/lib/python3.11/site-packages/ipykernel/iostream.py\": 1697565002.587221, \"/opt/homebrew/lib/python3.11/site-packages/comm/base_comm.py\": 1697565001.9876688, \"/opt/homebrew/lib/python3.11/site-packages/comm/__init__.py\": 1697565001.9875007, \"/opt/homebrew/lib/python3.11/site-packages/ipykernel/jsonutil.py\": 1697565002.5874803, \"/opt/homebrew/lib/python3.11/site-packages/psutil/_common.py\": 1697565000.3831034, \"/opt/homebrew/lib/python3.11/site-packages/psutil/_compat.py\": 1697565000.3838918, \"/opt/homebrew/lib/python3.11/site-packages/psutil/_psutil_osx.abi3.so\": 1697565000.3829443, \"/opt/homebrew/lib/python3.11/site-packages/psutil/_psposix.py\": 1697565000.3840296, \"/opt/homebrew/lib/python3.11/site-packages/psutil/_psutil_posix.abi3.so\": 1697565000.382636, \"/opt/homebrew/lib/python3.11/site-packages/psutil/_psosx.py\": 1697565000.3833973, \"/opt/homebrew/lib/python3.11/site-packages/psutil/__init__.py\": 1697565000.38328, \"/opt/homebrew/lib/python3.11/site-packages/tornado/gen.py\": 1697564999.7160335, \"/opt/homebrew/lib/python3.11/site-packages/tornado/locks.py\": 1697564999.7164922, \"/opt/homebrew/lib/python3.11/site-packages/tornado/queues.py\": 1697564999.7156432, \"/opt/homebrew/lib/python3.11/site-packages/ipykernel/kernelbase.py\": 1697565002.5878122, \"/opt/homebrew/lib/python3.11/site-packages/ipykernel/comm/comm.py\": 1697565002.588975, \"/opt/homebrew/lib/python3.11/site-packages/ipykernel/comm/manager.py\": 1697565002.5892015, \"/opt/homebrew/lib/python3.11/site-packages/ipykernel/comm/__init__.py\": 1697565002.5888836, \"/opt/homebrew/lib/python3.11/site-packages/ipykernel/compiler.py\": 1697565002.5863261, \"/opt/homebrew/lib/python3.11/site-packages/debugpy/_version.py\": 1697565000.781465, \"/opt/homebrew/lib/python3.11/site-packages/debugpy/public_api.py\": 1697565000.7816174, \"/opt/homebrew/lib/python3.11/site-packages/debugpy/__init__.py\": 1697565000.7812974, \"/opt/homebrew/lib/python3.11/site-packages/debugpy/_vendored/_util.py\": 1697565000.78189, \"/opt/homebrew/lib/python3.11/site-packages/debugpy/_vendored/__init__.py\": 1697565000.7817283, \"/opt/homebrew/lib/python3.11/site-packages/debugpy/_vendored/pydevd/_pydevd_bundle/__init__.py\": 1697565000.7877367, \"/opt/homebrew/Cellar/python@3.11/3.11.6/Frameworks/Python.framework/Versions/3.11/lib/python3.11/encodings/ascii.py\": 1696254354.0, \"/opt/homebrew/Cellar/python@3.11/3.11.6/Frameworks/Python.framework/Versions/3.11/lib/python3.11/encodings/latin_1.py\": 1696254354.0, \"/opt/homebrew/Cellar/python@3.11/3.11.6/Frameworks/Python.framework/Versions/3.11/lib/python3.11/stringprep.py\": 1696254354.0, \"/opt/homebrew/Cellar/python@3.11/3.11.6/Frameworks/Python.framework/Versions/3.11/lib/python3.11/encodings/idna.py\": 1696254354.0, \"/opt/homebrew/lib/python3.11/site-packages/debugpy/_vendored/pydevd/_pydevd_bundle/pydevd_vm_type.py\": 1697565000.7983918, \"/opt/homebrew/lib/python3.11/site-packages/debugpy/_vendored/pydevd/_pydev_bundle/__init__.py\": 1697565000.783779, \"/opt/homebrew/Cellar/python@3.11/3.11.6/Frameworks/Python.framework/Versions/3.11/lib/python3.11/xmlrpc/__init__.py\": 1696254354.0, \"/opt/homebrew/Cellar/python@3.11/3.11.6/Frameworks/Python.framework/Versions/3.11/lib/python3.11/xml/parsers/__init__.py\": 1696254354.0, \"/opt/homebrew/Cellar/python@3.11/3.11.6/Frameworks/Python.framework/Versions/3.11/lib/python3.11/lib-dynload/pyexpat.cpython-311-darwin.so\": 1696254354.0, \"/opt/homebrew/Cellar/python@3.11/3.11.6/Frameworks/Python.framework/Versions/3.11/lib/python3.11/xml/parsers/expat.py\": 1696254354.0, \"/opt/homebrew/Cellar/python@3.11/3.11.6/Frameworks/Python.framework/Versions/3.11/lib/python3.11/gzip.py\": 1696254354.0, \"/opt/homebrew/Cellar/python@3.11/3.11.6/Frameworks/Python.framework/Versions/3.11/lib/python3.11/xmlrpc/client.py\": 1696254354.0, \"/opt/homebrew/Cellar/python@3.11/3.11.6/Frameworks/Python.framework/Versions/3.11/lib/python3.11/http/server.py\": 1696254354.0, \"/opt/homebrew/Cellar/python@3.11/3.11.6/Frameworks/Python.framework/Versions/3.11/lib/python3.11/xmlrpc/server.py\": 1696254354.0, \"/opt/homebrew/lib/python3.11/site-packages/debugpy/_vendored/pydevd/_pydev_bundle/_pydev_saved_modules.py\": 1697565000.7847762, \"/opt/homebrew/lib/python3.11/site-packages/debugpy/_vendored/pydevd/_pydevd_bundle/pydevd_constants.py\": 1697565000.789817, \"/opt/homebrew/lib/python3.11/site-packages/debugpy/_vendored/pydevd/_pydev_runfiles/__init__.py\": 1697565000.786484, \"/opt/homebrew/lib/python3.11/site-packages/debugpy/_vendored/pydevd/_pydevd_frame_eval/__init__.py\": 1697565000.8001993, \"/opt/homebrew/lib/python3.11/site-packages/debugpy/_vendored/pydevd/pydev_ipython/__init__.py\": 1697565000.8056948, \"/opt/homebrew/lib/python3.11/site-packages/debugpy/_vendored/pydevd/_pydev_bundle/pydev_log.py\": 1697565000.7857056, \"/opt/homebrew/lib/python3.11/site-packages/debugpy/_vendored/pydevd/_pydev_bundle/_pydev_filesystem_encoding.py\": 1697565000.7842228, \"/opt/homebrew/lib/python3.11/site-packages/debugpy/_vendored/pydevd/_pydevd_bundle/pydevd_comm_constants.py\": 1697565000.7893722, \"/opt/homebrew/lib/python3.11/site-packages/debugpy/_vendored/pydevd/pydevd_file_utils.py\": 1697565000.783213, \"/opt/homebrew/lib/python3.11/site-packages/debugpy/_vendored/pydevd/_pydev_bundle/_pydev_execfile.py\": 1697565000.7841475, \"/opt/homebrew/lib/python3.11/site-packages/debugpy/_vendored/pydevd/_pydevd_bundle/pydevd_exec2.py\": 1697565000.7940679, \"/opt/homebrew/lib/python3.11/site-packages/debugpy/_vendored/pydevd/_pydev_bundle/pydev_imports.py\": 1697565000.7851949, \"/opt/homebrew/lib/python3.11/site-packages/debugpy/_vendored/pydevd/_pydev_bundle/pydev_is_thread_alive.py\": 1697565000.7854755, \"/opt/homebrew/lib/python3.11/site-packages/debugpy/_vendored/pydevd/_pydev_bundle/pydev_override.py\": 1697565000.786071, \"/opt/homebrew/lib/python3.11/site-packages/debugpy/_vendored/pydevd/_pydevd_bundle/pydevd_extension_utils.py\": 1697565000.7942708, \"/opt/homebrew/lib/python3.11/site-packages/debugpy/_vendored/pydevd/_pydevd_bundle/pydevd_frame_utils.py\": 1697565000.794606, \"/opt/homebrew/lib/python3.11/site-packages/debugpy/_vendored/pydevd/_pydevd_bundle/pydevd_filtering.py\": 1697565000.7943616, \"/opt/homebrew/lib/python3.11/site-packages/debugpy/_vendored/pydevd/_pydevd_bundle/pydevd_io.py\": 1697565000.7949495, \"/opt/homebrew/lib/python3.11/site-packages/debugpy/_vendored/pydevd/_pydevd_bundle/pydevd_defaults.py\": 1697565000.7937267, \"/opt/homebrew/lib/python3.11/site-packages/debugpy/_vendored/pydevd/_pydevd_bundle/pydevd_utils.py\": 1697565000.7981918, \"/opt/homebrew/lib/python3.11/site-packages/debugpy/_vendored/pydevd/_pydevd_bundle/pydevd_runpy.py\": 1697565000.7967117, \"/opt/homebrew/lib/python3.11/site-packages/debugpy/_vendored/pydevd/_pydev_bundle/_pydev_tipper_common.py\": 1697565000.7849357, \"/opt/homebrew/lib/python3.11/site-packages/debugpy/_vendored/pydevd/_pydev_bundle/_pydev_imports_tipper.py\": 1697565000.7844577, \"/opt/homebrew/lib/python3.11/site-packages/debugpy/_vendored/pydevd/_pydev_bundle/_pydev_calltip_util.py\": 1697565000.7839293, \"/opt/homebrew/lib/python3.11/site-packages/debugpy/_vendored/pydevd/_pydevd_bundle/pydevd_safe_repr.py\": 1697565000.7968023, \"/opt/homebrew/lib/python3.11/site-packages/debugpy/_vendored/pydevd/_pydevd_bundle/pydevd_resolver.py\": 1697565000.7966182, \"/opt/homebrew/lib/python3.11/site-packages/debugpy/_vendored/pydevd/_pydevd_bundle/pydevd_extension_api.py\": 1697565000.7941804, \"/opt/homebrew/lib/python3.11/site-packages/debugpy/_vendored/pydevd/_pydevd_bundle/pydevd_xml.py\": 1697565000.7984836, \"/opt/homebrew/lib/python3.11/site-packages/debugpy/_vendored/pydevd/_pydevd_bundle/pydevd_dont_trace.py\": 1697565000.7938173, \"/opt/homebrew/lib/python3.11/site-packages/debugpy/_vendored/pydevd/_pydevd_frame_eval/vendored/__init__.py\": 1697565000.802216, \"/opt/homebrew/lib/python3.11/site-packages/debugpy/_vendored/pydevd/_pydevd_frame_eval/vendored/bytecode/flags.py\": 1697565000.8029974, \"/opt/homebrew/lib/python3.11/site-packages/debugpy/_vendored/pydevd/_pydevd_frame_eval/vendored/bytecode/instr.py\": 1697565000.8031397, \"/opt/homebrew/lib/python3.11/site-packages/debugpy/_vendored/pydevd/_pydevd_frame_eval/vendored/bytecode/bytecode.py\": 1697565000.8026628, \"/opt/homebrew/lib/python3.11/site-packages/debugpy/_vendored/pydevd/_pydevd_frame_eval/vendored/bytecode/concrete.py\": 1697565000.8028526, \"/opt/homebrew/lib/python3.11/site-packages/debugpy/_vendored/pydevd/_pydevd_frame_eval/vendored/bytecode/cfg.py\": 1697565000.802755, \"/opt/homebrew/lib/python3.11/site-packages/debugpy/_vendored/pydevd/_pydevd_frame_eval/vendored/bytecode/__init__.py\": 1697565000.8025045, \"/opt/homebrew/lib/python3.11/site-packages/debugpy/_vendored/pydevd/_pydevd_bundle/pydevd_bytecode_utils.py\": 1697565000.7887743, \"/opt/homebrew/lib/python3.11/site-packages/debugpy/_vendored/pydevd/_pydevd_bundle/pydevd_cython.cpython-311-darwin.so\": 1697565000.7930965, \"/opt/homebrew/lib/python3.11/site-packages/debugpy/_vendored/pydevd/_pydevd_bundle/pydevd_cython_wrapper.py\": 1697565000.7934926, \"/opt/homebrew/lib/python3.11/site-packages/debugpy/_vendored/pydevd/_pydevd_bundle/pydevd_additional_thread_info.py\": 1697565000.7879462, \"/opt/homebrew/lib/python3.11/site-packages/debugpy/_vendored/pydevd/_pydevd_bundle/pydevd_thread_lifecycle.py\": 1697565000.7974572, \"/opt/homebrew/lib/python3.11/site-packages/debugpy/_vendored/pydevd/_pydevd_bundle/pydevd_save_locals.py\": 1697565000.7968838, \"/opt/homebrew/lib/python3.11/site-packages/debugpy/_vendored/pydevd/_pydev_bundle/pydev_monkey.py\": 1697565000.7858295, \"/opt/homebrew/lib/python3.11/site-packages/debugpy/_vendored/pydevd/pydevd_tracing.py\": 1697565000.7833192, \"/opt/homebrew/lib/python3.11/site-packages/debugpy/_vendored/pydevd/_pydevd_bundle/pydevd_collect_bytecode_info.py\": 1697565000.7889848, \"/opt/homebrew/lib/python3.11/site-packages/debugpy/_vendored/pydevd/_pydevd_bundle/pydevd_daemon_thread.py\": 1697565000.7936373, \"/opt/homebrew/lib/python3.11/site-packages/debugpy/_vendored/pydevd/_pydevd_bundle/pydevd_timeout.py\": 1697565000.7976007, \"/opt/homebrew/lib/python3.11/site-packages/debugpy/_vendored/pydevd/_pydevd_bundle/pydevd_vars.py\": 1697565000.79831, \"/opt/homebrew/lib/python3.11/site-packages/debugpy/_vendored/pydevd/_pydev_bundle/pydev_console_utils.py\": 1697565000.7850418, \"/opt/homebrew/lib/python3.11/site-packages/debugpy/_vendored/pydevd/_pydevd_bundle/pydevd_import_class.py\": 1697565000.7948027, \"/opt/homebrew/lib/python3.11/site-packages/debugpy/_vendored/pydevd/_pydevd_bundle/pydevd_breakpoints.py\": 1697565000.7886639, \"/opt/homebrew/lib/python3.11/site-packages/debugpy/_vendored/pydevd/_pydevd_bundle/pydevd_custom_frames.py\": 1697565000.790106, \"/opt/homebrew/lib/python3.11/site-packages/debugpy/_vendored/pydevd/_pydevd_bundle/pydevd_dont_trace_files.py\": 1697565000.7939649, \"/opt/homebrew/lib/python3.11/site-packages/debugpy/_vendored/pydevd/_pydevd_bundle/pydevd_net_command.py\": 1697565000.795585, \"/opt/homebrew/lib/python3.11/site-packages/debugpy/_vendored/pydevd/_pydevd_bundle/pydevconsole_code.py\": 1697565000.7878613, \"/opt/homebrew/lib/python3.11/site-packages/debugpy/_vendored/pydevd/_pydev_bundle/pydev_umd.py\": 1697565000.7862136, \"/opt/homebrew/lib/python3.11/site-packages/debugpy/_vendored/pydevd/pydevconsole.py\": 1697565000.7828314, \"/opt/homebrew/lib/python3.11/site-packages/debugpy/_vendored/pydevd/_pydev_bundle/_pydev_completer.py\": 1697565000.7840676, \"/opt/homebrew/lib/python3.11/site-packages/debugpy/_vendored/pydevd/_pydevd_bundle/pydevd_net_command_factory_xml.py\": 1697565000.795904, \"/opt/homebrew/lib/python3.11/site-packages/debugpy/_vendored/pydevd/_pydevd_bundle/pydevd_frame.py\": 1697565000.7945063, \"/opt/homebrew/lib/python3.11/site-packages/debugpy/_vendored/pydevd/_pydevd_bundle/pydevd_additional_thread_info_regular.py\": 1697565000.7880971, \"/opt/homebrew/lib/python3.11/site-packages/debugpy/_vendored/pydevd/_pydevd_bundle/pydevd_trace_dispatch.py\": 1697565000.797768, \"/opt/homebrew/lib/python3.11/site-packages/debugpy/_vendored/pydevd/_pydevd_frame_eval/pydevd_frame_eval_main.py\": 1697565000.8003662, \"/opt/homebrew/lib/python3.11/site-packages/debugpy/_vendored/pydevd/_pydevd_bundle/pydevd_source_mapping.py\": 1697565000.7971838, \"/opt/homebrew/lib/python3.11/site-packages/debugpy/_vendored/pydevd/_pydevd_bundle/pydevd_concurrency_analyser/__init__.py\": 1697565000.7998688, \"/opt/homebrew/lib/python3.11/site-packages/debugpy/_vendored/pydevd/_pydevd_bundle/pydevd_concurrency_analyser/pydevd_thread_wrappers.py\": 1697565000.800053, \"/opt/homebrew/lib/python3.11/site-packages/debugpy/_vendored/pydevd/_pydevd_bundle/pydevd_concurrency_analyser/pydevd_concurrency_logger.py\": 1697565000.7999756, \"/opt/homebrew/lib/python3.11/site-packages/debugpy/_vendored/pydevd/_pydevd_bundle/_debug_adapter/__init__.py\": 1697565000.7985604, \"/opt/homebrew/lib/python3.11/site-packages/debugpy/_vendored/pydevd/_pydevd_bundle/_debug_adapter/pydevd_schema_log.py\": 1697565000.7997935, \"/opt/homebrew/lib/python3.11/site-packages/debugpy/_vendored/pydevd/_pydevd_bundle/_debug_adapter/pydevd_base_schema.py\": 1697565000.7991872, \"/opt/homebrew/lib/python3.11/site-packages/debugpy/_vendored/pydevd/_pydevd_bundle/_debug_adapter/pydevd_schema.py\": 1697565000.7996821, \"/opt/homebrew/lib/python3.11/site-packages/debugpy/_vendored/pydevd/_pydevd_bundle/pydevd_reload.py\": 1697565000.7965014, \"/opt/homebrew/lib/python3.11/site-packages/debugpy/_vendored/pydevd/_pydev_bundle/fsnotify/__init__.py\": 1697565000.7864082, \"/opt/homebrew/lib/python3.11/site-packages/debugpy/_vendored/pydevd/_pydevd_bundle/pydevd_console.py\": 1697565000.7896893, \"/opt/homebrew/lib/python3.11/site-packages/debugpy/_vendored/pydevd/_pydevd_bundle/pydevd_comm.py\": 1697565000.7891784, \"/opt/homebrew/lib/python3.11/site-packages/debugpy/_vendored/pydevd/_pydevd_bundle/pydevd_net_command_factory_json.py\": 1697565000.795784, \"/opt/homebrew/lib/python3.11/site-packages/debugpy/_vendored/pydevd/_pydevd_bundle/pydevd_api.py\": 1697565000.7884934, \"/opt/homebrew/lib/python3.11/site-packages/debugpy/_vendored/pydevd/_pydevd_bundle/pydevd_json_debug_options.py\": 1697565000.7950988, \"/opt/homebrew/lib/python3.11/site-packages/debugpy/_vendored/pydevd/_pydevd_bundle/pydevd_process_net_command_json.py\": 1697565000.796238, \"/opt/homebrew/lib/python3.11/site-packages/debugpy/_vendored/pydevd/_pydevd_bundle/pydevd_traceproperty.py\": 1697565000.7980816, \"/opt/homebrew/lib/python3.11/site-packages/debugpy/_vendored/pydevd/_pydevd_bundle/pydevd_process_net_command.py\": 1697565000.7961016, \"/opt/homebrew/lib/python3.11/site-packages/debugpy/_vendored/pydevd/_pydevd_bundle/pydevd_suspended_frames.py\": 1697565000.7973742, \"/opt/homebrew/lib/python3.11/site-packages/debugpy/_vendored/pydevd/_pydevd_bundle/pydevd_trace_api.py\": 1697565000.797679, \"/opt/homebrew/lib/python3.11/site-packages/debugpy/_vendored/pydevd/pydevd_plugins/pydevd_line_validation.py\": 1697565000.8169801, \"/opt/homebrew/lib/python3.11/site-packages/debugpy/_vendored/pydevd/pydevd_plugins/django_debug.py\": 1697565000.8167367, \"/opt/homebrew/lib/python3.11/site-packages/debugpy/_vendored/pydevd/pydevd_plugins/jinja2_debug.py\": 1697565000.8168352, \"/opt/homebrew/lib/python3.11/site-packages/debugpy/_vendored/pydevd/_pydevd_bundle/pydevd_plugin_utils.py\": 1697565000.795986, \"/opt/homebrew/lib/python3.11/site-packages/debugpy/_vendored/pydevd/pydevd.py\": 1697565000.7830675, \"/opt/homebrew/lib/python3.11/site-packages/debugpy/_vendored/force_pydevd.py\": 1697565000.781977, \"/opt/homebrew/lib/python3.11/site-packages/debugpy/server/__init__.py\": 1697565000.8676524, \"/opt/homebrew/lib/python3.11/site-packages/debugpy/adapter/__init__.py\": 1697565000.8645625, \"/opt/homebrew/lib/python3.11/site-packages/debugpy/common/__init__.py\": 1697565000.865509, \"/opt/homebrew/lib/python3.11/site-packages/debugpy/common/json.py\": 1697565000.8656518, \"/opt/homebrew/lib/python3.11/site-packages/debugpy/common/timestamp.py\": 1697565000.8666055, \"/opt/homebrew/lib/python3.11/site-packages/debugpy/common/util.py\": 1697565000.8668373, \"/opt/homebrew/Cellar/python@3.11/3.11.6/Frameworks/Python.framework/Versions/3.11/lib/python3.11/plistlib.py\": 1696254354.0, \"/opt/homebrew/lib/python3.11/site-packages/debugpy/common/log.py\": 1697565000.8657968, \"/opt/homebrew/lib/python3.11/site-packages/debugpy/common/sockets.py\": 1697565000.8662338, \"/opt/homebrew/lib/python3.11/site-packages/debugpy/server/api.py\": 1697565000.8678014, \"/opt/homebrew/lib/python3.11/site-packages/ipykernel/debugger.py\": 1697565002.5866923, \"/opt/homebrew/lib/python3.11/site-packages/packaging/__init__.py\": 1697565000.6666214, \"/opt/homebrew/lib/python3.11/site-packages/packaging/_structures.py\": 1697565000.6671867, \"/opt/homebrew/lib/python3.11/site-packages/packaging/version.py\": 1697565000.6681805, \"/opt/homebrew/lib/python3.11/site-packages/ipykernel/eventloops.py\": 1697565002.5869641, \"/opt/homebrew/lib/python3.11/site-packages/IPython/core/payloadpage.py\": 1697565002.2868564, \"/opt/homebrew/lib/python3.11/site-packages/ipykernel/displayhook.py\": 1697565002.5867813, \"/opt/homebrew/lib/python3.11/site-packages/ipykernel/zmqshell.py\": 1697565002.5887733, \"/opt/homebrew/lib/python3.11/site-packages/ipykernel/ipkernel.py\": 1697565002.5873246, \"/opt/homebrew/lib/python3.11/site-packages/ipykernel/parentpoller.py\": 1697565002.5882368, \"/opt/homebrew/lib/python3.11/site-packages/ipykernel/kernelapp.py\": 1697565002.5875914, \"/opt/homebrew/lib/python3.11/site-packages/tornado/platform/__init__.py\": 1697564999.724387, \"/opt/homebrew/lib/python3.11/site-packages/tornado/platform/asyncio.py\": 1697564999.7243457, \"/opt/homebrew/lib/python3.11/site-packages/IPython/core/completerlib.py\": 1697565002.2832272, \"/opt/homebrew/Cellar/python@3.11/3.11.6/Frameworks/Python.framework/Versions/3.11/lib/python3.11/ctypes/macholib/__init__.py\": 1696254354.0, \"/opt/homebrew/Cellar/python@3.11/3.11.6/Frameworks/Python.framework/Versions/3.11/lib/python3.11/ctypes/macholib/framework.py\": 1696254354.0, \"/opt/homebrew/Cellar/python@3.11/3.11.6/Frameworks/Python.framework/Versions/3.11/lib/python3.11/ctypes/macholib/dylib.py\": 1696254354.0, \"/opt/homebrew/Cellar/python@3.11/3.11.6/Frameworks/Python.framework/Versions/3.11/lib/python3.11/ctypes/macholib/dyld.py\": 1697564603.471419, \"/opt/homebrew/Cellar/python@3.11/3.11.6/Frameworks/Python.framework/Versions/3.11/lib/python3.11/ctypes/util.py\": 1696254354.0, \"/opt/homebrew/lib/python3.11/site-packages/appnope/_nope.py\": 1697564999.6073682, \"/opt/homebrew/lib/python3.11/site-packages/appnope/__init__.py\": 1697564999.6071258, \"/opt/homebrew/lib/python3.11/site-packages/numpy/_utils/_convertions.py\": 1697567146.2390625, \"/opt/homebrew/lib/python3.11/site-packages/numpy/_utils/__init__.py\": 1697567146.2389545, \"/opt/homebrew/lib/python3.11/site-packages/numpy/_globals.py\": 1697567146.222715, \"/opt/homebrew/lib/python3.11/site-packages/numpy/exceptions.py\": 1697567146.2236772, \"/opt/homebrew/lib/python3.11/site-packages/numpy/version.py\": 1697567146.2222795, \"/opt/homebrew/lib/python3.11/site-packages/numpy/_distributor_init.py\": 1697567146.2231653, \"/opt/homebrew/lib/python3.11/site-packages/numpy/_utils/_inspect.py\": 1697567146.2393498, \"/opt/homebrew/lib/python3.11/site-packages/numpy/core/_exceptions.py\": 1697567146.2501864, \"/opt/homebrew/lib/python3.11/site-packages/numpy/dtypes.py\": 1697567146.223087, \"/opt/homebrew/lib/python3.11/site-packages/numpy/core/_multiarray_umath.cpython-311-darwin.so\": 1697567146.2450814, \"/opt/homebrew/lib/python3.11/site-packages/numpy/core/overrides.py\": 1697567146.2476013, \"/opt/homebrew/lib/python3.11/site-packages/numpy/core/multiarray.py\": 1697567146.2464082, \"/opt/homebrew/lib/python3.11/site-packages/numpy/core/umath.py\": 1697567146.2401662, \"/opt/homebrew/lib/python3.11/site-packages/numpy/core/_string_helpers.py\": 1697567146.2462757, \"/opt/homebrew/lib/python3.11/site-packages/numpy/compat/py3k.py\": 1697567146.239514, \"/opt/homebrew/lib/python3.11/site-packages/numpy/compat/__init__.py\": 1697567146.2397468, \"/opt/homebrew/lib/python3.11/site-packages/numpy/core/_dtype.py\": 1697567146.2406921, \"/opt/homebrew/lib/python3.11/site-packages/numpy/core/_type_aliases.py\": 1697567146.2505205, \"/opt/homebrew/lib/python3.11/site-packages/numpy/core/numerictypes.py\": 1697567146.2503097, \"/opt/homebrew/lib/python3.11/site-packages/numpy/core/_ufunc_config.py\": 1697567146.2500126, \"/opt/homebrew/lib/python3.11/site-packages/numpy/core/_methods.py\": 1697567146.2455213, \"/opt/homebrew/lib/python3.11/site-packages/numpy/core/fromnumeric.py\": 1697567146.2403612, \"/opt/homebrew/lib/python3.11/site-packages/numpy/core/shape_base.py\": 1697567146.248542, \"/opt/homebrew/lib/python3.11/site-packages/numpy/core/arrayprint.py\": 1697567146.251324, \"/opt/homebrew/lib/python3.11/site-packages/numpy/core/_asarray.py\": 1697567146.2464936, \"/opt/homebrew/lib/python3.11/site-packages/numpy/core/numeric.py\": 1697567146.249091, \"/opt/homebrew/lib/python3.11/site-packages/numpy/core/defchararray.py\": 1697567146.2480712, \"/opt/homebrew/lib/python3.11/site-packages/numpy/core/records.py\": 1697567146.2466085, \"/opt/homebrew/lib/python3.11/site-packages/numpy/core/memmap.py\": 1697567146.247507, \"/opt/homebrew/lib/python3.11/site-packages/numpy/core/function_base.py\": 1697567146.249399, \"/opt/homebrew/lib/python3.11/site-packages/numpy/core/_machar.py\": 1697567146.2473245, \"/opt/homebrew/lib/python3.11/site-packages/numpy/core/getlimits.py\": 1697567146.247707, \"/opt/homebrew/lib/python3.11/site-packages/numpy/core/einsumfunc.py\": 1697567146.249591, \"/opt/homebrew/lib/python3.11/site-packages/numpy/core/_multiarray_tests.cpython-311-darwin.so\": 1697567146.2488825, \"/opt/homebrew/lib/python3.11/site-packages/numpy/core/_add_newdocs.py\": 1697567146.2410781, \"/opt/homebrew/lib/python3.11/site-packages/numpy/core/_add_newdocs_scalars.py\": 1697567146.2470565, \"/opt/homebrew/lib/python3.11/site-packages/numpy/core/_dtype_ctypes.py\": 1697567146.247787, \"/opt/homebrew/lib/python3.11/site-packages/numpy/core/_internal.py\": 1697567146.2456353, \"/opt/homebrew/lib/python3.11/site-packages/numpy/_pytesttester.py\": 1697567146.2237685, \"/opt/homebrew/lib/python3.11/site-packages/numpy/core/__init__.py\": 1697567146.2471468, \"/opt/homebrew/lib/python3.11/site-packages/numpy/__config__.py\": 1697567146.2232525, \"/opt/homebrew/lib/python3.11/site-packages/numpy/lib/mixins.py\": 1697567146.351218, \"/opt/homebrew/lib/python3.11/site-packages/numpy/lib/ufunclike.py\": 1697567146.3567193, \"/opt/homebrew/lib/python3.11/site-packages/numpy/lib/type_check.py\": 1697567146.3561437, \"/opt/homebrew/lib/python3.11/site-packages/numpy/lib/scimath.py\": 1697567146.3518684, \"/opt/homebrew/lib/python3.11/site-packages/numpy/lib/stride_tricks.py\": 1697567146.3549373, \"/opt/homebrew/lib/python3.11/site-packages/numpy/lib/twodim_base.py\": 1697567146.353486, \"/opt/homebrew/lib/python3.11/site-packages/numpy/linalg/_umath_linalg.cpython-311-darwin.so\": 1697567146.2688, \"/opt/homebrew/lib/python3.11/site-packages/numpy/_typing/_nested_sequence.py\": 1697567146.274851, \"/opt/homebrew/lib/python3.11/site-packages/numpy/_typing/_nbit.py\": 1697567146.2741268, \"/opt/homebrew/lib/python3.11/site-packages/numpy/_typing/_char_codes.py\": 1697567146.2738512, \"/opt/homebrew/lib/python3.11/site-packages/numpy/_typing/_scalars.py\": 1697567146.2746093, \"/opt/homebrew/lib/python3.11/site-packages/numpy/_typing/_shape.py\": 1697567146.2746866, \"/opt/homebrew/lib/python3.11/site-packages/numpy/_typing/_dtype_like.py\": 1697567146.274314, \"/opt/homebrew/lib/python3.11/site-packages/numpy/_typing/_array_like.py\": 1697567146.2745295, \"/opt/homebrew/lib/python3.11/site-packages/numpy/_typing/__init__.py\": 1697567146.274221, \"/opt/homebrew/lib/python3.11/site-packages/numpy/linalg/linalg.py\": 1697567146.2691228, \"/opt/homebrew/lib/python3.11/site-packages/numpy/linalg/__init__.py\": 1697567146.268531, \"/opt/homebrew/lib/python3.11/site-packages/numpy/matrixlib/defmatrix.py\": 1697567146.3737564, \"/opt/homebrew/lib/python3.11/site-packages/numpy/matrixlib/__init__.py\": 1697567146.373445, \"/opt/homebrew/lib/python3.11/site-packages/numpy/lib/histograms.py\": 1697567146.3517385, \"/opt/homebrew/lib/python3.11/site-packages/numpy/lib/function_base.py\": 1697567146.3555238, \"/opt/homebrew/lib/python3.11/site-packages/numpy/lib/index_tricks.py\": 1697567146.353873, \"/opt/homebrew/lib/python3.11/site-packages/numpy/lib/nanfunctions.py\": 1697567146.3513613, \"/opt/homebrew/lib/python3.11/site-packages/numpy/lib/shape_base.py\": 1697567146.3543746, \"/opt/homebrew/lib/python3.11/site-packages/numpy/lib/polynomial.py\": 1697567146.3563507, \"/opt/homebrew/lib/python3.11/site-packages/numpy/lib/utils.py\": 1697567146.3550603, \"/opt/homebrew/lib/python3.11/site-packages/numpy/lib/arraysetops.py\": 1697567146.3558524, \"/opt/homebrew/lib/python3.11/site-packages/numpy/lib/format.py\": 1697567146.353365, \"/opt/homebrew/lib/python3.11/site-packages/numpy/lib/_datasource.py\": 1697567146.3566365, \"/opt/homebrew/lib/python3.11/site-packages/numpy/lib/_iotools.py\": 1697567146.351035, \"/opt/homebrew/lib/python3.11/site-packages/numpy/lib/npyio.py\": 1697567146.3540525, \"/opt/homebrew/lib/python3.11/site-packages/numpy/lib/arrayterator.py\": 1697567146.3552344, \"/opt/homebrew/lib/python3.11/site-packages/numpy/lib/arraypad.py\": 1697567146.3560448, \"/opt/homebrew/lib/python3.11/site-packages/numpy/lib/_version.py\": 1697567146.3522332, \"/opt/homebrew/lib/python3.11/site-packages/numpy/lib/__init__.py\": 1697567146.3532305, \"/opt/homebrew/lib/python3.11/site-packages/numpy/fft/_pocketfft_internal.cpython-311-darwin.so\": 1697567146.361158, \"/opt/homebrew/lib/python3.11/site-packages/numpy/fft/_pocketfft.py\": 1697567146.361649, \"/opt/homebrew/lib/python3.11/site-packages/numpy/fft/helper.py\": 1697567146.361462, \"/opt/homebrew/lib/python3.11/site-packages/numpy/fft/__init__.py\": 1697567146.3613744, \"/opt/homebrew/lib/python3.11/site-packages/numpy/polynomial/polyutils.py\": 1697567146.3754308, \"/opt/homebrew/lib/python3.11/site-packages/numpy/polynomial/_polybase.py\": 1697567146.3752446, \"/opt/homebrew/lib/python3.11/site-packages/numpy/polynomial/polynomial.py\": 1697567146.3769956, \"/opt/homebrew/lib/python3.11/site-packages/numpy/polynomial/chebyshev.py\": 1697567146.3765457, \"/opt/homebrew/lib/python3.11/site-packages/numpy/polynomial/legendre.py\": 1697567146.3771448, \"/opt/homebrew/lib/python3.11/site-packages/numpy/polynomial/hermite.py\": 1697567146.3772779, \"/opt/homebrew/lib/python3.11/site-packages/numpy/polynomial/hermite_e.py\": 1697567146.376379, \"/opt/homebrew/lib/python3.11/site-packages/numpy/polynomial/laguerre.py\": 1697567146.375117, \"/opt/homebrew/lib/python3.11/site-packages/numpy/polynomial/__init__.py\": 1697567146.3755987, \"/opt/homebrew/lib/python3.11/site-packages/numpy/random/_common.cpython-311-darwin.so\": 1697567146.3651426, \"/opt/homebrew/Cellar/python@3.11/3.11.6/Frameworks/Python.framework/Versions/3.11/lib/python3.11/secrets.py\": 1696254354.0, \"/opt/homebrew/lib/python3.11/site-packages/numpy/random/bit_generator.cpython-311-darwin.so\": 1697567146.3692458, \"/opt/homebrew/lib/python3.11/site-packages/numpy/random/_bounded_integers.cpython-311-darwin.so\": 1697567146.3686235, \"/opt/homebrew/lib/python3.11/site-packages/numpy/random/_mt19937.cpython-311-darwin.so\": 1697567146.3677318, \"/opt/homebrew/lib/python3.11/site-packages/numpy/random/mtrand.cpython-311-darwin.so\": 1697567146.3664596, \"/opt/homebrew/lib/python3.11/site-packages/numpy/random/_philox.cpython-311-darwin.so\": 1697567146.3674781, \"/opt/homebrew/lib/python3.11/site-packages/numpy/random/_pcg64.cpython-311-darwin.so\": 1697567146.3671515, \"/opt/homebrew/lib/python3.11/site-packages/numpy/random/_sfc64.cpython-311-darwin.so\": 1697567146.3668172, \"/opt/homebrew/lib/python3.11/site-packages/numpy/random/_generator.cpython-311-darwin.so\": 1697567146.364389, \"/opt/homebrew/lib/python3.11/site-packages/numpy/random/_pickle.py\": 1697567146.3652556, \"/opt/homebrew/lib/python3.11/site-packages/numpy/random/__init__.py\": 1697567146.366621, \"/opt/homebrew/lib/python3.11/site-packages/numpy/ctypeslib.py\": 1697567146.223354, \"/opt/homebrew/lib/python3.11/site-packages/numpy/ma/core.py\": 1697567146.2710035, \"/opt/homebrew/lib/python3.11/site-packages/numpy/ma/extras.py\": 1697567146.2696965, \"/opt/homebrew/lib/python3.11/site-packages/numpy/ma/__init__.py\": 1697567146.2706254, \"/opt/homebrew/lib/python3.11/site-packages/numpy/__init__.py\": 1697567146.2230046, \"/opt/homebrew/lib/python3.11/site-packages/matplotlib/_api/deprecation.py\": 1697567147.5086923, \"/opt/homebrew/lib/python3.11/site-packages/matplotlib/_api/__init__.py\": 1697567147.508895, \"/opt/homebrew/lib/python3.11/site-packages/matplotlib/_version.py\": 1697567147.4694276, \"/opt/homebrew/lib/python3.11/site-packages/matplotlib/_c_internal_utils.cpython-311-darwin.so\": 1697567147.4689837, \"/opt/homebrew/lib/python3.11/site-packages/matplotlib/cbook.py\": 1697567147.4721856, \"/opt/homebrew/lib/python3.11/site-packages/matplotlib/_docstring.py\": 1697567147.4839861, \"/opt/homebrew/lib/python3.11/site-packages/PIL/_version.py\": 1697567146.101979, \"/opt/homebrew/lib/python3.11/site-packages/PIL/__init__.py\": 1697567146.1042223, \"/opt/homebrew/lib/python3.11/site-packages/defusedxml/common.py\": 1697565000.769157, \"/opt/homebrew/lib/python3.11/site-packages/defusedxml/__init__.py\": 1697565000.768991, \"/opt/homebrew/Cellar/python@3.11/3.11.6/Frameworks/Python.framework/Versions/3.11/lib/python3.11/xml/etree/__init__.py\": 1696254354.0, \"/opt/homebrew/Cellar/python@3.11/3.11.6/Frameworks/Python.framework/Versions/3.11/lib/python3.11/xml/etree/ElementPath.py\": 1696254354.0, \"/opt/homebrew/Cellar/python@3.11/3.11.6/Frameworks/Python.framework/Versions/3.11/lib/python3.11/lib-dynload/_elementtree.cpython-311-darwin.so\": 1696254354.0, \"/opt/homebrew/Cellar/python@3.11/3.11.6/Frameworks/Python.framework/Versions/3.11/lib/python3.11/xml/etree/ElementTree.py\": 1696254354.0, \"/opt/homebrew/lib/python3.11/site-packages/defusedxml/ElementTree.py\": 1697565000.768894, \"/opt/homebrew/lib/python3.11/site-packages/PIL/ExifTags.py\": 1697567146.1030722, \"/opt/homebrew/lib/python3.11/site-packages/PIL/ImageMode.py\": 1697567146.1001542, \"/opt/homebrew/lib/python3.11/site-packages/PIL/TiffTags.py\": 1697567146.1070585, \"/opt/homebrew/lib/python3.11/site-packages/PIL/_binary.py\": 1697567146.110386, \"/opt/homebrew/lib/python3.11/site-packages/PIL/_util.py\": 1697567146.1072032, \"/opt/homebrew/lib/python3.11/site-packages/PIL/_imaging.cpython-311-darwin.so\": 1697567146.108707, \"/opt/homebrew/lib/python3.11/site-packages/cffi/lock.py\": 1697565001.992653, \"/opt/homebrew/lib/python3.11/site-packages/cffi/error.py\": 1697565001.9911501, \"/opt/homebrew/lib/python3.11/site-packages/cffi/model.py\": 1697565001.9920266, \"/opt/homebrew/lib/python3.11/site-packages/cffi/api.py\": 1697565001.9922273, \"/opt/homebrew/lib/python3.11/site-packages/cffi/__init__.py\": 1697565001.9915357, \"/opt/homebrew/lib/python3.11/site-packages/PIL/Image.py\": 1697567146.1105964, \"/opt/homebrew/lib/python3.11/site-packages/PIL/ImageChops.py\": 1697567146.1034946, \"/opt/homebrew/lib/python3.11/site-packages/PIL/ImageFile.py\": 1697567146.1006858, \"/opt/homebrew/lib/python3.11/site-packages/PIL/GimpGradientFile.py\": 1697567146.1047633, \"/opt/homebrew/lib/python3.11/site-packages/PIL/GimpPaletteFile.py\": 1697567146.1014156, \"/opt/homebrew/lib/python3.11/site-packages/PIL/ImageColor.py\": 1697567146.101588, \"/opt/homebrew/lib/python3.11/site-packages/PIL/PaletteFile.py\": 1697567146.1027267, \"/opt/homebrew/lib/python3.11/site-packages/PIL/ImagePalette.py\": 1697567146.108938, \"/opt/homebrew/lib/python3.11/site-packages/PIL/ImageSequence.py\": 1697567146.109919, \"/opt/homebrew/lib/python3.11/site-packages/PIL/PngImagePlugin.py\": 1697567146.1002927, \"/opt/homebrew/lib/python3.11/site-packages/matplotlib/_cm.py\": 1697567147.4712799, \"/opt/homebrew/lib/python3.11/site-packages/matplotlib/_path.cpython-311-darwin.so\": 1697567147.4685383, \"/opt/homebrew/lib/python3.11/site-packages/matplotlib/bezier.py\": 1697567147.4735355, \"/opt/homebrew/lib/python3.11/site-packages/matplotlib/path.py\": 1697567147.484105, \"/opt/homebrew/lib/python3.11/site-packages/matplotlib/transforms.py\": 1697567147.4657516, \"/opt/homebrew/lib/python3.11/site-packages/matplotlib/ticker.py\": 1697567147.483891, \"/opt/homebrew/lib/python3.11/site-packages/matplotlib/scale.py\": 1697567147.4848208, \"/opt/homebrew/lib/python3.11/site-packages/matplotlib/_color_data.py\": 1697567147.478194, \"/opt/homebrew/lib/python3.11/site-packages/matplotlib/colors.py\": 1697567147.4859154, \"/opt/homebrew/lib/python3.11/site-packages/pyparsing/util.py\": 1697567146.072492, \"/opt/homebrew/lib/python3.11/site-packages/pyparsing/unicode.py\": 1697567146.07233, \"/opt/homebrew/lib/python3.11/site-packages/pyparsing/exceptions.py\": 1697567146.071719, \"/opt/homebrew/lib/python3.11/site-packages/pyparsing/actions.py\": 1697567146.0711074, \"/opt/homebrew/lib/python3.11/site-packages/pyparsing/results.py\": 1697567146.072037, \"/opt/homebrew/lib/python3.11/site-packages/pyparsing/core.py\": 1697567146.0715241, \"/opt/homebrew/lib/python3.11/site-packages/pyparsing/helpers.py\": 1697567146.0718498, \"/opt/homebrew/lib/python3.11/site-packages/pyparsing/testing.py\": 1697567146.0721617, \"/opt/homebrew/lib/python3.11/site-packages/pyparsing/common.py\": 1697567146.0712273, \"/opt/homebrew/lib/python3.11/site-packages/pyparsing/__init__.py\": 1697567146.0709722, \"/opt/homebrew/lib/python3.11/site-packages/matplotlib/_fontconfig_pattern.py\": 1697567147.473058, \"/opt/homebrew/lib/python3.11/site-packages/matplotlib/_enums.py\": 1697567147.4756622, \"/opt/homebrew/lib/python3.11/site-packages/cycler/__init__.py\": 1697567147.4436553, \"/opt/homebrew/lib/python3.11/site-packages/matplotlib/rcsetup.py\": 1697567147.4833698, \"/opt/homebrew/lib/python3.11/site-packages/matplotlib/ft2font.cpython-311-darwin.so\": 1697567147.4710615, \"/opt/homebrew/lib/python3.11/site-packages/kiwisolver/exceptions.py\": 1697567147.098363, \"/opt/homebrew/lib/python3.11/site-packages/kiwisolver/_cext.cpython-311-darwin.so\": 1697567147.097883, \"/opt/homebrew/lib/python3.11/site-packages/kiwisolver/__init__.py\": 1697567147.098017, \"/opt/homebrew/lib/python3.11/site-packages/matplotlib/_cm_listed.py\": 1697567147.4819043, \"/opt/homebrew/lib/python3.11/site-packages/matplotlib/cm.py\": 1697567147.4740155, \"/opt/homebrew/lib/python3.11/site-packages/matplotlib/__init__.py\": 1697567147.4747922, \"/opt/homebrew/lib/python3.11/site-packages/matplotlib/artist.py\": 1697567147.4775844, \"/opt/homebrew/lib/python3.11/site-packages/matplotlib/hatch.py\": 1697567147.4654105, \"/opt/homebrew/lib/python3.11/site-packages/matplotlib/markers.py\": 1697567147.4801602, \"/opt/homebrew/lib/python3.11/site-packages/matplotlib/lines.py\": 1697567147.476676, \"/opt/homebrew/lib/python3.11/site-packages/matplotlib/collections.py\": 1697567147.4788852, \"/opt/homebrew/lib/python3.11/site-packages/matplotlib/_pylab_helpers.py\": 1697567147.4814413, \"/opt/homebrew/lib/python3.11/site-packages/matplotlib/backend_tools.py\": 1697567147.4777691, \"/opt/homebrew/lib/python3.11/site-packages/matplotlib/_mathtext_data.py\": 1697567147.4774375, \"/opt/homebrew/lib/python3.11/site-packages/matplotlib/_afm.py\": 1697567147.4736772, \"/opt/homebrew/lib/python3.11/site-packages/matplotlib/font_manager.py\": 1697567147.473339, \"/opt/homebrew/lib/python3.11/site-packages/matplotlib/patches.py\": 1697567147.4786122, \"/opt/homebrew/lib/python3.11/site-packages/matplotlib/_text_helpers.py\": 1697567147.4795897, \"/opt/homebrew/lib/python3.11/site-packages/matplotlib/dviread.py\": 1697567147.477044, \"/opt/homebrew/lib/python3.11/site-packages/matplotlib/_mathtext.py\": 1697567147.4754028, \"/opt/homebrew/lib/python3.11/site-packages/matplotlib/mathtext.py\": 1697567147.472938, \"/opt/homebrew/lib/python3.11/site-packages/matplotlib/texmanager.py\": 1697567147.478385, \"/opt/homebrew/lib/python3.11/site-packages/matplotlib/textpath.py\": 1697567147.4677992, \"/opt/homebrew/lib/python3.11/site-packages/matplotlib/text.py\": 1697567147.4798226, \"/opt/homebrew/lib/python3.11/site-packages/matplotlib/_tight_bbox.py\": 1697567147.467683, \"/opt/homebrew/lib/python3.11/site-packages/matplotlib/widgets.py\": 1697567147.4768932, \"/opt/homebrew/lib/python3.11/site-packages/matplotlib/backend_managers.py\": 1697567147.4717286, \"/opt/homebrew/lib/python3.11/site-packages/matplotlib/_layoutgrid.py\": 1697567147.48429, \"/opt/homebrew/lib/python3.11/site-packages/matplotlib/_constrained_layout.py\": 1697567147.4851649, \"/opt/homebrew/lib/python3.11/site-packages/matplotlib/_tight_layout.py\": 1697567147.4652224, \"/opt/homebrew/lib/python3.11/site-packages/matplotlib/layout_engine.py\": 1697567147.4811513, \"/opt/homebrew/lib/python3.11/site-packages/matplotlib/backend_bases.py\": 1697567147.4682317, \"/opt/homebrew/lib/python3.11/site-packages/matplotlib/contour.py\": 1697567147.4844506, \"/opt/homebrew/lib/python3.11/site-packages/matplotlib/spines.py\": 1697567147.478997, \"/opt/homebrew/lib/python3.11/site-packages/matplotlib/colorbar.py\": 1697567147.4693575, \"/opt/homebrew/lib/python3.11/site-packages/matplotlib/_image.cpython-311-darwin.so\": 1697567147.4794786, \"/opt/homebrew/lib/python3.11/site-packages/matplotlib/image.py\": 1697567147.4847016, \"/opt/homebrew/lib/python3.11/site-packages/matplotlib/style/core.py\": 1697567147.509281, \"/opt/homebrew/lib/python3.11/site-packages/matplotlib/style/__init__.py\": 1697567147.5090754, \"/opt/homebrew/lib/python3.11/site-packages/matplotlib/_blocking_input.py\": 1697567147.4812388, \"/opt/homebrew/lib/python3.11/site-packages/matplotlib/offsetbox.py\": 1697567147.4757998, \"/opt/homebrew/lib/python3.11/site-packages/matplotlib/units.py\": 1697567147.4688818, \"/opt/homebrew/lib/python3.11/site-packages/matplotlib/axis.py\": 1697567147.4675891, \"/opt/homebrew/lib/python3.11/site-packages/matplotlib/gridspec.py\": 1697567147.476451, \"/opt/homebrew/lib/python3.11/site-packages/matplotlib/table.py\": 1697567147.482384, \"/opt/homebrew/lib/python3.11/site-packages/matplotlib/axes/_base.py\": 1697567147.4894917, \"/opt/homebrew/lib/python3.11/site-packages/matplotlib/category.py\": 1697567147.4850414, \"/opt/homebrew/lib/python3.11/site-packages/dateutil/rrule.py\": 1697565001.5986495, \"/opt/homebrew/lib/python3.11/site-packages/matplotlib/dates.py\": 1697567147.4820654, \"/opt/homebrew/lib/python3.11/site-packages/matplotlib/container.py\": 1697567147.4761746, \"/opt/homebrew/lib/python3.11/site-packages/matplotlib/legend_handler.py\": 1697567147.4674144, \"/opt/homebrew/lib/python3.11/site-packages/matplotlib/legend.py\": 1697567147.47437, \"/opt/homebrew/lib/python3.11/site-packages/matplotlib/mlab.py\": 1697567147.4802735, \"/opt/homebrew/lib/python3.11/site-packages/matplotlib/quiver.py\": 1697567147.4679315, \"/opt/homebrew/lib/python3.11/site-packages/matplotlib/stackplot.py\": 1697567147.4787202, \"/opt/homebrew/lib/python3.11/site-packages/matplotlib/streamplot.py\": 1697567147.4854956, \"/opt/homebrew/lib/python3.11/site-packages/matplotlib/tri/_triangulation.py\": 1697567147.486526, \"/opt/homebrew/lib/python3.11/site-packages/matplotlib/tri/_tricontour.py\": 1697567147.4885118, \"/opt/homebrew/lib/python3.11/site-packages/matplotlib/tri/_trifinder.py\": 1697567147.486169, \"/opt/homebrew/lib/python3.11/site-packages/matplotlib/tri/_tritools.py\": 1697567147.4875753, \"/opt/homebrew/lib/python3.11/site-packages/matplotlib/tri/_triinterpolate.py\": 1697567147.4882863, \"/opt/homebrew/lib/python3.11/site-packages/matplotlib/tri/_tripcolor.py\": 1697567147.486045, \"/opt/homebrew/lib/python3.11/site-packages/matplotlib/tri/_triplot.py\": 1697567147.487266, \"/opt/homebrew/lib/python3.11/site-packages/matplotlib/tri/_trirefine.py\": 1697567147.487107, \"/opt/homebrew/lib/python3.11/site-packages/matplotlib/tri/__init__.py\": 1697567147.486982, \"/opt/homebrew/lib/python3.11/site-packages/matplotlib/axes/_secondary_axes.py\": 1697567147.4900599, \"/opt/homebrew/lib/python3.11/site-packages/matplotlib/axes/_axes.py\": 1697567147.4892147, \"/opt/homebrew/lib/python3.11/site-packages/matplotlib/axes/__init__.py\": 1697567147.4897625, \"/opt/homebrew/lib/python3.11/site-packages/matplotlib/projections/geo.py\": 1697567147.5094082, \"/opt/homebrew/lib/python3.11/site-packages/matplotlib/projections/polar.py\": 1697567147.5095387, \"/opt/homebrew/lib/python3.11/site-packages/mpl_toolkits/mplot3d/proj3d.py\": 1697567147.4617722, \"/opt/homebrew/lib/python3.11/site-packages/mpl_toolkits/mplot3d/art3d.py\": 1697567147.4623082, \"/opt/homebrew/lib/python3.11/site-packages/mpl_toolkits/mplot3d/axis3d.py\": 1697567147.462187, \"/opt/homebrew/lib/python3.11/site-packages/mpl_toolkits/mplot3d/axes3d.py\": 1697567147.4620614, \"/opt/homebrew/lib/python3.11/site-packages/mpl_toolkits/mplot3d/__init__.py\": 1697567147.4618466, \"/opt/homebrew/lib/python3.11/site-packages/matplotlib/projections/__init__.py\": 1697567147.5096931, \"/opt/homebrew/lib/python3.11/site-packages/matplotlib/figure.py\": 1697567147.4746244, \"/opt/homebrew/lib/python3.11/site-packages/matplotlib/pyplot.py\": 1697567147.4827535, \"/opt/homebrew/lib/python3.11/site-packages/matplotlib/backends/__init__.py\": 1697567147.4933712, \"/opt/homebrew/lib/python3.11/site-packages/matplotlib/backends/_backend_agg.cpython-311-darwin.so\": 1697567147.491289, \"/opt/homebrew/lib/python3.11/site-packages/matplotlib/backends/backend_agg.py\": 1697567147.4956431, \"/opt/homebrew/lib/python3.11/site-packages/matplotlib_inline/config.py\": 1697565001.6238472, \"/opt/homebrew/lib/python3.11/site-packages/matplotlib_inline/backend_inline.py\": 1697565001.623665, \"/opt/homebrew/lib/python3.11/site-packages/matplotlib_inline/__init__.py\": 1697565001.6235008, \"/opt/homebrew/lib/python3.11/site-packages/pytz/exceptions.py\": 1698704067.5252602, \"/opt/homebrew/lib/python3.11/site-packages/pytz/lazy.py\": 1698704067.5254388, \"/opt/homebrew/lib/python3.11/site-packages/pytz/tzinfo.py\": 1698704067.525833, \"/opt/homebrew/lib/python3.11/site-packages/pytz/tzfile.py\": 1698704067.5257108, \"/opt/homebrew/lib/python3.11/site-packages/pytz/__init__.py\": 1698704067.5250993, \"/opt/homebrew/lib/python3.11/site-packages/pandas/compat/_constants.py\": 1698704067.6766777, \"/opt/homebrew/lib/python3.11/site-packages/pandas/compat/compressors.py\": 1698704067.677333, \"/opt/homebrew/lib/python3.11/site-packages/pandas/util/__init__.py\": 1698704067.7158642, \"/opt/homebrew/lib/python3.11/site-packages/pandas/util/version/__init__.py\": 1698704067.7164462, \"/opt/homebrew/lib/python3.11/site-packages/pandas/compat/numpy/__init__.py\": 1698704067.6774614, \"/opt/homebrew/lib/python3.11/site-packages/pandas/compat/pyarrow.py\": 1698704067.676914, \"/opt/homebrew/lib/python3.11/site-packages/pandas/compat/__init__.py\": 1698704067.677067, \"/opt/homebrew/lib/python3.11/site-packages/pandas/_typing.py\": 1698704067.675899, \"/opt/homebrew/lib/python3.11/site-packages/pandas/util/_exceptions.py\": 1698704067.7162206, \"/opt/homebrew/lib/python3.11/site-packages/pandas/_config/config.py\": 1698704067.9202223, \"/opt/homebrew/lib/python3.11/site-packages/pandas/_config/dates.py\": 1698704067.9211924, \"/opt/homebrew/lib/python3.11/site-packages/pandas/_config/display.py\": 1698704067.920905, \"/opt/homebrew/lib/python3.11/site-packages/pandas/_config/__init__.py\": 1698704067.9204104, \"/opt/homebrew/lib/python3.11/site-packages/pandas/core/__init__.py\": 1698704067.6802232, \"/opt/homebrew/lib/python3.11/site-packages/pandas/core/config_init.py\": 1698704067.6790874, \"/opt/homebrew/lib/python3.11/site-packages/pandas/_libs/pandas_parser.cpython-311-darwin.so\": 1698704067.8975039, \"/opt/homebrew/lib/python3.11/site-packages/pandas/_libs/pandas_datetime.cpython-311-darwin.so\": 1698704067.8987408, \"/opt/homebrew/lib/python3.11/site-packages/pandas/_libs/tslibs/np_datetime.cpython-311-darwin.so\": 1698704067.9089448, \"/opt/homebrew/lib/python3.11/site-packages/pandas/_libs/tslibs/dtypes.cpython-311-darwin.so\": 1698704067.904987, \"/opt/homebrew/lib/python3.11/site-packages/pandas/_libs/tslibs/base.cpython-311-darwin.so\": 1698704067.905725, \"/opt/homebrew/lib/python3.11/site-packages/pandas/_libs/tslibs/nattype.cpython-311-darwin.so\": 1698704067.9118207, \"/opt/homebrew/lib/python3.11/site-packages/pandas/compat/_optional.py\": 1698704067.6768274, \"/opt/homebrew/Cellar/python@3.11/3.11.6/Frameworks/Python.framework/Versions/3.11/lib/python3.11/zoneinfo/_tzpath.py\": 1696254354.0, \"/opt/homebrew/Cellar/python@3.11/3.11.6/Frameworks/Python.framework/Versions/3.11/lib/python3.11/zoneinfo/_common.py\": 1696254354.0, \"/opt/homebrew/Cellar/python@3.11/3.11.6/Frameworks/Python.framework/Versions/3.11/lib/python3.11/lib-dynload/_zoneinfo.cpython-311-darwin.so\": 1696254354.0, \"/opt/homebrew/Cellar/python@3.11/3.11.6/Frameworks/Python.framework/Versions/3.11/lib/python3.11/zoneinfo/__init__.py\": 1696254354.0, \"/opt/homebrew/lib/python3.11/site-packages/pandas/_libs/tslibs/timezones.cpython-311-darwin.so\": 1698704067.910207, \"/opt/homebrew/lib/python3.11/site-packages/pandas/_libs/tslibs/ccalendar.cpython-311-darwin.so\": 1698704067.916798, \"/opt/homebrew/lib/python3.11/site-packages/pandas/_config/localization.py\": 1698704067.9210896, \"/opt/homebrew/lib/python3.11/site-packages/pandas/_libs/tslibs/fields.cpython-311-darwin.so\": 1698704067.9123917, \"/opt/homebrew/lib/python3.11/site-packages/pandas/_libs/tslibs/timedeltas.cpython-311-darwin.so\": 1698704067.9164283, \"/opt/homebrew/lib/python3.11/site-packages/pandas/_libs/tslibs/tzconversion.cpython-311-darwin.so\": 1698704067.913044, \"/opt/homebrew/lib/python3.11/site-packages/pandas/_libs/tslibs/timestamps.cpython-311-darwin.so\": 1698704067.9081078, \"/opt/homebrew/lib/python3.11/site-packages/pandas/_libs/properties.cpython-311-darwin.so\": 1698704067.8980787, \"/opt/homebrew/lib/python3.11/site-packages/pandas/_libs/tslibs/offsets.cpython-311-darwin.so\": 1698704067.9150271, \"/opt/homebrew/lib/python3.11/site-packages/pandas/_libs/tslibs/strptime.cpython-311-darwin.so\": 1698704067.904499, \"/opt/homebrew/lib/python3.11/site-packages/pandas/_libs/tslibs/parsing.cpython-311-darwin.so\": 1698704067.9064817, \"/opt/homebrew/lib/python3.11/site-packages/pandas/_libs/tslibs/conversion.cpython-311-darwin.so\": 1698704067.9113982, \"/opt/homebrew/lib/python3.11/site-packages/pandas/_libs/tslibs/period.cpython-311-darwin.so\": 1698704067.9109585, \"/opt/homebrew/lib/python3.11/site-packages/pandas/_libs/tslibs/vectorized.cpython-311-darwin.so\": 1698704067.905408, \"/opt/homebrew/lib/python3.11/site-packages/pandas/_libs/tslibs/__init__.py\": 1698704067.9097528, \"/opt/homebrew/lib/python3.11/site-packages/pandas/_libs/ops_dispatch.cpython-311-darwin.so\": 1698704067.8984468, \"/opt/homebrew/lib/python3.11/site-packages/pandas/_libs/missing.cpython-311-darwin.so\": 1698704067.887282, \"/opt/homebrew/lib/python3.11/site-packages/pandas/_libs/hashtable.cpython-311-darwin.so\": 1698704067.8825705, \"/opt/homebrew/lib/python3.11/site-packages/pandas/_libs/algos.cpython-311-darwin.so\": 1698704067.8786716, \"/opt/homebrew/lib/python3.11/site-packages/pandas/_libs/interval.cpython-311-darwin.so\": 1698704067.9023294, \"/opt/homebrew/lib/python3.11/site-packages/pandas/_libs/__init__.py\": 1698704067.8888004, \"/opt/homebrew/lib/python3.11/site-packages/pandas/core/dtypes/__init__.py\": 1698704067.6897743, \"/opt/homebrew/lib/python3.11/site-packages/pandas/_libs/lib.cpython-311-darwin.so\": 1698704067.8965318, \"/opt/homebrew/lib/python3.11/site-packages/pandas/errors/__init__.py\": 1698704067.9200692, \"/opt/homebrew/lib/python3.11/site-packages/pandas/core/dtypes/generic.py\": 1698704067.689728, \"/opt/homebrew/lib/python3.11/site-packages/pandas/core/dtypes/base.py\": 1698704067.6906707, \"/opt/homebrew/lib/python3.11/site-packages/pandas/core/dtypes/inference.py\": 1698704067.6904545, \"/opt/homebrew/lib/python3.11/site-packages/pandas/core/dtypes/dtypes.py\": 1698704067.689949, \"/opt/homebrew/lib/python3.11/site-packages/pandas/core/dtypes/common.py\": 1698704067.6903007, \"/opt/homebrew/lib/python3.11/site-packages/pandas/core/dtypes/missing.py\": 1698704067.689422, \"/opt/homebrew/lib/python3.11/site-packages/pandas/util/_decorators.py\": 1698704067.715969, \"/opt/homebrew/lib/python3.11/site-packages/pandas/io/__init__.py\": 1698704067.7175202, \"/opt/homebrew/lib/python3.11/site-packages/pandas/io/_util.py\": 1698704067.718257, \"/opt/homebrew/lib/python3.11/site-packages/pandas/core/dtypes/cast.py\": 1698704067.689307, \"/opt/homebrew/lib/python3.11/site-packages/pandas/core/dtypes/astype.py\": 1698704067.6891544, \"/opt/homebrew/lib/python3.11/site-packages/pandas/core/dtypes/concat.py\": 1698704067.6895795, \"/opt/homebrew/lib/python3.11/site-packages/pandas/core/array_algos/__init__.py\": 1698704067.6871526, \"/opt/homebrew/lib/python3.11/site-packages/pandas/core/common.py\": 1698704067.6804435, \"/opt/homebrew/lib/python3.11/site-packages/pandas/core/construction.py\": 1698704067.6789849, \"/opt/homebrew/lib/python3.11/site-packages/pandas/core/array_algos/take.py\": 1698704067.6873941, \"/opt/homebrew/lib/python3.11/site-packages/pandas/core/indexers/utils.py\": 1698704067.6825747, \"/opt/homebrew/lib/python3.11/site-packages/pandas/core/indexers/__init__.py\": 1698704067.682248, \"/opt/homebrew/lib/python3.11/site-packages/pandas/core/algorithms.py\": 1698704067.6785686, \"/opt/homebrew/lib/python3.11/site-packages/pandas/util/_validators.py\": 1698704067.715618, \"/opt/homebrew/lib/python3.11/site-packages/pandas/core/missing.py\": 1698704067.678406, \"/opt/homebrew/lib/python3.11/site-packages/pandas/core/roperator.py\": 1698704067.6782584, \"/opt/homebrew/lib/python3.11/site-packages/pandas/_libs/ops.cpython-311-darwin.so\": 1698704067.8856828, \"/opt/homebrew/lib/python3.11/site-packages/pandas/core/computation/__init__.py\": 1698704067.7038143, \"/opt/homebrew/lib/python3.11/site-packages/pandas/core/computation/check.py\": 1698704067.703092, \"/opt/homebrew/lib/python3.11/site-packages/pandas/core/computation/expressions.py\": 1698704067.7037725, \"/opt/homebrew/lib/python3.11/site-packages/pandas/core/ops/missing.py\": 1698704067.71198, \"/opt/homebrew/lib/python3.11/site-packages/pandas/core/ops/dispatch.py\": 1698704067.7120688, \"/opt/homebrew/lib/python3.11/site-packages/pandas/core/ops/invalid.py\": 1698704067.7121518, \"/opt/homebrew/lib/python3.11/site-packages/pandas/core/ops/array_ops.py\": 1698704067.7118342, \"/opt/homebrew/lib/python3.11/site-packages/pandas/core/ops/common.py\": 1698704067.7125661, \"/opt/homebrew/lib/python3.11/site-packages/pandas/core/ops/docstrings.py\": 1698704067.712336, \"/opt/homebrew/lib/python3.11/site-packages/pandas/core/ops/mask_ops.py\": 1698704067.712482, \"/opt/homebrew/lib/python3.11/site-packages/pandas/core/ops/__init__.py\": 1698704067.7122383, \"/opt/homebrew/lib/python3.11/site-packages/pandas/core/arraylike.py\": 1698704067.6788769, \"/opt/homebrew/lib/python3.11/site-packages/pandas/core/arrays/_arrow_string_mixins.py\": 1698704067.7079005, \"/opt/homebrew/lib/python3.11/site-packages/pandas/compat/numpy/function.py\": 1698704067.6775603, \"/opt/homebrew/lib/python3.11/site-packages/pandas/core/array_algos/quantile.py\": 1698704067.686797, \"/opt/homebrew/lib/python3.11/site-packages/pandas/core/sorting.py\": 1698704067.680179, \"/opt/homebrew/lib/python3.11/site-packages/pandas/core/arrays/base.py\": 1698704067.710222, \"/opt/homebrew/lib/python3.11/site-packages/pandas/core/nanops.py\": 1698704067.6781375, \"/opt/homebrew/lib/python3.11/site-packages/pandas/core/array_algos/masked_accumulations.py\": 1698704067.6866522, \"/opt/homebrew/lib/python3.11/site-packages/pandas/core/array_algos/masked_reductions.py\": 1698704067.6872964, \"/opt/homebrew/lib/python3.11/site-packages/pandas/core/arrays/masked.py\": 1698704067.7094512, \"/opt/homebrew/lib/python3.11/site-packages/pandas/_libs/arrays.cpython-311-darwin.so\": 1698704067.8906727, \"/opt/homebrew/lib/python3.11/site-packages/pandas/core/arrays/numeric.py\": 1698704067.7097247, \"/opt/homebrew/lib/python3.11/site-packages/pandas/core/arrays/floating.py\": 1698704067.70724, \"/opt/homebrew/lib/python3.11/site-packages/pandas/core/arrays/integer.py\": 1698704067.7093155, \"/opt/homebrew/lib/python3.11/site-packages/pandas/core/array_algos/transforms.py\": 1698704067.6865685, \"/opt/homebrew/lib/python3.11/site-packages/pandas/core/arrays/_mixins.py\": 1698704067.7106278, \"/opt/homebrew/lib/python3.11/site-packages/pandas/core/strings/__init__.py\": 1698704067.684758, \"/opt/homebrew/lib/python3.11/site-packages/pandas/core/strings/base.py\": 1698704067.6849062, \"/opt/homebrew/lib/python3.11/site-packages/pandas/core/strings/object_array.py\": 1698704067.6846366, \"/opt/homebrew/lib/python3.11/site-packages/pandas/core/arrays/numpy_.py\": 1698704067.7088125, \"/opt/homebrew/lib/python3.11/site-packages/pandas/core/arrays/string_.py\": 1698704067.7086217, \"/opt/homebrew/lib/python3.11/site-packages/pandas/tseries/__init__.py\": 1698704067.726728, \"/opt/homebrew/lib/python3.11/site-packages/pandas/tseries/frequencies.py\": 1698704067.727036, \"/opt/homebrew/lib/python3.11/site-packages/pandas/core/arrays/arrow/array.py\": 1698704067.711179, \"/opt/homebrew/lib/python3.11/site-packages/pandas/core/arrays/arrow/__init__.py\": 1698704067.7109177, \"/opt/homebrew/lib/python3.11/site-packages/pandas/core/arrays/boolean.py\": 1698704067.7091737, \"/opt/homebrew/lib/python3.11/site-packages/pandas/core/accessor.py\": 1698704067.677731, \"/opt/homebrew/lib/python3.11/site-packages/pandas/core/base.py\": 1698704067.6819859, \"/opt/homebrew/lib/python3.11/site-packages/pandas/io/formats/__init__.py\": 1698704067.7207856, \"/opt/homebrew/lib/python3.11/site-packages/pandas/io/formats/console.py\": 1698704067.7202084, \"/opt/homebrew/lib/python3.11/site-packages/pandas/core/arrays/categorical.py\": 1698704067.7074125, \"/opt/homebrew/lib/python3.11/site-packages/pandas/_libs/tslib.cpython-311-darwin.so\": 1698704067.8795893, \"/opt/homebrew/lib/python3.11/site-packages/pandas/core/array_algos/datetimelike_accumulations.py\": 1698704067.6874883, \"/opt/homebrew/lib/python3.11/site-packages/pandas/core/arrays/datetimelike.py\": 1698704067.7098842, \"/opt/homebrew/lib/python3.11/site-packages/pandas/core/arrays/_ranges.py\": 1698704067.708967, \"/opt/homebrew/lib/python3.11/site-packages/pandas/tseries/offsets.py\": 1698704067.7269256, \"/opt/homebrew/lib/python3.11/site-packages/pandas/core/arrays/datetimes.py\": 1698704067.7081883, \"/opt/homebrew/lib/python3.11/site-packages/pandas/core/arrays/timedeltas.py\": 1698704067.7080224, \"/opt/homebrew/lib/python3.11/site-packages/pandas/core/arrays/interval.py\": 1698704067.7078114, \"/opt/homebrew/lib/python3.11/site-packages/pandas/core/arrays/period.py\": 1698704067.7095802, \"/opt/homebrew/lib/python3.11/site-packages/pandas/_libs/sparse.cpython-311-darwin.so\": 1698704067.8900938, \"/opt/homebrew/lib/python3.11/site-packages/pandas/io/formats/printing.py\": 1698704067.7220352, \"/opt/homebrew/lib/python3.11/site-packages/pandas/core/arrays/sparse/array.py\": 1698704067.7116945, \"/opt/homebrew/lib/python3.11/site-packages/pandas/core/arrays/sparse/accessor.py\": 1698704067.7113252, \"/opt/homebrew/lib/python3.11/site-packages/pandas/core/arrays/sparse/__init__.py\": 1698704067.7115545, \"/opt/homebrew/lib/python3.11/site-packages/pandas/core/arrays/string_arrow.py\": 1698704067.7090669, \"/opt/homebrew/lib/python3.11/site-packages/pandas/core/arrays/__init__.py\": 1698704067.708707, \"/opt/homebrew/lib/python3.11/site-packages/pandas/core/flags.py\": 1698704067.6791723, \"/opt/homebrew/lib/python3.11/site-packages/pandas/core/apply.py\": 1698704067.6821275, \"/opt/homebrew/lib/python3.11/site-packages/pandas/_libs/indexing.cpython-311-darwin.so\": 1698704067.8868327, \"/opt/homebrew/lib/python3.11/site-packages/pandas/core/indexes/__init__.py\": 1698704067.7137644, \"/opt/homebrew/lib/python3.11/site-packages/pandas/_libs/index.cpython-311-darwin.so\": 1698704067.8764234, \"/opt/homebrew/lib/python3.11/site-packages/pandas/_libs/internals.cpython-311-darwin.so\": 1698704067.897308, \"/opt/homebrew/lib/python3.11/site-packages/pandas/_libs/join.cpython-311-darwin.so\": 1698704067.8951821, \"/opt/homebrew/lib/python3.11/site-packages/pandas/core/array_algos/putmask.py\": 1698704067.6876466, \"/opt/homebrew/lib/python3.11/site-packages/pandas/core/indexes/frozen.py\": 1698704067.7143736, \"/opt/homebrew/lib/python3.11/site-packages/pandas/core/strings/accessor.py\": 1698704067.6843922, \"/opt/homebrew/lib/python3.11/site-packages/pandas/core/indexes/base.py\": 1698704067.715028, \"/opt/homebrew/lib/python3.11/site-packages/pandas/core/indexes/extension.py\": 1698704067.714544, \"/opt/homebrew/lib/python3.11/site-packages/pandas/core/indexes/category.py\": 1698704067.7153237, \"/opt/homebrew/lib/python3.11/site-packages/pandas/core/indexes/range.py\": 1698704067.7133546, \"/opt/homebrew/lib/python3.11/site-packages/pandas/core/tools/__init__.py\": 1698704067.6852894, \"/opt/homebrew/lib/python3.11/site-packages/pandas/core/tools/timedeltas.py\": 1698704067.6850977, \"/opt/homebrew/lib/python3.11/site-packages/pandas/core/indexes/datetimelike.py\": 1698704067.7146666, \"/opt/homebrew/lib/python3.11/site-packages/pandas/core/tools/times.py\": 1698704067.6854541, \"/opt/homebrew/lib/python3.11/site-packages/pandas/core/indexes/datetimes.py\": 1698704067.7134795, \"/opt/homebrew/lib/python3.11/site-packages/pandas/core/indexes/multi.py\": 1698704067.713698, \"/opt/homebrew/lib/python3.11/site-packages/pandas/core/indexes/timedeltas.py\": 1698704067.713234, \"/opt/homebrew/lib/python3.11/site-packages/pandas/core/indexes/interval.py\": 1698704067.7130876, \"/opt/homebrew/lib/python3.11/site-packages/pandas/core/indexes/period.py\": 1698704067.714041, \"/opt/homebrew/lib/python3.11/site-packages/pandas/core/indexes/api.py\": 1698704067.7139332, \"/opt/homebrew/lib/python3.11/site-packages/pandas/core/indexing.py\": 1698704067.6815538, \"/opt/homebrew/lib/python3.11/site-packages/pandas/core/sample.py\": 1698704067.6813817, \"/opt/homebrew/lib/python3.11/site-packages/pandas/core/array_algos/replace.py\": 1698704067.6878827, \"/opt/homebrew/lib/python3.11/site-packages/pandas/_libs/writers.cpython-311-darwin.so\": 1698704067.9003932, \"/opt/homebrew/lib/python3.11/site-packages/pandas/core/internals/blocks.py\": 1698704067.700449, \"/opt/homebrew/lib/python3.11/site-packages/pandas/core/internals/api.py\": 1698704067.7000773, \"/opt/homebrew/lib/python3.11/site-packages/pandas/core/internals/base.py\": 1698704067.7017863, \"/opt/homebrew/lib/python3.11/site-packages/pandas/core/internals/ops.py\": 1698704067.700253, \"/opt/homebrew/lib/python3.11/site-packages/pandas/core/internals/managers.py\": 1698704067.7019606, \"/opt/homebrew/lib/python3.11/site-packages/pandas/core/internals/array_manager.py\": 1698704067.6999578, \"/opt/homebrew/lib/python3.11/site-packages/pandas/core/internals/concat.py\": 1698704067.6993577, \"/opt/homebrew/lib/python3.11/site-packages/pandas/core/internals/__init__.py\": 1698704067.6998088, \"/opt/homebrew/lib/python3.11/site-packages/pandas/core/internals/construction.py\": 1698704067.6997054, \"/opt/homebrew/lib/python3.11/site-packages/pandas/core/methods/__init__.py\": 1698704067.6858315, \"/opt/homebrew/lib/python3.11/site-packages/pandas/core/reshape/__init__.py\": 1698704067.6837268, \"/opt/homebrew/lib/python3.11/site-packages/pandas/core/reshape/concat.py\": 1698704067.6834695, \"/opt/homebrew/Cellar/python@3.11/3.11.6/Frameworks/Python.framework/Versions/3.11/lib/python3.11/lib-dynload/mmap.cpython-311-darwin.so\": 1696254354.0, \"/opt/homebrew/Cellar/python@3.11/3.11.6/Frameworks/Python.framework/Versions/3.11/lib/python3.11/lib-dynload/grp.cpython-311-darwin.so\": 1696254354.0, \"/opt/homebrew/Cellar/python@3.11/3.11.6/Frameworks/Python.framework/Versions/3.11/lib/python3.11/tarfile.py\": 1696254354.0, \"/opt/homebrew/lib/python3.11/site-packages/pandas/core/shared_docs.py\": 1698704067.6812239, \"/opt/homebrew/lib/python3.11/site-packages/pandas/io/common.py\": 1698704067.717874, \"/opt/homebrew/lib/python3.11/site-packages/pandas/io/formats/format.py\": 1698704067.7209404, \"/opt/homebrew/lib/python3.11/site-packages/pandas/core/methods/describe.py\": 1698704067.6857846, \"/opt/homebrew/lib/python3.11/site-packages/pandas/_libs/window/__init__.py\": 1698704067.9037356, \"/opt/homebrew/lib/python3.11/site-packages/pandas/_libs/window/aggregations.cpython-311-darwin.so\": 1698704067.9036515, \"/opt/homebrew/lib/python3.11/site-packages/pandas/_libs/window/indexers.cpython-311-darwin.so\": 1698704067.9029853, \"/opt/homebrew/lib/python3.11/site-packages/pandas/core/indexers/objects.py\": 1698704067.6827848, \"/opt/homebrew/lib/python3.11/site-packages/pandas/core/util/__init__.py\": 1698704067.6862142, \"/opt/homebrew/lib/python3.11/site-packages/pandas/core/util/numba_.py\": 1698704067.6864526, \"/opt/homebrew/lib/python3.11/site-packages/pandas/core/window/common.py\": 1698704067.706629, \"/opt/homebrew/lib/python3.11/site-packages/pandas/core/window/doc.py\": 1698704067.7067826, \"/opt/homebrew/lib/python3.11/site-packages/pandas/core/window/numba_.py\": 1698704067.7069302, \"/opt/homebrew/lib/python3.11/site-packages/pandas/core/window/online.py\": 1698704067.7060046, \"/opt/homebrew/lib/python3.11/site-packages/pandas/core/_numba/__init__.py\": 1698704067.7045465, \"/opt/homebrew/lib/python3.11/site-packages/pandas/core/_numba/executor.py\": 1698704067.7047079, \"/opt/homebrew/lib/python3.11/site-packages/pandas/core/window/rolling.py\": 1698704067.7064493, \"/opt/homebrew/lib/python3.11/site-packages/pandas/core/window/ewm.py\": 1698704067.705906, \"/opt/homebrew/lib/python3.11/site-packages/pandas/core/window/expanding.py\": 1698704067.70705, \"/opt/homebrew/lib/python3.11/site-packages/pandas/core/window/__init__.py\": 1698704067.7062848, \"/opt/homebrew/lib/python3.11/site-packages/pandas/core/generic.py\": 1698704067.6797452, \"/opt/homebrew/lib/python3.11/site-packages/pandas/core/methods/selectn.py\": 1698704067.6859903, \"/opt/homebrew/lib/python3.11/site-packages/pandas/core/reshape/util.py\": 1698704067.6835568, \"/opt/homebrew/lib/python3.11/site-packages/pandas/core/tools/numeric.py\": 1698704067.685606, \"/opt/homebrew/lib/python3.11/site-packages/pandas/core/reshape/melt.py\": 1698704067.6840541, \"/opt/homebrew/lib/python3.11/site-packages/pandas/_libs/reshape.cpython-311-darwin.so\": 1698704067.8917289, \"/opt/homebrew/lib/python3.11/site-packages/pandas/core/indexes/accessors.py\": 1698704067.7129629, \"/opt/homebrew/lib/python3.11/site-packages/pandas/arrays/__init__.py\": 1698704067.9187806, \"/opt/homebrew/lib/python3.11/site-packages/pandas/core/tools/datetimes.py\": 1698704067.685242, \"/opt/homebrew/lib/python3.11/site-packages/pandas/io/formats/info.py\": 1698704067.7219133, \"/opt/homebrew/lib/python3.11/site-packages/pandas/plotting/_core.py\": 1698704067.9171317, \"/opt/homebrew/lib/python3.11/site-packages/pandas/plotting/_misc.py\": 1698704067.9172606, \"/opt/homebrew/lib/python3.11/site-packages/pandas/plotting/__init__.py\": 1698704067.916979, \"/opt/homebrew/lib/python3.11/site-packages/pandas/core/series.py\": 1698704067.6800554, \"/opt/homebrew/lib/python3.11/site-packages/pandas/core/frame.py\": 1698704067.6810546, \"/opt/homebrew/lib/python3.11/site-packages/pandas/core/groupby/base.py\": 1698704067.6992037, \"/opt/homebrew/lib/python3.11/site-packages/pandas/_libs/groupby.cpython-311-darwin.so\": 1698704067.8849812, \"/opt/homebrew/lib/python3.11/site-packages/pandas/core/groupby/categorical.py\": 1698704067.6907966, \"/opt/homebrew/lib/python3.11/site-packages/pandas/core/groupby/grouper.py\": 1698704067.6981394, \"/opt/homebrew/lib/python3.11/site-packages/pandas/core/groupby/ops.py\": 1698704067.6978476, \"/opt/homebrew/lib/python3.11/site-packages/pandas/core/groupby/numba_.py\": 1698704067.699091, \"/opt/homebrew/lib/python3.11/site-packages/pandas/core/groupby/indexing.py\": 1698704067.6983128, \"/opt/homebrew/lib/python3.11/site-packages/pandas/core/groupby/groupby.py\": 1698704067.6988447, \"/opt/homebrew/lib/python3.11/site-packages/pandas/core/groupby/generic.py\": 1698704067.6909862, \"/opt/homebrew/lib/python3.11/site-packages/pandas/core/groupby/__init__.py\": 1698704067.6977038, \"/opt/homebrew/lib/python3.11/site-packages/pandas/core/api.py\": 1698704067.680336, \"/opt/homebrew/lib/python3.11/site-packages/pandas/tseries/api.py\": 1698704067.726829, \"/opt/homebrew/lib/python3.11/site-packages/pandas/core/computation/common.py\": 1698704067.7041078, \"/opt/homebrew/lib/python3.11/site-packages/pandas/core/computation/align.py\": 1698704067.7032413, \"/opt/homebrew/lib/python3.11/site-packages/pandas/core/computation/scope.py\": 1698704067.7043657, \"/opt/homebrew/lib/python3.11/site-packages/pandas/core/computation/ops.py\": 1698704067.7040236, \"/opt/homebrew/lib/python3.11/site-packages/pandas/core/computation/engines.py\": 1698704067.7036219, \"/opt/homebrew/lib/python3.11/site-packages/pandas/core/computation/parsing.py\": 1698704067.7029943, \"/opt/homebrew/lib/python3.11/site-packages/pandas/core/computation/expr.py\": 1698704067.7044706, \"/opt/homebrew/lib/python3.11/site-packages/pandas/core/computation/eval.py\": 1698704067.7042139, \"/opt/homebrew/lib/python3.11/site-packages/pandas/core/computation/api.py\": 1698704067.7039146, \"/opt/homebrew/lib/python3.11/site-packages/pandas/core/reshape/encoding.py\": 1698704067.6833544, \"/opt/homebrew/lib/python3.11/site-packages/pandas/core/reshape/merge.py\": 1698704067.6831164, \"/opt/homebrew/lib/python3.11/site-packages/pandas/core/reshape/pivot.py\": 1698704067.6841717, \"/opt/homebrew/lib/python3.11/site-packages/pandas/core/reshape/tile.py\": 1698704067.682938, \"/opt/homebrew/lib/python3.11/site-packages/pandas/core/reshape/api.py\": 1698704067.6839309, \"/opt/homebrew/lib/python3.11/site-packages/pandas/api/extensions/__init__.py\": 1698704067.9196756, \"/opt/homebrew/lib/python3.11/site-packages/pandas/api/indexers/__init__.py\": 1698704067.9190156, \"/opt/homebrew/lib/python3.11/site-packages/pandas/core/interchange/__init__.py\": 1698704067.688159, \"/opt/homebrew/lib/python3.11/site-packages/pandas/core/interchange/dataframe_protocol.py\": 1698704067.6883729, \"/opt/homebrew/lib/python3.11/site-packages/pandas/core/interchange/utils.py\": 1698704067.6884634, \"/opt/homebrew/lib/python3.11/site-packages/pandas/core/interchange/from_dataframe.py\": 1698704067.6880267, \"/opt/homebrew/lib/python3.11/site-packages/pandas/api/interchange/__init__.py\": 1698704067.9195294, \"/opt/homebrew/lib/python3.11/site-packages/pandas/core/dtypes/api.py\": 1698704067.6901624, \"/opt/homebrew/lib/python3.11/site-packages/pandas/api/types/__init__.py\": 1698704067.9191315, \"/opt/homebrew/lib/python3.11/site-packages/pandas/core/resample.py\": 1698704067.678748, \"/opt/homebrew/lib/python3.11/site-packages/pandas/_libs/json.cpython-311-darwin.so\": 1698704067.8799818, \"/opt/homebrew/lib/python3.11/site-packages/pandas/io/json/_normalize.py\": 1698704067.724723, \"/opt/homebrew/lib/python3.11/site-packages/pandas/io/json/_table_schema.py\": 1698704067.7248933, \"/opt/homebrew/lib/python3.11/site-packages/pandas/_libs/parsers.cpython-311-darwin.so\": 1698704067.8866, \"/opt/homebrew/lib/python3.11/site-packages/pandas/io/parsers/base_parser.py\": 1698704067.719823, \"/opt/homebrew/lib/python3.11/site-packages/pandas/io/parsers/arrow_parser_wrapper.py\": 1698704067.719973, \"/opt/homebrew/lib/python3.11/site-packages/pandas/io/parsers/c_parser_wrapper.py\": 1698704067.7200775, \"/opt/homebrew/lib/python3.11/site-packages/pandas/io/parsers/python_parser.py\": 1698704067.7196817, \"/opt/homebrew/lib/python3.11/site-packages/pandas/io/parsers/readers.py\": 1698704067.7194064, \"/opt/homebrew/lib/python3.11/site-packages/pandas/io/parsers/__init__.py\": 1698704067.719534, \"/opt/homebrew/lib/python3.11/site-packages/pandas/io/json/_json.py\": 1698704067.724537, \"/opt/homebrew/lib/python3.11/site-packages/pandas/io/json/__init__.py\": 1698704067.7251263, \"/opt/homebrew/lib/python3.11/site-packages/pandas/io/stata.py\": 1698704067.718812, \"/opt/homebrew/lib/python3.11/site-packages/pandas/api/typing/__init__.py\": 1698704067.9199138, \"/opt/homebrew/lib/python3.11/site-packages/pandas/api/__init__.py\": 1698704067.9188943, \"/opt/homebrew/lib/python3.11/site-packages/pandas/_testing/contexts.py\": 1698704067.8753262, \"/opt/homebrew/lib/python3.11/site-packages/pandas/_testing/_io.py\": 1698704067.8747714, \"/opt/homebrew/lib/python3.11/site-packages/pandas/_testing/_warnings.py\": 1698704067.8750534, \"/opt/homebrew/Cellar/python@3.11/3.11.6/Frameworks/Python.framework/Versions/3.11/lib/python3.11/lib-dynload/cmath.cpython-311-darwin.so\": 1696254354.0, \"/opt/homebrew/lib/python3.11/site-packages/pandas/_libs/testing.cpython-311-darwin.so\": 1698704067.8954656, \"/opt/homebrew/lib/python3.11/site-packages/pandas/_testing/asserters.py\": 1698704067.8751743, \"/opt/homebrew/lib/python3.11/site-packages/pandas/_testing/compat.py\": 1698704067.8746169, \"/opt/homebrew/lib/python3.11/site-packages/pandas/_testing/__init__.py\": 1698704067.8749025, \"/opt/homebrew/lib/python3.11/site-packages/pandas/testing.py\": 1698704067.6765523, \"/opt/homebrew/lib/python3.11/site-packages/pandas/util/_print_versions.py\": 1698704067.7157638, \"/opt/homebrew/lib/python3.11/site-packages/pandas/io/clipboards.py\": 1698704067.7176678, \"/opt/homebrew/lib/python3.11/site-packages/pandas/io/excel/_util.py\": 1698704067.7240617, \"/opt/homebrew/lib/python3.11/site-packages/pandas/io/excel/_odfreader.py\": 1698704067.7242107, \"/opt/homebrew/lib/python3.11/site-packages/pandas/io/excel/_openpyxl.py\": 1698704067.7232053, \"/opt/homebrew/lib/python3.11/site-packages/pandas/io/excel/_pyxlsb.py\": 1698704067.7237494, \"/opt/homebrew/lib/python3.11/site-packages/pandas/io/excel/_xlrd.py\": 1698704067.723501, \"/opt/homebrew/lib/python3.11/site-packages/pandas/io/excel/_base.py\": 1698704067.7233524, \"/opt/homebrew/lib/python3.11/site-packages/pandas/io/excel/_odswriter.py\": 1698704067.7239115, \"/opt/homebrew/lib/python3.11/site-packages/pandas/io/excel/_xlsxwriter.py\": 1698704067.7243652, \"/opt/homebrew/lib/python3.11/site-packages/pandas/io/excel/__init__.py\": 1698704067.7235997, \"/opt/homebrew/lib/python3.11/site-packages/pandas/io/feather_format.py\": 1698704067.7167716, \"/opt/homebrew/lib/python3.11/site-packages/pandas/io/gbq.py\": 1698704067.7189813, \"/opt/homebrew/lib/python3.11/site-packages/pandas/io/html.py\": 1698704067.7173047, \"/opt/homebrew/lib/python3.11/site-packages/pandas/io/orc.py\": 1698704067.7166257, \"/opt/homebrew/lib/python3.11/site-packages/pandas/io/parquet.py\": 1698704067.7168815, \"/opt/homebrew/lib/python3.11/site-packages/pandas/compat/pickle_compat.py\": 1698704067.677248, \"/opt/homebrew/lib/python3.11/site-packages/pandas/io/pickle.py\": 1698704067.718418, \"/opt/homebrew/lib/python3.11/site-packages/pandas/core/computation/pytables.py\": 1698704067.7034054, \"/opt/homebrew/lib/python3.11/site-packages/pandas/io/pytables.py\": 1698704067.7171423, \"/opt/homebrew/lib/python3.11/site-packages/pandas/io/sas/sasreader.py\": 1698704067.725591, \"/opt/homebrew/lib/python3.11/site-packages/pandas/io/sas/__init__.py\": 1698704067.72568, \"/opt/homebrew/lib/python3.11/site-packages/pandas/io/spss.py\": 1698704067.7192056, \"/opt/homebrew/lib/python3.11/site-packages/pandas/io/sql.py\": 1698704067.7185817, \"/opt/homebrew/lib/python3.11/site-packages/pandas/io/xml.py\": 1698704067.7174282, \"/opt/homebrew/lib/python3.11/site-packages/pandas/io/api.py\": 1698704067.7177553, \"/opt/homebrew/lib/python3.11/site-packages/pandas/util/_tester.py\": 1698704067.7163136, \"/opt/homebrew/lib/python3.11/site-packages/pandas/_version_meson.py\": 1698704067.6763344, \"/opt/homebrew/lib/python3.11/site-packages/pandas/__init__.py\": 1698704067.6762562}\n"
     ]
    },
    {
     "name": "stderr",
     "output_type": "stream",
     "text": [
      "/var/folders/l7/qksjftz12pz0s32y0l3jd4k4cyyb65/T/ipykernel_10367/1775435789.py:20: DeprecationWarning: `set_matplotlib_formats` is deprecated since IPython 7.23, directly use `matplotlib_inline.backend_inline.set_matplotlib_formats()`\n",
      "  set_matplotlib_formats(fig_format)\n"
     ]
    }
   ],
   "source": [
    "\n",
    "# imports\n",
    "import os\n",
    "import sys\n",
    "import types\n",
    "import json\n",
    "\n",
    "# figure size/format\n",
    "fig_width = 5.5\n",
    "fig_height = 3.5\n",
    "fig_format = 'pdf'\n",
    "fig_dpi = 300\n",
    "\n",
    "# matplotlib defaults / format\n",
    "try:\n",
    "  import matplotlib.pyplot as plt\n",
    "  plt.rcParams['figure.figsize'] = (fig_width, fig_height)\n",
    "  plt.rcParams['figure.dpi'] = fig_dpi\n",
    "  plt.rcParams['savefig.dpi'] = fig_dpi\n",
    "  from IPython.display import set_matplotlib_formats\n",
    "  set_matplotlib_formats(fig_format)\n",
    "except Exception:\n",
    "  pass\n",
    "\n",
    "# plotly use connected mode\n",
    "try:\n",
    "  import plotly.io as pio\n",
    "  pio.renderers.default = \"notebook_connected\"\n",
    "except Exception:\n",
    "  pass\n",
    "\n",
    "# enable pandas latex repr when targeting pdfs\n",
    "try:\n",
    "  import pandas as pd\n",
    "  if fig_format == 'pdf':\n",
    "    pd.set_option('display.latex.repr', True)\n",
    "except Exception:\n",
    "  pass\n",
    "\n",
    "\n",
    "\n",
    "# output kernel dependencies\n",
    "kernel_deps = dict()\n",
    "for module in list(sys.modules.values()):\n",
    "  # Some modules play games with sys.modules (e.g. email/__init__.py\n",
    "  # in the standard library), and occasionally this can cause strange\n",
    "  # failures in getattr.  Just ignore anything that's not an ordinary\n",
    "  # module.\n",
    "  if not isinstance(module, types.ModuleType):\n",
    "    continue\n",
    "  path = getattr(module, \"__file__\", None)\n",
    "  if not path:\n",
    "    continue\n",
    "  if path.endswith(\".pyc\") or path.endswith(\".pyo\"):\n",
    "    path = path[:-1]\n",
    "  if not os.path.exists(path):\n",
    "    continue\n",
    "  kernel_deps[path] = os.stat(path).st_mtime\n",
    "print(json.dumps(kernel_deps))\n",
    "\n",
    "# set run_path if requested\n",
    "if r'/Users/legoses/Library/CloudStorage/GoogleDrive-nelsonla@byui.edu/My Drive/Lance/PH135/textbook/chapters':\n",
    "  os.chdir(r'/Users/legoses/Library/CloudStorage/GoogleDrive-nelsonla@byui.edu/My Drive/Lance/PH135/textbook/chapters')\n",
    "\n",
    "# reset state\n",
    "%reset\n",
    "\n",
    "def ojs_define(**kwargs):\n",
    "  import json\n",
    "  try:\n",
    "    # IPython 7.14 preferred import\n",
    "    from IPython.display import display, HTML\n",
    "  except:\n",
    "    from IPython.core.display import display, HTML\n",
    "\n",
    "  # do some minor magic for convenience when handling pandas\n",
    "  # dataframes\n",
    "  def convert(v):\n",
    "    try:\n",
    "      import pandas as pd\n",
    "    except ModuleNotFoundError: # don't do the magic when pandas is not available\n",
    "      return v\n",
    "    if type(v) == pd.Series:\n",
    "      v = pd.DataFrame(v)\n",
    "    if type(v) == pd.DataFrame:\n",
    "      j = json.loads(v.T.to_json(orient='split'))\n",
    "      return dict((k,v) for (k,v) in zip(j[\"index\"], j[\"data\"]))\n",
    "    else:\n",
    "      return v\n",
    "  \n",
    "  v = dict(contents=list(dict(name=key, value=convert(value)) for (key, value) in kwargs.items()))\n",
    "  display(HTML('<script type=\"ojs-define\">' + json.dumps(v) + '</script>'), metadata=dict(ojs_define = True))\n",
    "globals()[\"ojs_define\"] = ojs_define\n"
   ]
  },
  {
   "cell_type": "code",
   "execution_count": 2,
   "id": "92a486e3",
   "metadata": {},
   "outputs": [
    {
     "data": {
      "text/plain": [
       "0.8660254037844387"
      ]
     },
     "execution_count": 1,
     "metadata": {},
     "output_type": "execute_result"
    }
   ],
   "source": [
    "from math import cos,pi\n",
    "\n",
    "cos(pi/6)"
   ]
  },
  {
   "cell_type": "code",
   "execution_count": 3,
   "id": "e82de925",
   "metadata": {},
   "outputs": [
    {
     "data": {
      "image/png": "[encoded data removed]",
      "text/latex": [
       "$\\displaystyle \\frac{\\sqrt{3}}{2}$"
      ],
      "text/plain": [
       "√3\n",
       "──\n",
       "2 "
      ]
     },
     "metadata": {},
     "output_type": "display_data"
    }
   ],
   "source": [
    "from sympy import cos,pi,init_printing\n",
    "init_printing(use_unicode = True)\n",
    "\n",
    "a=cos(pi/6)\n",
    "display(a)"
   ]
  },
  {
   "cell_type": "code",
   "execution_count": 4,
   "id": "59d09734",
   "metadata": {},
   "outputs": [
    {
     "data": {
      "image/png": "[encoded data removed]",
      "text/latex": [
       "$\\displaystyle 2 \\sqrt{2}$"
      ],
      "text/plain": [
       "2⋅√2"
      ]
     },
     "execution_count": 3,
     "metadata": {},
     "output_type": "execute_result"
    }
   ],
   "source": [
    "from sympy import sqrt\n",
    "\n",
    "sqrt(8)"
   ]
  },
  {
   "cell_type": "code",
   "execution_count": 5,
   "id": "e18fdcdf",
   "metadata": {},
   "outputs": [
    {
     "data": {
      "image/png": "[encoded data removed]",
      "text/latex": [
       "$\\displaystyle 2.82842712474619$"
      ],
      "text/plain": [
       "2.82842712474619"
      ]
     },
     "execution_count": 4,
     "metadata": {},
     "output_type": "execute_result"
    }
   ],
   "source": [
    "from sympy import sqrt,N\n",
    "\n",
    "N(sqrt(8))"
   ]
  },
  {
   "cell_type": "code",
   "execution_count": 6,
   "id": "251ca662",
   "metadata": {},
   "outputs": [
    {
     "data": {
      "image/png": "[encoded data removed]",
      "text/latex": [
       "$\\displaystyle \\left( x, \\  a, \\  b, \\  c\\right)$"
      ],
      "text/plain": [
       "(x, a, b, c)"
      ]
     },
     "execution_count": 5,
     "metadata": {},
     "output_type": "execute_result"
    }
   ],
   "source": [
    "from sympy import Symbol\n",
    "x = Symbol(\"x\")\n",
    "a = Symbol(\"a\")\n",
    "b = Symbol(\"b\")\n",
    "c = Symbol(\"c\")\n",
    "x,a,b,c"
   ]
  },
  {
   "cell_type": "code",
   "execution_count": 7,
   "id": "af7206c6",
   "metadata": {},
   "outputs": [
    {
     "data": {
      "image/png": "[encoded data removed]",
      "text/latex": [
       "$\\displaystyle \\left( x, \\  a, \\  b, \\  c\\right)$"
      ],
      "text/plain": [
       "(x, a, b, c)"
      ]
     },
     "execution_count": 6,
     "metadata": {},
     "output_type": "execute_result"
    }
   ],
   "source": [
    "from sympy import symbols\n",
    "\n",
    "x,a,b,c = symbols(\"x a b c\")\n",
    "x,a,b,c"
   ]
  },
  {
   "cell_type": "code",
   "execution_count": 8,
   "id": "be3ae3a8",
   "metadata": {},
   "outputs": [
    {
     "data": {
      "image/png": "[encoded data removed]",
      "text/latex": [
       "$\\displaystyle a x^{2} + b x + c$"
      ],
      "text/plain": [
       "   2          \n",
       "a⋅x  + b⋅x + c"
      ]
     },
     "execution_count": 7,
     "metadata": {},
     "output_type": "execute_result"
    }
   ],
   "source": [
    "from sympy import symbols\n",
    "x,a,b,c = symbols(\"x a b c\")\n",
    "expression = a * x**2 + b * x + c\n",
    "expression"
   ]
  },
  {
   "cell_type": "code",
   "execution_count": 9,
   "id": "d426c42b",
   "metadata": {},
   "outputs": [
    {
     "data": {
      "image/png": "[encoded data removed]",
      "text/latex": [
       "$\\displaystyle x \\left(a x^{2} + b x + c\\right)$"
      ],
      "text/plain": [
       "  ⎛   2          ⎞\n",
       "x⋅⎝a⋅x  + b⋅x + c⎠"
      ]
     },
     "execution_count": 8,
     "metadata": {},
     "output_type": "execute_result"
    }
   ],
   "source": [
    "from sympy import symbols\n",
    "\n",
    "x,a,b,c = symbols(\"x a b c\")\n",
    "expression = a * x**2 + b * x + c\n",
    "\n",
    "newexpression = x * expression\n",
    "newexpression"
   ]
  },
  {
   "cell_type": "code",
   "execution_count": 10,
   "id": "9fc9e02d",
   "metadata": {},
   "outputs": [
    {
     "data": {
      "image/png": "[encoded data removed]",
      "text/latex": [
       "$\\displaystyle 57$"
      ],
      "text/plain": [
       "57"
      ]
     },
     "execution_count": 9,
     "metadata": {},
     "output_type": "execute_result"
    }
   ],
   "source": [
    "from sympy import symbols\n",
    "\n",
    "x,a,b,c = symbols(\"x a b c\")\n",
    "expression = a * x**2 + b * x + c\n",
    "\n",
    "evalDict ={a:2,b:4,c:9,x:4}\n",
    "expression.subs(evalDict)"
   ]
  },
  {
   "cell_type": "code",
   "execution_count": 11,
   "id": "d9d41137",
   "metadata": {},
   "outputs": [
    {
     "data": {
      "image/png": "[encoded data removed]",
      "text/latex": [
       "$\\displaystyle z \\left(x^{2} + 4 x y + 4 y^{2}\\right)$"
      ],
      "text/plain": [
       "  ⎛ 2              2⎞\n",
       "z⋅⎝x  + 4⋅x⋅y + 4⋅y ⎠"
      ]
     },
     "metadata": {},
     "output_type": "display_data"
    },
    {
     "data": {
      "image/png": "[encoded data removed]",
      "text/latex": [
       "$\\displaystyle 1$"
      ],
      "text/plain": [
       "1"
      ]
     },
     "metadata": {},
     "output_type": "display_data"
    }
   ],
   "source": [
    "from sympy import symbols,cos,sin,simplify\n",
    "x,y,z = symbols(\"x y z\")\n",
    "a = simplify(x**2 * z + 4 * x *y*z + 4*y**2*z)\n",
    "b = simplify(cos(x)**2 + sin(x)**2)\n",
    "display(a)\n",
    "display(b)"
   ]
  },
  {
   "cell_type": "code",
   "execution_count": 12,
   "id": "f00b1d3a",
   "metadata": {},
   "outputs": [
    {
     "data": {
      "image/png": "[encoded data removed]",
      "text/latex": [
       "$\\displaystyle x^{2} - x - 6$"
      ],
      "text/plain": [
       " 2        \n",
       "x  - x - 6"
      ]
     },
     "metadata": {},
     "output_type": "display_data"
    },
    {
     "data": {
      "image/png": "[encoded data removed]",
      "text/latex": [
       "$\\displaystyle x^{2} + 6 x + 9$"
      ],
      "text/plain": [
       " 2          \n",
       "x  + 6⋅x + 9"
      ]
     },
     "metadata": {},
     "output_type": "display_data"
    }
   ],
   "source": [
    "from sympy import symbols,expand\n",
    "x = symbols(\"x\")\n",
    "a = expand((x + 2) * (x - 3))\n",
    "b = expand((x+3)**2)\n",
    "display(a)\n",
    "display(b)"
   ]
  },
  {
   "cell_type": "code",
   "execution_count": 13,
   "id": "f15cacf7",
   "metadata": {},
   "outputs": [
    {
     "data": {
      "image/png": "[encoded data removed]",
      "text/latex": [
       "$\\displaystyle -2$"
      ],
      "text/plain": [
       "-2"
      ]
     },
     "execution_count": 12,
     "metadata": {},
     "output_type": "execute_result"
    }
   ],
   "source": [
    "from sympy import Symbol,expand\n",
    "x = Symbol(\"x\")\n",
    "expand((x + 1)*(x - 2) - (x - 1)*x)"
   ]
  },
  {
   "cell_type": "code",
   "execution_count": 14,
   "id": "36517dac",
   "metadata": {},
   "outputs": [
    {
     "data": {
      "image/png": "[encoded data removed]",
      "text/latex": [
       "$\\displaystyle z \\left(x + 2 y\\right)^{2}$"
      ],
      "text/plain": [
       "           2\n",
       "z⋅(x + 2⋅y) "
      ]
     },
     "execution_count": 13,
     "metadata": {},
     "output_type": "execute_result"
    }
   ],
   "source": [
    "from sympy import symbols,factor\n",
    "x,y,z = symbols(\"x y z\")\n",
    "factor(x**2 * z + 4 * x *y*z + 4*y**2*z)"
   ]
  },
  {
   "cell_type": "code",
   "execution_count": 15,
   "id": "af3b281d",
   "metadata": {},
   "outputs": [
    {
     "data": {
      "image/png": "[encoded data removed]",
      "text/latex": [
       "$\\displaystyle \\left(\\sin{\\left(x \\right)} + \\cos{\\left(x \\right)}\\right)^{2}$"
      ],
      "text/plain": [
       "                 2\n",
       "(sin(x) + cos(x)) "
      ]
     },
     "execution_count": 14,
     "metadata": {},
     "output_type": "execute_result"
    }
   ],
   "source": [
    "from sympy import symbols,factor,cos,sin\n",
    "x,y,z = symbols(\"x y z\")\n",
    "factor(cos(x)**2 + 2 * cos(x) * sin(x) + sin(x)**2)"
   ]
  },
  {
   "cell_type": "code",
   "execution_count": 16,
   "id": "a61f48fb",
   "metadata": {},
   "outputs": [
    {
     "data": {
      "image/png": "[encoded data removed]",
      "text/latex": [
       "$\\displaystyle x^{3} + x^{2} \\cdot \\left(2 - z\\right) + x \\left(y + 1\\right) - 3$"
      ],
      "text/plain": [
       " 3    2                        \n",
       "x  + x ⋅(2 - z) + x⋅(y + 1) - 3"
      ]
     },
     "execution_count": 15,
     "metadata": {},
     "output_type": "execute_result"
    }
   ],
   "source": [
    "from sympy import symbols,collect\n",
    "x,y,z = symbols(\"x y z\")\n",
    "collect(x*y + x - 3 + 2 * x**2 - z *x**2 + x**3,x)"
   ]
  },
  {
   "cell_type": "code",
   "execution_count": 17,
   "id": "15ca25b2",
   "metadata": {},
   "outputs": [
    {
     "data": {
      "image/png": "[encoded data removed]",
      "text/latex": [
       "$\\displaystyle \\frac{x + 1}{x}$"
      ],
      "text/plain": [
       "x + 1\n",
       "─────\n",
       "  x  "
      ]
     },
     "execution_count": 16,
     "metadata": {},
     "output_type": "execute_result"
    }
   ],
   "source": [
    "from sympy import symbols,cancel\n",
    "x,y,z = symbols(\"x y z\")\n",
    "cancel((x**2 + 2*x + 1)/(x**2 + x))"
   ]
  },
  {
   "cell_type": "code",
   "execution_count": 18,
   "id": "f9008896",
   "metadata": {},
   "outputs": [
    {
     "data": {
      "image/png": "[encoded data removed]",
      "text/latex": [
       "$\\displaystyle 1$"
      ],
      "text/plain": [
       "1"
      ]
     },
     "execution_count": 17,
     "metadata": {},
     "output_type": "execute_result"
    }
   ],
   "source": [
    "from sympy import symbols,trigsimp,cos,sin\n",
    "x = symbols(\"x\")\n",
    "trigsimp(cos(x)**2 + sin(x)**2)"
   ]
  },
  {
   "cell_type": "code",
   "execution_count": 19,
   "id": "2ea94988",
   "metadata": {},
   "outputs": [
    {
     "data": {
      "image/png": "[encoded data removed]",
      "text/latex": [
       "$\\displaystyle \\sin{\\left(x \\right)} \\cos{\\left(y \\right)} + \\sin{\\left(y \\right)} \\cos{\\left(x \\right)}$"
      ],
      "text/plain": [
       "sin(x)⋅cos(y) + sin(y)⋅cos(x)"
      ]
     },
     "execution_count": 18,
     "metadata": {},
     "output_type": "execute_result"
    }
   ],
   "source": [
    "from sympy import symbols,expand_trig\n",
    "x,y = symbols(\"x y\")\n",
    "expand_trig(sin(x + y))"
   ]
  },
  {
   "cell_type": "code",
   "execution_count": 20,
   "id": "3b90057a",
   "metadata": {},
   "outputs": [
    {
     "data": {
      "image/png": "[encoded data removed]",
      "text/latex": [
       "$\\displaystyle - \\sin{\\left(x \\right)}$"
      ],
      "text/plain": [
       "-sin(x)"
      ]
     },
     "execution_count": 19,
     "metadata": {},
     "output_type": "execute_result"
    }
   ],
   "source": [
    "from sympy import symbols,diff,cos\n",
    "x = symbols(\"x\")\n",
    "diff(cos(x),x)"
   ]
  },
  {
   "cell_type": "code",
   "execution_count": 21,
   "id": "3ee49470",
   "metadata": {},
   "outputs": [
    {
     "data": {
      "image/png": "[encoded data removed]",
      "text/latex": [
       "$\\displaystyle - \\cos{\\left(x \\right)}$"
      ],
      "text/plain": [
       "-cos(x)"
      ]
     },
     "execution_count": 20,
     "metadata": {},
     "output_type": "execute_result"
    }
   ],
   "source": [
    "from sympy import symbols,diff,cos\n",
    "x = symbols(\"x\")\n",
    "diff(cos(x),x,x)"
   ]
  },
  {
   "cell_type": "code",
   "execution_count": 22,
   "id": "d15c565c",
   "metadata": {},
   "outputs": [
    {
     "data": {
      "image/png": "[encoded data removed]",
      "text/latex": [
       "$\\displaystyle x y \\left(x^{2} y^{2} z^{2} + 5 x y z + 4\\right) e^{x y z}$"
      ],
      "text/plain": [
       "    ⎛ 2  2  2              ⎞  x⋅y⋅z\n",
       "x⋅y⋅⎝x ⋅y ⋅z  + 5⋅x⋅y⋅z + 4⎠⋅ℯ     "
      ]
     },
     "execution_count": 21,
     "metadata": {},
     "output_type": "execute_result"
    }
   ],
   "source": [
    "from sympy import symbols,diff,exp\n",
    "x,y,z = symbols(\"x y z\")\n",
    "diff(exp(x * y * z),x,y,z,z)"
   ]
  },
  {
   "cell_type": "code",
   "execution_count": 23,
   "id": "d803c0bd",
   "metadata": {},
   "outputs": [
    {
     "data": {
      "application/pdf": "[encoded data removed]",
      "text/plain": [
       "<Figure size 1650x1050 with 1 Axes>"
      ]
     },
     "metadata": {},
     "output_type": "display_data"
    }
   ],
   "source": [
    "from sympy import symbols,diff\n",
    "import numpy as np\n",
    "import matplotlib.pyplot as plt\n",
    "x,a,b,c = symbols(\"x a b c\")\n",
    "expression = a * x**2 + b * x + c\n",
    "\n",
    "newexpression = diff(expression,x)\n",
    "xarray = np.arange(0,5,0.1)\n",
    "y = [expression.subs({a:-2,b:4,c:9,x:X}) for X in xarray]\n",
    "yprime = [newexpression.subs({a:-2,b:4,c:9,x:X}) for X in xarray]\n",
    "plt.plot(xarray,yprime,'r.-',label= \"y'(x)\")\n",
    "plt.plot(xarray,y,'b.-',label= \"y(x)\")\n",
    "plt.legend()\n",
    "plt.grid()\n",
    "plt.show()"
   ]
  },
  {
   "cell_type": "code",
   "execution_count": 24,
   "id": "5388fbd9",
   "metadata": {},
   "outputs": [
    {
     "data": {
      "image/png": "[encoded data removed]",
      "text/latex": [
       "$\\displaystyle 1 - e^{-5}$"
      ],
      "text/plain": [
       "     -5\n",
       "1 - ℯ  "
      ]
     },
     "execution_count": 23,
     "metadata": {},
     "output_type": "execute_result"
    }
   ],
   "source": [
    "from sympy import integrate, Symbol\n",
    "\n",
    "x = Symbol(\"x\")\n",
    "\n",
    "integrate(exp(-x),(x,0,5))"
   ]
  },
  {
   "cell_type": "code",
   "execution_count": 25,
   "id": "059a6f80",
   "metadata": {},
   "outputs": [
    {
     "data": {
      "image/png": "[encoded data removed]",
      "text/latex": [
       "$\\displaystyle 1$"
      ],
      "text/plain": [
       "1"
      ]
     },
     "execution_count": 24,
     "metadata": {},
     "output_type": "execute_result"
    }
   ],
   "source": [
    "from sympy import integrate, Symbol,oo\n",
    "\n",
    "x = Symbol(\"x\")\n",
    "\n",
    "integrate(exp(-x),(x,0,oo))"
   ]
  },
  {
   "cell_type": "code",
   "execution_count": 26,
   "id": "3cb93ddb",
   "metadata": {},
   "outputs": [
    {
     "data": {
      "image/png": "[encoded data removed]",
      "text/latex": [
       "$\\displaystyle \\frac{\\pi}{4}$"
      ],
      "text/plain": [
       "π\n",
       "─\n",
       "4"
      ]
     },
     "execution_count": 25,
     "metadata": {},
     "output_type": "execute_result"
    }
   ],
   "source": [
    "from sympy import integrate, symbols,oo\n",
    "\n",
    "x,y = symbols(\"x y\")\n",
    "\n",
    "integrate(exp(-x**2 - y**2),(x,0,oo),(y,0,oo))"
   ]
  },
  {
   "cell_type": "code",
   "execution_count": 27,
   "id": "c6a9a63e",
   "metadata": {},
   "outputs": [
    {
     "data": {
      "image/png": "[encoded data removed]",
      "text/latex": [
       "$\\displaystyle \\frac{x^{3} y}{3} + \\frac{x y^{3}}{3}$"
      ],
      "text/plain": [
       " 3        3\n",
       "x ⋅y   x⋅y \n",
       "──── + ────\n",
       " 3      3  "
      ]
     },
     "execution_count": 26,
     "metadata": {},
     "output_type": "execute_result"
    }
   ],
   "source": [
    "from sympy import integrate, symbols\n",
    "\n",
    "x,y = symbols(\"x y\")\n",
    "\n",
    "integrate(x**2 + y**2,x,y)"
   ]
  },
  {
   "cell_type": "code",
   "execution_count": 28,
   "id": "88e8b5f5",
   "metadata": {},
   "outputs": [
    {
     "data": {
      "image/png": "[encoded data removed]",
      "text/latex": [
       "$\\displaystyle 1$"
      ],
      "text/plain": [
       "1"
      ]
     },
     "execution_count": 27,
     "metadata": {},
     "output_type": "execute_result"
    }
   ],
   "source": [
    "from sympy import limit, Symbol,sin\n",
    "\n",
    "x = Symbol(\"x\")\n",
    "\n",
    "limit(sin(x)/x,x,0)"
   ]
  },
  {
   "cell_type": "code",
   "execution_count": 29,
   "id": "60de867f",
   "metadata": {},
   "outputs": [
    {
     "data": {
      "image/png": "[encoded data removed]",
      "text/latex": [
       "$\\displaystyle 5 x + 2 y = 8$"
      ],
      "text/plain": [
       "5⋅x + 2⋅y = 8"
      ]
     },
     "execution_count": 28,
     "metadata": {},
     "output_type": "execute_result"
    }
   ],
   "source": [
    "from sympy import symbols,Eq\n",
    "\n",
    "x,y = symbols(\"x y\")\n",
    "\n",
    "equation = Eq(5 * x + 2 * y , 8)\n",
    "equation"
   ]
  },
  {
   "cell_type": "code",
   "execution_count": 30,
   "id": "c9664466",
   "metadata": {},
   "outputs": [
    {
     "data": {
      "image/png": "[encoded data removed]",
      "text/latex": [
       "$\\displaystyle \\left\\{-1, \\frac{8}{3}\\right\\}$"
      ],
      "text/plain": [
       "{-1, 8/3}"
      ]
     },
     "execution_count": 29,
     "metadata": {},
     "output_type": "execute_result"
    }
   ],
   "source": [
    "from sympy import symbols,Eq,solveset\n",
    "\n",
    "x = symbols(\"x\")\n",
    "\n",
    "equation = Eq(3* x**2 - 5 * x, 8)\n",
    "solveset(equation,x)"
   ]
  },
  {
   "cell_type": "code",
   "execution_count": 31,
   "id": "9f0bf826",
   "metadata": {},
   "outputs": [
    {
     "data": {
      "image/png": "[encoded data removed]",
      "text/latex": [
       "$\\displaystyle \\left\\{x\\; \\middle|\\; x \\in \\mathbb{C} \\wedge - x + \\sin{\\left(x \\right)} = 0 \\right\\} \\setminus \\left\\{0\\right\\}$"
      ],
      "text/plain": [
       "{x │ x ∊ ℂ ∧ (-x + sin(x) = 0)} \\ {0}"
      ]
     },
     "execution_count": 30,
     "metadata": {},
     "output_type": "execute_result"
    }
   ],
   "source": [
    "from sympy import symbols,Eq,solveset,sin\n",
    "\n",
    "x = symbols(\"x\")\n",
    "\n",
    "equation = Eq(sin(x)/x, 1)\n",
    "solveset(equation,x)"
   ]
  },
  {
   "cell_type": "code",
   "execution_count": 32,
   "id": "0d261d9d",
   "metadata": {},
   "outputs": [
    {
     "data": {
      "image/png": "[encoded data removed]",
      "text/latex": [
       "$\\displaystyle \\emptyset$"
      ],
      "text/plain": [
       "∅"
      ]
     },
     "execution_count": 31,
     "metadata": {},
     "output_type": "execute_result"
    }
   ],
   "source": [
    "from sympy import symbols,Eq,solveset,exp\n",
    "\n",
    "x = symbols(\"x\")\n",
    "\n",
    "equation = Eq(exp(x), 0)\n",
    "solveset(equation,x)"
   ]
  },
  {
   "cell_type": "code",
   "execution_count": 33,
   "id": "653692bd",
   "metadata": {},
   "outputs": [
    {
     "data": {
      "image/png": "[encoded data removed]",
      "text/latex": [
       "$\\displaystyle \\mathbb{C}$"
      ],
      "text/plain": [
       "ℂ"
      ]
     },
     "execution_count": 32,
     "metadata": {},
     "output_type": "execute_result"
    }
   ],
   "source": [
    "from sympy import symbols,Eq,solveset\n",
    "\n",
    "x = symbols(\"x\")\n",
    "\n",
    "equation = Eq(x-x, 0)\n",
    "solveset(equation,x)"
   ]
  },
  {
   "cell_type": "code",
   "execution_count": 34,
   "id": "2c2f0fde",
   "metadata": {},
   "outputs": [
    {
     "data": {
      "image/png": "[encoded data removed]",
      "text/latex": [
       "$\\displaystyle \\left\\{\\left( \\frac{31}{46}, \\  - \\frac{55}{46}\\right)\\right\\}$"
      ],
      "text/plain": [
       "⎧⎛31  -55 ⎞⎫\n",
       "⎨⎜──, ────⎟⎬\n",
       "⎩⎝46   46 ⎠⎭"
      ]
     },
     "execution_count": 33,
     "metadata": {},
     "output_type": "execute_result"
    }
   ],
   "source": [
    "from sympy import symbols,Eq,linsolve\n",
    "\n",
    "x,y = symbols(\"x y\")\n",
    "\n",
    "equationOne = Eq(3* x - 5 * y, 8)\n",
    "equationTwo = Eq(8* x + 2 * y, 3)\n",
    "linsolve([equationOne,equationTwo],(x,y))"
   ]
  },
  {
   "cell_type": "code",
   "execution_count": 35,
   "id": "62b91ee5",
   "metadata": {},
   "outputs": [
    {
     "data": {
      "image/png": "[encoded data removed]",
      "text/latex": [
       "$\\displaystyle \\emptyset$"
      ],
      "text/plain": [
       "∅"
      ]
     },
     "execution_count": 34,
     "metadata": {},
     "output_type": "execute_result"
    }
   ],
   "source": [
    "from sympy import symbols,Eq,linsolve\n",
    "\n",
    "x,y = symbols(\"x y\")\n",
    "\n",
    "equationOne = Eq(12* x - 3 * y, 8)\n",
    "equationTwo = Eq(8* x - 2 * y, 3)\n",
    "linsolve([equationOne,equationTwo],(x,y))"
   ]
  },
  {
   "cell_type": "code",
   "execution_count": 36,
   "id": "2c0604d8",
   "metadata": {},
   "outputs": [
    {
     "data": {
      "image/png": "[encoded data removed]",
      "text/latex": [
       "$\\displaystyle \\left\\{\\left( - \\frac{\\sqrt{3059}}{38}, \\  - \\frac{5 \\sqrt{19}}{38}\\right), \\left( - \\frac{\\sqrt{3059}}{38}, \\  \\frac{5 \\sqrt{19}}{38}\\right), \\left( \\frac{\\sqrt{3059}}{38}, \\  - \\frac{5 \\sqrt{19}}{38}\\right), \\left( \\frac{\\sqrt{3059}}{38}, \\  \\frac{5 \\sqrt{19}}{38}\\right)\\right\\}$"
      ],
      "text/plain": [
       "⎧⎛-√3059   -5⋅√19 ⎞  ⎛-√3059   5⋅√19⎞  ⎛√3059  -5⋅√19 ⎞  ⎛√3059  5⋅√19⎞⎫\n",
       "⎨⎜───────, ───────⎟, ⎜───────, ─────⎟, ⎜─────, ───────⎟, ⎜─────, ─────⎟⎬\n",
       "⎩⎝   38       38  ⎠  ⎝   38      38 ⎠  ⎝  38      38  ⎠  ⎝  38     38 ⎠⎭"
      ]
     },
     "execution_count": 35,
     "metadata": {},
     "output_type": "execute_result"
    }
   ],
   "source": [
    "from sympy import symbols,Eq,nonlinsolve\n",
    "\n",
    "x,y = symbols(\"x y\")\n",
    "\n",
    "\n",
    "eqOne = Eq(3*x**2 + 5*y**2,8)\n",
    "eqTwo = Eq(8*x**2 - 12*y**2,13)\n",
    "nonlinsolve([eqOne,eqTwo],(x,y))"
   ]
  },
  {
   "cell_type": "code",
   "execution_count": 37,
   "id": "febdcff1",
   "metadata": {},
   "outputs": [],
   "source": [
    "# Python code here"
   ]
  },
  {
   "cell_type": "code",
   "execution_count": 38,
   "id": "59f6c5f2",
   "metadata": {},
   "outputs": [],
   "source": [
    "# Python code here"
   ]
  },
  {
   "cell_type": "code",
   "execution_count": 39,
   "id": "79a6f380",
   "metadata": {},
   "outputs": [],
   "source": [
    "# Python code here"
   ]
  },
  {
   "cell_type": "code",
   "execution_count": 40,
   "id": "2420d0f1",
   "metadata": {},
   "outputs": [],
   "source": [
    "# Python code here"
   ]
  },
  {
   "cell_type": "code",
   "execution_count": 41,
   "id": "54c1d428",
   "metadata": {},
   "outputs": [],
   "source": [
    "# Python code here"
   ]
  },
  {
   "cell_type": "code",
   "execution_count": 42,
   "id": "bb87d1b9",
   "metadata": {},
   "outputs": [],
   "source": [
    "# Python code here"
   ]
  }
 ],
 "metadata": {
  "kernelspec": {
   "display_name": "Python 3",
   "language": "python",
   "name": "python3"
  },
  "language_info": {
   "codemirror_mode": {
    "name": "ipython",
    "version": 3
   },
   "file_extension": ".py",
   "mimetype": "text/x-python",
   "name": "python",
   "nbconvert_exporter": "python",
   "pygments_lexer": "ipython3",
   "version": "3.11.6"
  }
 },
 "nbformat": 4,
 "nbformat_minor": 5
}
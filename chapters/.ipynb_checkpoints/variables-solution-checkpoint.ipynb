{
 "cells": [
  {
   "cell_type": "markdown",
   "metadata": {},
   "source": [
    "\n",
    "## Exercises\n",
    "\n",
    "1. Most (or all) of you have use Pythagorean's theorem to calculate the hypotenuse of a right triangle. The theorem states that the lengths of a right triangle are related like this $a^2 + b^2 = c^2$, where $a$ and $b$ are the lengths of the sides forming the right angle and $c$ is the length of the hypotenuse.  There is a Python function called `hypot` (found in a library called `math`) that will perform this calculation for your.  Calculate the distance from the point $(-48,56)$ to the point $(23,81)$ using \n",
    "    1. Pythogorean's theorem\n",
    "    2. The Python function `hypot`. To learn how to use the hypot function, visit the following [documentation page](https://docs.python.org/3/library/math.html) and search for the explanation for the `hypot` function.  Learning to read and understand online documentation is a skill that you you should develop.\n",
    "    \n",
    "Print out the result and check your answer with your neighbor's answer."
   ]
  },
  {
   "cell_type": "code",
   "execution_count": 3,
   "metadata": {},
   "outputs": [
    {
     "name": "stdout",
     "output_type": "stream",
     "text": [
      "75.27283706623525 75.27283706623525\n"
     ]
    }
   ],
   "source": [
    "# Python Code Here!\n",
    "import numpy as np\n",
    "import math as mt\n",
    "\n",
    "x1 = -48\n",
    "y1 = 56\n",
    "x2 = 23\n",
    "y2 = 81\n",
    "\n",
    "dx = x2 - x1\n",
    "dy = y2 - y1\n",
    "\n",
    "d = np.sqrt(dx**2 + dy**2)\n",
    "d2 = mt.hypot(dx,dy)\n",
    "print(d,d2)"
   ]
  },
  {
   "cell_type": "markdown",
   "metadata": {},
   "source": [
    "2. Equations involing quadratic polynomials,like the one shown below, appear in science frequently.  \n",
    "\n",
    "$$ 5x^2 + 2x - 1 = 0$$\n",
    "\n",
    "You may remember that the solution to this equation is given by the quadratic formula\n",
    "$$ x = {- b \\pm \\sqrt{b^2 - 4 a c} \\over 2a}$$\n",
    "Solve the quadratic equation given above and print off the results. (There are two answers.)  Then check with a classmate to verify that your answers match."
   ]
  },
  {
   "cell_type": "code",
   "execution_count": 4,
   "metadata": {},
   "outputs": [
    {
     "name": "stdout",
     "output_type": "stream",
     "text": [
      "0.2898979485566356 -0.6898979485566356\n"
     ]
    }
   ],
   "source": [
    "# Python Code Here!\n",
    "import numpy as np\n",
    "a = 5\n",
    "b = 2\n",
    "c = -1\n",
    "\n",
    "x1 = (-b + np.sqrt(b**2 - 4 * a * c))/2/a\n",
    "x2 = (-b - np.sqrt(b**2 - 4 * a * c))/2/a\n",
    "print(x1,x2)"
   ]
  },
  {
   "cell_type": "markdown",
   "metadata": {},
   "source": [
    "3. (Solar Mass)  The mass of the sun can be calculated using the following formula:$$ M_\\text{sun} = {4 \\pi^2 (1 \\text{ AU})^3\\over G (1 \\text{ yr})^2}$$  \n",
    "The unit AU is called an astronomical unit of length and is defined to be the average distance between the sun and earth. $$ 1 \\text{ AU} = 1.58\\times 10^{-5} \\text{ light years}$$\n",
    "where $1 \\text{ lightyear} = 9.5 \\times 10^{15}$ m.  The constant $G$ is called the gravitational constant and has the value: $$ G = 6.674 \\times 10^{-11} \\text{ m}^3 \\text{ kg}^{-1}\\text{ s}^{-1}$$  Calculate the mass of the sun (in kg) and display your result using a print statement.  You should find a value of $M_\\text{Sun} = 2.01 \\times 10^{30}$ kg.  "
   ]
  },
  {
   "cell_type": "code",
   "execution_count": 9,
   "metadata": {},
   "outputs": [
    {
     "name": "stdout",
     "output_type": "stream",
     "text": [
      "2.0114183009723042e+30\n"
     ]
    }
   ],
   "source": [
    "# Python Code Here!\n",
    "\n",
    "G = 6.674e-11\n",
    "au = 1.58e-5 * 9.5e15\n",
    "oneYear = 365 * 24 * 3600\n",
    "Msun = 4 * np.pi**2 * au**3/G/oneYear**2\n",
    "print(Msun)\n"
   ]
  },
  {
   "cell_type": "markdown",
   "metadata": {},
   "source": [
    "4. (Projectile Motion)  The range of a projectile is given by the equation:$$ d = {2 v^2 \\cos \\theta \\sin \\theta \\over g}$$\n",
    "or the equivalent expression:$$ d = {v^2  \\sin 2 \\theta \\over g}$$\n",
    "where $g = 9.8$ m/s$^2$, $\\theta$ is the launch angle, and $v$ is the launch speed.\n",
    "\n",
    "    1. Using a launch angle of 60$^\\circ$ and a launch speed of $40$ m/s, verify that both expressions above give the same result for the range.\n",
    "    2. Now pick one of the equations above and use trial and error to determine the angle that gives maximum range.\n"
   ]
  },
  {
   "cell_type": "code",
   "execution_count": 12,
   "metadata": {},
   "outputs": [
    {
     "name": "stdout",
     "output_type": "stream",
     "text": [
      "141.3919026586839 141.39190265868388\n",
      "163.26530612244898\n"
     ]
    }
   ],
   "source": [
    "import numpy as np\n",
    "v = 40\n",
    "g = 9.8\n",
    "θ = 60 * np.pi/180\n",
    "d = 2 * v**2 * np.cos(θ) * np.sin(θ)/g\n",
    "d2 = v**2 * np.sin(2 *θ)/g\n",
    "print(d,d2)\n",
    "dMax = v**2 * np.sin(2 * 45 * np.pi/180)/g  #45 degrees gives the maximum range\n",
    "print(dMax)\n"
   ]
  },
  {
   "cell_type": "markdown",
   "metadata": {},
   "source": [
    "5. (Rydberg's constant) Rydberg's constant ($R_\\infty$) is a physical constant in Rydberg's formula which was used to predict the spectrum of light emitted by a heavy atom. Rydberg's constant is given by: $$R_\\infty = {m_e e^4 \\over 8 \\epsilon_0^2 h^3 c}$$  \n",
    "where  \n",
    "   - $m_e = 9.109 \\times 10^{-31}$ kg is the mass of an electron.\n",
    "   - $e = 1.602 \\times 10^{-19}$ C is the charge of an electron/proton.\n",
    "   - $\\epsilon_0 = 8.854 \\times 10^{-12}$ C V$^{-1}$ m$^{-1}$ is the electrical constant.\n",
    "   - $h = 6.626 \\times 10^{-34}$ J Hz is the Planck constant.\n",
    "   - $c = 3 \\times 10^8$ m/s is the speed of light.\n",
    "\n",
    "    These constants show up all over in physics.  In the cell below write some code that assigns the constants to variables and then use the variables to calculate Rydberg's constant. Use a print statement to display the result.  The result should be: $R_\\infty = 10961656.2162$ (in m$^{-1}$)\n"
   ]
  },
  {
   "cell_type": "code",
   "execution_count": 13,
   "metadata": {},
   "outputs": [
    {
     "name": "stdout",
     "output_type": "stream",
     "text": [
      "10961656.216162954\n"
     ]
    }
   ],
   "source": [
    "# Python Code Here!\n",
    "\n",
    "me = 9.109e-31\n",
    "e = 1.602e-19\n",
    "eps = 8.854e-12\n",
    "h = 6.626e-34\n",
    "c = 3e8\n",
    "R = me * e**4/(8 *eps**2 * h**3 * c)\n",
    "print(R)"
   ]
  },
  {
   "cell_type": "markdown",
   "metadata": {},
   "source": [
    "6. In Einstein's special theory of relativity, the momentum of an object with mass $m$ (in kg) and velocity $v$ (in m/s) is given by:$$ p = m v \\gamma$$ where $$\\gamma = {1\\over \\sqrt{1 - {v^2\\over c^2}}}$$ with $c = 3 \\times 10^8$ m/s\n",
    "\n",
    "    1. Calculate the momentum of an object with mass $m = 0.14$ kg and speed $v = 50$ m/s.  Then compare to the classical expression for momentum: $p = mv$. \n",
    "    2. Now calculate the momentum of an object with mass $m = 0.14$ kg and whose speed is ${1 \\over 4}$ the speed of light.  Repeat the comparison to the classical value.  \n",
    "    3. Repeat for the following speeds: ${1\\over 2}$ the speed of light, ${3\\over 4}$ the speed of light, and ${7\\over 8}$ the speed of light.  Repeat the comparison to the classical value."
   ]
  },
  {
   "cell_type": "code",
   "execution_count": 2,
   "metadata": {},
   "outputs": [
    {
     "name": "stdout",
     "output_type": "stream",
     "text": [
      "7.000000000000099 7.000000000000001\n",
      "10844353.369380768 10500000.000000002\n",
      "24248711.30596429 21000000.000000004\n",
      "47623523.59916263 31500000.000000004\n"
     ]
    }
   ],
   "source": [
    "# Python Code Here!\n",
    "import numpy as np\n",
    "c = 3e8\n",
    "v = 50\n",
    "m = 0.14\n",
    "γ = 1/np.sqrt(1 - v**2/c**2)\n",
    "prel = m * v * γ\n",
    "pclassical = m * v\n",
    "print(prel,pclassical)\n",
    "\n",
    "\n",
    "c = 3e8\n",
    "v = 0.25 * c\n",
    "m = 0.14\n",
    "γ = 1/np.sqrt(1 - v**2/c**2)\n",
    "prel = m * v * γ\n",
    "pclassical = m * v\n",
    "print(prel,pclassical)\n",
    "\n",
    "c = 3e8\n",
    "v = 0.5 * c\n",
    "m = 0.14\n",
    "γ = 1/np.sqrt(1 - v**2/c**2)\n",
    "prel = m * v * γ\n",
    "pclassical = m * v\n",
    "print(prel,pclassical)\n",
    "\n",
    "c = 3e8\n",
    "v = 0.75 * c\n",
    "m = 0.14\n",
    "γ = 1/np.sqrt(1 - v**2/c**2)\n",
    "prel = m * v * γ\n",
    "pclassical = m * v\n",
    "print(prel,pclassical)\n"
   ]
  },
  {
   "cell_type": "code",
   "execution_count": null,
   "metadata": {},
   "outputs": [],
   "source": []
  }
 ],
 "metadata": {
  "kernelspec": {
   "display_name": "Python 3 (ipykernel)",
   "language": "python",
   "name": "python3"
  },
  "language_info": {
   "codemirror_mode": {
    "name": "ipython",
    "version": 3
   },
   "file_extension": ".py",
   "mimetype": "text/x-python",
   "name": "python",
   "nbconvert_exporter": "python",
   "pygments_lexer": "ipython3",
   "version": "3.12.2"
  }
 },
 "nbformat": 4,
 "nbformat_minor": 4
}

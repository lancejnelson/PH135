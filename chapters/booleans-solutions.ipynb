{
 "cells": [
  {
   "cell_type": "markdown",
   "metadata": {},
   "source": [
    "\n",
    "## Exercises\n",
    "1. A transcendental equation is one that cannot be solved using paper and pencil techniques (All the stuff you learned in algebra class). The following equation is an example of a  transcendental equation: ${\\sin(x)\\over x} = 0.3$\n",
    "\n",
    "    1. Write an `if`-`else` code block that checks to see if a guessed `x` value is a solution to this equation.  Do not use the `==` operator but rather check to see if the absolute value of the difference is less than $1 \\times 10^-4$.  Each block of the `if`-`else` should print an appropriate sentence indicating whether the guessed value is a solution or not. The `else` block should also print off the absolute value of the difference so you know how far off your guess was.\n",
    "    2. Now use guess and check to find a value for `x` that is a solution to this equation.\n"
   ]
  },
  {
   "cell_type": "code",
   "execution_count": 39,
   "metadata": {},
   "outputs": [
    {
     "name": "stdout",
     "output_type": "stream",
     "text": [
      "Success!   2.3565 is a solution to this equation\n"
     ]
    }
   ],
   "source": [
    "#| eval: true\n",
    "import math as mt  #Import the math library\n",
    "xGuess = 2.3565    # Define the guess\n",
    "\n",
    "if abs(mt.sin(xGuess)/xGuess - 0.3) < 1e-4:  # Check to see if my guess satisfies the equation.\n",
    "    print(f\"Success! {xGuess:8.4f} is a solution to this equation\")  # Print success\n",
    "else:  # If it doesn't satisfy the equation, print the difference so I know how close I am.\n",
    "    print(f\" {xGuess:5.2f} is NOT a solution to this equation, the left and right sides differ by {abs(mt.sin(xGuess)/xGuess - 0.3):8.6f}\")"
   ]
  },
  {
   "cell_type": "markdown",
   "metadata": {},
   "source": [
    "2. (Thermoelectrics)  A thermoelectric is a material that converts thermal energy into electrical energy.   and much research is devoted to finding new materials that exhibit this behavior.  Good thermoelectrics tend to be materials with high electrical conducitivity ($\\sigma > 7 \\times 10^5~\\Omega^{-1} \\text{m}^{-1}$ ) **and** low thermal conductivity ($\\kappa< 2.0$ W/ m K ).  Write an `if`-`else` code block that checks to see if a material's electrical conductivity is above the threshold **and** its thermal conductivity is below the threshold.  Then choose some values for the conductivities and test your `if`-`else` block.\n"
   ]
  },
  {
   "cell_type": "code",
   "execution_count": 47,
   "metadata": {},
   "outputs": [
    {
     "name": "stdout",
     "output_type": "stream",
     "text": [
      "This is not a good thermoelectric\n"
     ]
    }
   ],
   "source": [
    "sigma = 0     # Electrical Conductivity\n",
    "kappa = 0    # Thermal Conductivity\n",
    "\n",
    "if sigma > 6e5 and kappa < 2.0:  # Are both conditions met?\n",
    "    print(\"This is a good thermoelectric\")   # Found a good thermoelectric\n",
    "else:  # Not a good thermoelectric\n",
    "    print(\"This is not a good thermoelectric\")"
   ]
  },
  {
   "cell_type": "markdown",
   "metadata": {},
   "source": [
    "3. Alloys are often represented by a string containing the elements in the alloy and the relative number of atoms for each element. For example, \"Cu2Au\" (Copper-2-Gold) means that the alloy is made of copper and gold and there are two copper atoms for every gold atom.  Write some python code that calculates the total number of atoms in an alloy.  The code should include a print statement to display the result.  Then check your code on the alloys in the table below. You can assume that all elements have two-character symbols even though that isn't true; we won't consider any one-character symbols in this problem.\n",
    "\n",
    "Hints: \n",
    "\n",
    "1. The possible lengths for the strings are 4 (one atom per element), 5 (one atom for one element and more for the other), or 6 (more than one atom for both elements).\n",
    "2. My code for this problem was about 15 lines long and it required a nested `if`-`else` block (an `if`-`else` inside of an `if` block).  \n",
    "3. You may find the `isdigit()` function to be helpful.  Do you remember how to use it and what it does?\n",
    "\n",
    "| | |Alloy | | |\n",
    "|--------|--------|--------|--------|--------|\n",
    "| \"Cr3Si\"| \"Al2Cu\"| \"NbPd3\"| \"CaIn2\"| \"Al3Zr4\"|"
   ]
  },
  {
   "cell_type": "code",
   "execution_count": 48,
   "metadata": {},
   "outputs": [
    {
     "name": "stdout",
     "output_type": "stream",
     "text": [
      "The alloy has 2 atoms\n"
     ]
    }
   ],
   "source": [
    "alloy = \"CaIn\"  \n",
    "\n",
    "if len(alloy) == 4:  # Are there 4 characters in the string?\n",
    "    nAtoms = 2  # There must be only two atoms in the crystal.\n",
    "elif len(alloy) == 5: # Are there five characters in the string?\n",
    "    if alloy[2].isdigit():  # Is the third character a number?\n",
    "        nAtoms = 1 + int(alloy[2])  # I know what to add to find the total number of atoms.\n",
    "    else:  # If the third character isn't a number, then the last character must be a number.\n",
    "        nAtoms = 1 + int(alloy[-1])  # Add the right numbers to get the total.\n",
    "else:  # There must be 6 characters then..\n",
    "    nAtoms = int(alloy[2]) + int(alloy[-1])  # The third and last characters are the numbers to add.\n",
    "\n",
    "print(f\"The alloy has {nAtoms:1d} atoms\")  # Print the final result"
   ]
  },
  {
   "cell_type": "markdown",
   "metadata": {},
   "source": [
    "4. The quadratic equation has two solutions and they can be positive, negative, or complex.  Often the complex and/or negative solutions are not relavant/meaningful.  Write an `if/elif/else` block of code that checks what type of solutions will result and only displays the real, positive solution(s) if they exist.  If there is no positive solution, the code should display a message indicating such.  Then check your code with the values given below. As a reminder, here is the quadratic equation: $$ x = {- b \\pm \\sqrt{b^2 - 4 a c} \\over 2a}  $$\n",
    "\n",
    "\n",
    "`a = 2, b = 3, c = 8` (no real solutions)\n",
    "\n",
    "`a = 1, b = -3, c = 2` (two positive solutions)\n",
    "\n",
    "`a = 1, b = -3, c = -2` (one positive solution and one negative solution)"
   ]
  },
  {
   "cell_type": "code",
   "execution_count": 51,
   "metadata": {},
   "outputs": [
    {
     "name": "stdout",
     "output_type": "stream",
     "text": [
      " x=  3.56\n"
     ]
    }
   ],
   "source": [
    "# Python code here.\n",
    "import math as mt  # Import math library so I can calculate square roots.\n",
    "a = 1   # Define a in quadratic formula\n",
    "b = -3  # Define b in quadratic formula\n",
    "c = -2  # Define c in quadratic formula\n",
    "\n",
    "checkOne = b**2 - 4 * a * c  # Calculate what's under the square root.\n",
    "if checkOne > 0:  # If this is negative, we know that both solutions will be complex.\n",
    "    ansOne = (-b + mt.sqrt(b**2 - 4 * a * c) )/(2 * a)  # Calculate the first solution\n",
    "    ansTwo = (-b - mt.sqrt(b**2 - 4 * a * c) )/(2 * a)  # Calculate the second solution\n",
    "    if ansOne > 0 and ansTwo > 0:  # If they're both positive, print them both.\n",
    "        print(f\" x= {ansOne:5.2f} or {ansTwo:5.2f}\")\n",
    "    elif ansOne > 0:  # If only the first is positive, just print the first solution.\n",
    "        print(f\" x= {ansOne:5.2f}\")\n",
    "    elif ansTwo > 0:  # If only the second is positive, just print the second solution.\n",
    "        print(f\" x= {ansTwo:5.2f}\")\n",
    "    else:   # Otherwise, print a message that indicates that there are no positive solution.\n",
    "        print(\"There are no positive solutions\")\n",
    "else:  # Otherwise, print a message that indicates that there are no real solutions.\n",
    "    print(\"There are no real solutions\")\n",
    "    "
   ]
  },
  {
   "cell_type": "markdown",
   "metadata": {},
   "source": [
    "5. (Triangle Classification)  There is a simple criteria to determine whether a triangle can be formed from a set of specified side lengths.  The criteria states that the sum of any two sides must be larger than the third side.  This criteria must be satisified for all possible combinations of two sides if the triangle is to be valid.  If the triangle is valid, the angles can be found by first using the law of cosines to find the first two angles $$c^2 = a^2 + b^2 - 2 a b \\cos(C)$$  and then choosing the third angle so that the sum of the three angles add up to $180^\\circ$.\n",
    "\n",
    "    1. Write some code that checks to see if a valid triangle can be formed from the given side lengths.  \n",
    "    2. If a triangle can be formed, use the law of cosines to calculate the triangle's angles. Print the angles in degrees.  Check your code for several choices of side lengths to verify that it is working.\n",
    "    3. All valid triangles are classified according to the largest angle present (acute, obtuse, and right) and also according to their side lengths (scalene - no sides equal, isoscelese - two sides equal and equilateral - all sides equal). Modify your code to determine the classification of a triangle (i.e. obtuse scalene) and print that classification to screen.\n"
   ]
  },
  {
   "cell_type": "code",
   "execution_count": 3,
   "metadata": {},
   "outputs": [
    {
     "name": "stdout",
     "output_type": "stream",
     "text": [
      "Right - Scalene\n"
     ]
    }
   ],
   "source": [
    "from math import acos,pi,sqrt #Import inverse cosine, pi and sqrt from math library\n",
    "\n",
    "a = 3# Side length 1\n",
    "b = 4# Side length 2\n",
    "c = 5# Side length 3\n",
    "\n",
    "if a + b > c and a + c > b and b + c > a:  # Can we make a valid triangle?\n",
    "    C = acos((-c**2 + a**2 + b**2)/(2*a*b)) * 180/pi # Calculate the angle opposite side c\n",
    "    B = acos((-b**2 + a**2 + c**2)/(2*a*c)) * 180/pi # Calculate the angle opposite side b\n",
    "    A = acos((-a**2 + b**2 + c**2)/(2*b*c)) * 180/pi # Calculate the angle opposite side a\n",
    "\n",
    "    ab = abs(a-b) < 1e-3  # Are the length a and b equal to each other?\n",
    "    bc = abs(b-c) < 1e-3  # Are the length b and c equal to each other?\n",
    "    ac = abs(a-c) < 1e-3  # Are the length a and c equal to each other?\n",
    "    if A > 90 or B > 90 or C > 90: #Are any angles greater than 90. That would make this an obtuse triangle\n",
    "        if ab and bc:  # If a and b are equal *and* b and c are equal, then this must be an equilateral triangle.\n",
    "            print(\"Obtuse - Equilateral\")\n",
    "        elif ab or bc or ac:  # If just two sides are equal, must be an isoscelese.\n",
    "            print(\"Obtuse - Isoscelese\")\n",
    "        else:   # Otherwise it's a scalene.\n",
    "            print(\"Obtuse - Scalene\")\n",
    "    elif abs(A - 90) < 1e-3 or abs(B - 90) < 1e-3 or abs(C - 90) < 1e-3: # Are any of the angles equal to 90. That would be a right triangle.\n",
    "        if ab and bc: # If a and b are equal *and* b and c are equal, then this must be an equilateral triangle.\n",
    "            print(\"Right - Equilateral\")\n",
    "        elif ab or bc or ac: # If just two sides are equal, must be an isoscelese.\n",
    "            print(\"Right - Isoscelese\")\n",
    "        else:\n",
    "            print(\"Right - Scalene\")\n",
    "    else:  # It must be acute then.\n",
    "        if ab and bc: # If a and b are equal *and* b and c are equal, then this must be an equilateral triangle.\n",
    "            print(\"Acute - Equilateral\")\n",
    "        elif ab or bc or ac:  # If just two sides are equal, must be an isoscelese.\n",
    "            print(\"Acute - Isoscelese\")\n",
    "        else: # Otherwise it's a scalene.\n",
    "            print(\"Acute - Scalene\")\n",
    "else:\n",
    "    print(\"Can't form a triangle from these sides.\")\n"
   ]
  },
  {
   "cell_type": "code",
   "execution_count": null,
   "metadata": {},
   "outputs": [],
   "source": []
  }
 ],
 "metadata": {
  "kernelspec": {
   "display_name": "Python 3 (ipykernel)",
   "language": "python",
   "name": "python3"
  },
  "language_info": {
   "codemirror_mode": {
    "name": "ipython",
    "version": 3
   },
   "file_extension": ".py",
   "mimetype": "text/x-python",
   "name": "python",
   "nbconvert_exporter": "python",
   "pygments_lexer": "ipython3",
   "version": "3.12.2"
  }
 },
 "nbformat": 4,
 "nbformat_minor": 4
}

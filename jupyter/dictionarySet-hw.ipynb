{
  "cells": [
    {
      "cell_type": "markdown",
      "metadata": {},
      "source": [
        "## HW Problems\n",
        "\n",
        "1. (Physical Constants)  The field of physics is filled with experimental constants.  In fact, you'll use some of them so frequently throughout your undergraduate experience that you'll end up memorizing them. Until then it could be useful to store some of these constants in a dictionary for easy reference.  Choose at least 15 constants from the following [website](https://en.wikipedia.org/wiki/List_of_physical_constants) and build a dictionary of them.  Make sure that the following constants are in your list: $k_B$, $\\hbar$, $c$, $e$, and $\\epsilon_0$. You are free to choose the names of the keys to be anything that makes good sense to you.\n",
        "\n",
        "    Then use your dictionary to calculate the following values $$\\sigma = {\\pi^2 k_B^4 \\over 60 \\hbar^3 c^2} \\text{ (Stefan-Boltzmann constant)}$$  $$\\alpha = {e^2 \\over 4 \\pi \\epsilon_0 \\hbar c}  \\text{ (fine-structure constant)}$$ \n"
      ]
    },
    {
      "cell_type": "code",
      "execution_count": null,
      "metadata": {},
      "outputs": [],
      "source": [
        "# Python code here."
      ]
    },
    {
      "cell_type": "markdown",
      "metadata": {},
      "source": [
        "2. (Unit Conversions) Unit conversions show up all over in physics and if you don't have the conversion factors memorized you may find yourself constantly looking them up. Construct a dictionary that contains many of the most useful unit conversions, including those shown below.  You are free to choose the key names to be whatever makes most sense to you. I've given a few examples in the code cell below to get you started. $$ 1 \\text{ kilometer} = 1000 \\text{ meters}$$ $$ 1 \\text{ meter} = 100 \\text{ centimeters}$$ $$ 1 \\text{ inch} = 2.54 \\text{ centimeters}$$ $$ 1 \\text{ mile} = 1.609 \\text{ kilometers}$$ $$ 1 \\text{ mph} = 0.447 \\text{ m/s}$$ $$ 1 \\text{ u} = 1.661 \\times 10^{-27} \\text{ kg}$$ $$ 1 \\text{ electron-volt} = 1.602 \\times 10^{-19} \\text{ Joules}$$ $$ 1 \\text{ day} = 24 \\text{ hours}$$ $$ 1 \\text{ radian} = 57.3^\\circ$$ $$ 1 \\text{ rev} = 2\\pi \\text{ radians}$$\n",
        "\n",
        "\n",
        "Once the dictionary is created use it to perform the following conversions:\n",
        "\n",
        "1. $5$ miles to meters.\n",
        "2. $250^\\circ$ to radians.\n",
        "3. $562$ Joules to electron-volts.\n",
        "4. $3500$ inches to meters.\n",
        "5. $5.8$ m$^3$ to cm$^3$.\n"
      ]
    },
    {
      "cell_type": "code",
      "execution_count": null,
      "metadata": {},
      "outputs": [],
      "source": [
        "conversions = {\"km-to-m\": 1000, \"in-to-cm\": 2.54 }"
      ]
    },
    {
      "cell_type": "markdown",
      "metadata": {},
      "source": [
        "3. [Here](https://nssdc.gsfc.nasa.gov/planetary/factsheet/) you will find a table containing planetary information.  Pick your top three favorite planets and make one dictionary for each planet.  The keys in the dictionary should be the row label from the table (or a shortened version of that label) and the item value should be the number in the table. Pick 10 rows in the table to put in your dictionary. Once the dictionaries are created, verify that you can extract values from them as you would expect. \n"
      ]
    },
    {
      "cell_type": "code",
      "execution_count": null,
      "metadata": {},
      "outputs": [],
      "source": [
        "# Python code here."
      ]
    },
    {
      "cell_type": "markdown",
      "metadata": {},
      "source": [
        "4. [Here](https://nssdc.gsfc.nasa.gov/planetary/factsheet/) you will find a table containing planetary information.  Pick a row from the table and make a dictionary that holds the values in that row.  The keys to the dictionary should be the planets and the values are the value from the table.   Once the dictionary is created, use it to calculate the following:\n",
        "\n",
        "    1. The average of the property that you chose.\n",
        "    2. The largest values.\n",
        "    3. The smallest value."
      ]
    },
    {
      "cell_type": "code",
      "execution_count": null,
      "metadata": {},
      "outputs": [],
      "source": [
        "# Python code here."
      ]
    },
    {
      "cell_type": "markdown",
      "metadata": {},
      "source": [
        "5.  A dictionary can be used to represent a polynomial. The dictionary keys are the exponents and the values are their corresponding coefficients.  For example the dictionary `{2:3,1:-2,0:1}` would represent the polynomial $3x^2 - 2x + 1$. \n",
        "\n",
        "    1. Represent the following polynomials as dictionaries: $5x^3 - 8x^2 + 2x -5$ and $4x^2 + 16x - 9$\n",
        "    2. Use the dictionaries to add up the polynomials.\n",
        "    3. Print the result to screen."
      ]
    },
    {
      "cell_type": "code",
      "execution_count": null,
      "metadata": {},
      "outputs": [],
      "source": [
        "# Python code here."
      ]
    },
    {
      "cell_type": "markdown",
      "metadata": {},
      "source": [
        "6. (Prime Factorization)  Prime factorization is a way to represent a number as a product of it's prime factors.  For example, the prime factorization of $50$ is $2 \\times 5 \\times 5$. This factorization can be represented in a dictionary by placing the prime number as the dictionary keys and the values as the number of times that prime appears in the factorization. For our example of $50$, this dictionary would be `{2:1,5:2}`.\n",
        "\n",
        "    1. Build the prime-factorization dictionary for the following numbers: 50,66,78,45 (Just perform the factorization manually; coding it would require a loop.)\n",
        "    2. Now write some code to calculate the original numbers from their dictionary representation.\n"
      ]
    },
    {
      "cell_type": "code",
      "execution_count": null,
      "metadata": {},
      "outputs": [],
      "source": [
        "# Python code here."
      ]
    }
  ],
  "metadata": {
    "kernelspec": {
      "display_name": "Python 3",
      "language": "python",
      "name": "python3"
    }
  },
  "nbformat": 4,
  "nbformat_minor": 4
}

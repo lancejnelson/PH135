{
  "cells": [
    {
      "cell_type": "markdown",
      "metadata": {},
      "source": [
        "## HW Problems\n",
        "\n",
        "1. In 2012, Felix Baumgartner successfully jumped from a height of $39.0$ km above the surface of the Earth. Consider the complexities that this real-world examples provides:\n",
        "   1. For this problem, we must include the force of air drag to get the calculation right.  The force of air drag is given by: $F_d = {1\\over 2} \\rho A C v^2$, with $C = 0.58$, $A = 1.04$ m$^2$\n",
        "   2. Because Felix jumped from such a high altitude, the density of the atmosphere changed as he fell. The density of the atmosphere changes with altitude according to the following equation: $\\rho = 1.2 \\text{ (kg/m}^3\\text{)} e^{-h\\over 1 \\times 10^4}$\n",
        "   3. The acceleration due to gravity, g, is not constant over the flight, but changes with altitude according to the following equation: $g = {9.8 \\text{ m/s}^2 \\over (1 + {h\\over R_E})^2}$, where $R_E = 6.37 \\times 10^6$ m\n",
        "   4. Assume that Felix's mass is $m = 73$ kg and that he starts from rest.  \n",
        "\n",
        "   Use Euler's method to answer the following questions:\n",
        "   1. How long does it take Felix to reach Earth's surface.  Give your answer to the nearest second. (Note: We are not considering a parachute in this case.. ouch.)  Answer: You should find that his flight took $\\approx 400$ s.\n",
        "   2. Compare the real fall time you just calculated to the dragless, constant-g ($9.8$m/s$^2$) fall time.  Answer: You should find that the fall time is $\\approx 90$ s.  (big difference eh.)\n",
        "\n",
        "\n",
        "2. A rocket has a total mass $M_i = 180$ kg, including $130$ kg of fuel and oxidizer. The rocket is launched from the ground, starting from rest at time $t = 0$ s, and puts out exhaust with a relative speed of $v_e = 1500$ m/s at a constant burn rate of ${dM \\over dt} = 2.50$ kg/s. The burn lasts until the fuel runs out. \n",
        "Assume a cylindrical rocket with a fuselage radius $r = 20$ cm, and a drag coefficient of $C = 0.5$.  \n",
        "   1. Using Euler's method, plot the position vs. time and velocity vs. time graphs for the rocket from the moment it lifts off until it hits the ground again.  Note: We're not modeling a parachute here. \n",
        "   2. Make sure your code is well commented.\n",
        "   3. How long was the flight?\n",
        "   4. What is the rocket's impact speed with the ground?\n",
        "   5. Once you think your simulation is correct, play with some of the key parameters to ensure that the results of your simulation agree with your own intuition.  Here are some things you could try:\n",
        "       1. Change the mass of the rocket.\n",
        "       2. Change the mass of the fuel.\n",
        "       3. Change the exhaust speed of the fuel.\n",
        "       4. Change the drag coefficient.\n",
        "       5. Change the size of the rocket (cross-sectional area).\n",
        "              \n",
        "              \n",
        "3. The distance from home plate to the home run fence is $550$ feet. It is well known that it is easier to hit home run in Denver (where the altitude is higher and the air density is lower) than it is in a ballpark that is closer to sea level. Use Euler's method to determine the initial speed needed to hit a home run at sea level where the air density is $\\rho = 1.225$ kg/m$^3$.  Then repeat the calculation for a ballpark in Denver where the air density is $82\\%$ of the sea level value.  If you were a pitcher, would you feel inclined to pitch in Denver?  The drag constant for a baseball is not constant with its speed.  Experimental work has revealed the following expression for the group of variables that multiplies velocity in the drag equation (at sea level)\n",
        "\n",
        "$$\n",
        "{1\\over 2 m} \\rho A C  = {B \\over m} = .0039 + {.0058\\over 1 + e^{v - 35\\over 5}}\n",
        "$$\n"
      ]
    },
    {
      "cell_type": "markdown",
      "metadata": {},
      "source": []
    }
  ],
  "metadata": {
    "kernelspec": {
      "display_name": "Python 3",
      "language": "python",
      "name": "python3"
    }
  },
  "nbformat": 4,
  "nbformat_minor": 4
}

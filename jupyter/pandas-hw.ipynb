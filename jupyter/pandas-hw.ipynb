{
  "cells": [
    {
      "cell_type": "markdown",
      "metadata": {},
      "source": [
        "## HW Problems\n",
        "1. In homework problem 3 from the chapter on dictionaries and sets, you built a dictionary containing planetary information for your top three favorite planets.  \n",
        "   1. Create a single dataframe that contains this information in it.  The columns should be the properties of the planets and the rows should be the planets.\n",
        "   2. Make the name of the planet be the row label.\n",
        "   3. Write this dataframe to a csv file."
      ]
    },
    {
      "cell_type": "code",
      "execution_count": null,
      "metadata": {},
      "outputs": [],
      "source": [
        " # Python code here"
      ]
    },
    {
      "cell_type": "markdown",
      "metadata": {},
      "source": [
        "2. In homework problem 2 from the chapter on I/O, you calculated the moment of inertia for 1000 different objects. I've copied the code from that homework problem below  \n",
        "   1. Create a dataframe out of the mass, radius, length, and inertia arrays.  The dataframe should have four columns and 1000 rows.\n",
        "   2. Use `describe` to get a summary of the data.\n",
        "   3. Write the data to a .csv file and inspect the file to ensure that you did it correctly.\n"
      ]
    },
    {
      "cell_type": "code",
      "execution_count": null,
      "metadata": {},
      "outputs": [],
      "source": [
        "from numpy.random import normal\n",
        "\n",
        "mass = normal(5,.5,1000)\n",
        "length = normal(2,.2,1000)\n",
        "radius = normal(1,.1,1000)"
      ]
    },
    {
      "cell_type": "markdown",
      "metadata": {},
      "source": [
        "3. In homework problem 3 from the chapter on I/O, you read planetary data into a .csv file using `genfromtxt`.\n",
        "   1. Read the same file into a dataframe using `read_csv`.  Let the name of the planets be the row label and the physical property be the column label.\n",
        "   2. The sixth column contains the acceleration due to gravity for all of the planets in units of m/s$^2$.  Recalculate these values to be in terms of earth's value ($g = 9.78$ m/s$^2$) and modify the sixth column.\n",
        "   3. The seventh column contains the orbital period for all of the planets in units of earth years.  Recalculate these values to be in earth days and modify that column accordingly. \n",
        "   4. Add a new column labeled \"Surface Temperature\" that contains the surface temperature for each planet in Kelvins as given [here](https://solarsystem.nasa.gov/resources/681/solar-system-temperatures/).\n",
        "   5. Add a new row for a hypothetical planet (\"planet X\") and set its physical properties equal to the average of the other 9 planets that are already in the dataframe. Set the index for this row to be \"Planet X\".\n",
        "   6. Determine which planets have an acceleration due to gravity that is less than earth's value ($9.8 $ m/s$^2$)\n",
        "   7. Determine which planets have an eccentricity that is greater than $0.04$.\n",
        "   8. Determine which planet(s) have an inclination greater than $1.5^\\circ$ **and** have 10 or more satellites.\n",
        "   9. Write a .csv file containing the following columns in the dataframe: \"Name\", \"SurfaceGravity\", \"OrbitalPeriod\", and \"Satellites\".\n",
        "   10. Write the entire dataframe to a separate file.  \n",
        "\n",
        "   Hints:  \n",
        "      1. For part 5 you will want to use `describe` to generate a dataframe of summary statistics. Then use `concat` to add the row labeled \"mean\" to your original planetary database. Then use `rename` to rename that row from `mean` to `Planet X`.  \n",
        "      2. The column label for the acceleration due to gravity start with a space: \" SurfaceGravity\" not \"SurfaceGravity\".\n",
        "      3. For part 8 use `query`.  To include the space in the column names, enclose the name in backticks \"\\`\". (i.e. \" \\` Inclination\\` > 0.04\")"
      ]
    },
    {
      "cell_type": "code",
      "execution_count": null,
      "metadata": {},
      "outputs": [],
      "source": [
        " # Python code here"
      ]
    }
  ],
  "metadata": {
    "kernelspec": {
      "display_name": "Python 3",
      "language": "python",
      "name": "python3"
    }
  },
  "nbformat": 4,
  "nbformat_minor": 4
}

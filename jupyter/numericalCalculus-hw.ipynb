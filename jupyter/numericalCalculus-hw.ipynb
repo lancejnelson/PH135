{
  "cells": [
    {
      "cell_type": "markdown",
      "metadata": {},
      "source": [
        "## HW Problems\n",
        "1. Follow the steps below to calculate the first and second derivative of the following function $$y(x) = {\\sin(x) \\over x}$$  \n",
        "   1. Generate a discrete grid of 20 equally-spaced points from $0< x < 10$.\n",
        "   2. Generate an array of function values by evaluating the function above on the grid of points from step 1.\n",
        "   3. Use the center-difference equation to generate an array of slope values.\n",
        "   4. Use the center-difference second derivative equation to generate an array of second derivatives.\n",
        "   5. Plot all three functions on the same axes and verify that they look right.  \n"
      ]
    },
    {
      "cell_type": "code",
      "execution_count": null,
      "metadata": {},
      "outputs": [],
      "source": [
        "# Solution Here"
      ]
    },
    {
      "cell_type": "markdown",
      "metadata": {},
      "source": [
        "2. Follow the steps below to calculate the definite and indefinite integral of the following function $$F(t) = cos(t) * e^{-t \\over 2} $$ from $0<t<10$ seconds.  \n",
        "   1. Generate a discrete grid of 10 equally-spaced points from $0< t < 10$.\n",
        "   2. Generate an array of function values by evaluating the function above on the grid of points from step 1.\n",
        "   3. Using the rectangle equation, approximate the integral.\n",
        "   4. Using the trapezoid equation, approximate the integral.\n",
        "   5. Using `sympy` evaluate the integral and compare to your approximations.\n",
        "   6. Modify the number of grid points until your approximations are within $0.001$ of the true result."
      ]
    },
    {
      "cell_type": "code",
      "execution_count": null,
      "metadata": {},
      "outputs": [],
      "source": [
        "# Solution Here"
      ]
    },
    {
      "cell_type": "markdown",
      "metadata": {},
      "source": [
        "3. [This file](https://lancejnelson.github.io/PH135/files/Redbull_jump_full.csv) contains data from Felix Baumgartner's 2012 jump from an altitude of $39$ km above the surface of the earth.  Complete the following:\n",
        "\n",
        "   1. Read the data file into a pandas dataframe.\n",
        "   2. Plot altitude vs. time.\n",
        "   3. Using the center-difference formula, calculate the derivative of this data.  What quantity do you get when you take a derivative of position vs. time data?\n",
        "   3. Calculate the second derivative of this data.  What quantity do you get when you take a second derivative of position vs. time data?\n",
        "   4. Plot the derivatives and inspect them to verify that they make sense.\n",
        "   5. The original data set has a column that contains the Felix's airspeed (in km/hour). Plot this column vs. time and compare to the derivative you performed to see if they match (or are close)."
      ]
    },
    {
      "cell_type": "code",
      "execution_count": null,
      "metadata": {},
      "outputs": [],
      "source": [
        "# Solution Here"
      ]
    }
  ],
  "metadata": {
    "kernelspec": {
      "display_name": "Python 3",
      "language": "python",
      "name": "python3"
    }
  },
  "nbformat": 4,
  "nbformat_minor": 4
}

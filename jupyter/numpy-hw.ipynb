{
  "cells": [
    {
      "cell_type": "markdown",
      "metadata": {},
      "source": [
        "## HW Problems\n",
        "1. [Here](https://en.wikipedia.org/wiki/Unit_circle#/media/File:Unit_circle_angles_color.svg) you will find a picture of the unit circle. \n",
        "    1. Use the `arange` function to generate all of the angles (in degrees) on the unit circle **displayed in blue or black text**.\n",
        "    2. Using a single line of code, convert all of the angle from part 1 into radians.\n",
        "    3. Use the `linspace` function to generate all of the angles (in degrees) on the unit circle **displayed in red or black text**.\n",
        "    4. Using a single line of code, convert all of the angle from part 3 into radians.\n",
        "    5. Using a single line of code, evaluate $\\sin()$ onto both sets of angles and verify that they agree with the values on the unit circle.\n",
        "    6. Using a single line of code, evaluate $\\cos()$ onto both sets of angles and verify that they agree with the values on the unit circle.\n",
        "    7. Using a single line of code, evaluate ${\\sin(\\theta)\\over \\cos(\\theta)}$ for all of the angles in your arrays. This should be equal to $\\tan(\\theta)$"
      ]
    },
    {
      "cell_type": "code",
      "execution_count": null,
      "metadata": {},
      "outputs": [],
      "source": [
        "# Python code here"
      ]
    },
    {
      "cell_type": "markdown",
      "metadata": {},
      "source": [
        "2. In the cell below you will find three arrays containing the masses, lengths, and radii for a collection of cylinders.  The moment of inertia for each cylinder can be calculated as $$ I = {1\\over 4} M R^2 + {1\\over 12} M L^2$$.  \n",
        "\n",
        "    1. Using a single line of code, calculate the moment of inertia for all of the values in the arrays.\n",
        "    2. Determine the largest, smallest, and average of the calculated values.\n"
      ]
    },
    {
      "cell_type": "code",
      "execution_count": null,
      "metadata": {},
      "outputs": [],
      "source": [
        "from numpy.random import uniform\n",
        "mass = uniform(3,8,1000)\n",
        "radius = uniform(0.5,1.2,1000)\n",
        "length = uniform(0.8,3,1000)\n"
      ]
    },
    {
      "cell_type": "markdown",
      "metadata": {},
      "source": [
        "3. Construct a two-dimensional array with the following entries: $$\\begin{bmatrix}\n",
        "1& 5 & 7 & 2\\\\\n",
        "3& 9 & 1 & 4\\\\\n",
        "4& 2 & 2 & 8\\\\\n",
        "9& 1 & 6 & 3\\\\\n",
        "\\end{bmatrix}$$\n",
        "\n",
        "    1. Now access the number in the third column and second row. (It's a $1$)\n",
        "    2. Slice the array from columns $2 \\rightarrow 4$ and rows $1 \\rightarrow 3$.\n",
        "\n",
        "\n",
        "4. The following temperatures are prominent on the Fahrenheit scale: `[0,32,100,212,451]`.  \n",
        "    1. Create an array that contains these temperatures.\n",
        "    2. Using a single line of code, convert these temperatures into degrees Celsius using the following formula $$T_C =  {5\\over 9}(T_F - 32)$$\n",
        "    3. Using a single line of code, convert the temperatures from part 2 into Kelvins using the following formula $$T_K = T_C + 273.15$$  \n",
        "    4. Using a single line of code, convert the temperatures from **part 1** into Kelvins using the following formula $$T_K = {5\\over 9} ( T_F - 32) + 273.15$$  \n"
      ]
    },
    {
      "cell_type": "code",
      "execution_count": null,
      "metadata": {},
      "outputs": [],
      "source": [
        "# Python code here."
      ]
    },
    {
      "cell_type": "markdown",
      "metadata": {},
      "source": [
        "5. The equation below defines the relationship between energy ($E$) in Joules of a photon and its wavelength ($\\lambda$) in meters.  The $h$ is Plank's constant ($6.626 \\times 10^{-34}$ J $\\cdot$ s) and $c$ is the speed of light in a vacuum ($2.998 \\times 10^8$ m/s). $$E = {h c \\over \\lambda}$$\n",
        "\n",
        "    1. Generate an array of wavelength values for visible light ($400$ nm $\\rightarrow 800$ nm) in $50$ nm increments. (\"nm\" stands for nanometers or $10^{-9}$ m)\n",
        "    2. Generate a second array containing the energy of each wavelength of light from part 1.  Does the energy of a photon increase or decrease with wavelength?"
      ]
    },
    {
      "cell_type": "code",
      "execution_count": null,
      "metadata": {},
      "outputs": [],
      "source": [
        "# Python code here"
      ]
    },
    {
      "cell_type": "markdown",
      "metadata": {},
      "source": [
        "6. A boat is out at sea with the following location and velocity vectors: $$x_i = \n",
        "\\begin{bmatrix}\n",
        "5 \\\\\n",
        "2\n",
        "\\end{bmatrix} \\text{ km}$$ $$v_i = \n",
        "\\begin{bmatrix}\n",
        "-13 \\\\\n",
        "25\n",
        "\\end{bmatrix}  \\text{ m/s}$$ when a gust of wind causes the boat to accelerate for approximately $3$ minutes with the following acceleration vector:$$a = \n",
        "\\begin{bmatrix}\n",
        "-8 \\\\\n",
        "-5\n",
        "\\end{bmatrix} \\text{ m/s}^2$$\n",
        "We can find the position and velocity vectors of the boat after the wind has died back down with the following equation: $$ \\vec{x_f} = \\vec{x_i} + \\vec{v_i} \\Delta t + {1\\over 2} \\vec{a} \\Delta t^2$$ $$ \\vec{v_f} = \\vec{v_i} + \\vec{a} \\Delta t$$\n",
        "\n",
        "    1. Create arrays containing the initial position, initial velocity, and acceleration of the boat **in SI units**.\n",
        "    2. Using a single line of code, calculate the final position of the boat. (Watch out: You must convert $3$ minutes to seconds before performing the calculation.)\n",
        "    3. Using a single line of code, calculate the final velocity of the boat. (Watch out: You must convert $3$ minutes to seconds before performing the calculation.)\n",
        "\n",
        "\n",
        "7. Predict the outcome of the following operations between two arrays.  Then test your prediction.\n",
        "\n",
        "    $$\\begin{bmatrix}\n",
        "    1&8&9\\\\\n",
        "    8&1&9\\\\\n",
        "    1&8&1\\\\\n",
        "    \\end{bmatrix}+ \\begin{bmatrix}\n",
        "    1&1\\\\\n",
        "    1&1\\\\\n",
        "    \\end{bmatrix} $$ $$\n",
        "    \\begin{bmatrix}\n",
        "    1&1\\\\\n",
        "    2&2\\\\\n",
        "    \\end{bmatrix}\n",
        "    + \\begin{bmatrix}\n",
        "    1\\\\\n",
        "    \\end{bmatrix}$$ $$\n",
        "    \\begin{bmatrix}\n",
        "    1&8&9\\\\\n",
        "    8&1&9\\\\\n",
        "    1&8&1\\\\\n",
        "    \\end{bmatrix} +  \\begin{bmatrix}\n",
        "    1\\\\\n",
        "    2\\\\\n",
        "    3\\\\\n",
        "    \\end{bmatrix}$$ $$\n",
        "    \\begin{bmatrix}\n",
        "    1&8&9\\\\\n",
        "    8&1&9\\\\\n",
        "    1&8&1\\\\\n",
        "    \\end{bmatrix}\n",
        "    +     \\begin{bmatrix}\n",
        "    1&2&3\\\\\n",
        "    \\end{bmatrix}$$\n"
      ]
    },
    {
      "cell_type": "code",
      "execution_count": null,
      "metadata": {},
      "outputs": [],
      "source": [
        "# Python code here"
      ]
    },
    {
      "cell_type": "markdown",
      "metadata": {},
      "source": [
        "8. In quantum mechanics you will learn that the allowed energy levels for the harmonic oscillator are given by:$$E_n = \\hbar \\sqrt{k \\over m} (n + {1\\over 2})$$ where $k = 4 \\pi^2$ and $m = 1$ gram.\n",
        "\n",
        "    1. Generate an array of $n$ values from $1 \\rightarrow 10$ (inclusive).\n",
        "    2. Using a single line of code, calculate the first 10 allowed energies for this harmonic oscillator. (Don't forget to convert the mass to kg so everything is in SI units.)\n",
        "    3. Combine these two arrays into a single $10$ x $2$ array with the first column containing $n$ values and the second column containing the corresponding energies."
      ]
    },
    {
      "cell_type": "code",
      "execution_count": null,
      "metadata": {},
      "outputs": [],
      "source": [
        "# Python code here."
      ]
    },
    {
      "cell_type": "markdown",
      "metadata": {},
      "source": [
        "9. Generate an array containing integers $0 \\rightarrow 14$ (inclusive)\n",
        "    1. Reshape the array to be a $3$ x $5$ array.\n",
        "    2. Transpose the array from part 1 so that it is $5$ x $3$.\n",
        "    3. Make the array from part 2 one-dimensional.\n",
        "\n",
        "\n",
        "10. The $\\cos()$ function can be written as an infinite sum:  $$ \\cos(x) = 1 - {x^2 \\over 2!} + {x^4 \\over 4!} - {x^6 \\over 6!} + \\dots = \\sum_{n = 0}^\\infty {(-1)^n x^{2n} \\over (2n)!}$$. (As it turns out, any function can be written as a sum like this.)\n",
        "    1. Make an array of integer $n$ values from $0 \\rightarrow 10$.\n",
        "    2. Using a single line of code, generate the terms in the sum for $x = \\pi$. Note: `scipy.special` has a `factorial` function that will work on arrays.  \n",
        "    3. Use `cumsum` to evaluate the sum.\n",
        "    4. Interpret the results and verify that as you include more terms in the sum the approximation to $\\cos(x)$ gets better and better.\n"
      ]
    }
  ],
  "metadata": {
    "kernelspec": {
      "display_name": "Python 3",
      "language": "python",
      "name": "python3"
    }
  },
  "nbformat": 4,
  "nbformat_minor": 4
}

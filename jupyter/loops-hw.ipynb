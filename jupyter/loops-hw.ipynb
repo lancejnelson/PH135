{
  "cells": [
    {
      "cell_type": "markdown",
      "metadata": {},
      "source": [
        "## HW Problems\n",
        "1. Use a loop to construct a list containing the first 10 fibonacci numbers that are multiples of $5$. (The modulo operator (`%`) is a good and efficient way to see if a number is a multiple of another.)\n",
        "\n",
        "Hint/Answer: The 10th fibonacci number that is a multiple of 5 is: 12,586,269,025"
      ]
    },
    {
      "cell_type": "code",
      "execution_count": null,
      "metadata": {},
      "outputs": [],
      "source": [
        "# Python code here."
      ]
    },
    {
      "cell_type": "markdown",
      "metadata": {},
      "source": [
        "2. Summations appear often in science and mathematics.  One such summation is called the Riemann Zeta function and is given by $$ \\zeta(n) = \\sum_{k=1}^\\infty {1\\over k^n} = {1\\over 1^n} + {1\\over 2^n} + {1\\over 3^n} + \\dots$$\n",
        "\n",
        "    1. Use a `for` loop to evaluate $\\zeta(2)$ and $\\zeta(4)$ and verify that $\\zeta(2) = {\\pi^2 \\over 6}$ and $\\zeta(4) = {\\pi^4 \\over 90}$.  This summation is called an infinite sum and we surely don't want our loop to continue forever!! Instead, an infinite sum like this one can be approximated with a `for` loop with a large number of iterations.  To determine if you have included enough terms, increase the number of terms steadily and watch for the final result to stop changing appreciably.\n",
        "    2. Now repeat part 1 using list comprehension and the `sum` function?\n",
        "    3. Repeat the exercise one final time using a `while` loop.  Write the `while` loop so that it stops iterating when the value of ${1\\over k^n}$ gets smaller than $1 \\times 10^{-6}$.\n"
      ]
    },
    {
      "cell_type": "code",
      "execution_count": null,
      "metadata": {},
      "outputs": [],
      "source": [
        "#Python code here"
      ]
    },
    {
      "cell_type": "markdown",
      "metadata": {},
      "source": [
        "3. (Prime numbers) A prime number is a number that is not the product of two smaller numbers except $1$. (i.e it is only evenly divisible by itself and $1$) To determine whether a number ($n$) is prime, check to see if the number is divisible by **any integer** starting at $2$ and ending at $\\sqrt{n}$ (rounded up). If the number is divisible by even one of these integers, you know the number isn't prime.\n",
        "\n",
        "    1. Write a `for` loop that determines whether a specified number is prime or not. Try your loop out on the following numbers: $75$, $71$, and $91$.\n",
        "    2. Repeat step 1 using a `while` loop.  Be sure to include a fail-safe with a `break` statement to avoid infinite loops.\n",
        "    3. Now enclose your loop from either step 1 or step 2 inside another `for` loop to find all of the prime numbers that are less than $500$. Put all of these numbers in a list. Hint: You should find that there are $95$ prime numbers less than $500$\n",
        "    4. Finally, enclose your loop from either step 1 or step 2 inside another `while` loop to find the first $500$ prime numbers. As always with `while` loops be sure to include a fail-safe with a `break` statement to avoid infinite loops.  Put all of these numbers into a list and verify that the list contains $500$ numbers.  Hint: The 500th prime number is $3571$\n"
      ]
    },
    {
      "cell_type": "code",
      "execution_count": null,
      "metadata": {},
      "outputs": [],
      "source": [
        "# Python code here\n"
      ]
    },
    {
      "cell_type": "markdown",
      "metadata": {},
      "source": [
        "4. The greatest common divisor (GCD) of two numbers is the greatest positive integer that divides each of the numbers. For example, the GCD of $30$ and $20$ is $10$ (i.e. There is no number greater than $10$ that divides both $30$ and $20$).  One algorithm for finding this number is called Euclid's algorithm.  The process for Euclid's algorithm is as follows: (as long as both numbers are not negative.)\n",
        "\n",
        "    - Find the remainder of dividing the larger number by the smaller number.\n",
        "    - Replace the larger number with the number found in step 1.\n",
        "    - Repeat this process until one of the numbers is zero.  At this point, the other number is the GCD.\n",
        "\n",
        "    1. Use a `while` loop to find the GCD of $105$ and $252$.  You may want to find the GCD of smaller numbers first to verify that your code is working.\n",
        "    2. The least common multiple (LCM) of two numbers is the smallest number that two or more numbers can divide evenly. For example, the LCM of $6$ and $4$ is $12$ (i.e. There is no number smaller than $12$ that is also a multiple of both $6$ and $4$). The LCM can be found from the GCD using the following expression: $LCM(a,b) = {a \\times b\\over GCD(a,b)}$. Calculate the LCM of $105$ and $252$.\n",
        "    3. If $GCD(a,b) = 1$ then the numbers are considered co-prime. Can you find a co-prime pair?"
      ]
    },
    {
      "cell_type": "code",
      "execution_count": null,
      "metadata": {},
      "outputs": [],
      "source": [
        "#Code here."
      ]
    },
    {
      "cell_type": "markdown",
      "metadata": {},
      "source": [
        "5. Another interesting summation is given by: $$ f(n) = \\sum_{k=0}^\\infty (-1)^k {1\\over n^k} = {1\\over n^0} - {1\\over n^1} + {1\\over n^2} - {1\\over n^3} + {1\\over n^4} - \\dots$$  This sum converges (approaches) the value ${n \\over n + 1}$ only if $n > 1$.\n",
        "\n",
        "    1. Use a `for` loop to evaluate $f(2)$ and $f(4)$ and verify that $f(2) = {2 \\over 2 + 1} = {2\\over 3}$ and $f(4) = {4 \\over 4 + 1} = {4\\over 5}$.  This summation is called an infinite sum and we surely don't want our loop to continue forever!! Instead, an infinite sum like this one can be approximated with a `for` loop with a large number of iterations.  To determine if you have included enough terms, increase the number of terms steadily and watch for the final result to stop changing appreciably.\n",
        "    2. Now repeat part 1 using list comprehension and the `sum` function?\n",
        "    3. Repeat the exercise one final time using a `while` loop.  Write the `while` loop so that it stops iterating when the value of ${1\\over n^k}$ gets smaller than $1 \\times 10^{-6}$.\n",
        "    4. Now investigate what happens when $n = 0.5$.  Do this by running your `for` loop from part 1 for more and more iterations and observing whether the sum approach one value (converges) or increases without bound (diverges). "
      ]
    },
    {
      "cell_type": "code",
      "execution_count": null,
      "metadata": {},
      "outputs": [],
      "source": [
        "#| eval: true\n"
      ]
    },
    {
      "cell_type": "markdown",
      "metadata": {},
      "source": [
        "6. In the cell below you will find a dictionary containing the mass(in kg) and diameter of the planets in our solar system.  Use a loop to iterate over this dictionary and calculate the acceleration due to gravity at the surface of the planet. $$ g = {G M \\over R^2}$$. ($G = 6.67 \\times 10^{-11}$)  Then add this value to the list for each planet. Print the dictionary when you are done to verify that each dictionary entry is a list with three elements.\n"
      ]
    },
    {
      "cell_type": "code",
      "execution_count": null,
      "metadata": {},
      "outputs": [],
      "source": [
        "planetData = {\"Mercury\": [0.33e24,4.879e6],\"Venus\":[4.87e24,1.2104e7],\"Earth\":[5.97e24,1.2756e7],\"Mars\":[0.642e24,6.792e6],\"Jupiter\":[1.898e27,1.42984e8],\"Saturn\":[5.68e26,1.20536e8],\"Uranus\":[8.68e25,5.1118e7],\"Neptune\":[1.02e26,4.9528e7],\"Pluto\":[0.013e24,2.376e7]}"
      ]
    },
    {
      "cell_type": "markdown",
      "metadata": {},
      "source": [
        "(Extra Credit) A transcendental equation is one that cannot be solved analytically (with pencil and paper). Try solving the following equation for x to see what I mean: $$ {\\cos x \\over x} = 1$$  One numerical method for solving an equation like this involves first rearranging it to look like this: $$ x = \\cos x$$ and then using a loop to repeatedly evaluating the right hand side, using the result of the previous evaluation as the input, until $x$ and $\\cos(x)$ are essentially equal (to within $1 \\times 10^{-3}$ is sufficient). [^relax] The first few iterations of this process might look something like this: $$(x_\\text{old})_1 = 2 \\text{ (starting guess)}$$ $$(x_\\text{new})_1 = \\cos((x_\\text{old})_1)$$ $$(x_\\text{old})_2 = (x_\\text{new})_1$$ $$(x_\\text{new})_2 = \\cos((x_\\text{old})_2)$$ $$(x_\\text{old})_3 = (x_\\text{new})_2$$ $$(x_\\text{new})_3 = \\cos((x_\\text{old})_3)$$\n",
        "\n",
        "   1. Use a `while` loop to solve this equation and report the correct value for x.  \n",
        "   2. Plug the answer back into the equation to verify that it indeed does satisfy the equation.\n",
        "   3. Report how many iterations it took to solve the problem.\n",
        "   4. Decrease the value in the termination condition and observe how the number of iterations and the accuracy of the answer change.  \n"
      ]
    },
    {
      "cell_type": "code",
      "execution_count": null,
      "metadata": {},
      "outputs": [],
      "source": [
        "x = 2 # starting guess"
      ]
    },
    {
      "cell_type": "markdown",
      "metadata": {},
      "source": [
        "[^relax]: This is called successive relaxation."
      ]
    }
  ],
  "metadata": {
    "kernelspec": {
      "display_name": "Python 3",
      "language": "python",
      "name": "python3"
    }
  },
  "nbformat": 4,
  "nbformat_minor": 4
}

{
  "cells": [
    {
      "cell_type": "markdown",
      "metadata": {},
      "source": [
        "## HW Problems\n",
        "1. A wooden block is placed on a horizontal surface and pushed across the floor with an initial velocity of $v_0$.  The expression for the position of the block after $t$ seconds have elapsed is $$x(t) = v_0 t - {1\\over 2} \\mu g t^2$$ where $\\mu$ is the coefficient of friction and $g = 9.8$ m/s$^2$.  You can easily calculate the time it takes for the block to come to rest to be $$ T = {v_0 \\over \\mu g}$$.  \n",
        "\n",
        "    1. Write a function that takes the coefficient of friction and the initial velocity as arguments and returns the total distance traveled while coming to rest.  \n",
        "    2. Call the function for $v_0 = 7.2$ m/s and the following values of $\\mu = 0.62,0.3,0.45,0.2$.  The answers should be: $[4.266, 8.816, 5.878, 13.224]$.\n",
        "    3. Use list comprehension to put these travel distances into a list.  \n",
        "    4. Use the  `zip` function to combine the list of friction coefficients with the list of travel distances. \n",
        "    5. Use a `print` statement to verify that you did it correctly.\n"
      ]
    },
    {
      "cell_type": "code",
      "execution_count": null,
      "metadata": {},
      "outputs": [],
      "source": [
        "# Solution here."
      ]
    },
    {
      "cell_type": "markdown",
      "metadata": {},
      "source": [
        "2. In quantum mechanics you will learn that the energy of an electron can't just be any old value, but can only be certain discrete values.  For the hydrogen atom, the allowed energy levels for the electron (in units of electron-volts) are given by $$E(n) = {-m_e e^3 \\over 32 \\pi^2 \\epsilon_0^2 \\hbar^2 n^2}$$  where $n$ must be an integer and the other constants are\n",
        "    - $m_e = 9.109 \\times 10^{-31}$ kg is the mass of an electron.\n",
        "    - $e = 1.602 \\times 10^{-19}$ C is the fundamental.\n",
        "    - $\\epsilon_0 = 8.854 \\times 10^{-12}$ C V$^{-1}$ m$^{-1}$ is the electrical constant.\n",
        "    - $\\hbar = 1.054 \\times 10^{-34}$ J s is the reduced Planck constant.\n",
        "\n",
        "\n",
        "    1. Construct a function that takes the quantum number ($n$) as an argument and returns the energy of the electron in units of electron-volts.  All of the fundamental constants in the equation should appear as keyword arguments with default values attached. Call the function for a few values of $n$ to make sure it is working.  You should find that $E(1) = -13.6$ eV, $E(2) = -3.4$ eV, $E(3) = -1.5$ eV, etc.\n",
        "    2. When an electron transitions from a high energy state to a low energy state, it releases a bundle of light (called a \"photon\") with an energy that is exactly equal to the energy difference. Use the function you built in part 1 to calculate the energy of a photon that is released when an electron transitions from the $n = 5$ state to the $n = 2$ state.\n",
        "    3.  The wavelength ($\\lambda$) of the photon can by calculated using the following equation: $$\\lambda = {2 \\pi \\hbar c \\over e \\Delta E}$$.  Calculate the wavelength of light released for the transition described in part 2. Go to [this](http://hyperphysics.phy-astr.gsu.edu/hbase/vision/specol.html#c1) website and determine what color this corresponds to.\n",
        "    4. Use list comprehension together with the function you built in part 1 to build a list containing the 15 lowest-energy levels for the hydrogen atom."
      ]
    },
    {
      "cell_type": "code",
      "execution_count": null,
      "metadata": {},
      "outputs": [],
      "source": [
        "me = 9.109e-31"
      ]
    },
    {
      "cell_type": "markdown",
      "metadata": {},
      "source": [
        "3. Max Planck discovered that **all** objects emit a spectrum of radiation and that the intensity of the spectrum depends on the object's temperature.  The equation for the intensity of the emitted light is $$ I(\\lambda) = {2 \\pi h c^2 \\over \\lambda^5} {1\\over e^{hc \\over \\lambda k_BT} - 1}$$ where\n",
        "    - $c = 3.0 \\times 10^8$ m/s is the speed of light.\n",
        "    - $h = 6.626 \\times 10^{-34}$ m$^2$ kg /s is Plank's constant.\n",
        "    - $k_B = 1.38 \\times 10^{-23}$ m$^2$kg s$^{-2}$ K$^{-1}$ is the Boltzmann constant.\n",
        "    - T is temperature in Kelvins.\n",
        "    - $\\lambda$ is wavelength in meters.\n",
        "\n",
        "    1. Write a function that takes two arguments: the temperature of the object and the wavelength of light.  All other physical constants should appear as keyword arguments with appropriate default values attached.  The function should return the corresponding light intensity given by the function above.\n",
        "    2. The temperature of the sun is approximately $5780$ K and it emits strongly in the visible region of the spectrum. Use the function you built in part 1 to calculate the intensity of light emitted by the sun at the following wavelengths: [250 nm, 500 nm, 750 nm, 1000 nm, 1500 nm] (\"nm\" is short for nano-meters or $\\times 10^{-9}$ meters). Use list comprehension to build a list of these intensities. Comment on the trend that you notice.\n",
        "    3. The coldest temperature ever measured in our solar system was $25$ K at the bottom of a lunar crater during \"night\" time. That's -410$^\\circ$ F.. Yowza! However, during \"day\" time, the temperature of the moon is about $400$ K.   Compute the intensity of daytime light emitted by the moon for the same wavelengths given in part 2. As before, use list comprehension to put these intensities into a list. How do these intensities compare to the sun's?  \n",
        "    4. The moon emits strongest in the infrared region of the spectrum ($\\lambda > 750$ nm) which our eyes are not able to see. The only reason we can see the moon is because it reflects light from the sun.  Recalculate the intensity of light from the moon for the following infrared wavelengths: [6000 nm, 7500 nm, 9000 nm, 10000 nm, 12000 nm].  How do these intensities compare to the sun's light? \n"
      ]
    },
    {
      "cell_type": "code",
      "execution_count": null,
      "metadata": {},
      "outputs": [],
      "source": [
        "# Solution here."
      ]
    },
    {
      "cell_type": "markdown",
      "metadata": {},
      "source": [
        "4. Write a function that calculates the area of a chosen, two-dimensional geometric shape from the list below.  The function should take **one** required argument that is a string and specifies which shape is being requested.  The side lengths of the shape should be passed in as optional (keyword) arguments.  Test your code out on a few shapes to verify that it is working.\n",
        "\n",
        "$$A_\\text{square} = a^2  ~~\\text{(square)}$$\n",
        "$$A_\\text{circle} = \\pi r^2  ~~\\text{(circle)}$$\n",
        "$$A_\\text{rectangle} = a \\times b  ~~\\text{(rectangle)}$$\n",
        "$$A_\\text{triangle} = {1\\over 2} b \\times h  ~~\\text{(triangle)}$$\n",
        "$$A_\\text{parallelogram} =  b \\times h  ~~\\text{(parallelogram)}$$\n",
        "$$A_\\text{pentagon} =  {1\\over 4} \\sqrt{5(5 + 2 \\sqrt{5})} a^2  ~~\\text{(pentagon)}$$\n",
        "$$A_\\text{hexagon} =  {3 \\sqrt{3}\\over 2} a^2  ~~\\text{(hexagon)}$$"
      ]
    },
    {
      "cell_type": "code",
      "execution_count": null,
      "metadata": {},
      "outputs": [],
      "source": [
        "# Solution here."
      ]
    },
    {
      "cell_type": "markdown",
      "metadata": {},
      "source": [
        "5. Write a function that calculates the volume of a chosen three-dimensional geometric shape from the list below.  The function should take **one** required argument that is a string and specifies which shape is being requested.  The relevant lengths of the shape should be passed in as optional (keyword) arguments.  Test your code out on a few shapes to verify that it is working.\n",
        "\n",
        "\n",
        "$$V_\\text{sphere} = {4\\over 3} \\pi r^3  ~~\\text{(sphere)}$$\n",
        "$$V_\\text{cylinder} = \\pi r^2 \\times h  ~~\\text{(cylinder)}$$\n",
        "$$V_\\text{cube} = a^3  ~~\\text{(cube)}$$\n",
        "$$V_\\text{cuboid} =  a\\times b \\times c  ~~\\text{(cuboid)}$$\n",
        "$$V_\\text{pyramid} =  {l \\times w \\times h\\over 3}  ~~\\text{(pyramid)}$$\n",
        "$$V_\\text{cone} =  \\pi r^2 {h \\over 3}  ~~\\text{(cone)}$$"
      ]
    },
    {
      "cell_type": "code",
      "execution_count": null,
      "metadata": {},
      "outputs": [],
      "source": [
        "# Solution here."
      ]
    }
  ],
  "metadata": {
    "kernelspec": {
      "display_name": "Python 3",
      "language": "python",
      "name": "python3"
    }
  },
  "nbformat": 4,
  "nbformat_minor": 4
}

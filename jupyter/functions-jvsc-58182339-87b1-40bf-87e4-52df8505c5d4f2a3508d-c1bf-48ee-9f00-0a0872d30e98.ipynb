{
 "cells": [
  {
   "cell_type": "code",
   "execution_count": null,
   "id": "b7cfb25b-4f8e-4464-bf38-ae60b9f635bb",
   "metadata": {},
   "outputs": [],
   "source": []
  }
 ],
 "metadata": {
  "kernelspec": {
   "display_name": "",
   "name": ""
  },
  "language_info": {
   "name": ""
  }
 },
 "nbformat": 4,
 "nbformat_minor": 5
}

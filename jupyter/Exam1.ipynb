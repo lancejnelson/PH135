{
 "cells": [
  {
   "cell_type": "markdown",
   "metadata": {},
   "source": [
    "# Exam 1\n",
    "\n",
    "Instructions:  \n",
    "\n",
    "You are allowed to use the following materials and nothing else on this exam:  \n",
    "\n",
    "1. the textbook and \n",
    "2. your flashcards \n",
    "    \n",
    "on this exam.  \n",
    "\n",
    "\n",
    "You are not allowed to use another person or any internet resources. This exam is not timed and you are free to start and stop as you please.  Good Luck, you'll do great.\n",
    "\n",
    "Name: _________________\n",
    "    \n",
    "\n",
    "    \n",
    "## Short Written Answer\n",
    "1. What is the keyboard shortcut for turning a code cell into a text cell in a Jupyter notebook."
   ]
  },
  {
   "cell_type": "markdown",
   "metadata": {},
   "source": [
    "Answer:"
   ]
  },
  {
   "cell_type": "markdown",
   "metadata": {},
   "source": [
    "2. What type of number is produced when two integers are added together?"
   ]
  },
  {
   "cell_type": "markdown",
   "metadata": {},
   "source": [
    "Answer:"
   ]
  },
  {
   "cell_type": "markdown",
   "metadata": {},
   "source": [
    "3. What does the `%` operator do? (i.e. `5%2`)"
   ]
  },
  {
   "cell_type": "markdown",
   "metadata": {},
   "source": [
    "Answer:"
   ]
  },
  {
   "cell_type": "markdown",
   "metadata": {},
   "source": [
    "4. What does multiplying a string and an integer produce (or does it produce an error)?"
   ]
  },
  {
   "cell_type": "markdown",
   "metadata": {},
   "source": [
    "Answer:"
   ]
  },
  {
   "cell_type": "markdown",
   "metadata": {},
   "source": [
    "5. What are f-strings?  Give an example."
   ]
  },
  {
   "cell_type": "markdown",
   "metadata": {},
   "source": [
    "Answer:"
   ]
  },
  {
   "cell_type": "markdown",
   "metadata": {},
   "source": [
    "6. When printing a string with a variable inserted into it, how do you format that number to be in scientific notation with only three digits being displayed after the decimal place?  (Feel free to give a code example in the cell below if that is easier)"
   ]
  },
  {
   "cell_type": "markdown",
   "metadata": {},
   "source": [
    "Answer:"
   ]
  },
  {
   "cell_type": "markdown",
   "metadata": {},
   "source": [
    "7. How do you extract a substring from a larger string? (Give an example)"
   ]
  },
  {
   "cell_type": "markdown",
   "metadata": {},
   "source": [
    "Answer:"
   ]
  },
  {
   "cell_type": "markdown",
   "metadata": {},
   "source": [
    "8. What does the `len` function do?"
   ]
  },
  {
   "cell_type": "markdown",
   "metadata": {},
   "source": [
    "Answer:"
   ]
  },
  {
   "cell_type": "markdown",
   "metadata": {},
   "source": [
    "9. What does `a **= 10` mean?"
   ]
  },
  {
   "cell_type": "markdown",
   "metadata": {},
   "source": [
    "Answer:"
   ]
  },
  {
   "cell_type": "markdown",
   "metadata": {},
   "source": [
    "10. What is the correct way to check to see if two **float variables** are equal to each other?  (You can write some code to illustrate if you prefer.)"
   ]
  },
  {
   "cell_type": "markdown",
   "metadata": {},
   "source": [
    "Answer:"
   ]
  },
  {
   "cell_type": "markdown",
   "metadata": {},
   "source": [
    "11. What happens when you add two lists together?"
   ]
  },
  {
   "cell_type": "markdown",
   "metadata": {},
   "source": [
    "Answer:"
   ]
  },
  {
   "cell_type": "markdown",
   "metadata": {},
   "source": [
    "## Short Code Answer\n",
    "\n",
    "\n",
    "1. Extract every other element starting at the second element and ending at the 10th element (inclusive) in the list below."
   ]
  },
  {
   "cell_type": "code",
   "execution_count": 1,
   "metadata": {},
   "outputs": [
    {
     "name": "stdout",
     "output_type": "stream",
     "text": [
      "0\n"
     ]
    }
   ],
   "source": [
    "myList = [5,2,1,4,3,5,1,2,4,1,3,5,9,6,5]\n",
    "print(4%2)"
   ]
  },
  {
   "cell_type": "markdown",
   "metadata": {},
   "source": [
    "2. Write a single line of code that prints `True` if the name \"Alexa\" is in the list of names below. Otherwise it prints `False`"
   ]
  },
  {
   "cell_type": "code",
   "execution_count": null,
   "metadata": {},
   "outputs": [],
   "source": [
    "names = \"Joe,Samantha,Fred,Brigham,Jillyn,Gus,Grant,Bradley,Sophia,Julia,Alex,Penny,Paige,Crystal,Melanie,Joseph,Carter,Linus,Albert,Tori,Alexa\""
   ]
  },
  {
   "cell_type": "markdown",
   "metadata": {},
   "source": [
    "3. Using a single line of code, generate a list of even numbers less than 100."
   ]
  },
  {
   "cell_type": "code",
   "execution_count": null,
   "metadata": {},
   "outputs": [],
   "source": [
    "# Python code here."
   ]
  },
  {
   "cell_type": "markdown",
   "metadata": {},
   "source": [
    "4. Extract the second to last element in the list below."
   ]
  },
  {
   "cell_type": "code",
   "execution_count": null,
   "metadata": {},
   "outputs": [],
   "source": [
    "electrons = [\"1s1\",\"1s2\", \"1s2-2s1\",\"1s2-2s2\",\"1s2-2s2-2p1\",\"1s2-2s2-2p2\",\"1s2-2s2-2p3\",\"1s2-2s2-2p4\",\"1s2-2s2-2p5\",\"1s2-2s2-2p6\"]"
   ]
  },
  {
   "cell_type": "markdown",
   "metadata": {},
   "source": [
    "5. Extract the second number in the second list given below. (It's 5!)"
   ]
  },
  {
   "cell_type": "code",
   "execution_count": null,
   "metadata": {},
   "outputs": [],
   "source": [
    "conductivity = [[1,2,3],[4,5,6],[7,8,9]]"
   ]
  },
  {
   "cell_type": "markdown",
   "metadata": {},
   "source": [
    "6. Using a single line of code, add the following electron configurations to the list below: \"1s2-2s2-2p6-3s1\", \"1s2-2s2-2p6-3s2\", and \"1s2-2s2-2p6-3s2-3p1\""
   ]
  },
  {
   "cell_type": "code",
   "execution_count": 3,
   "metadata": {},
   "outputs": [
    {
     "name": "stdout",
     "output_type": "stream",
     "text": [
      "['1s1', '1s2', '1s2-2s1', '1s2-2s2', '1s2-2s2-2p1', '1s2-2s2-2p2', '1s2-2s2-2p3', '1s2-2s2-2p4', '1s2-2s2-2p5', '1s2-2s2-2p6', '1s', '4s', '5p']\n"
     ]
    }
   ],
   "source": [
    "electrons = [\"1s1\",\"1s2\", \"1s2-2s1\",\"1s2-2s2\",\"1s2-2s2-2p1\",\"1s2-2s2-2p2\",\"1s2-2s2-2p3\",\"1s2-2s2-2p4\",\"1s2-2s2-2p5\",\"1s2-2s2-2p6\"]\n"
   ]
  },
  {
   "cell_type": "markdown",
   "metadata": {},
   "source": [
    "7. Using a single line of code, determine the location of the following electron configuration in the list below: \"1s2-2s2-2p2\""
   ]
  },
  {
   "cell_type": "code",
   "execution_count": null,
   "metadata": {},
   "outputs": [],
   "source": [
    "electrons = [\"1s1\",\"1s2\", \"1s2-2s1\",\"1s2-2s2\",\"1s2-2s2-2p1\",\"1s2-2s2-2p2\",\"1s2-2s2-2p3\",\"1s2-2s2-2p4\",\"1s2-2s2-2p5\",\"1s2-2s2-2p6\"]"
   ]
  },
  {
   "cell_type": "markdown",
   "metadata": {},
   "source": [
    "8. Below you will find two lists of numbers.  Use a single line of code to join them together to form a single list containing all of the numbers."
   ]
  },
  {
   "cell_type": "code",
   "execution_count": null,
   "metadata": {},
   "outputs": [],
   "source": [
    "x = [3,6,9,12,15]\n",
    "y = [5,10,15,20]"
   ]
  },
  {
   "cell_type": "markdown",
   "metadata": {},
   "source": [
    "9. Find the minimum value in the list of numbers in the cell below."
   ]
  },
  {
   "cell_type": "code",
   "execution_count": null,
   "metadata": {},
   "outputs": [],
   "source": [
    "from numpy.random import uniform\n",
    "x = uniform(0,10,1000)"
   ]
  },
  {
   "cell_type": "markdown",
   "metadata": {},
   "source": [
    "10. Determine how many 7s are in the list below."
   ]
  },
  {
   "cell_type": "code",
   "execution_count": 7,
   "metadata": {},
   "outputs": [
    {
     "name": "stdout",
     "output_type": "stream",
     "text": [
      "[1 4 5 9 8 2 6 0 6 9 8 7 7 3 4 0 5 1 1 7 8 1 1 9 6 5 2 5 5 9 0 7 0 2 4 2 4\n",
      " 9 0 5 1 0 4 3 5 3 7 2 1 3 7 3 4 3 7 5 0 5 1 2 5 6 7 6 9 0 9 4 1 7 8 3 9 1\n",
      " 1 5 0 0 9 0 3 8 8 4 5 1 7 3 3 5 1 2 1 3 6 8 5 3 4 0 7 1 3 9 4 7 0 1 1 7 5\n",
      " 6 2 1 1 5 1 0 0 6 5 5 1 4 6 9 2 5 5 6 1 9 2 1 7 5 8 3 9 6 0 0 3 2 5 0 3 0\n",
      " 0 4 7 8 5 6 8 3 1 6 0 7 4 6 0 7 3 4 1 3 2 7 7 7 1 4 2 1 9 3 5 4 1 3 3 4 2\n",
      " 1 4 0 6 1 5 5 0 1 5 9 2 6 9 7 2 6 3 7 4 2 1 4 6 9 2 1 1 9 4 8 0 6 6 8 7 9\n",
      " 1 0 1 4 7 2 2 8 4 3 3 8 1 1 7 1 7 8 8 3 5 6 7 5 9 0 9 0 3 8 8 5 4 6 6 1 3\n",
      " 4 3 1 2 4 7 9 6 3 0 2 0 0 5 9 2 5 9 5 9 8 6 3 5 2 2 0 7 3 7 3 6 2 1 7 8 2\n",
      " 0 3 8 8 3 4 8 2 4 2 8 1 0 3 8 4 7 7 9 4 1 6 2 4 2 9 4 8 6 0 0 6 3 5 0 0 8\n",
      " 2 9 6 1 0 9 6 5 4 4 0 3 2 7 4 6 2 6 9 8 3 1 9 8 0 8 0 0 5 6 4 6 5 7 8 8 3\n",
      " 6 4 8 5 6 4 9 0 7 2 5 6 2 2 3 6 3 2 9 0 0 6 8 2 4 5 6 7 3 5 4 4 6 2 5 3 5\n",
      " 7 0 8 2 2 9 2 0 7 5 1 5 3 1 1 1 8 9 8 8 2 6 8 1 9 1 9 6 2 1 5 5 0 0 9 4 7\n",
      " 8 8 6 2 9 4 1 9 8 9 1 6 1 9 2 1 6 7 7 7 2 4 6 6 3 5 1 6 9 3 9 8 8 9 8 8 7\n",
      " 8 7 8 8 5 1 8 8 2 0 4 5 8 8 1 8 8 8 5 9 7 1 9 3 0 9 8 4 5 9 1 8 1 8 9 6 5\n",
      " 9 8 6 1 9 7 1 1 3 2 8 3 9 3 7 3 8 8 4 3 4 4 3 0 6 4 7 6 4 4 3 1 0 9 1 6 8\n",
      " 3 1 2 5 9 3 0 7 0 0 7 5 2 1 6 3 9 1 7 9 4 5 8 5 5 8 7 7 0 8 0 7 3 8 5 8 8\n",
      " 9 7 5 2 1 7 9 7 4 4 2 9 1 1 7 0 8 6 3 4 2 9 8 8 6 3 9 7 6 3 8 9 5 0 2 9 8\n",
      " 7 2 3 4 1 9 9 6 6 1 3 5 7 9 9 9 3 5 9 2 4 8 3 4 5 8 7 9 4 7 8 7 6 9 1 5 3\n",
      " 8 6 5 0 3 9 5 8 7 2 4 9 6 6 4 2 7 6 6 8 4 5 2 7 0 7 5 5 3 6 8 9 8 8 0 6 0\n",
      " 2 0 0 6 2 7 4 0 8 1 2 4 4 5 8 3 2 6 4 8 6 5 2 0 7 8 7 9 6 3 9 6 0 8 4 4 1\n",
      " 6 3 5 3 7 2 7 3 7 7 1 1 4 6 2 7 2 0 5 2 9 4 6 6 8 2 6 9 0 4 3 9 2 6 8 8 3\n",
      " 4 4 8 0 2 2 6 4 5 2 4 4 0 1 9 5 3 0 1 4 4 7 7 5 0 2 5 8 6 4 6 4 0 5 0 8 6\n",
      " 6 7 2 9 2 2 4 9 1 2 1 9 9 3 5 2 0 5 9 2 3 7 1 6 9 1 5 2 0 3 6 6 6 5 9 0 2\n",
      " 9 0 0 6 6 0 1 1 2 6 9 4 5 1 0 8 1 3 8 5 9 0 0 6 4 5 6 9 3 7 3 2 3 5 0 3 9\n",
      " 9 8 5 2 7 7 3 0 5 1 6 2 2 6 9 8 5 7 3 8 8 8 6 9 4 9 8 4 8 7 9 9 8 7 2 7 3\n",
      " 3 4 5 4 7 5 8 7 1 5 1 0 2 7 3 6 1 5 3 8 4 5 3 4 5 1 6 4 6 7 4 4 5 2 6 7 3\n",
      " 1 4 1 9 7 7 3 2 3 2 6 4 9 8 8 7 3 6 7 8 4 4 8 2 0 1 6 9 6 9 9 2 8 7 9 5 3\n",
      " 4]\n"
     ]
    }
   ],
   "source": [
    "from numpy.random import randint\n",
    "x = randint(0,10,1000)\n",
    "print(x)"
   ]
  },
  {
   "cell_type": "markdown",
   "metadata": {},
   "source": [
    "11. The cell below contains a dictionary with the orbital radii of the planets in our solar system.  Use a single line of code to produce a list that contains all of the radii."
   ]
  },
  {
   "cell_type": "code",
   "execution_count": null,
   "metadata": {},
   "outputs": [],
   "source": [
    "orbitalRadii = {\"Mercury\":0.39, \"Venus\":0.72, \"Earth\":1.0, \"Mars\":1.5,\"Jupiter\":5.2,\"Saturn\":9.5, \"Uranus\":19.2,\"Neptune\":30.1, \"Pluto\": 39.5}"
   ]
  },
  {
   "cell_type": "markdown",
   "metadata": {},
   "source": [
    "12. The cell below contains a dictionary with the orbital radii of the planets in our solar system. Use a single line of code to add entries for two new planets.  You choose the name of the planets and their radii."
   ]
  },
  {
   "cell_type": "code",
   "execution_count": null,
   "metadata": {},
   "outputs": [],
   "source": [
    "orbitalRadii = {\"Mercury\":0.39, \"Venus\":0.72, \"Earth\":1.0, \"Mars\":1.5,\"Jupiter\":5.2,\"Saturn\":9.5, \"Uranus\":19.2,\"Neptune\":30.1, \"Pluto\": 39.5}"
   ]
  },
  {
   "cell_type": "markdown",
   "metadata": {},
   "source": [
    "13. The cell below contains two sets.  Find their difference."
   ]
  },
  {
   "cell_type": "code",
   "execution_count": null,
   "metadata": {},
   "outputs": [],
   "source": [
    "squares= {1,4,9,16,25,36,49,64,81,100,121,144,169,196,225}\n",
    "triangles = {1, 3, 6, 10, 15, 21, 28, 36, 45, 55, 66, 78, 91, 105, 120, 136, 153, 171, 190}"
   ]
  },
  {
   "cell_type": "markdown",
   "metadata": {},
   "source": [
    "14. Construct a lambda function for $y = {\\sin(x) \\over x}$"
   ]
  },
  {
   "cell_type": "code",
   "execution_count": null,
   "metadata": {},
   "outputs": [],
   "source": [
    "# Python code here"
   ]
  },
  {
   "cell_type": "markdown",
   "metadata": {},
   "source": [
    "15. Import the following functions/numbers from the `math` module: `tan`,`sin`, and `pi`"
   ]
  },
  {
   "cell_type": "code",
   "execution_count": null,
   "metadata": {},
   "outputs": [],
   "source": [
    "# Python code here"
   ]
  },
  {
   "cell_type": "markdown",
   "metadata": {},
   "source": [
    "## Long Code Answer\n",
    "\n",
    "1. Calculate the following quantities in the cell provided below.\n",
    "    1. ${ 5^2 \\over \\sqrt{3} + 2}$\n",
    "    2. $\\cos(215^\\circ)$\n",
    "    3. $\\log_{10}(200)$\n",
    "    4. $e^2.3$"
   ]
  },
  {
   "cell_type": "code",
   "execution_count": null,
   "metadata": {},
   "outputs": [],
   "source": [
    "# Python code here"
   ]
  },
  {
   "cell_type": "markdown",
   "metadata": {},
   "source": [
    "2. In the cell below, you'll find a string containing the first 7 energy levels for the Hydrogen atom.  But there are also other characters and symbols mixed into the string. The energies are: `[-13.6,-3.4,-1.511,...]` \n",
    "    1. **Using list methods/functions** generate a list that only contains the energies. Don't just read the values and build the list by hand. The list elements must be numbers, not string.\n",
    "    2. Calculate the energy difference between level 1 and level 7.\n",
    "    3. Calculate the energy difference between level 3 and level 5.\n",
    "    \n",
    "Hint: You will need some form of a loop (`for` loop or list comprehension) as well as the `split` list method."
   ]
  },
  {
   "cell_type": "code",
   "execution_count": 4,
   "metadata": {},
   "outputs": [
    {
     "name": "stdout",
     "output_type": "stream",
     "text": [
      "[-13.6, -3.4, -1.511, -0.85, -0.544, -0.378, -0.278]\n"
     ]
    }
   ],
   "source": [
    "energies = \"Level 1:-13.6,Level 2:-3.4,Level 3:-1.511,Level 4:-0.850,Level 5:-0.544,Level 6:-0.378,Level 7:-0.278\"\n",
    "\n",
    "print([ float(x.split(\":\")[1]) for x in energies.split(\",\")])\n"
   ]
  },
  {
   "cell_type": "markdown",
   "metadata": {},
   "source": [
    "3. You may remember the fibonacci sequence from class. The first and second numbers in the sequence are both $1$. Subsequent numbers in the sequence can be found by adding the two previous numbers together.  Here are the first few number in the sequence: $$[1,1,2,3,5,8,13]$$ Write some code that will populate a list with the fibonacci numbers until the ratio of the last two numbers is within $1 \\times 10^{-8}$ of the golden ratio: $1.61803398874989$.  Report how many fibonacci numbers you generated. \n",
    "\n",
    "    1. Do it using a `while` loop. Caution: Build a fail-safe into your `while` loop to avoid an infinite loop.\n",
    "    2. Do it using a `for` loop."
   ]
  },
  {
   "cell_type": "code",
   "execution_count": 10,
   "metadata": {},
   "outputs": [
    {
     "name": "stdout",
     "output_type": "stream",
     "text": [
      "[1, 1, 2, 3, 5, 8, 13, 21, 34, 55, 89, 144, 233, 377, 610, 987]\n"
     ]
    }
   ],
   "source": [
    "fib = [1,1]\n",
    "\n",
    "counter = 0\n",
    "while abs(fib[-1]/fib[-2]-1.618033398874989) > 1e-6:\n",
    "    fib.append(fib[-1]+fib[-2])\n",
    "    counter += 1\n",
    "    if counter > 1000:\n",
    "        print(\"we broke it!!\")\n",
    "        break\n",
    "        \n",
    "print(fib)"
   ]
  },
  {
   "cell_type": "markdown",
   "metadata": {},
   "source": [
    "4. The hexagonal sequence is a sequence of number where the n-th number is given by $$ h_n = {2 n (2n - 1)\\over 2}$$. (see [here](https://en.wikipedia.org/wiki/Hexagonal_number) for an explanation of what the hexagonal numbers are if you are curious.  ) Use a method of your choosing to construct a list containing the first 100 hexagonal numbers.  The website linked above also gives the first 15 or 20 numbers in the sequence and you can use that information to check yourself if you'd like."
   ]
  },
  {
   "cell_type": "code",
   "execution_count": null,
   "metadata": {},
   "outputs": [],
   "source": [
    "#Python code here."
   ]
  },
  {
   "cell_type": "markdown",
   "metadata": {},
   "source": [
    "5. Use a loop to calculate the following summation for $x = 0.5$: $$ \\sum_{n = 0}^\\infty (-1)^n {x^{n+1} \\over n + 1}$$  Do it three different ways:\n",
    "    1. Using a `for` loop with enough iterations that the sum isn't changing much. \n",
    "    2. Using a `while` loop that continues until ${x^{n+1} \\over n + 1} < 1 \\times 10^{-4}$. Report the number of iterations you had to perform to get that level of accuracy.\n",
    "    3. Using list comprehension and the `sum` function. (Use the same number of terms that you used for your `for` loop.)\n",
    "    \n",
    "The sum should converge to $$\\ln(1+ x)$$ if you include a sufficient number of terms.  Check that it does."
   ]
  },
  {
   "cell_type": "code",
   "execution_count": null,
   "metadata": {},
   "outputs": [],
   "source": [
    "#Python code here"
   ]
  },
  {
   "cell_type": "markdown",
   "metadata": {},
   "source": [
    "6. An important function in thermodynamics is the multiplicity equation: $$ \\Omega = {(q + N - 1)! \\over q! (N-1)!}$$ which gives the number of ways to arrange $q$ units of energy amongst $N$ particles.\n",
    "\n",
    "    1. Construct a function that takes the number of energy units($q$) as a required argument and the number of particles ($N$) as a keyword argument with a default value of $10$.  The function should return the multiplicity ($\\Omega$). Note: there is a `factorial` function inside `scipy.special`. \n",
    "    2. Now use list comprehension (or a traditional loop) to call your function for $q$ values ranging from $0\\rightarrow 10$ (inclusive).\n",
    "    3. Use a list method to determine which $q$ value produces the largest multiplicity ($\\Omega$)."
   ]
  },
  {
   "cell_type": "code",
   "execution_count": null,
   "metadata": {},
   "outputs": [],
   "source": [
    "# Python code here"
   ]
  },
  {
   "cell_type": "markdown",
   "metadata": {},
   "source": [
    "7. Perform the following:\n",
    "    1. Using list comprehension, generate a list of the first 50 even numbers squared. (i.e. `[2^2,4^2,6^2,...]`)\n",
    "    2. Use list slicing to extract **every other number** in this list.\n",
    "    3. Add the number $102^2=10404$ to the end of the list\n",
    "    4. Use a single line of code to remove $62^2 = 3844$ from the list.\n",
    "    5. Add the numbers $[104^2, 106^2]$ to the end of the list using a single line of code.\n",
    "    7. Reverse the order of the list.\n",
    "    8. Add up all of the values and print the result."
   ]
  },
  {
   "cell_type": "code",
   "execution_count": null,
   "metadata": {},
   "outputs": [],
   "source": [
    "# Python code here"
   ]
  }
 ],
 "metadata": {
  "kernelspec": {
   "display_name": "Python 3 (ipykernel)",
   "language": "python",
   "name": "python3"
  },
  "language_info": {
   "codemirror_mode": {
    "name": "ipython",
    "version": 3
   },
   "file_extension": ".py",
   "mimetype": "text/x-python",
   "name": "python",
   "nbconvert_exporter": "python",
   "pygments_lexer": "ipython3",
   "version": "3.10.8"
  }
 },
 "nbformat": 4,
 "nbformat_minor": 4
}

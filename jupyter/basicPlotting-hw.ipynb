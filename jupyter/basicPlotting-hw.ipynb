{
  "cells": [
    {
      "cell_type": "markdown",
      "metadata": {},
      "source": [
        "## HW Problems\n",
        "1. If you were to shine a laser through a very narrow slit, you would see a pattern very similar to the one shown below. The function that describes this light pattern is called a sinc function:$$ y(x) = \\left({\\sin x\\over x}\\right)^2$$    \n",
        "  ![Single Slit Diffraction](https://raw.githubusercontent.com/lancejnelson/PH135/refs/heads/master/figures/Diffraction_of_a_single_slit.jpg)\n",
        "   \n",
        "   Plot this function from $-20 < x < 20$. Then make the following customizations to the plots:  \n",
        "     1. Set the color of the line to be green.\n",
        "     2. Add axes labels to the plot. The x-label should be \"Location\" and the y-label should by \"Intensity\".\n",
        "     3. Add the following title to the plot: \"Single-Slit diffraction pattern\""
      ]
    },
    {
      "cell_type": "code",
      "execution_count": null,
      "metadata": {},
      "outputs": [],
      "source": [
        "# python code here"
      ]
    },
    {
      "cell_type": "markdown",
      "metadata": {},
      "source": [
        "2. Max Planck discovered that all objects emit a spectrum of light and the intensity of that spectrum is given by the following function (we did this in a previous homework problem) $$ I(\\lambda) = {2 \\pi h c^2 \\over \\lambda^5} {1\\over e^{hc \\over \\lambda k_BT} - 1}$$ where\n",
        "    - $c = 3.0 \\times 10^8$ m/s is the speed of light.\n",
        "    - $h = 6.26 \\times 10^{-34}$ m$^2$ kg /s is Plank's constant.\n",
        "    - $k_B = 1.38 \\times 10^{-23}$ m$^2$kg s$^{-2}$ K$^{-1}$ is the Boltzmann constant.\n",
        "    - T is temperature in Kelvins.\n",
        "    - $\\lambda$ is wavelength in meters.  \n",
        "\n",
        "   Follow the steps below to plot this function for several different temperatures:  \n",
        "     1. Copy the function that you made previously into the cell below. (or build it from scratch)\n",
        "     2. Use `numpy.linspace` to generate a grid of 500 $\\lambda$ values from $0.1 \\times 10^{-6} \\rightarrow 3 \\times 10^{-6}$ m.\n",
        "     3. Use list comprehension to produce a list of intensities for the $\\lambda$ values generated in step 2. Use $T = 5780$ K (temperature of the sun).\n",
        "     4. Plot intensity vs. $\\lambda$ .  \n",
        "     5. Repeat steps 3 and 4 for $T = 4500$ K.  You should have two plots on the same figure. Choose the line style and color to be different than the first plot.\n",
        "     6. Add a legend to the figure. Use the temperatures as the labels.\n",
        "     7. Go [here](https://phet.colorado.edu/sims/html/blackbody-spectrum/latest/blackbody-spectrum_en.html) and compare your results with the plots there to make sure you did it right.\n"
      ]
    },
    {
      "cell_type": "code",
      "execution_count": null,
      "metadata": {},
      "outputs": [],
      "source": [
        "# Python code here"
      ]
    },
    {
      "cell_type": "markdown",
      "metadata": {},
      "source": [
        "3. [This file](https://raw.githubusercontent.com/lancejnelson/PH135/refs/heads/master/files/HART.csv) contains telemetry data for a weather balloon that was launched by the BYU-Idaho High Altitude Research Team (HART).  The 5th and 7th columns in the file contain the speed and altitude of the balloon respectively.  Read the data file and extract the speed and altitude of the balloon into lists or arrays. Then make a scatter plot of speed vs. altitude.  Add axes labels and plot labels to your plot."
      ]
    },
    {
      "cell_type": "code",
      "execution_count": null,
      "metadata": {},
      "outputs": [],
      "source": [
        "# Python code here"
      ]
    },
    {
      "cell_type": "markdown",
      "metadata": {},
      "source": [
        "4. [This file](https://raw.githubusercontent.com/lancejnelson/PH135/refs/heads/master/files/Earthquakes.csv.zip) contains worldwide earthquake data from the years 1973 to 2021. The fourth column in the file contains the magnitude of the earthquakes.  Read the file and plot a histogram of this column. Set `bins = 200` to make 200, equally-spaced bins on the histogram.  Then write a single statement summarizing what this plot is communicating to you.  Note: The file is zipped so you'll need to unzip it before you can read it in."
      ]
    },
    {
      "cell_type": "code",
      "execution_count": null,
      "metadata": {},
      "outputs": [],
      "source": [
        "# Python code here"
      ]
    },
    {
      "cell_type": "markdown",
      "metadata": {},
      "source": [
        "5. The position and velocity coordinates for a projectile launched at angle $\\theta$ are given by: $$x(t) = x_i + v_i \\cos \\theta t $$ $$ y(t) = y_i + v_i \\sin \\theta  t + {1\\over 2} a  t^2$$ $$v_x(t) = v_i \\cos \\theta$$ $$v_y(t) = v_i \\sin \\theta + g  t$$ where $g = -9.8$ m/s$^2$.  Place the following plots on a 3 x 2 grid for $0 < t < 5.5$ seconds: $x$ vs $y$ (first row, spans both columns), $x$ vs $t$ (second row, first column), $y$ vs $t$(second row, second column), $v_x$ vs $t$(third row, first column), and $v_y$ vs $t$(third row, second column). Make sure that all of the plots have titles and axes labels.  Use the following initial conditions: $$v_i = 60 \\text{ m/s}$$ $$\\theta = 22^\\circ$$ $$x_i = 0 \\text{ m}$$ $$y_i = 15 \\text{ m}$$ "
      ]
    },
    {
      "cell_type": "code",
      "execution_count": null,
      "metadata": {},
      "outputs": [],
      "source": [
        "# Python code here"
      ]
    },
    {
      "cell_type": "markdown",
      "metadata": {},
      "source": [
        "6. (Extra Credit)  The 7th column in the Earthquakes data file contains the date of the earthquake. Write a code to plot the number of earthquakes that occurred each year from 1973 to 2021. (The horizontal axis is year and the vertical axis is the number of earthquakes.)"
      ]
    },
    {
      "cell_type": "code",
      "execution_count": null,
      "metadata": {},
      "outputs": [],
      "source": [
        "# Python code here"
      ]
    }
  ],
  "metadata": {
    "kernelspec": {
      "display_name": "Python 3",
      "language": "python",
      "name": "python3"
    }
  },
  "nbformat": 4,
  "nbformat_minor": 4
}

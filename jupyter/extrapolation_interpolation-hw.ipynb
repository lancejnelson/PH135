{
  "cells": [
    {
      "cell_type": "markdown",
      "metadata": {},
      "source": [
        "\n",
        "## HW Problems\n",
        "<!--1. This exercise is intended to give you practice interpolating, extrapolating, and finding zeros.  Follow the steps below:  \n",
        "        \n",
        "  1. Generate an array of $30$ equally-space x values from  $-12 < x < 12$.          \n",
        "  2. Evaluate the function $y(x) = {\\sin(x) \\over x}$ on the grid.          \n",
        "  3. Plot the data points (just the data points; don't connect them).        \n",
        "  4. Use linear interpolation to estimate the value of the function between the 15th and 16th data point. (the points on either side of the peak.) Then compare to the true function value ($y(0)$) to see how close you got.          \n",
        "  5. Use **quadratic** interpolation to estimate the value of the function between the 15th and 16th data point. Then compare to the true function value ($y(0)$) to see how close you got.          \n",
        "  6. Use linear **extrapolation** to estimate the value of the function one grid point beyond the very last data point. Then compare to the true function value to see how close you got.  Reminder/Tip: If you use `linspace` to generate your grid, add `retstep = True` to return the step size along with the array.\n",
        "  7. Use quadratic **extrapolation** to estimate the value of the function one grid point beyond the very last data point. Then compare to the true function value to see how close you got.          \n",
        "  8. The function passes through zero between the 11th and 12th data point.  Use the linear zero-finding formula to determine the location of this zero.  Verify that it is close to the right answer by comparing with your plot.  "
      ]
    },
    {
      "cell_type": "code",
      "execution_count": null,
      "metadata": {},
      "outputs": [],
      "source": [
        "# Solution here"
      ]
    },
    {
      "cell_type": "markdown",
      "metadata": {},
      "source": [
        "-->\n",
        "1. In the cell below, you will find the coordinates for a batted baseball flying through the air while experiencing non-negligible air drag. \n",
        "    1. Plot the data.\n",
        "    2. Use the linear zero-finding formula (@eq-zero-linear) to estimate the landing location of the ball.\n",
        "    3. Use linear interpolation to calculate the height of the projectile between the 2nd and 3rd data point.  Make a visual inspection of the plot to ensure that your interpolation is reasonable.\n",
        "    4. Use **quadratic** interpolation to calculate the height of the projectile between the 2nd and 3rd data point.  Make a visual inspection of the plot to ensure that your interpolation is reasonable. "
      ]
    },
    {
      "cell_type": "code",
      "execution_count": null,
      "metadata": {},
      "outputs": [],
      "source": [
        "x = [0, 15.805250773081712, 29.98211261814125, 42.526480802646844, 53.54837374010167, 63.375313562732956, 72.28376367575353, 80.43524080501983, 87.9042108343639, 94.71629032437068, 100.88093230888737, 106.41217684263896] \n",
        "y = [0, 15.80525077308171, 27.532112618141245, 35.45860314481743, 39.97307745470617, 41.548109055524456, 40.52592795902555, 37.14060411207481, 31.588726752728686, 24.07513301195207, 14.825650490213738, 4.076523019892836]"
      ]
    },
    {
      "cell_type": "markdown",
      "metadata": {},
      "source": [
        "2. [This file](https://raw.githubusercontent.com/lancejnelson/PH135/refs/heads/master/files/carbondata.txt) contains worldwide carbon emission data from 1958 to 2017. \n",
        "    1. Read the data file using any method of your choosing.\n",
        "    2. Plot the data so you can see what it looks like.\n",
        "    3. Use linear extrapolation to predict what carbon emissions will be in the year 2030.  \n",
        "    4. Use quadratic extrapolation to predict what carbon emissions will be in the year 2030.\n",
        "\n",
        "    Hints:\n",
        "    1. Remember that our extrapolation formulas assume that the spacing between grid points is equal.  Hence, to extrapolate to 2030, $x_1$ must correspond to 2004 $x_2$ should correspond to $2017$ for the linear extrapolation.\n",
        "    2. For the quadratic extrapolation, $x_1$ should correspond to 1991, $x_2$ to 2004 and $x_3$ to 2017.  You could pick other years if you like as long as they are spaced out evenly.\n"
      ]
    },
    {
      "cell_type": "code",
      "execution_count": null,
      "metadata": {},
      "outputs": [],
      "source": [
        "# Solution here"
      ]
    },
    {
      "cell_type": "markdown",
      "metadata": {},
      "source": [
        "3. [This file](https://raw.githubusercontent.com/lancejnelson/PH135/refs/heads/master/files/temperatureData.txt) contains the change in average global temperature from 1958 to 2017. \n",
        "    1. Read the data file using any method of your choosing.\n",
        "    2. Plot the data so you can see what it looks like.\n",
        "    3. Use linear extrapolation to predict what average global temperature change will be in the year 2030 if this trend continues.  \n",
        "    4. Use quadratic extrapolation to predict what average global temperature change will be in the year 2030 if this trend continues."
      ]
    },
    {
      "cell_type": "code",
      "execution_count": null,
      "metadata": {},
      "outputs": [],
      "source": [
        "# Solution here"
      ]
    }
  ],
  "metadata": {
    "kernelspec": {
      "display_name": "Python 3",
      "language": "python",
      "name": "python3"
    }
  },
  "nbformat": 4,
  "nbformat_minor": 4
}

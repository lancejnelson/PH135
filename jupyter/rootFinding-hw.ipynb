{
  "cells": [
    {
      "cell_type": "markdown",
      "metadata": {},
      "source": [
        "## HW Problems\n",
        "1. Use the bisection method to find the zeros of the function $$ y(x) = 8x^3 - 15 x^2 - 4 x + 5$$\n",
        "Hint: This function has three zeros; one in the region [-1,0], one in the region [0,1] and another in the region [1.5,2.5]"
      ]
    },
    {
      "cell_type": "code",
      "execution_count": null,
      "metadata": {},
      "outputs": [],
      "source": [
        "# Code Here"
      ]
    },
    {
      "cell_type": "markdown",
      "metadata": {},
      "source": [
        "2. Use Newton's method to find the zero for the following function (slightly different from the one in problem 1) $$y(x) = 8x^3 - 15 x^2 - 4 x - 5$$\n",
        "then use `sympy` to solve the equation and verify that the answer are the same.  \n",
        "Answer: You should find that the zero is located at $\\approx 2.2257$  \n",
        "Hint: The derivative of this function is:\n",
        "$$\n",
        "y'(x) = 24 x^2 - 30 x - 4\n",
        "$$"
      ]
    },
    {
      "cell_type": "code",
      "execution_count": null,
      "metadata": {},
      "outputs": [],
      "source": [
        "# Code Here"
      ]
    },
    {
      "cell_type": "markdown",
      "metadata": {},
      "source": [
        "3. Use fixed-point iteration to solve the following equation$$\\left({1\\over 2}\\right)^x = x^2$$"
      ]
    },
    {
      "cell_type": "code",
      "execution_count": null,
      "metadata": {},
      "outputs": [],
      "source": [
        "# Code Here"
      ]
    },
    {
      "cell_type": "markdown",
      "metadata": {},
      "source": [
        "4. Use Newton's method to solve the following equation $$e^x = \\cos(x)$$\n",
        "Note: This function has three solutions; one in the region [-5,-4], one in the region [-2,-1] and another in the region [-1,1]. See if you can find all of them by varying your initial guess."
      ]
    },
    {
      "cell_type": "code",
      "execution_count": null,
      "metadata": {},
      "outputs": [],
      "source": [
        "# Code Here"
      ]
    },
    {
      "cell_type": "markdown",
      "metadata": {},
      "source": [
        "5. Use a method of your choosing to find the **minimum** of the function $$y(x) = 10 x^2 \\cos(\\sqrt{x})$$\n",
        "Hint: If you choose to use the bisection method, you'll need the first derivative of this function. If you choose to use Newton's method, you'll need the first and second derivatives of this function.  Both of these functions are given below.\n",
        "\n",
        "$$\n",
        "y'(x) = 20 x \\cos(\\sqrt{x}) - 5 x^{3/2} \\sin(\\sqrt{x})\n",
        "$$\n",
        "\n",
        "$$\n",
        "y''(x) = 20 \\cos(\\sqrt{x}) - {5\\over 2} x \\cos(\\sqrt{x}) - {35\\over 2} \\sqrt{x} \\sin(\\sqrt{x})\n",
        "$$"
      ]
    },
    {
      "cell_type": "code",
      "execution_count": null,
      "metadata": {},
      "outputs": [],
      "source": [
        "# Code Here"
      ]
    }
  ],
  "metadata": {
    "kernelspec": {
      "display_name": "Python 3",
      "language": "python",
      "name": "python3"
    }
  },
  "nbformat": 4,
  "nbformat_minor": 4
}

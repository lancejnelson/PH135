{
  "cells": [
    {
      "cell_type": "markdown",
      "metadata": {},
      "source": [
        "## HW Problems \n",
        "\n",
        "1. Most (or all) of you have use Pythagorean's theorem to calculate the hypotenuse of a right triangle. The theorem states that the lengths of a right triangle are related as $a^2 + b^2 = c^2$, where $a$ and $b$ are the lengths of the sides forming the right angle and $c$ is the length of the hypotenuse. Calculate the distance from the point $(-48,56)$ to the point $(23,81)$ using the following two methods: \n",
        "    1. Using Pythagorean's theorem directly to calculate the distance.\n",
        "    2. There is a Python function called `hypot` (found in a library called `math`) that will perform this calculation for you.  To learn how to use the hypot function, visit the following [documentation page](https://docs.python.org/3/library/math.html) and search for the explanation for the `hypot` function.  Use the `hypot` function to calculate the distance between the two points.\n",
        "    \n",
        "Print out the result and check your answer with your neighbor's answer."
      ]
    },
    {
      "cell_type": "code",
      "execution_count": null,
      "metadata": {},
      "outputs": [],
      "source": [
        "# Python Code Here!"
      ]
    },
    {
      "cell_type": "markdown",
      "metadata": {},
      "source": [
        "2. Equations involing quadratic polynomials,like the one shown below, appear in science frequently.  \n",
        "\n",
        "$$ 5x^2 + 2x - 1 = 0$$\n",
        "\n",
        "You may remember that the solution to this equation is given by the quadratic formula\n",
        "$$ x = {- b \\pm \\sqrt{b^2 - 4 a c} \\over 2a}$$\n",
        "Solve the quadratic equation given above and print off the results. (There are two answers.)  Then check with a classmate to verify that your answers match."
      ]
    },
    {
      "cell_type": "code",
      "execution_count": null,
      "metadata": {},
      "outputs": [],
      "source": [
        "# Python Code Here!"
      ]
    },
    {
      "cell_type": "markdown",
      "metadata": {},
      "source": [
        "3. (Solar Mass)  The mass of the sun can be calculated using the following formula:$$ M_\\text{sun} = {4 \\pi^2 (1 \\text{ AU})^3\\over G (1 \\text{ yr})^2}$$  \n",
        "The unit AU is called an astronomical unit of length and is defined to be the average distance between the sun and earth $$ 1 \\text{ AU} = 1.58\\times 10^{-5} \\text{ light years}$$\n",
        "where $1 \\text{ lightyear} = 9.5 \\times 10^{15}$ m.  The constant $G$ is called the gravitational constant and has the value: $$ G = 6.674 \\times 10^{-11} \\text{ m}^3 \\text{ kg}^{-1}\\text{ s}^{-1}$$  Calculate the mass of the sun (in kg) and display your result using a print statement.  You should find a value of $M_\\text{Sun} = 2.01 \\times 10^{30}$ kg.  "
      ]
    },
    {
      "cell_type": "code",
      "execution_count": null,
      "metadata": {},
      "outputs": [],
      "source": [
        "# Python Code Here!"
      ]
    },
    {
      "cell_type": "markdown",
      "metadata": {},
      "source": [
        "4. (Projectile Motion)  The range of a projectile is given by the equation:$$ d = {2 v^2 \\cos \\theta \\sin \\theta \\over g}$$\n",
        "or the equivalent expression:$$ d = {v^2  \\sin 2 \\theta \\over g}$$\n",
        "where $g = 9.8$ m/s$^2$, $\\theta$ is the launch angle, and $v$ is the launch speed.\n",
        "\n",
        "    1. Using a launch angle of 60$^\\circ$ and a launch speed of $40$ m/s, verify that both expressions above give the same result for the range.\n",
        "    2. Now pick one of the equations above and use trial and error to determine the angle that gives maximum range.\n"
      ]
    },
    {
      "cell_type": "code",
      "execution_count": null,
      "metadata": {},
      "outputs": [],
      "source": [
        "v = 40\n",
        "g = 9.8\n"
      ]
    },
    {
      "cell_type": "markdown",
      "metadata": {},
      "source": [
        "5. (Rydberg's constant) Rydberg's constant ($R_\\infty$) is a physical constant in Rydberg's formula which was used to predict the spectrum of light emitted by a heavy atom. Rydberg's constant is given by: $$R_\\infty = {m_e e^4 \\over 8 \\epsilon_0^2 h^3 c}$$  \n",
        "where  \n",
        "   - $m_e = 9.109 \\times 10^{-31}$ kg is the mass of an electron.\n",
        "   - $e = 1.602 \\times 10^{-19}$ C is the charge of an electron/proton.\n",
        "   - $\\epsilon_0 = 8.854 \\times 10^{-12}$ C V$^{-1}$ m$^{-1}$ is the electrical constant.\n",
        "   - $h = 6.626 \\times 10^{-34}$ J Hz is the Planck constant.\n",
        "   - $c = 3 \\times 10^8$ m/s is the speed of light.\n",
        "\n",
        "    These constants show up all over in physics.  In the cell below write some code that assigns the constants to variables and then use the variables to calculate Rydberg's constant. Use a print statement to display the result.  The result should be: $R_\\infty = 10961656.2162$ (in m$^{-1}$)\n"
      ]
    },
    {
      "cell_type": "code",
      "execution_count": null,
      "metadata": {},
      "outputs": [],
      "source": [
        "# Python Code Here!"
      ]
    },
    {
      "cell_type": "markdown",
      "metadata": {},
      "source": [
        "6. In Einstein's special theory of relativity, the momentum of an object with mass $m$ (in kg) and velocity $v$ (in m/s) is given by:$$ p = m v \\gamma$$ where $$\\gamma = {1\\over \\sqrt{1 - {v^2\\over c^2}}}$$ with $c = 3 \\times 10^8$ m/s\n",
        "\n",
        "    1. Calculate the momentum of an object with mass $m = 0.14$ kg and speed $v = 50$ m/s.  Then compare to the classical expression for momentum: $p = mv$. \n",
        "    2. Now calculate the momentum of an object with mass $m = 0.14$ kg and whose speed is ${1 \\over 4}$ the speed of light.  Repeat the comparison to the classical value.  \n",
        "    3. Repeat for the following speeds: ${1\\over 2}$ the speed of light, ${3\\over 4}$ the speed of light, and ${7\\over 8}$ the speed of light.  Repeat the comparison to the classical value."
      ]
    },
    {
      "cell_type": "code",
      "execution_count": null,
      "metadata": {},
      "outputs": [],
      "source": [
        "# Python Code Here!"
      ]
    }
  ],
  "metadata": {
    "kernelspec": {
      "display_name": "Python 3 (ipykernel)",
      "language": "python",
      "name": "python3",
      "path": "/Users/legoses/environments/lammps_env/share/jupyter/kernels/python3"
    }
  },
  "nbformat": 4,
  "nbformat_minor": 4
}

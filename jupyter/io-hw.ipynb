{
  "cells": [
    {
      "cell_type": "markdown",
      "metadata": {},
      "source": [
        "## HW Problems\n",
        "1. [This file](https://raw.githubusercontent.com/lancejnelson/PH135/refs/heads/master/files/polynomial.txt) contains the coefficients of $100$ second-order polynomials.  Each line in the file represents a single second order polynomial: $y = a x^2 + b x+ c$ with the first number equal to $a$, the second equal to $b$ and the third equal to $c$.  \n",
        "\n",
        "    1. Use any method of your choosing to read this file into python.\n",
        "    2. Use a loop (I'll let you decide what kind of loop to use) to evaluate each polynomial at $x = 2.5$ and add them all up.  Hint: You should find that the sum of all of the polynomials is $5285$.\n"
      ]
    },
    {
      "cell_type": "code",
      "execution_count": null,
      "metadata": {},
      "outputs": [],
      "source": [
        "# Python code here"
      ]
    },
    {
      "cell_type": "markdown",
      "metadata": {},
      "source": [
        "2.  In the cell below, you will find arrays containing $1000$ values for mass, length, and radius just as you did in the other homework problem.\n",
        "    1. Using a single line of code, calculate the moments of inertia for the entire data set using the familiar formula: $$ I = {1\\over 4} M R^2 + {1\\over 12} M L^2$$\n",
        "    2. Write this data to file first using the `open` and `write` functions. Mass values should be in column 1, lengths in column 2, radii in column 3, and moments of inertia in column 4.  Add a header to the file to label the columns. Open the file and inspect it to verify that you did it right.\n",
        "    3. Repeat exercise 2 but using the `numpy.savetxt` function.  Open the file and inspect it to verify that you did it right.\n"
      ]
    },
    {
      "cell_type": "code",
      "execution_count": null,
      "metadata": {},
      "outputs": [],
      "source": [
        "#| eval: false\n",
        "from numpy.random import normal\n",
        "\n",
        "mass = normal(5,.5,1000)\n",
        "length = normal(2,.2,1000)\n",
        "radius = normal(1,.1,1000)"
      ]
    },
    {
      "cell_type": "markdown",
      "metadata": {},
      "source": [
        "3.  [This file](https://raw.githubusercontent.com/lancejnelson/PH135/refs/heads/master/files/planets.csv) contains planetary data for all of the planets in our solar system formatted as a \".csv\" file.  \n",
        "    1. Download the file and move it to a location on your computer that you are familiar with. \n",
        "    2. Read the file using the `open` and `readlines` functions.\n",
        "    3. Repeat exercise 2 using `numpy.genfromtxt()`.\n",
        "    4. Using a single line of code, calculate the average eccentricity of the planets.\n",
        "    5. Using a single line of code each, determine the maximum and minium acceleration due to gravity of the planets.\n",
        "\n",
        "    Tip: You'll need to use the `skip_header` and `usecols` keyword arguments to tell `genfromtxt` to skip the first row and column.\n"
      ]
    },
    {
      "cell_type": "code",
      "execution_count": null,
      "metadata": {},
      "outputs": [],
      "source": [
        "# Python code here"
      ]
    },
    {
      "cell_type": "markdown",
      "metadata": {},
      "source": [
        "4. [This file](https://raw.githubusercontent.com/lancejnelson/PH135/refs/heads/master/files/OUTCAR.static) contains the output from a quantum mechanical calculation on a Cobalt-based alloy. The file is pretty large and the data is not well-structured at all even though there is valuable information inside.  Reading this file is definitely a job for `open` and `readlines` rather than `numpy.genfromtxt()`.  Periodically in this file there are lines that look like this:  \n",
        "`  free energy     TOTEN =             -72.3092 eV`  \n",
        "and you need to extract the numbers from all of these lines.  Use the following steps to build a list containing these numbers:  \n",
        "    1. Use the `open` and `readlines` functions to read this file into a list of strings.\n",
        "    2. Iterate over this list and look for lines that contain the string \"TOTEN\".\n",
        "    3. When you find a line that has this string in it, `split` the string and extract the number. Make sure you convert the number into a float.\n",
        "    4. Append this number to a list that you defined initially to be empty.  \n",
        "    \n",
        "   When you have built the list of energies, determine:     \n",
        "    1. The number of energies in your list.\n",
        "    2. The average of the last 5 entries.\n",
        "    3. The minimum and maximum energies in your list. \n"
      ]
    },
    {
      "cell_type": "code",
      "execution_count": null,
      "metadata": {},
      "outputs": [],
      "source": [
        "# Python code here"
      ]
    }
  ],
  "metadata": {
    "kernelspec": {
      "display_name": "Python 3",
      "language": "python",
      "name": "python3"
    }
  },
  "nbformat": 4,
  "nbformat_minor": 4
}

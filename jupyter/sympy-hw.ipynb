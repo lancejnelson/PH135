{
  "cells": [
    {
      "cell_type": "markdown",
      "metadata": {},
      "source": [
        "\n",
        "## HW Problems\n",
        "1. Define a `sympy` variable for $x$ and then evaluate the following expressions.\n",
        "   - $\\sin(x + {\\pi \\over 2})$\n",
        "   - $\\sin(x + \\pi)$  \n",
        "   - $\\cos(x + {\\pi \\over 2})$\n",
        "   - $\\cos(x + \\pi)$\n",
        "   - $\\sin(-x)$  \n",
        "   - $\\cos(-x)$\n",
        "   - $\\sqrt{1 - \\sin(x)^2}$\n"
      ]
    },
    {
      "cell_type": "code",
      "execution_count": null,
      "metadata": {},
      "outputs": [],
      "source": [
        "# Python code here"
      ]
    },
    {
      "cell_type": "markdown",
      "metadata": {},
      "source": [
        "2. A projectile is thrown directly downward from the top of a tall building ($y_i = 150$ meters) and lands with a thud on the ground ($y_f = 0$) $4$ seconds later. The position equation for the projectile is $$y_f = y_i + v_i \\Delta t + {1\\over 2} g \\Delta t^2$$  Use `sympy` to solve this equation for the initial velocity. Note $g = 9.8$ m/s$^2$   Answer: You should find the initial speed to be $\\approx 18$ m/s"
      ]
    },
    {
      "cell_type": "code",
      "execution_count": null,
      "metadata": {},
      "outputs": [],
      "source": [
        "# Python code here"
      ]
    },
    {
      "cell_type": "markdown",
      "metadata": {},
      "source": [
        "3. A projectile is launched from the top of a building ($y_i = 23$ m) with an initial speed of $v_i = 60$ m/s and a launch angle of $\\theta_i = 32^\\circ$.  The vertical position of the projectile is given by $$y_f = y_i + v_i \\sin \\theta_i \\Delta t - {1\\over 2}g \\Delta t^2$$.  Determine the time it takes before the projectile impacts the ground by solving this equation for $\\Delta t$."
      ]
    },
    {
      "cell_type": "code",
      "execution_count": null,
      "metadata": {},
      "outputs": [],
      "source": [
        "# Python code here"
      ]
    },
    {
      "cell_type": "markdown",
      "metadata": {},
      "source": [
        "4. An elastic collision is one where the total energy of the particles is the same before and after the collision.  The equations that define an elastic collision where one of the objects is initially at rest are $${1\\over 2} m_1 (v_1)_i^2 = {1\\over 2} m_1 (v_1)_f^2 +{1\\over 2} m_2 (v_2)_f^2$$ $$m_1 (v_1)_i = m_1 (v_1)_f  + m_2 (v_2)_f$$.  Consider a situation where particle 1 ($m_1 = 5 \\text{ kg}$) is initially moving to the right with speed $(v_1)_i = 10 \\text{ m/s}$ and particle 2 is stationary ($m_2 = 2 \\text{ kg}$). Solve this system of equations for$(v_1)_f$ and $(v_2)_f$. Do the results make sense?  Then do the following\n",
        "   1. Make $m_2$ greater than $m_1$.  What do you expect will happen.  Verify that the results match your guess.  \n",
        "   2. Make the mass of particle 2 much greater than particle 1.  What do you expect will happen?  Verify that the results match your guess.\n",
        "   3. Make the mass of particle 1 much greater than particle 2.  What do you expect will happen?  Verify that the results match your guess."
      ]
    },
    {
      "cell_type": "code",
      "execution_count": null,
      "metadata": {},
      "outputs": [],
      "source": [
        "# Python code here"
      ]
    },
    {
      "cell_type": "markdown",
      "metadata": {},
      "source": [
        "5. Define a `sympy` variable for $x$ and then calculate the following derivatives:\n",
        "   1. ${d\\over dx} \\ln(x)$\n",
        "   2. ${d\\over dx} e^{5x^2}$\n",
        "   3. ${d\\over dx} \\cos(3 x^3)$\n",
        "   4. ${d\\over dx} (x^3 - 5x^2 + 10 x)$"
      ]
    },
    {
      "cell_type": "code",
      "execution_count": null,
      "metadata": {},
      "outputs": [],
      "source": [
        "# Python code here"
      ]
    },
    {
      "cell_type": "markdown",
      "metadata": {},
      "source": [
        "6. Impulse is defined as the integral of the Force vs. time graph. $$I = \\int F dt$$.  Calculate the impulse imparted to an object from $0< t < 10$ if the force that it experiences is given by $$F(t) = e^{-(t - 4)}$$.\n"
      ]
    },
    {
      "cell_type": "code",
      "execution_count": null,
      "metadata": {},
      "outputs": [],
      "source": [
        "# Python code here"
      ]
    }
  ],
  "metadata": {
    "kernelspec": {
      "display_name": "Python 3",
      "language": "python",
      "name": "python3"
    }
  },
  "nbformat": 4,
  "nbformat_minor": 4
}

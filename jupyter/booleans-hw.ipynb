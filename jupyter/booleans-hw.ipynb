{
 "cells": [
  {
   "cell_type": "markdown",
   "metadata": {},
   "source": [
    "## HW Problems\n",
    "1. An object in space, like a satellite or a comet, follows a specific path based on its speed and its distance from the center of a large body like a planet. To classify its trajectory, one must first calculate two critical speed thresholds at the object's current location: circular orbit speed ($v_\\text{circ}$) and escape speed ($v_\\text{esc}$).  The distance $r$ from the center of the planet is the sum of the planet's radius $R$ and the object's altitude $h$:\n",
    "$$r=R+h$$  Using this distance, the two critical speeds are calculated as:\n",
    "$$v_\\text{circ} = \\sqrt{G M \\over r}$$\n",
    "\n",
    "$$v_\\text{esc} = \\sqrt{2G M \\over r}$$\n",
    "\n",
    "Here, G is the gravitational constant ($G = 6.67\\times 10^{-11}$), M is the mass of the planet ($M = 5.97\\times10^{24}$ kg for Earth), and $r$ is the distance from the center of the planet to the satellite.\n",
    "\n",
    "In the cell below, calculate the circular orbit velocity and escape velocity from the given information.  Then use an if/elif/else block of code to classify the orbit into one of these five categories:\n",
    "\n",
    "   1. \"Decaying Orbit\": The object is moving too slowly to maintain its distance and will spiral inward.\n",
    "   2. \"Elliptical Orbit\": A stable, repeating oval-shaped orbit.  This happens when the velocity is faster than the circular speed but not fast enough to escape.\n",
    "   3. \"Circular Orbit\": A stable, perfectly circular orbit.\n",
    "   4. \"Parabolic Escape\": The object has exactly enough speed to escape gravity.\n",
    "   5. \"Hyperbolic Escape\": The object has more than enough speed to escape gravity.\n",
    "\n",
    "Use a print statement to display the orbit classification.\n",
    "\n",
    "Finally, modify the altitude and/or velocity of the satellite to verify that your boolean logic works for other types of orbits.\n"
   ]
  },
  {
   "cell_type": "code",
   "execution_count": 6,
   "metadata": {},
   "outputs": [],
   "source": [
    "#| eval: true\n",
    "import math\n",
    "\n",
    "G = 6.67e-11\n",
    "M = 5.972e24 # Mass of Earth in kg\n",
    "R = 6.378e6 # Radius of Earth in meters\n",
    "h = 1.5e5 # altitude of orbit in meters\n",
    "v = 10250 # Speed of orbiting object in m/s\n"
   ]
  },
  {
   "cell_type": "markdown",
   "metadata": {},
   "source": [
    "2. Imagine a projectile is launched from the ground. Its vertical velocity at any time $t$ can be described by the equation $$v_y(t) = v_{y,0} - g t$$, where $v_{y,0}$ is the initial vertical velocity and $g$ is the acceleration due to gravity. In the cell below, add an if/elif/else block of code to determine the current status of the projectile's vertical motion.  The output should be one of the following messages:\n",
    "     1. \"Rising\": The projectile is moving upward.\n",
    "     2. \"At Apex\": The projectile is at the very peak of its trajectory.\n",
    "     3. \"Falling\": The projectile is moving downward but is still in the air.\n",
    "     4. \"On Ground\": The projectile has returned to or is still at ground level.\n",
    "\n",
    "Finally, test your code for different times to verify that the boolean logic works for all statuses."
   ]
  },
  {
   "cell_type": "code",
   "execution_count": 11,
   "metadata": {},
   "outputs": [
    {
     "name": "stdout",
     "output_type": "stream",
     "text": [
      "-106.46000000000001\n"
     ]
    }
   ],
   "source": [
    "v_0 = 42.5  # Initial vertical velocity of projectile (m/s)\n",
    "g = 9.8 # Acceleration due to gravity on Earth (m/s^2)\n",
    "t = 15.2  # Time (s)\n"
   ]
  },
  {
   "cell_type": "markdown",
   "metadata": {},
   "source": [
    "3. Alloys are often represented by a string containing the elements in the alloy and the relative number of atoms for each element. For example, \"Cu2Au\" (Copper-2-Gold) means that the alloy is made of copper and gold and there are two copper atoms for every gold atom.  Write some python code that calculates the total number of atoms in an alloy.  The code should include a print statement to display the result.  Then check your code on the alloys in the table below. You can assume that all elements have two-character symbols even though that isn't true; we won't consider any one-character symbols in this problem.\n",
    "\n",
    "Hints: \n",
    "\n",
    "1. The possible lengths for the strings are 4 (one atom per element), 5 (one atom for one element and more for the other), or 6 (more than one atom for both elements).\n",
    "2. My code for this problem was about 15 lines long and it required a nested `if`-`else` block (an `if`-`else` inside of an `if` block).  \n",
    "3. You may find the `isdigit()` function to be helpful.  Do you remember how to use it and what it does?\n",
    "\n",
    "| | |Alloy | | |\n",
    "|--------|--------|--------|--------|--------|\n",
    "| \"Cr3Si\"| \"Al2Cu\"| \"NbPd3\"| \"CaIn2\"| \"Al3Zr4\"|"
   ]
  },
  {
   "cell_type": "code",
   "execution_count": null,
   "metadata": {},
   "outputs": [],
   "source": [
    "alloy = \"CaIn2\"  \n"
   ]
  },
  {
   "cell_type": "markdown",
   "metadata": {},
   "source": [
    "4. The quadratic equation has two solutions and they can be positive, negative, or complex.  Often the complex and/or negative solutions are not relavant/meaningful.  Write an `if/elif/else` block of code that only prints the positive solutions to the quadratic equation. If there are no positive solutions or if both solutions are complex, your code should display a message indicating such. Use f-strings in your print statements. If there is no positive solution, the code should display a message indicating such.  Then check your code with the values given below. As a reminder, here is the quadratic equation: $$ x = {- b \\pm \\sqrt{b^2 - 4 a c} \\over 2a}  $$\n",
    "\n",
    "\n",
    "`a = 2, b = 3, c = 8` (no real solutions)\n",
    "\n",
    "`a = 1, b = -3, c = 2` (two positive solutions)\n",
    "\n",
    "`a = 1, b = -3, c = -2` (one positive solution and one negative solution)"
   ]
  },
  {
   "cell_type": "code",
   "execution_count": null,
   "metadata": {},
   "outputs": [],
   "source": [
    "# Python code here."
   ]
  },
  {
   "cell_type": "markdown",
   "metadata": {},
   "source": [
    "5. (Triangle Classification)  There is a simple criteria to determine whether a triangle can be formed from a set of specified side lengths.  The criteria states that the sum of any two sides must be larger than the third side.  This criteria must be satisified for all possible combinations of two sides if the triangle is to be valid.  If the triangle is valid, the angles can be found by first using the law of cosines to find the first two angles $$c^2 = a^2 + b^2 - 2 a b \\cos(C)$$  and then choosing the third angle so that the sum of the three angles add up to $180^\\circ$.\n",
    "\n",
    "    1. Write some code that checks to see if a valid triangle can be formed from the given side lengths.  \n",
    "    2. If a triangle can be formed, use the law of cosines to calculate the triangle's angles. Print the angles in degrees.  Check your code for several choices of side lengths to verify that it is working.\n",
    "    3. All valid triangles are classified according to the largest angle present (acute, obtuse, and right) and also according to their side lengths (scalene - no sides equal, isoscelese - two sides equal and equilateral - all sides equal). Modify your code to determine the classification of a triangle (i.e. obtuse scalene) and print that classification to screen.\n"
   ]
  },
  {
   "cell_type": "code",
   "execution_count": null,
   "metadata": {},
   "outputs": [],
   "source": [
    "from numpy import arccos,pi\n",
    "\n",
    "#a = # Side length 1\n",
    "#b = # Side length 2\n",
    "#c = # Side length 3"
   ]
  }
 ],
 "metadata": {
  "kernelspec": {
   "display_name": "Python 3 (ipykernel)",
   "language": "python",
   "name": "python3"
  },
  "language_info": {
   "codemirror_mode": {
    "name": "ipython",
    "version": 3
   },
   "file_extension": ".py",
   "mimetype": "text/x-python",
   "name": "python",
   "nbconvert_exporter": "python",
   "pygments_lexer": "ipython3",
   "version": "3.13.7"
  }
 },
 "nbformat": 4,
 "nbformat_minor": 4
}

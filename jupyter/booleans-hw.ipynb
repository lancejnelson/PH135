{
  "cells": [
    {
      "cell_type": "markdown",
      "metadata": {},
      "source": [
        "## HW Problems\n",
        "1. A transcendental equation is one that cannot be solved using paper and pencil techniques (All the stuff you learned in algebra class). The following equation is an example of a  transcendental equation: ${\\sin(x)\\over x} = 0.3$\n",
        "\n",
        "    1. Write an `if`-`else` code block that checks to see if a guessed `x` value is a solution to this equation.  Do not use the `==` operator but rather check to see if the absolute value of the difference is less than $1 \\times 10^{-3}$.  Each block of the `if`-`else` should print an appropriate sentence indicating whether the guessed value is a solution or not. The `else` block should also print off the absolute value of the difference so you know how far off your guess was.\n",
        "    2. Now use guess and check to find a value for `x` that is a solution to this equation.\n"
      ]
    },
    {
      "cell_type": "code",
      "execution_count": null,
      "metadata": {},
      "outputs": [],
      "source": [
        "#| eval: true\n"
      ]
    },
    {
      "cell_type": "markdown",
      "metadata": {},
      "source": [
        "2. (Thermoelectrics)  A thermoelectric is a material that converts thermal energy into electrical energy.   and much research is devoted to finding new materials that exhibit this behavior.  Good thermoelectrics tend to be materials with high electrical conducitivity ($\\sigma > 7 \\times 10^5~\\Omega^{-1} \\text{m}^{-1}$ ) **and** low thermal conductivity ($\\kappa< 2.0$ W/ m K ).  Write an `if`-`else` code block that checks to see if a material's electrical conductivity is above the threshold **and** its thermal conductivity is below the threshold.  Then choose some values for the conductivities and test your `if`-`else` block.\n"
      ]
    },
    {
      "cell_type": "code",
      "execution_count": null,
      "metadata": {},
      "outputs": [],
      "source": [
        "sigma = 0     # Electrical Conductivity\n",
        "kappa = 0    # Thermal Conductivity"
      ]
    },
    {
      "cell_type": "markdown",
      "metadata": {},
      "source": [
        "3. Alloys are often represented by a string containing the elements in the alloy and the relative number of atoms for each element. For example, \"Cu2Au\" (Copper-2-Gold) means that the alloy is made of copper and gold and there are two copper atoms for every gold atom.  Write some python code that calculates the total number of atoms in an alloy.  The code should include a print statement to display the result.  Then check your code on the alloys in the table below. You can assume that all elements have two-character symbols even though that isn't true; we won't consider any one-character symbols in this problem.\n",
        "\n",
        "Hints: \n",
        "\n",
        "1. The possible lengths for the strings are 4 (one atom per element), 5 (one atom for one element and more for the other), or 6 (more than one atom for both elements).\n",
        "2. My code for this problem was about 15 lines long and it required a nested `if`-`else` block (an `if`-`else` inside of an `if` block).  \n",
        "3. You may find the `isdigit()` function to be helpful.  Do you remember how to use it and what it does?\n",
        "\n",
        "| | |Alloy | | |\n",
        "|--------|--------|--------|--------|--------|\n",
        "| \"Cr3Si\"| \"Al2Cu\"| \"NbPd3\"| \"CaIn2\"| \"Al3Zr4\"|"
      ]
    },
    {
      "cell_type": "code",
      "execution_count": null,
      "metadata": {},
      "outputs": [],
      "source": [
        "alloy = \"CaIn2\"  \n"
      ]
    },
    {
      "cell_type": "markdown",
      "metadata": {},
      "source": [
        "4. The quadratic equation has two solutions and they can be positive, negative, or complex.  Often the complex and/or negative solutions are not relavant/meaningful.  Write an `if/elif/else` block of code that only prints the positive solutions to the quadratic equation. If there are no positive solutions or if both solutions are complex, your code should display a message indicating such. Use f-strings in your print statements. If there is no positive solution, the code should display a message indicating such.  Then check your code with the values given below. As a reminder, here is the quadratic equation: $$ x = {- b \\pm \\sqrt{b^2 - 4 a c} \\over 2a}  $$\n",
        "\n",
        "\n",
        "`a = 2, b = 3, c = 8` (no real solutions)\n",
        "\n",
        "`a = 1, b = -3, c = 2` (two positive solutions)\n",
        "\n",
        "`a = 1, b = -3, c = -2` (one positive solution and one negative solution)"
      ]
    },
    {
      "cell_type": "code",
      "execution_count": null,
      "metadata": {},
      "outputs": [],
      "source": [
        "# Python code here."
      ]
    },
    {
      "cell_type": "markdown",
      "metadata": {},
      "source": [
        "5. (Triangle Classification)  There is a simple criteria to determine whether a triangle can be formed from a set of specified side lengths.  The criteria states that the sum of any two sides must be larger than the third side.  This criteria must be satisified for all possible combinations of two sides if the triangle is to be valid.  If the triangle is valid, the angles can be found by first using the law of cosines to find the first two angles $$c^2 = a^2 + b^2 - 2 a b \\cos(C)$$  and then choosing the third angle so that the sum of the three angles add up to $180^\\circ$.\n",
        "\n",
        "    1. Write some code that checks to see if a valid triangle can be formed from the given side lengths.  \n",
        "    2. If a triangle can be formed, use the law of cosines to calculate the triangle's angles. Print the angles in degrees.  Check your code for several choices of side lengths to verify that it is working.\n",
        "    3. All valid triangles are classified according to the largest angle present (acute, obtuse, and right) and also according to their side lengths (scalene - no sides equal, isoscelese - two sides equal and equilateral - all sides equal). Modify your code to determine the classification of a triangle (i.e. obtuse scalene) and print that classification to screen.\n"
      ]
    },
    {
      "cell_type": "code",
      "execution_count": null,
      "metadata": {},
      "outputs": [],
      "source": [
        "from numpy import arccos,pi\n",
        "\n",
        "#a = # Side length 1\n",
        "#b = # Side length 2\n",
        "#c = # Side length 3"
      ]
    }
  ],
  "metadata": {
    "kernelspec": {
      "display_name": "Python 3",
      "language": "python",
      "name": "python3"
    }
  },
  "nbformat": 4,
  "nbformat_minor": 4
}

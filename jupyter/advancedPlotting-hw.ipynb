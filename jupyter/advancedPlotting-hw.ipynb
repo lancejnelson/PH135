{
  "cells": [
    {
      "cell_type": "markdown",
      "metadata": {},
      "source": [
        "## HW Problems\n",
        "1. Plot the following function from $-5 < x,y < 5$ $$ f(x,y) = {\\sin (x y)\\over x^2 + y^2}$$"
      ]
    },
    {
      "cell_type": "code",
      "execution_count": null,
      "metadata": {},
      "outputs": [],
      "source": [
        "# Python code here"
      ]
    },
    {
      "cell_type": "markdown",
      "metadata": {},
      "source": [
        "2. Make a contour plot of the function from problem 1. The contours you plot should be where $f(x,y) = -0.25, 0, 0.25$."
      ]
    },
    {
      "cell_type": "code",
      "execution_count": null,
      "metadata": {},
      "outputs": [],
      "source": [
        "# Python code here"
      ]
    },
    {
      "cell_type": "markdown",
      "metadata": {},
      "source": [
        "3. The range of a projectile launched on level ground is given by: $$ R = {v_i^2 \\sin(2 \\theta)\\over g}$$ where $v_i$ is the launch speed, $\\theta$ is the launch angle, and $g = 9.8$ m/s$^2$ is the acceleration due to gravity.  Plot $R(v_i,\\theta)$ for $0 < v_i < 50$ m/s and $0 < \\theta < 90^\\circ$.  Now write a single sentence summarizing the results of the plot."
      ]
    },
    {
      "cell_type": "code",
      "execution_count": null,
      "metadata": {},
      "outputs": [],
      "source": [
        "# Python code here"
      ]
    },
    {
      "cell_type": "markdown",
      "metadata": {},
      "source": [
        "4. (Extra Credit) The angle of impact for a projectile launched with initial speed $v$, launch angle $\\theta$, and initial height $y_0$ is given by: $$ \\phi = \\tan^{-1} \\left( {\\sqrt{v^2 \\sin^2\\theta + 2 g y_0} \\over v \\cos \\theta} \\right) $$  Plot the impact angle as a function of $v$ and $\\theta$ ($\\phi(v,\\theta)$) for $0 < v_i < 50$ m/s and $0 < \\theta < 90^\\circ$ and $y_i = 10$ m.   Then write a single sentence summarizing the results of the plot."
      ]
    },
    {
      "cell_type": "code",
      "execution_count": null,
      "metadata": {},
      "outputs": [],
      "source": [
        "# Python code here"
      ]
    }
  ],
  "metadata": {
    "kernelspec": {
      "display_name": "Python 3",
      "language": "python",
      "name": "python3"
    }
  },
  "nbformat": 4,
  "nbformat_minor": 4
}

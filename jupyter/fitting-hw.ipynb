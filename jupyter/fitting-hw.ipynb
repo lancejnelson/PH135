{
  "cells": [
    {
      "cell_type": "markdown",
      "metadata": {},
      "source": [
        "## HW Problems\n",
        "1. You push a box with five known forces while using a motion detector to measure the cart's acceleration. The data are shown below.   \n",
        "\n",
        "   1. Plot the data with force on the vertical axis and acceleration on the horizontal axis.  \n",
        "   2. Fit a polynomial function of order one (linear function) to this data. \n",
        "   3. Fit a polynomial function of order two (quadratic function) to this data.\n",
        "   4. Determine which is the better fit. \n",
        "   5. Plot the best-fit functions on top of the data.\n",
        "   6. Determine the mass of the box.  \n",
        "\n",
        "|Force (N)|acceleration (m/s)|\n",
        "|-------------|---------|\n",
        "| 0.25 | 0.5|\n",
        "| 0.50 | 0.8|\n",
        "| 0.75 | 1.3|\n",
        "| 1.0 | 1.8|\n",
        "| 1.25 | 2.1|  "
      ]
    },
    {
      "cell_type": "code",
      "execution_count": null,
      "metadata": {},
      "outputs": [],
      "source": [
        "# Solution Here"
      ]
    },
    {
      "cell_type": "markdown",
      "metadata": {},
      "source": [
        "2. Your friend wants to know the acceleration of his car and asks you to help him.  You set up a motion detector that allows you to measure the position of the car at regular intervals.  Your data are as follows:  \n",
        "   1. Plot the data with time on the horizontal axis and position on the vertical.\n",
        "   2. Fit a polynomial function of order one (linear function) to this data.\n",
        "   3. Fit a polynomial function of order two (quadratic function) to this data.\n",
        "   4. Determine which is the better fit.\n",
        "   5. Plot the best-fit functions on top of the data.\n",
        "   6. Calculate the acceleration of the car using the best fit.\n",
        "\n",
        "|Time (s)|Position (m)|\n",
        "|-------------|---------|\n",
        "| 0.0 | 0.256|\n",
        "| 0.1 | 0.249|\n",
        "| 0.2 | 0.195|\n",
        "| 0.3 | 0.514|\n",
        "| 0.4 | 0.538|\n",
        "| 0.5 | 0.785|\n",
        "| 0.6 | 1.11|\n",
        "| 0.7 | 1.31|\n",
        "| 0.8 | 1.81|\n",
        "| 0.9 | 2.32|\n",
        "| 1.0 | 2.74|  \n"
      ]
    },
    {
      "cell_type": "code",
      "execution_count": null,
      "metadata": {},
      "outputs": [],
      "source": [
        "# Solution Here"
      ]
    },
    {
      "cell_type": "markdown",
      "metadata": {},
      "source": [
        "3. The takeoff speed for a passenger airline jet is $80$ m/s. Velocity data measured during takeoff are given in the table below.  \n",
        "   1. Plot the data and fit a linear function to the data set.  Do you find good evidence that the acceleration of the airplane is constant.\n",
        "   2. Plot the best-fit function on top of the data.\n",
        "   3. At what time will the airplane achieve liftoff?    \n",
        "\n",
        "|Time (s)|Velocity (m/s)|\n",
        "|-------------|---------|\n",
        "| 0 | 0|\n",
        "| 10 | 23|\n",
        "| 20 | 46|\n",
        "| 30 | 69|  \n"
      ]
    },
    {
      "cell_type": "code",
      "execution_count": null,
      "metadata": {},
      "outputs": [],
      "source": [
        "# Solution Here"
      ]
    },
    {
      "cell_type": "markdown",
      "metadata": {},
      "source": [
        "4. In PH123 you'll learn about ideal gases and the processes associated with them. One such process is called an adiabatic process.  The relationship between the temperature and the volume in an adiabatic process is \n",
        "$$\n",
        "T(V) = {C\\over V^{\\gamma -1}}\n",
        "$$\n",
        "\n",
        "For your experiment you compress a cylinder of gas four different times and measure the temperature of the gas.\n",
        "\n",
        "|Volume (m$^3$)| Temperature ($^\\circ$ C)|\n",
        "|---------------|-------------------------|\n",
        "0.481 |35|\n",
        "0.412|68|\n",
        "0.347|110|\n",
        "0.299|150|\n",
        "\n",
        " 1. Plot temperature vs. volume. Make sure the volumes are in cubic *meters* and the temperatures are in Kelvins: $$T_K = T_C + 273$$.\n",
        " 2. Fit the function mentioned above to this data.\n",
        " 3. Plot the best-fit function on top of the data.\n",
        " 4. Calculate gamma.  The value of gamma is an indication of what type of gas is present in the cylinder. $\\gamma = 1.4$ for a diatomic gas and $\\gamma = 1.67$ for a monatomic gas.\n"
      ]
    },
    {
      "cell_type": "code",
      "execution_count": null,
      "metadata": {},
      "outputs": [],
      "source": [
        "# Solution Here"
      ]
    }
  ],
  "metadata": {
    "kernelspec": {
      "display_name": "Python 3",
      "language": "python",
      "name": "python3"
    }
  },
  "nbformat": 4,
  "nbformat_minor": 4
}
